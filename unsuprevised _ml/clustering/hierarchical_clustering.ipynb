{
 "metadata": {
  "language_info": {
   "codemirror_mode": {
    "name": "ipython",
    "version": 3
   },
   "file_extension": ".py",
   "mimetype": "text/x-python",
   "name": "python",
   "nbconvert_exporter": "python",
   "pygments_lexer": "ipython3",
   "version": "3.8.5-final"
  },
  "orig_nbformat": 2,
  "kernelspec": {
   "name": "python3",
   "display_name": "Python 3",
   "language": "python"
  }
 },
 "nbformat": 4,
 "nbformat_minor": 2,
 "cells": [
  {
   "cell_type": "code",
   "execution_count": 1,
   "metadata": {},
   "outputs": [],
   "source": [
    "import pandas as pd \n",
    "import numpy as np \n",
    "import plotly.express as px \n",
    "import matplotlib.pyplot as plt "
   ]
  },
  {
   "cell_type": "code",
   "execution_count": 3,
   "metadata": {},
   "outputs": [
    {
     "output_type": "execute_result",
     "data": {
      "text/plain": [
       "   CustomerID   Genre  Age  Annual Income (k$)  Spending Score (1-100)\n",
       "0           1    Male   19                  15                      39\n",
       "1           2    Male   21                  15                      81\n",
       "2           3  Female   20                  16                       6\n",
       "3           4  Female   23                  16                      77\n",
       "4           5  Female   31                  17                      40"
      ],
      "text/html": "<div>\n<style scoped>\n    .dataframe tbody tr th:only-of-type {\n        vertical-align: middle;\n    }\n\n    .dataframe tbody tr th {\n        vertical-align: top;\n    }\n\n    .dataframe thead th {\n        text-align: right;\n    }\n</style>\n<table border=\"1\" class=\"dataframe\">\n  <thead>\n    <tr style=\"text-align: right;\">\n      <th></th>\n      <th>CustomerID</th>\n      <th>Genre</th>\n      <th>Age</th>\n      <th>Annual Income (k$)</th>\n      <th>Spending Score (1-100)</th>\n    </tr>\n  </thead>\n  <tbody>\n    <tr>\n      <th>0</th>\n      <td>1</td>\n      <td>Male</td>\n      <td>19</td>\n      <td>15</td>\n      <td>39</td>\n    </tr>\n    <tr>\n      <th>1</th>\n      <td>2</td>\n      <td>Male</td>\n      <td>21</td>\n      <td>15</td>\n      <td>81</td>\n    </tr>\n    <tr>\n      <th>2</th>\n      <td>3</td>\n      <td>Female</td>\n      <td>20</td>\n      <td>16</td>\n      <td>6</td>\n    </tr>\n    <tr>\n      <th>3</th>\n      <td>4</td>\n      <td>Female</td>\n      <td>23</td>\n      <td>16</td>\n      <td>77</td>\n    </tr>\n    <tr>\n      <th>4</th>\n      <td>5</td>\n      <td>Female</td>\n      <td>31</td>\n      <td>17</td>\n      <td>40</td>\n    </tr>\n  </tbody>\n</table>\n</div>"
     },
     "metadata": {},
     "execution_count": 3
    }
   ],
   "source": [
    "df = pd.read_csv('../../datasets/Mall_Customers.csv')\n",
    "df.head()"
   ]
  },
  {
   "cell_type": "code",
   "execution_count": 4,
   "metadata": {},
   "outputs": [],
   "source": [
    "x = df[['Annual Income (k$)','Spending Score (1-100)']]"
   ]
  },
  {
   "cell_type": "code",
   "execution_count": 5,
   "metadata": {},
   "outputs": [],
   "source": [
    "import scipy.cluster.hierarchy as scy "
   ]
  },
  {
   "cell_type": "code",
   "execution_count": 6,
   "metadata": {},
   "outputs": [
    {
     "output_type": "display_data",
     "data": {
      "text/plain": "<Figure size 432x288 with 1 Axes>",
      "image/svg+xml": "<?xml version=\"1.0\" encoding=\"utf-8\" standalone=\"no\"?>\r\n<!DOCTYPE svg PUBLIC \"-//W3C//DTD SVG 1.1//EN\"\r\n  \"http://www.w3.org/Graphics/SVG/1.1/DTD/svg11.dtd\">\r\n<!-- Created with matplotlib (https://matplotlib.org/) -->\r\n<svg height=\"248.38375pt\" version=\"1.1\" viewBox=\"0 0 376.870031 248.38375\" width=\"376.870031pt\" xmlns=\"http://www.w3.org/2000/svg\" xmlns:xlink=\"http://www.w3.org/1999/xlink\">\r\n <metadata>\r\n  <rdf:RDF xmlns:cc=\"http://creativecommons.org/ns#\" xmlns:dc=\"http://purl.org/dc/elements/1.1/\" xmlns:rdf=\"http://www.w3.org/1999/02/22-rdf-syntax-ns#\">\r\n   <cc:Work>\r\n    <dc:type rdf:resource=\"http://purl.org/dc/dcmitype/StillImage\"/>\r\n    <dc:date>2020-12-12T12:43:39.334580</dc:date>\r\n    <dc:format>image/svg+xml</dc:format>\r\n    <dc:creator>\r\n     <cc:Agent>\r\n      <dc:title>Matplotlib v3.3.1, https://matplotlib.org/</dc:title>\r\n     </cc:Agent>\r\n    </dc:creator>\r\n   </cc:Work>\r\n  </rdf:RDF>\r\n </metadata>\r\n <defs>\r\n  <style type=\"text/css\">*{stroke-linecap:butt;stroke-linejoin:round;}</style>\r\n </defs>\r\n <g id=\"figure_1\">\r\n  <g id=\"patch_1\">\r\n   <path d=\"M 0 248.38375 \r\nL 376.870031 248.38375 \r\nL 376.870031 0 \r\nL 0 0 \r\nz\r\n\" style=\"fill:none;\"/>\r\n  </g>\r\n  <g id=\"axes_1\">\r\n   <g id=\"patch_2\">\r\n    <path d=\"M 33.2875 224.64 \r\nL 368.0875 224.64 \r\nL 368.0875 7.2 \r\nL 33.2875 7.2 \r\nz\r\n\" style=\"fill:#ffffff;\"/>\r\n   </g>\r\n   <g id=\"matplotlib.axis_1\">\r\n    <g id=\"xtick_1\">\r\n     <g id=\"text_1\">\r\n      <!-- 1 -->\r\n      <g transform=\"translate(35.504188 234.82125)rotate(-90)scale(0.05 -0.05)\">\r\n       <defs>\r\n        <path d=\"M 12.40625 8.296875 \r\nL 28.515625 8.296875 \r\nL 28.515625 63.921875 \r\nL 10.984375 60.40625 \r\nL 10.984375 69.390625 \r\nL 28.421875 72.90625 \r\nL 38.28125 72.90625 \r\nL 38.28125 8.296875 \r\nL 54.390625 8.296875 \r\nL 54.390625 0 \r\nL 12.40625 0 \r\nz\r\n\" id=\"DejaVuSans-49\"/>\r\n       </defs>\r\n       <use xlink:href=\"#DejaVuSans-49\"/>\r\n      </g>\r\n     </g>\r\n    </g>\r\n    <g id=\"xtick_2\">\r\n     <g id=\"text_2\">\r\n      <!-- 3 -->\r\n      <g transform=\"translate(37.178188 234.82125)rotate(-90)scale(0.05 -0.05)\">\r\n       <defs>\r\n        <path d=\"M 40.578125 39.3125 \r\nQ 47.65625 37.796875 51.625 33 \r\nQ 55.609375 28.21875 55.609375 21.1875 \r\nQ 55.609375 10.40625 48.1875 4.484375 \r\nQ 40.765625 -1.421875 27.09375 -1.421875 \r\nQ 22.515625 -1.421875 17.65625 -0.515625 \r\nQ 12.796875 0.390625 7.625 2.203125 \r\nL 7.625 11.71875 \r\nQ 11.71875 9.328125 16.59375 8.109375 \r\nQ 21.484375 6.890625 26.8125 6.890625 \r\nQ 36.078125 6.890625 40.9375 10.546875 \r\nQ 45.796875 14.203125 45.796875 21.1875 \r\nQ 45.796875 27.640625 41.28125 31.265625 \r\nQ 36.765625 34.90625 28.71875 34.90625 \r\nL 20.21875 34.90625 \r\nL 20.21875 43.015625 \r\nL 29.109375 43.015625 \r\nQ 36.375 43.015625 40.234375 45.921875 \r\nQ 44.09375 48.828125 44.09375 54.296875 \r\nQ 44.09375 59.90625 40.109375 62.90625 \r\nQ 36.140625 65.921875 28.71875 65.921875 \r\nQ 24.65625 65.921875 20.015625 65.03125 \r\nQ 15.375 64.15625 9.8125 62.3125 \r\nL 9.8125 71.09375 \r\nQ 15.4375 72.65625 20.34375 73.4375 \r\nQ 25.25 74.21875 29.59375 74.21875 \r\nQ 40.828125 74.21875 47.359375 69.109375 \r\nQ 53.90625 64.015625 53.90625 55.328125 \r\nQ 53.90625 49.265625 50.4375 45.09375 \r\nQ 46.96875 40.921875 40.578125 39.3125 \r\nz\r\n\" id=\"DejaVuSans-51\"/>\r\n       </defs>\r\n       <use xlink:href=\"#DejaVuSans-51\"/>\r\n      </g>\r\n     </g>\r\n    </g>\r\n    <g id=\"xtick_3\">\r\n     <g id=\"text_3\">\r\n      <!-- 5 -->\r\n      <g transform=\"translate(38.852188 234.82125)rotate(-90)scale(0.05 -0.05)\">\r\n       <defs>\r\n        <path d=\"M 10.796875 72.90625 \r\nL 49.515625 72.90625 \r\nL 49.515625 64.59375 \r\nL 19.828125 64.59375 \r\nL 19.828125 46.734375 \r\nQ 21.96875 47.46875 24.109375 47.828125 \r\nQ 26.265625 48.1875 28.421875 48.1875 \r\nQ 40.625 48.1875 47.75 41.5 \r\nQ 54.890625 34.8125 54.890625 23.390625 \r\nQ 54.890625 11.625 47.5625 5.09375 \r\nQ 40.234375 -1.421875 26.90625 -1.421875 \r\nQ 22.3125 -1.421875 17.546875 -0.640625 \r\nQ 12.796875 0.140625 7.71875 1.703125 \r\nL 7.71875 11.625 \r\nQ 12.109375 9.234375 16.796875 8.0625 \r\nQ 21.484375 6.890625 26.703125 6.890625 \r\nQ 35.15625 6.890625 40.078125 11.328125 \r\nQ 45.015625 15.765625 45.015625 23.390625 \r\nQ 45.015625 31 40.078125 35.4375 \r\nQ 35.15625 39.890625 26.703125 39.890625 \r\nQ 22.75 39.890625 18.8125 39.015625 \r\nQ 14.890625 38.140625 10.796875 36.28125 \r\nz\r\n\" id=\"DejaVuSans-53\"/>\r\n       </defs>\r\n       <use xlink:href=\"#DejaVuSans-53\"/>\r\n      </g>\r\n     </g>\r\n    </g>\r\n    <g id=\"xtick_4\">\r\n     <g id=\"text_4\">\r\n      <!-- 13 -->\r\n      <g transform=\"translate(40.526188 238.0025)rotate(-90)scale(0.05 -0.05)\">\r\n       <use xlink:href=\"#DejaVuSans-49\"/>\r\n       <use x=\"63.623047\" xlink:href=\"#DejaVuSans-51\"/>\r\n      </g>\r\n     </g>\r\n    </g>\r\n    <g id=\"xtick_5\">\r\n     <g id=\"text_5\">\r\n      <!-- 15 -->\r\n      <g transform=\"translate(42.200188 238.0025)rotate(-90)scale(0.05 -0.05)\">\r\n       <use xlink:href=\"#DejaVuSans-49\"/>\r\n       <use x=\"63.623047\" xlink:href=\"#DejaVuSans-53\"/>\r\n      </g>\r\n     </g>\r\n    </g>\r\n    <g id=\"xtick_6\">\r\n     <g id=\"text_6\">\r\n      <!-- 37 -->\r\n      <g transform=\"translate(43.874188 238.0025)rotate(-90)scale(0.05 -0.05)\">\r\n       <defs>\r\n        <path d=\"M 8.203125 72.90625 \r\nL 55.078125 72.90625 \r\nL 55.078125 68.703125 \r\nL 28.609375 0 \r\nL 18.3125 0 \r\nL 43.21875 64.59375 \r\nL 8.203125 64.59375 \r\nz\r\n\" id=\"DejaVuSans-55\"/>\r\n       </defs>\r\n       <use xlink:href=\"#DejaVuSans-51\"/>\r\n       <use x=\"63.623047\" xlink:href=\"#DejaVuSans-55\"/>\r\n      </g>\r\n     </g>\r\n    </g>\r\n    <g id=\"xtick_7\">\r\n     <g id=\"text_7\">\r\n      <!-- 39 -->\r\n      <g transform=\"translate(45.548188 238.0025)rotate(-90)scale(0.05 -0.05)\">\r\n       <defs>\r\n        <path d=\"M 10.984375 1.515625 \r\nL 10.984375 10.5 \r\nQ 14.703125 8.734375 18.5 7.8125 \r\nQ 22.3125 6.890625 25.984375 6.890625 \r\nQ 35.75 6.890625 40.890625 13.453125 \r\nQ 46.046875 20.015625 46.78125 33.40625 \r\nQ 43.953125 29.203125 39.59375 26.953125 \r\nQ 35.25 24.703125 29.984375 24.703125 \r\nQ 19.046875 24.703125 12.671875 31.3125 \r\nQ 6.296875 37.9375 6.296875 49.421875 \r\nQ 6.296875 60.640625 12.9375 67.421875 \r\nQ 19.578125 74.21875 30.609375 74.21875 \r\nQ 43.265625 74.21875 49.921875 64.515625 \r\nQ 56.59375 54.828125 56.59375 36.375 \r\nQ 56.59375 19.140625 48.40625 8.859375 \r\nQ 40.234375 -1.421875 26.421875 -1.421875 \r\nQ 22.703125 -1.421875 18.890625 -0.6875 \r\nQ 15.09375 0.046875 10.984375 1.515625 \r\nz\r\nM 30.609375 32.421875 \r\nQ 37.25 32.421875 41.125 36.953125 \r\nQ 45.015625 41.5 45.015625 49.421875 \r\nQ 45.015625 57.28125 41.125 61.84375 \r\nQ 37.25 66.40625 30.609375 66.40625 \r\nQ 23.96875 66.40625 20.09375 61.84375 \r\nQ 16.21875 57.28125 16.21875 49.421875 \r\nQ 16.21875 41.5 20.09375 36.953125 \r\nQ 23.96875 32.421875 30.609375 32.421875 \r\nz\r\n\" id=\"DejaVuSans-57\"/>\r\n       </defs>\r\n       <use xlink:href=\"#DejaVuSans-51\"/>\r\n       <use x=\"63.623047\" xlink:href=\"#DejaVuSans-57\"/>\r\n      </g>\r\n     </g>\r\n    </g>\r\n    <g id=\"xtick_8\">\r\n     <g id=\"text_8\">\r\n      <!-- 27 -->\r\n      <g transform=\"translate(47.222188 238.0025)rotate(-90)scale(0.05 -0.05)\">\r\n       <defs>\r\n        <path d=\"M 19.1875 8.296875 \r\nL 53.609375 8.296875 \r\nL 53.609375 0 \r\nL 7.328125 0 \r\nL 7.328125 8.296875 \r\nQ 12.9375 14.109375 22.625 23.890625 \r\nQ 32.328125 33.6875 34.8125 36.53125 \r\nQ 39.546875 41.84375 41.421875 45.53125 \r\nQ 43.3125 49.21875 43.3125 52.78125 \r\nQ 43.3125 58.59375 39.234375 62.25 \r\nQ 35.15625 65.921875 28.609375 65.921875 \r\nQ 23.96875 65.921875 18.8125 64.3125 \r\nQ 13.671875 62.703125 7.8125 59.421875 \r\nL 7.8125 69.390625 \r\nQ 13.765625 71.78125 18.9375 73 \r\nQ 24.125 74.21875 28.421875 74.21875 \r\nQ 39.75 74.21875 46.484375 68.546875 \r\nQ 53.21875 62.890625 53.21875 53.421875 \r\nQ 53.21875 48.921875 51.53125 44.890625 \r\nQ 49.859375 40.875 45.40625 35.40625 \r\nQ 44.1875 33.984375 37.640625 27.21875 \r\nQ 31.109375 20.453125 19.1875 8.296875 \r\nz\r\n\" id=\"DejaVuSans-50\"/>\r\n       </defs>\r\n       <use xlink:href=\"#DejaVuSans-50\"/>\r\n       <use x=\"63.623047\" xlink:href=\"#DejaVuSans-55\"/>\r\n      </g>\r\n     </g>\r\n    </g>\r\n    <g id=\"xtick_9\">\r\n     <g id=\"text_9\">\r\n      <!-- 9 -->\r\n      <g transform=\"translate(48.896188 234.82125)rotate(-90)scale(0.05 -0.05)\">\r\n       <use xlink:href=\"#DejaVuSans-57\"/>\r\n      </g>\r\n     </g>\r\n    </g>\r\n    <g id=\"xtick_10\">\r\n     <g id=\"text_10\">\r\n      <!-- 17 -->\r\n      <g transform=\"translate(50.570188 238.0025)rotate(-90)scale(0.05 -0.05)\">\r\n       <use xlink:href=\"#DejaVuSans-49\"/>\r\n       <use x=\"63.623047\" xlink:href=\"#DejaVuSans-55\"/>\r\n      </g>\r\n     </g>\r\n    </g>\r\n    <g id=\"xtick_11\">\r\n     <g id=\"text_11\">\r\n      <!-- 31 -->\r\n      <g transform=\"translate(52.244188 238.0025)rotate(-90)scale(0.05 -0.05)\">\r\n       <use xlink:href=\"#DejaVuSans-51\"/>\r\n       <use x=\"63.623047\" xlink:href=\"#DejaVuSans-49\"/>\r\n      </g>\r\n     </g>\r\n    </g>\r\n    <g id=\"xtick_12\">\r\n     <g id=\"text_12\">\r\n      <!-- 21 -->\r\n      <g transform=\"translate(53.918188 238.0025)rotate(-90)scale(0.05 -0.05)\">\r\n       <use xlink:href=\"#DejaVuSans-50\"/>\r\n       <use x=\"63.623047\" xlink:href=\"#DejaVuSans-49\"/>\r\n      </g>\r\n     </g>\r\n    </g>\r\n    <g id=\"xtick_13\">\r\n     <g id=\"text_13\">\r\n      <!-- 23 -->\r\n      <g transform=\"translate(55.592188 238.0025)rotate(-90)scale(0.05 -0.05)\">\r\n       <use xlink:href=\"#DejaVuSans-50\"/>\r\n       <use x=\"63.623047\" xlink:href=\"#DejaVuSans-51\"/>\r\n      </g>\r\n     </g>\r\n    </g>\r\n    <g id=\"xtick_14\">\r\n     <g id=\"text_14\">\r\n      <!-- 7 -->\r\n      <g transform=\"translate(57.266188 234.82125)rotate(-90)scale(0.05 -0.05)\">\r\n       <use xlink:href=\"#DejaVuSans-55\"/>\r\n      </g>\r\n     </g>\r\n    </g>\r\n    <g id=\"xtick_15\">\r\n     <g id=\"text_15\">\r\n      <!-- 11 -->\r\n      <g transform=\"translate(58.940188 238.0025)rotate(-90)scale(0.05 -0.05)\">\r\n       <use xlink:href=\"#DejaVuSans-49\"/>\r\n       <use x=\"63.623047\" xlink:href=\"#DejaVuSans-49\"/>\r\n      </g>\r\n     </g>\r\n    </g>\r\n    <g id=\"xtick_16\">\r\n     <g id=\"text_16\">\r\n      <!-- 19 -->\r\n      <g transform=\"translate(60.614188 238.0025)rotate(-90)scale(0.05 -0.05)\">\r\n       <use xlink:href=\"#DejaVuSans-49\"/>\r\n       <use x=\"63.623047\" xlink:href=\"#DejaVuSans-57\"/>\r\n      </g>\r\n     </g>\r\n    </g>\r\n    <g id=\"xtick_17\">\r\n     <g id=\"text_17\">\r\n      <!-- 33 -->\r\n      <g transform=\"translate(62.288188 238.0025)rotate(-90)scale(0.05 -0.05)\">\r\n       <use xlink:href=\"#DejaVuSans-51\"/>\r\n       <use x=\"63.623047\" xlink:href=\"#DejaVuSans-51\"/>\r\n      </g>\r\n     </g>\r\n    </g>\r\n    <g id=\"xtick_18\">\r\n     <g id=\"text_18\">\r\n      <!-- 41 -->\r\n      <g transform=\"translate(63.962188 238.0025)rotate(-90)scale(0.05 -0.05)\">\r\n       <defs>\r\n        <path d=\"M 37.796875 64.3125 \r\nL 12.890625 25.390625 \r\nL 37.796875 25.390625 \r\nz\r\nM 35.203125 72.90625 \r\nL 47.609375 72.90625 \r\nL 47.609375 25.390625 \r\nL 58.015625 25.390625 \r\nL 58.015625 17.1875 \r\nL 47.609375 17.1875 \r\nL 47.609375 0 \r\nL 37.796875 0 \r\nL 37.796875 17.1875 \r\nL 4.890625 17.1875 \r\nL 4.890625 26.703125 \r\nz\r\n\" id=\"DejaVuSans-52\"/>\r\n       </defs>\r\n       <use xlink:href=\"#DejaVuSans-52\"/>\r\n       <use x=\"63.623047\" xlink:href=\"#DejaVuSans-49\"/>\r\n      </g>\r\n     </g>\r\n    </g>\r\n    <g id=\"xtick_19\">\r\n     <g id=\"text_19\">\r\n      <!-- 35 -->\r\n      <g transform=\"translate(65.636188 238.0025)rotate(-90)scale(0.05 -0.05)\">\r\n       <use xlink:href=\"#DejaVuSans-51\"/>\r\n       <use x=\"63.623047\" xlink:href=\"#DejaVuSans-53\"/>\r\n      </g>\r\n     </g>\r\n    </g>\r\n    <g id=\"xtick_20\">\r\n     <g id=\"text_20\">\r\n      <!-- 25 -->\r\n      <g transform=\"translate(67.310188 238.0025)rotate(-90)scale(0.05 -0.05)\">\r\n       <use xlink:href=\"#DejaVuSans-50\"/>\r\n       <use x=\"63.623047\" xlink:href=\"#DejaVuSans-53\"/>\r\n      </g>\r\n     </g>\r\n    </g>\r\n    <g id=\"xtick_21\">\r\n     <g id=\"text_21\">\r\n      <!-- 29 -->\r\n      <g transform=\"translate(68.984188 238.0025)rotate(-90)scale(0.05 -0.05)\">\r\n       <use xlink:href=\"#DejaVuSans-50\"/>\r\n       <use x=\"63.623047\" xlink:href=\"#DejaVuSans-57\"/>\r\n      </g>\r\n     </g>\r\n    </g>\r\n    <g id=\"xtick_22\">\r\n     <g id=\"text_22\">\r\n      <!-- 12 -->\r\n      <g transform=\"translate(70.658188 238.0025)rotate(-90)scale(0.05 -0.05)\">\r\n       <use xlink:href=\"#DejaVuSans-49\"/>\r\n       <use x=\"63.623047\" xlink:href=\"#DejaVuSans-50\"/>\r\n      </g>\r\n     </g>\r\n    </g>\r\n    <g id=\"xtick_23\">\r\n     <g id=\"text_23\">\r\n      <!-- 10 -->\r\n      <g transform=\"translate(72.332188 238.0025)rotate(-90)scale(0.05 -0.05)\">\r\n       <defs>\r\n        <path d=\"M 31.78125 66.40625 \r\nQ 24.171875 66.40625 20.328125 58.90625 \r\nQ 16.5 51.421875 16.5 36.375 \r\nQ 16.5 21.390625 20.328125 13.890625 \r\nQ 24.171875 6.390625 31.78125 6.390625 \r\nQ 39.453125 6.390625 43.28125 13.890625 \r\nQ 47.125 21.390625 47.125 36.375 \r\nQ 47.125 51.421875 43.28125 58.90625 \r\nQ 39.453125 66.40625 31.78125 66.40625 \r\nz\r\nM 31.78125 74.21875 \r\nQ 44.046875 74.21875 50.515625 64.515625 \r\nQ 56.984375 54.828125 56.984375 36.375 \r\nQ 56.984375 17.96875 50.515625 8.265625 \r\nQ 44.046875 -1.421875 31.78125 -1.421875 \r\nQ 19.53125 -1.421875 13.0625 8.265625 \r\nQ 6.59375 17.96875 6.59375 36.375 \r\nQ 6.59375 54.828125 13.0625 64.515625 \r\nQ 19.53125 74.21875 31.78125 74.21875 \r\nz\r\n\" id=\"DejaVuSans-48\"/>\r\n       </defs>\r\n       <use xlink:href=\"#DejaVuSans-49\"/>\r\n       <use x=\"63.623047\" xlink:href=\"#DejaVuSans-48\"/>\r\n      </g>\r\n     </g>\r\n    </g>\r\n    <g id=\"xtick_24\">\r\n     <g id=\"text_24\">\r\n      <!-- 14 -->\r\n      <g transform=\"translate(74.006188 238.0025)rotate(-90)scale(0.05 -0.05)\">\r\n       <use xlink:href=\"#DejaVuSans-49\"/>\r\n       <use x=\"63.623047\" xlink:href=\"#DejaVuSans-52\"/>\r\n      </g>\r\n     </g>\r\n    </g>\r\n    <g id=\"xtick_25\">\r\n     <g id=\"text_25\">\r\n      <!-- 8 -->\r\n      <g transform=\"translate(75.680188 234.82125)rotate(-90)scale(0.05 -0.05)\">\r\n       <defs>\r\n        <path d=\"M 31.78125 34.625 \r\nQ 24.75 34.625 20.71875 30.859375 \r\nQ 16.703125 27.09375 16.703125 20.515625 \r\nQ 16.703125 13.921875 20.71875 10.15625 \r\nQ 24.75 6.390625 31.78125 6.390625 \r\nQ 38.8125 6.390625 42.859375 10.171875 \r\nQ 46.921875 13.96875 46.921875 20.515625 \r\nQ 46.921875 27.09375 42.890625 30.859375 \r\nQ 38.875 34.625 31.78125 34.625 \r\nz\r\nM 21.921875 38.8125 \r\nQ 15.578125 40.375 12.03125 44.71875 \r\nQ 8.5 49.078125 8.5 55.328125 \r\nQ 8.5 64.0625 14.71875 69.140625 \r\nQ 20.953125 74.21875 31.78125 74.21875 \r\nQ 42.671875 74.21875 48.875 69.140625 \r\nQ 55.078125 64.0625 55.078125 55.328125 \r\nQ 55.078125 49.078125 51.53125 44.71875 \r\nQ 48 40.375 41.703125 38.8125 \r\nQ 48.828125 37.15625 52.796875 32.3125 \r\nQ 56.78125 27.484375 56.78125 20.515625 \r\nQ 56.78125 9.90625 50.3125 4.234375 \r\nQ 43.84375 -1.421875 31.78125 -1.421875 \r\nQ 19.734375 -1.421875 13.25 4.234375 \r\nQ 6.78125 9.90625 6.78125 20.515625 \r\nQ 6.78125 27.484375 10.78125 32.3125 \r\nQ 14.796875 37.15625 21.921875 38.8125 \r\nz\r\nM 18.3125 54.390625 \r\nQ 18.3125 48.734375 21.84375 45.5625 \r\nQ 25.390625 42.390625 31.78125 42.390625 \r\nQ 38.140625 42.390625 41.71875 45.5625 \r\nQ 45.3125 48.734375 45.3125 54.390625 \r\nQ 45.3125 60.0625 41.71875 63.234375 \r\nQ 38.140625 66.40625 31.78125 66.40625 \r\nQ 25.390625 66.40625 21.84375 63.234375 \r\nQ 18.3125 60.0625 18.3125 54.390625 \r\nz\r\n\" id=\"DejaVuSans-56\"/>\r\n       </defs>\r\n       <use xlink:href=\"#DejaVuSans-56\"/>\r\n      </g>\r\n     </g>\r\n    </g>\r\n    <g id=\"xtick_26\">\r\n     <g id=\"text_26\">\r\n      <!-- 2 -->\r\n      <g transform=\"translate(77.354188 234.82125)rotate(-90)scale(0.05 -0.05)\">\r\n       <use xlink:href=\"#DejaVuSans-50\"/>\r\n      </g>\r\n     </g>\r\n    </g>\r\n    <g id=\"xtick_27\">\r\n     <g id=\"text_27\">\r\n      <!-- 6 -->\r\n      <g transform=\"translate(79.028188 234.82125)rotate(-90)scale(0.05 -0.05)\">\r\n       <defs>\r\n        <path d=\"M 33.015625 40.375 \r\nQ 26.375 40.375 22.484375 35.828125 \r\nQ 18.609375 31.296875 18.609375 23.390625 \r\nQ 18.609375 15.53125 22.484375 10.953125 \r\nQ 26.375 6.390625 33.015625 6.390625 \r\nQ 39.65625 6.390625 43.53125 10.953125 \r\nQ 47.40625 15.53125 47.40625 23.390625 \r\nQ 47.40625 31.296875 43.53125 35.828125 \r\nQ 39.65625 40.375 33.015625 40.375 \r\nz\r\nM 52.59375 71.296875 \r\nL 52.59375 62.3125 \r\nQ 48.875 64.0625 45.09375 64.984375 \r\nQ 41.3125 65.921875 37.59375 65.921875 \r\nQ 27.828125 65.921875 22.671875 59.328125 \r\nQ 17.53125 52.734375 16.796875 39.40625 \r\nQ 19.671875 43.65625 24.015625 45.921875 \r\nQ 28.375 48.1875 33.59375 48.1875 \r\nQ 44.578125 48.1875 50.953125 41.515625 \r\nQ 57.328125 34.859375 57.328125 23.390625 \r\nQ 57.328125 12.15625 50.6875 5.359375 \r\nQ 44.046875 -1.421875 33.015625 -1.421875 \r\nQ 20.359375 -1.421875 13.671875 8.265625 \r\nQ 6.984375 17.96875 6.984375 36.375 \r\nQ 6.984375 53.65625 15.1875 63.9375 \r\nQ 23.390625 74.21875 37.203125 74.21875 \r\nQ 40.921875 74.21875 44.703125 73.484375 \r\nQ 48.484375 72.75 52.59375 71.296875 \r\nz\r\n\" id=\"DejaVuSans-54\"/>\r\n       </defs>\r\n       <use xlink:href=\"#DejaVuSans-54\"/>\r\n      </g>\r\n     </g>\r\n    </g>\r\n    <g id=\"xtick_28\">\r\n     <g id=\"text_28\">\r\n      <!-- 24 -->\r\n      <g transform=\"translate(80.702188 238.0025)rotate(-90)scale(0.05 -0.05)\">\r\n       <use xlink:href=\"#DejaVuSans-50\"/>\r\n       <use x=\"63.623047\" xlink:href=\"#DejaVuSans-52\"/>\r\n      </g>\r\n     </g>\r\n    </g>\r\n    <g id=\"xtick_29\">\r\n     <g id=\"text_29\">\r\n      <!-- 34 -->\r\n      <g transform=\"translate(82.376188 238.0025)rotate(-90)scale(0.05 -0.05)\">\r\n       <use xlink:href=\"#DejaVuSans-51\"/>\r\n       <use x=\"63.623047\" xlink:href=\"#DejaVuSans-52\"/>\r\n      </g>\r\n     </g>\r\n    </g>\r\n    <g id=\"xtick_30\">\r\n     <g id=\"text_30\">\r\n      <!-- 36 -->\r\n      <g transform=\"translate(84.050188 238.0025)rotate(-90)scale(0.05 -0.05)\">\r\n       <use xlink:href=\"#DejaVuSans-51\"/>\r\n       <use x=\"63.623047\" xlink:href=\"#DejaVuSans-54\"/>\r\n      </g>\r\n     </g>\r\n    </g>\r\n    <g id=\"xtick_31\">\r\n     <g id=\"text_31\">\r\n      <!-- 22 -->\r\n      <g transform=\"translate(85.724188 238.0025)rotate(-90)scale(0.05 -0.05)\">\r\n       <use xlink:href=\"#DejaVuSans-50\"/>\r\n       <use x=\"63.623047\" xlink:href=\"#DejaVuSans-50\"/>\r\n      </g>\r\n     </g>\r\n    </g>\r\n    <g id=\"xtick_32\">\r\n     <g id=\"text_32\">\r\n      <!-- 30 -->\r\n      <g transform=\"translate(87.398188 238.0025)rotate(-90)scale(0.05 -0.05)\">\r\n       <use xlink:href=\"#DejaVuSans-51\"/>\r\n       <use x=\"63.623047\" xlink:href=\"#DejaVuSans-48\"/>\r\n      </g>\r\n     </g>\r\n    </g>\r\n    <g id=\"xtick_33\">\r\n     <g id=\"text_33\">\r\n      <!-- 32 -->\r\n      <g transform=\"translate(89.072188 238.0025)rotate(-90)scale(0.05 -0.05)\">\r\n       <use xlink:href=\"#DejaVuSans-51\"/>\r\n       <use x=\"63.623047\" xlink:href=\"#DejaVuSans-50\"/>\r\n      </g>\r\n     </g>\r\n    </g>\r\n    <g id=\"xtick_34\">\r\n     <g id=\"text_34\">\r\n      <!-- 40 -->\r\n      <g transform=\"translate(90.746188 238.0025)rotate(-90)scale(0.05 -0.05)\">\r\n       <use xlink:href=\"#DejaVuSans-52\"/>\r\n       <use x=\"63.623047\" xlink:href=\"#DejaVuSans-48\"/>\r\n      </g>\r\n     </g>\r\n    </g>\r\n    <g id=\"xtick_35\">\r\n     <g id=\"text_35\">\r\n      <!-- 42 -->\r\n      <g transform=\"translate(92.420188 238.0025)rotate(-90)scale(0.05 -0.05)\">\r\n       <use xlink:href=\"#DejaVuSans-52\"/>\r\n       <use x=\"63.623047\" xlink:href=\"#DejaVuSans-50\"/>\r\n      </g>\r\n     </g>\r\n    </g>\r\n    <g id=\"xtick_36\">\r\n     <g id=\"text_36\">\r\n      <!-- 38 -->\r\n      <g transform=\"translate(94.094188 238.0025)rotate(-90)scale(0.05 -0.05)\">\r\n       <use xlink:href=\"#DejaVuSans-51\"/>\r\n       <use x=\"63.623047\" xlink:href=\"#DejaVuSans-56\"/>\r\n      </g>\r\n     </g>\r\n    </g>\r\n    <g id=\"xtick_37\">\r\n     <g id=\"text_37\">\r\n      <!-- 44 -->\r\n      <g transform=\"translate(95.768188 238.0025)rotate(-90)scale(0.05 -0.05)\">\r\n       <use xlink:href=\"#DejaVuSans-52\"/>\r\n       <use x=\"63.623047\" xlink:href=\"#DejaVuSans-52\"/>\r\n      </g>\r\n     </g>\r\n    </g>\r\n    <g id=\"xtick_38\">\r\n     <g id=\"text_38\">\r\n      <!-- 0 -->\r\n      <g transform=\"translate(97.442188 234.82125)rotate(-90)scale(0.05 -0.05)\">\r\n       <use xlink:href=\"#DejaVuSans-48\"/>\r\n      </g>\r\n     </g>\r\n    </g>\r\n    <g id=\"xtick_39\">\r\n     <g id=\"text_39\">\r\n      <!-- 4 -->\r\n      <g transform=\"translate(99.116188 234.82125)rotate(-90)scale(0.05 -0.05)\">\r\n       <use xlink:href=\"#DejaVuSans-52\"/>\r\n      </g>\r\n     </g>\r\n    </g>\r\n    <g id=\"xtick_40\">\r\n     <g id=\"text_40\">\r\n      <!-- 26 -->\r\n      <g transform=\"translate(100.790188 238.0025)rotate(-90)scale(0.05 -0.05)\">\r\n       <use xlink:href=\"#DejaVuSans-50\"/>\r\n       <use x=\"63.623047\" xlink:href=\"#DejaVuSans-54\"/>\r\n      </g>\r\n     </g>\r\n    </g>\r\n    <g id=\"xtick_41\">\r\n     <g id=\"text_41\">\r\n      <!-- 28 -->\r\n      <g transform=\"translate(102.464188 238.0025)rotate(-90)scale(0.05 -0.05)\">\r\n       <use xlink:href=\"#DejaVuSans-50\"/>\r\n       <use x=\"63.623047\" xlink:href=\"#DejaVuSans-56\"/>\r\n      </g>\r\n     </g>\r\n    </g>\r\n    <g id=\"xtick_42\">\r\n     <g id=\"text_42\">\r\n      <!-- 18 -->\r\n      <g transform=\"translate(104.138188 238.0025)rotate(-90)scale(0.05 -0.05)\">\r\n       <use xlink:href=\"#DejaVuSans-49\"/>\r\n       <use x=\"63.623047\" xlink:href=\"#DejaVuSans-56\"/>\r\n      </g>\r\n     </g>\r\n    </g>\r\n    <g id=\"xtick_43\">\r\n     <g id=\"text_43\">\r\n      <!-- 16 -->\r\n      <g transform=\"translate(105.812188 238.0025)rotate(-90)scale(0.05 -0.05)\">\r\n       <use xlink:href=\"#DejaVuSans-49\"/>\r\n       <use x=\"63.623047\" xlink:href=\"#DejaVuSans-54\"/>\r\n      </g>\r\n     </g>\r\n    </g>\r\n    <g id=\"xtick_44\">\r\n     <g id=\"text_44\">\r\n      <!-- 20 -->\r\n      <g transform=\"translate(107.486188 238.0025)rotate(-90)scale(0.05 -0.05)\">\r\n       <use xlink:href=\"#DejaVuSans-50\"/>\r\n       <use x=\"63.623047\" xlink:href=\"#DejaVuSans-48\"/>\r\n      </g>\r\n     </g>\r\n    </g>\r\n    <g id=\"xtick_45\">\r\n     <g id=\"text_45\">\r\n      <!-- 51 -->\r\n      <g transform=\"translate(109.160188 238.0025)rotate(-90)scale(0.05 -0.05)\">\r\n       <use xlink:href=\"#DejaVuSans-53\"/>\r\n       <use x=\"63.623047\" xlink:href=\"#DejaVuSans-49\"/>\r\n      </g>\r\n     </g>\r\n    </g>\r\n    <g id=\"xtick_46\">\r\n     <g id=\"text_46\">\r\n      <!-- 53 -->\r\n      <g transform=\"translate(110.834188 238.0025)rotate(-90)scale(0.05 -0.05)\">\r\n       <use xlink:href=\"#DejaVuSans-53\"/>\r\n       <use x=\"63.623047\" xlink:href=\"#DejaVuSans-51\"/>\r\n      </g>\r\n     </g>\r\n    </g>\r\n    <g id=\"xtick_47\">\r\n     <g id=\"text_47\">\r\n      <!-- 43 -->\r\n      <g transform=\"translate(112.508188 238.0025)rotate(-90)scale(0.05 -0.05)\">\r\n       <use xlink:href=\"#DejaVuSans-52\"/>\r\n       <use x=\"63.623047\" xlink:href=\"#DejaVuSans-51\"/>\r\n      </g>\r\n     </g>\r\n    </g>\r\n    <g id=\"xtick_48\">\r\n     <g id=\"text_48\">\r\n      <!-- 45 -->\r\n      <g transform=\"translate(114.182188 238.0025)rotate(-90)scale(0.05 -0.05)\">\r\n       <use xlink:href=\"#DejaVuSans-52\"/>\r\n       <use x=\"63.623047\" xlink:href=\"#DejaVuSans-53\"/>\r\n      </g>\r\n     </g>\r\n    </g>\r\n    <g id=\"xtick_49\">\r\n     <g id=\"text_49\">\r\n      <!-- 46 -->\r\n      <g transform=\"translate(115.856188 238.0025)rotate(-90)scale(0.05 -0.05)\">\r\n       <use xlink:href=\"#DejaVuSans-52\"/>\r\n       <use x=\"63.623047\" xlink:href=\"#DejaVuSans-54\"/>\r\n      </g>\r\n     </g>\r\n    </g>\r\n    <g id=\"xtick_50\">\r\n     <g id=\"text_50\">\r\n      <!-- 50 -->\r\n      <g transform=\"translate(117.530188 238.0025)rotate(-90)scale(0.05 -0.05)\">\r\n       <use xlink:href=\"#DejaVuSans-53\"/>\r\n       <use x=\"63.623047\" xlink:href=\"#DejaVuSans-48\"/>\r\n      </g>\r\n     </g>\r\n    </g>\r\n    <g id=\"xtick_51\">\r\n     <g id=\"text_51\">\r\n      <!-- 52 -->\r\n      <g transform=\"translate(119.204188 238.0025)rotate(-90)scale(0.05 -0.05)\">\r\n       <use xlink:href=\"#DejaVuSans-53\"/>\r\n       <use x=\"63.623047\" xlink:href=\"#DejaVuSans-50\"/>\r\n      </g>\r\n     </g>\r\n    </g>\r\n    <g id=\"xtick_52\">\r\n     <g id=\"text_52\">\r\n      <!-- 63 -->\r\n      <g transform=\"translate(120.878188 238.0025)rotate(-90)scale(0.05 -0.05)\">\r\n       <use xlink:href=\"#DejaVuSans-54\"/>\r\n       <use x=\"63.623047\" xlink:href=\"#DejaVuSans-51\"/>\r\n      </g>\r\n     </g>\r\n    </g>\r\n    <g id=\"xtick_53\">\r\n     <g id=\"text_53\">\r\n      <!-- 65 -->\r\n      <g transform=\"translate(122.552188 238.0025)rotate(-90)scale(0.05 -0.05)\">\r\n       <use xlink:href=\"#DejaVuSans-54\"/>\r\n       <use x=\"63.623047\" xlink:href=\"#DejaVuSans-53\"/>\r\n      </g>\r\n     </g>\r\n    </g>\r\n    <g id=\"xtick_54\">\r\n     <g id=\"text_54\">\r\n      <!-- 68 -->\r\n      <g transform=\"translate(124.226188 238.0025)rotate(-90)scale(0.05 -0.05)\">\r\n       <use xlink:href=\"#DejaVuSans-54\"/>\r\n       <use x=\"63.623047\" xlink:href=\"#DejaVuSans-56\"/>\r\n      </g>\r\n     </g>\r\n    </g>\r\n    <g id=\"xtick_55\">\r\n     <g id=\"text_55\">\r\n      <!-- 60 -->\r\n      <g transform=\"translate(125.900188 238.0025)rotate(-90)scale(0.05 -0.05)\">\r\n       <use xlink:href=\"#DejaVuSans-54\"/>\r\n       <use x=\"63.623047\" xlink:href=\"#DejaVuSans-48\"/>\r\n      </g>\r\n     </g>\r\n    </g>\r\n    <g id=\"xtick_56\">\r\n     <g id=\"text_56\">\r\n      <!-- 61 -->\r\n      <g transform=\"translate(127.574188 238.0025)rotate(-90)scale(0.05 -0.05)\">\r\n       <use xlink:href=\"#DejaVuSans-54\"/>\r\n       <use x=\"63.623047\" xlink:href=\"#DejaVuSans-49\"/>\r\n      </g>\r\n     </g>\r\n    </g>\r\n    <g id=\"xtick_57\">\r\n     <g id=\"text_57\">\r\n      <!-- 70 -->\r\n      <g transform=\"translate(129.248188 238.0025)rotate(-90)scale(0.05 -0.05)\">\r\n       <use xlink:href=\"#DejaVuSans-55\"/>\r\n       <use x=\"63.623047\" xlink:href=\"#DejaVuSans-48\"/>\r\n      </g>\r\n     </g>\r\n    </g>\r\n    <g id=\"xtick_58\">\r\n     <g id=\"text_58\">\r\n      <!-- 73 -->\r\n      <g transform=\"translate(130.922188 238.0025)rotate(-90)scale(0.05 -0.05)\">\r\n       <use xlink:href=\"#DejaVuSans-55\"/>\r\n       <use x=\"63.623047\" xlink:href=\"#DejaVuSans-51\"/>\r\n      </g>\r\n     </g>\r\n    </g>\r\n    <g id=\"xtick_59\">\r\n     <g id=\"text_59\">\r\n      <!-- 77 -->\r\n      <g transform=\"translate(132.596188 238.0025)rotate(-90)scale(0.05 -0.05)\">\r\n       <use xlink:href=\"#DejaVuSans-55\"/>\r\n       <use x=\"63.623047\" xlink:href=\"#DejaVuSans-55\"/>\r\n      </g>\r\n     </g>\r\n    </g>\r\n    <g id=\"xtick_60\">\r\n     <g id=\"text_60\">\r\n      <!-- 74 -->\r\n      <g transform=\"translate(134.270188 238.0025)rotate(-90)scale(0.05 -0.05)\">\r\n       <use xlink:href=\"#DejaVuSans-55\"/>\r\n       <use x=\"63.623047\" xlink:href=\"#DejaVuSans-52\"/>\r\n      </g>\r\n     </g>\r\n    </g>\r\n    <g id=\"xtick_61\">\r\n     <g id=\"text_61\">\r\n      <!-- 85 -->\r\n      <g transform=\"translate(135.944187 238.0025)rotate(-90)scale(0.05 -0.05)\">\r\n       <use xlink:href=\"#DejaVuSans-56\"/>\r\n       <use x=\"63.623047\" xlink:href=\"#DejaVuSans-53\"/>\r\n      </g>\r\n     </g>\r\n    </g>\r\n    <g id=\"xtick_62\">\r\n     <g id=\"text_62\">\r\n      <!-- 71 -->\r\n      <g transform=\"translate(137.618188 238.0025)rotate(-90)scale(0.05 -0.05)\">\r\n       <use xlink:href=\"#DejaVuSans-55\"/>\r\n       <use x=\"63.623047\" xlink:href=\"#DejaVuSans-49\"/>\r\n      </g>\r\n     </g>\r\n    </g>\r\n    <g id=\"xtick_63\">\r\n     <g id=\"text_63\">\r\n      <!-- 83 -->\r\n      <g transform=\"translate(139.292188 238.0025)rotate(-90)scale(0.05 -0.05)\">\r\n       <use xlink:href=\"#DejaVuSans-56\"/>\r\n       <use x=\"63.623047\" xlink:href=\"#DejaVuSans-51\"/>\r\n      </g>\r\n     </g>\r\n    </g>\r\n    <g id=\"xtick_64\">\r\n     <g id=\"text_64\">\r\n      <!-- 79 -->\r\n      <g transform=\"translate(140.966187 238.0025)rotate(-90)scale(0.05 -0.05)\">\r\n       <use xlink:href=\"#DejaVuSans-55\"/>\r\n       <use x=\"63.623047\" xlink:href=\"#DejaVuSans-57\"/>\r\n      </g>\r\n     </g>\r\n    </g>\r\n    <g id=\"xtick_65\">\r\n     <g id=\"text_65\">\r\n      <!-- 82 -->\r\n      <g transform=\"translate(142.640188 238.0025)rotate(-90)scale(0.05 -0.05)\">\r\n       <use xlink:href=\"#DejaVuSans-56\"/>\r\n       <use x=\"63.623047\" xlink:href=\"#DejaVuSans-50\"/>\r\n      </g>\r\n     </g>\r\n    </g>\r\n    <g id=\"xtick_66\">\r\n     <g id=\"text_66\">\r\n      <!-- 72 -->\r\n      <g transform=\"translate(144.314188 238.0025)rotate(-90)scale(0.05 -0.05)\">\r\n       <use xlink:href=\"#DejaVuSans-55\"/>\r\n       <use x=\"63.623047\" xlink:href=\"#DejaVuSans-50\"/>\r\n      </g>\r\n     </g>\r\n    </g>\r\n    <g id=\"xtick_67\">\r\n     <g id=\"text_67\">\r\n      <!-- 59 -->\r\n      <g transform=\"translate(145.988188 238.0025)rotate(-90)scale(0.05 -0.05)\">\r\n       <use xlink:href=\"#DejaVuSans-53\"/>\r\n       <use x=\"63.623047\" xlink:href=\"#DejaVuSans-57\"/>\r\n      </g>\r\n     </g>\r\n    </g>\r\n    <g id=\"xtick_68\">\r\n     <g id=\"text_68\">\r\n      <!-- 67 -->\r\n      <g transform=\"translate(147.662188 238.0025)rotate(-90)scale(0.05 -0.05)\">\r\n       <use xlink:href=\"#DejaVuSans-54\"/>\r\n       <use x=\"63.623047\" xlink:href=\"#DejaVuSans-55\"/>\r\n      </g>\r\n     </g>\r\n    </g>\r\n    <g id=\"xtick_69\">\r\n     <g id=\"text_69\">\r\n      <!-- 69 -->\r\n      <g transform=\"translate(149.336187 238.0025)rotate(-90)scale(0.05 -0.05)\">\r\n       <use xlink:href=\"#DejaVuSans-54\"/>\r\n       <use x=\"63.623047\" xlink:href=\"#DejaVuSans-57\"/>\r\n      </g>\r\n     </g>\r\n    </g>\r\n    <g id=\"xtick_70\">\r\n     <g id=\"text_70\">\r\n      <!-- 56 -->\r\n      <g transform=\"translate(151.010188 238.0025)rotate(-90)scale(0.05 -0.05)\">\r\n       <use xlink:href=\"#DejaVuSans-53\"/>\r\n       <use x=\"63.623047\" xlink:href=\"#DejaVuSans-54\"/>\r\n      </g>\r\n     </g>\r\n    </g>\r\n    <g id=\"xtick_71\">\r\n     <g id=\"text_71\">\r\n      <!-- 64 -->\r\n      <g transform=\"translate(152.684188 238.0025)rotate(-90)scale(0.05 -0.05)\">\r\n       <use xlink:href=\"#DejaVuSans-54\"/>\r\n       <use x=\"63.623047\" xlink:href=\"#DejaVuSans-52\"/>\r\n      </g>\r\n     </g>\r\n    </g>\r\n    <g id=\"xtick_72\">\r\n     <g id=\"text_72\">\r\n      <!-- 66 -->\r\n      <g transform=\"translate(154.358188 238.0025)rotate(-90)scale(0.05 -0.05)\">\r\n       <use xlink:href=\"#DejaVuSans-54\"/>\r\n       <use x=\"63.623047\" xlink:href=\"#DejaVuSans-54\"/>\r\n      </g>\r\n     </g>\r\n    </g>\r\n    <g id=\"xtick_73\">\r\n     <g id=\"text_73\">\r\n      <!-- 58 -->\r\n      <g transform=\"translate(156.032188 238.0025)rotate(-90)scale(0.05 -0.05)\">\r\n       <use xlink:href=\"#DejaVuSans-53\"/>\r\n       <use x=\"63.623047\" xlink:href=\"#DejaVuSans-56\"/>\r\n      </g>\r\n     </g>\r\n    </g>\r\n    <g id=\"xtick_74\">\r\n     <g id=\"text_74\">\r\n      <!-- 62 -->\r\n      <g transform=\"translate(157.706187 238.0025)rotate(-90)scale(0.05 -0.05)\">\r\n       <use xlink:href=\"#DejaVuSans-54\"/>\r\n       <use x=\"63.623047\" xlink:href=\"#DejaVuSans-50\"/>\r\n      </g>\r\n     </g>\r\n    </g>\r\n    <g id=\"xtick_75\">\r\n     <g id=\"text_75\">\r\n      <!-- 55 -->\r\n      <g transform=\"translate(159.380188 238.0025)rotate(-90)scale(0.05 -0.05)\">\r\n       <use xlink:href=\"#DejaVuSans-53\"/>\r\n       <use x=\"63.623047\" xlink:href=\"#DejaVuSans-53\"/>\r\n      </g>\r\n     </g>\r\n    </g>\r\n    <g id=\"xtick_76\">\r\n     <g id=\"text_76\">\r\n      <!-- 48 -->\r\n      <g transform=\"translate(161.054188 238.0025)rotate(-90)scale(0.05 -0.05)\">\r\n       <use xlink:href=\"#DejaVuSans-52\"/>\r\n       <use x=\"63.623047\" xlink:href=\"#DejaVuSans-56\"/>\r\n      </g>\r\n     </g>\r\n    </g>\r\n    <g id=\"xtick_77\">\r\n     <g id=\"text_77\">\r\n      <!-- 49 -->\r\n      <g transform=\"translate(162.728187 238.0025)rotate(-90)scale(0.05 -0.05)\">\r\n       <use xlink:href=\"#DejaVuSans-52\"/>\r\n       <use x=\"63.623047\" xlink:href=\"#DejaVuSans-57\"/>\r\n      </g>\r\n     </g>\r\n    </g>\r\n    <g id=\"xtick_78\">\r\n     <g id=\"text_78\">\r\n      <!-- 47 -->\r\n      <g transform=\"translate(164.402188 238.0025)rotate(-90)scale(0.05 -0.05)\">\r\n       <use xlink:href=\"#DejaVuSans-52\"/>\r\n       <use x=\"63.623047\" xlink:href=\"#DejaVuSans-55\"/>\r\n      </g>\r\n     </g>\r\n    </g>\r\n    <g id=\"xtick_79\">\r\n     <g id=\"text_79\">\r\n      <!-- 54 -->\r\n      <g transform=\"translate(166.076188 238.0025)rotate(-90)scale(0.05 -0.05)\">\r\n       <use xlink:href=\"#DejaVuSans-53\"/>\r\n       <use x=\"63.623047\" xlink:href=\"#DejaVuSans-52\"/>\r\n      </g>\r\n     </g>\r\n    </g>\r\n    <g id=\"xtick_80\">\r\n     <g id=\"text_80\">\r\n      <!-- 57 -->\r\n      <g transform=\"translate(167.750188 238.0025)rotate(-90)scale(0.05 -0.05)\">\r\n       <use xlink:href=\"#DejaVuSans-53\"/>\r\n       <use x=\"63.623047\" xlink:href=\"#DejaVuSans-55\"/>\r\n      </g>\r\n     </g>\r\n    </g>\r\n    <g id=\"xtick_81\">\r\n     <g id=\"text_81\">\r\n      <!-- 142 -->\r\n      <g transform=\"translate(169.424188 241.18375)rotate(-90)scale(0.05 -0.05)\">\r\n       <use xlink:href=\"#DejaVuSans-49\"/>\r\n       <use x=\"63.623047\" xlink:href=\"#DejaVuSans-52\"/>\r\n       <use x=\"127.246094\" xlink:href=\"#DejaVuSans-50\"/>\r\n      </g>\r\n     </g>\r\n    </g>\r\n    <g id=\"xtick_82\">\r\n     <g id=\"text_82\">\r\n      <!-- 146 -->\r\n      <g transform=\"translate(171.098187 241.18375)rotate(-90)scale(0.05 -0.05)\">\r\n       <use xlink:href=\"#DejaVuSans-49\"/>\r\n       <use x=\"63.623047\" xlink:href=\"#DejaVuSans-52\"/>\r\n       <use x=\"127.246094\" xlink:href=\"#DejaVuSans-54\"/>\r\n      </g>\r\n     </g>\r\n    </g>\r\n    <g id=\"xtick_83\">\r\n     <g id=\"text_83\">\r\n      <!-- 160 -->\r\n      <g transform=\"translate(172.772188 241.18375)rotate(-90)scale(0.05 -0.05)\">\r\n       <use xlink:href=\"#DejaVuSans-49\"/>\r\n       <use x=\"63.623047\" xlink:href=\"#DejaVuSans-54\"/>\r\n       <use x=\"127.246094\" xlink:href=\"#DejaVuSans-48\"/>\r\n      </g>\r\n     </g>\r\n    </g>\r\n    <g id=\"xtick_84\">\r\n     <g id=\"text_84\">\r\n      <!-- 124 -->\r\n      <g transform=\"translate(174.446188 241.18375)rotate(-90)scale(0.05 -0.05)\">\r\n       <use xlink:href=\"#DejaVuSans-49\"/>\r\n       <use x=\"63.623047\" xlink:href=\"#DejaVuSans-50\"/>\r\n       <use x=\"127.246094\" xlink:href=\"#DejaVuSans-52\"/>\r\n      </g>\r\n     </g>\r\n    </g>\r\n    <g id=\"xtick_85\">\r\n     <g id=\"text_85\">\r\n      <!-- 126 -->\r\n      <g transform=\"translate(176.120188 241.18375)rotate(-90)scale(0.05 -0.05)\">\r\n       <use xlink:href=\"#DejaVuSans-49\"/>\r\n       <use x=\"63.623047\" xlink:href=\"#DejaVuSans-50\"/>\r\n       <use x=\"127.246094\" xlink:href=\"#DejaVuSans-54\"/>\r\n      </g>\r\n     </g>\r\n    </g>\r\n    <g id=\"xtick_86\">\r\n     <g id=\"text_86\">\r\n      <!-- 132 -->\r\n      <g transform=\"translate(177.794188 241.18375)rotate(-90)scale(0.05 -0.05)\">\r\n       <use xlink:href=\"#DejaVuSans-49\"/>\r\n       <use x=\"63.623047\" xlink:href=\"#DejaVuSans-51\"/>\r\n       <use x=\"127.246094\" xlink:href=\"#DejaVuSans-50\"/>\r\n      </g>\r\n     </g>\r\n    </g>\r\n    <g id=\"xtick_87\">\r\n     <g id=\"text_87\">\r\n      <!-- 89 -->\r\n      <g transform=\"translate(179.468187 238.0025)rotate(-90)scale(0.05 -0.05)\">\r\n       <use xlink:href=\"#DejaVuSans-56\"/>\r\n       <use x=\"63.623047\" xlink:href=\"#DejaVuSans-57\"/>\r\n      </g>\r\n     </g>\r\n    </g>\r\n    <g id=\"xtick_88\">\r\n     <g id=\"text_88\">\r\n      <!-- 96 -->\r\n      <g transform=\"translate(181.142188 238.0025)rotate(-90)scale(0.05 -0.05)\">\r\n       <use xlink:href=\"#DejaVuSans-57\"/>\r\n       <use x=\"63.623047\" xlink:href=\"#DejaVuSans-54\"/>\r\n      </g>\r\n     </g>\r\n    </g>\r\n    <g id=\"xtick_89\">\r\n     <g id=\"text_89\">\r\n      <!-- 95 -->\r\n      <g transform=\"translate(182.816188 238.0025)rotate(-90)scale(0.05 -0.05)\">\r\n       <use xlink:href=\"#DejaVuSans-57\"/>\r\n       <use x=\"63.623047\" xlink:href=\"#DejaVuSans-53\"/>\r\n      </g>\r\n     </g>\r\n    </g>\r\n    <g id=\"xtick_90\">\r\n     <g id=\"text_90\">\r\n      <!-- 99 -->\r\n      <g transform=\"translate(184.490187 238.0025)rotate(-90)scale(0.05 -0.05)\">\r\n       <use xlink:href=\"#DejaVuSans-57\"/>\r\n       <use x=\"63.623047\" xlink:href=\"#DejaVuSans-57\"/>\r\n      </g>\r\n     </g>\r\n    </g>\r\n    <g id=\"xtick_91\">\r\n     <g id=\"text_91\">\r\n      <!-- 92 -->\r\n      <g transform=\"translate(186.164188 238.0025)rotate(-90)scale(0.05 -0.05)\">\r\n       <use xlink:href=\"#DejaVuSans-57\"/>\r\n       <use x=\"63.623047\" xlink:href=\"#DejaVuSans-50\"/>\r\n      </g>\r\n     </g>\r\n    </g>\r\n    <g id=\"xtick_92\">\r\n     <g id=\"text_92\">\r\n      <!-- 97 -->\r\n      <g transform=\"translate(187.838188 238.0025)rotate(-90)scale(0.05 -0.05)\">\r\n       <use xlink:href=\"#DejaVuSans-57\"/>\r\n       <use x=\"63.623047\" xlink:href=\"#DejaVuSans-55\"/>\r\n      </g>\r\n     </g>\r\n    </g>\r\n    <g id=\"xtick_93\">\r\n     <g id=\"text_93\">\r\n      <!-- 101 -->\r\n      <g transform=\"translate(189.512188 241.18375)rotate(-90)scale(0.05 -0.05)\">\r\n       <use xlink:href=\"#DejaVuSans-49\"/>\r\n       <use x=\"63.623047\" xlink:href=\"#DejaVuSans-48\"/>\r\n       <use x=\"127.246094\" xlink:href=\"#DejaVuSans-49\"/>\r\n      </g>\r\n     </g>\r\n    </g>\r\n    <g id=\"xtick_94\">\r\n     <g id=\"text_94\">\r\n      <!-- 109 -->\r\n      <g transform=\"translate(191.186188 241.18375)rotate(-90)scale(0.05 -0.05)\">\r\n       <use xlink:href=\"#DejaVuSans-49\"/>\r\n       <use x=\"63.623047\" xlink:href=\"#DejaVuSans-48\"/>\r\n       <use x=\"127.246094\" xlink:href=\"#DejaVuSans-57\"/>\r\n      </g>\r\n     </g>\r\n    </g>\r\n    <g id=\"xtick_95\">\r\n     <g id=\"text_95\">\r\n      <!-- 107 -->\r\n      <g transform=\"translate(192.860187 241.18375)rotate(-90)scale(0.05 -0.05)\">\r\n       <use xlink:href=\"#DejaVuSans-49\"/>\r\n       <use x=\"63.623047\" xlink:href=\"#DejaVuSans-48\"/>\r\n       <use x=\"127.246094\" xlink:href=\"#DejaVuSans-55\"/>\r\n      </g>\r\n     </g>\r\n    </g>\r\n    <g id=\"xtick_96\">\r\n     <g id=\"text_96\">\r\n      <!-- 113 -->\r\n      <g transform=\"translate(194.534188 241.18375)rotate(-90)scale(0.05 -0.05)\">\r\n       <use xlink:href=\"#DejaVuSans-49\"/>\r\n       <use x=\"63.623047\" xlink:href=\"#DejaVuSans-49\"/>\r\n       <use x=\"127.246094\" xlink:href=\"#DejaVuSans-51\"/>\r\n      </g>\r\n     </g>\r\n    </g>\r\n    <g id=\"xtick_97\">\r\n     <g id=\"text_97\">\r\n      <!-- 106 -->\r\n      <g transform=\"translate(196.208188 241.18375)rotate(-90)scale(0.05 -0.05)\">\r\n       <use xlink:href=\"#DejaVuSans-49\"/>\r\n       <use x=\"63.623047\" xlink:href=\"#DejaVuSans-48\"/>\r\n       <use x=\"127.246094\" xlink:href=\"#DejaVuSans-54\"/>\r\n      </g>\r\n     </g>\r\n    </g>\r\n    <g id=\"xtick_98\">\r\n     <g id=\"text_98\">\r\n      <!-- 110 -->\r\n      <g transform=\"translate(197.882188 241.18375)rotate(-90)scale(0.05 -0.05)\">\r\n       <use xlink:href=\"#DejaVuSans-49\"/>\r\n       <use x=\"63.623047\" xlink:href=\"#DejaVuSans-49\"/>\r\n       <use x=\"127.246094\" xlink:href=\"#DejaVuSans-48\"/>\r\n      </g>\r\n     </g>\r\n    </g>\r\n    <g id=\"xtick_99\">\r\n     <g id=\"text_99\">\r\n      <!-- 114 -->\r\n      <g transform=\"translate(199.556188 241.18375)rotate(-90)scale(0.05 -0.05)\">\r\n       <use xlink:href=\"#DejaVuSans-49\"/>\r\n       <use x=\"63.623047\" xlink:href=\"#DejaVuSans-49\"/>\r\n       <use x=\"127.246094\" xlink:href=\"#DejaVuSans-52\"/>\r\n      </g>\r\n     </g>\r\n    </g>\r\n    <g id=\"xtick_100\">\r\n     <g id=\"text_100\">\r\n      <!-- 115 -->\r\n      <g transform=\"translate(201.230187 241.18375)rotate(-90)scale(0.05 -0.05)\">\r\n       <use xlink:href=\"#DejaVuSans-49\"/>\r\n       <use x=\"63.623047\" xlink:href=\"#DejaVuSans-49\"/>\r\n       <use x=\"127.246094\" xlink:href=\"#DejaVuSans-53\"/>\r\n      </g>\r\n     </g>\r\n    </g>\r\n    <g id=\"xtick_101\">\r\n     <g id=\"text_101\">\r\n      <!-- 91 -->\r\n      <g transform=\"translate(202.904188 238.0025)rotate(-90)scale(0.05 -0.05)\">\r\n       <use xlink:href=\"#DejaVuSans-57\"/>\r\n       <use x=\"63.623047\" xlink:href=\"#DejaVuSans-49\"/>\r\n      </g>\r\n     </g>\r\n    </g>\r\n    <g id=\"xtick_102\">\r\n     <g id=\"text_102\">\r\n      <!-- 93 -->\r\n      <g transform=\"translate(204.578188 238.0025)rotate(-90)scale(0.05 -0.05)\">\r\n       <use xlink:href=\"#DejaVuSans-57\"/>\r\n       <use x=\"63.623047\" xlink:href=\"#DejaVuSans-51\"/>\r\n      </g>\r\n     </g>\r\n    </g>\r\n    <g id=\"xtick_103\">\r\n     <g id=\"text_103\">\r\n      <!-- 94 -->\r\n      <g transform=\"translate(206.252187 238.0025)rotate(-90)scale(0.05 -0.05)\">\r\n       <use xlink:href=\"#DejaVuSans-57\"/>\r\n       <use x=\"63.623047\" xlink:href=\"#DejaVuSans-52\"/>\r\n      </g>\r\n     </g>\r\n    </g>\r\n    <g id=\"xtick_104\">\r\n     <g id=\"text_104\">\r\n      <!-- 98 -->\r\n      <g transform=\"translate(207.926188 238.0025)rotate(-90)scale(0.05 -0.05)\">\r\n       <use xlink:href=\"#DejaVuSans-57\"/>\r\n       <use x=\"63.623047\" xlink:href=\"#DejaVuSans-56\"/>\r\n      </g>\r\n     </g>\r\n    </g>\r\n    <g id=\"xtick_105\">\r\n     <g id=\"text_105\">\r\n      <!-- 100 -->\r\n      <g transform=\"translate(209.600188 241.18375)rotate(-90)scale(0.05 -0.05)\">\r\n       <use xlink:href=\"#DejaVuSans-49\"/>\r\n       <use x=\"63.623047\" xlink:href=\"#DejaVuSans-48\"/>\r\n       <use x=\"127.246094\" xlink:href=\"#DejaVuSans-48\"/>\r\n      </g>\r\n     </g>\r\n    </g>\r\n    <g id=\"xtick_106\">\r\n     <g id=\"text_106\">\r\n      <!-- 105 -->\r\n      <g transform=\"translate(211.274188 241.18375)rotate(-90)scale(0.05 -0.05)\">\r\n       <use xlink:href=\"#DejaVuSans-49\"/>\r\n       <use x=\"63.623047\" xlink:href=\"#DejaVuSans-48\"/>\r\n       <use x=\"127.246094\" xlink:href=\"#DejaVuSans-53\"/>\r\n      </g>\r\n     </g>\r\n    </g>\r\n    <g id=\"xtick_107\">\r\n     <g id=\"text_107\">\r\n      <!-- 116 -->\r\n      <g transform=\"translate(212.948188 241.18375)rotate(-90)scale(0.05 -0.05)\">\r\n       <use xlink:href=\"#DejaVuSans-49\"/>\r\n       <use x=\"63.623047\" xlink:href=\"#DejaVuSans-49\"/>\r\n       <use x=\"127.246094\" xlink:href=\"#DejaVuSans-54\"/>\r\n      </g>\r\n     </g>\r\n    </g>\r\n    <g id=\"xtick_108\">\r\n     <g id=\"text_108\">\r\n      <!-- 108 -->\r\n      <g transform=\"translate(214.622187 241.18375)rotate(-90)scale(0.05 -0.05)\">\r\n       <use xlink:href=\"#DejaVuSans-49\"/>\r\n       <use x=\"63.623047\" xlink:href=\"#DejaVuSans-48\"/>\r\n       <use x=\"127.246094\" xlink:href=\"#DejaVuSans-56\"/>\r\n      </g>\r\n     </g>\r\n    </g>\r\n    <g id=\"xtick_109\">\r\n     <g id=\"text_109\">\r\n      <!-- 112 -->\r\n      <g transform=\"translate(216.296188 241.18375)rotate(-90)scale(0.05 -0.05)\">\r\n       <use xlink:href=\"#DejaVuSans-49\"/>\r\n       <use x=\"63.623047\" xlink:href=\"#DejaVuSans-49\"/>\r\n       <use x=\"127.246094\" xlink:href=\"#DejaVuSans-50\"/>\r\n      </g>\r\n     </g>\r\n    </g>\r\n    <g id=\"xtick_110\">\r\n     <g id=\"text_110\">\r\n      <!-- 118 -->\r\n      <g transform=\"translate(217.970188 241.18375)rotate(-90)scale(0.05 -0.05)\">\r\n       <use xlink:href=\"#DejaVuSans-49\"/>\r\n       <use x=\"63.623047\" xlink:href=\"#DejaVuSans-49\"/>\r\n       <use x=\"127.246094\" xlink:href=\"#DejaVuSans-56\"/>\r\n      </g>\r\n     </g>\r\n    </g>\r\n    <g id=\"xtick_111\">\r\n     <g id=\"text_111\">\r\n      <!-- 121 -->\r\n      <g transform=\"translate(219.644188 241.18375)rotate(-90)scale(0.05 -0.05)\">\r\n       <use xlink:href=\"#DejaVuSans-49\"/>\r\n       <use x=\"63.623047\" xlink:href=\"#DejaVuSans-50\"/>\r\n       <use x=\"127.246094\" xlink:href=\"#DejaVuSans-49\"/>\r\n      </g>\r\n     </g>\r\n    </g>\r\n    <g id=\"xtick_112\">\r\n     <g id=\"text_112\">\r\n      <!-- 122 -->\r\n      <g transform=\"translate(221.318188 241.18375)rotate(-90)scale(0.05 -0.05)\">\r\n       <use xlink:href=\"#DejaVuSans-49\"/>\r\n       <use x=\"63.623047\" xlink:href=\"#DejaVuSans-50\"/>\r\n       <use x=\"127.246094\" xlink:href=\"#DejaVuSans-50\"/>\r\n      </g>\r\n     </g>\r\n    </g>\r\n    <g id=\"xtick_113\">\r\n     <g id=\"text_113\">\r\n      <!-- 119 -->\r\n      <g transform=\"translate(222.992188 241.18375)rotate(-90)scale(0.05 -0.05)\">\r\n       <use xlink:href=\"#DejaVuSans-49\"/>\r\n       <use x=\"63.623047\" xlink:href=\"#DejaVuSans-49\"/>\r\n       <use x=\"127.246094\" xlink:href=\"#DejaVuSans-57\"/>\r\n      </g>\r\n     </g>\r\n    </g>\r\n    <g id=\"xtick_114\">\r\n     <g id=\"text_114\">\r\n      <!-- 120 -->\r\n      <g transform=\"translate(224.666188 241.18375)rotate(-90)scale(0.05 -0.05)\">\r\n       <use xlink:href=\"#DejaVuSans-49\"/>\r\n       <use x=\"63.623047\" xlink:href=\"#DejaVuSans-50\"/>\r\n       <use x=\"127.246094\" xlink:href=\"#DejaVuSans-48\"/>\r\n      </g>\r\n     </g>\r\n    </g>\r\n    <g id=\"xtick_115\">\r\n     <g id=\"text_115\">\r\n      <!-- 111 -->\r\n      <g transform=\"translate(226.340188 241.18375)rotate(-90)scale(0.05 -0.05)\">\r\n       <use xlink:href=\"#DejaVuSans-49\"/>\r\n       <use x=\"63.623047\" xlink:href=\"#DejaVuSans-49\"/>\r\n       <use x=\"127.246094\" xlink:href=\"#DejaVuSans-49\"/>\r\n      </g>\r\n     </g>\r\n    </g>\r\n    <g id=\"xtick_116\">\r\n     <g id=\"text_116\">\r\n      <!-- 103 -->\r\n      <g transform=\"translate(228.014188 241.18375)rotate(-90)scale(0.05 -0.05)\">\r\n       <use xlink:href=\"#DejaVuSans-49\"/>\r\n       <use x=\"63.623047\" xlink:href=\"#DejaVuSans-48\"/>\r\n       <use x=\"127.246094\" xlink:href=\"#DejaVuSans-51\"/>\r\n      </g>\r\n     </g>\r\n    </g>\r\n    <g id=\"xtick_117\">\r\n     <g id=\"text_117\">\r\n      <!-- 104 -->\r\n      <g transform=\"translate(229.688188 241.18375)rotate(-90)scale(0.05 -0.05)\">\r\n       <use xlink:href=\"#DejaVuSans-49\"/>\r\n       <use x=\"63.623047\" xlink:href=\"#DejaVuSans-48\"/>\r\n       <use x=\"127.246094\" xlink:href=\"#DejaVuSans-52\"/>\r\n      </g>\r\n     </g>\r\n    </g>\r\n    <g id=\"xtick_118\">\r\n     <g id=\"text_118\">\r\n      <!-- 102 -->\r\n      <g transform=\"translate(231.362188 241.18375)rotate(-90)scale(0.05 -0.05)\">\r\n       <use xlink:href=\"#DejaVuSans-49\"/>\r\n       <use x=\"63.623047\" xlink:href=\"#DejaVuSans-48\"/>\r\n       <use x=\"127.246094\" xlink:href=\"#DejaVuSans-50\"/>\r\n      </g>\r\n     </g>\r\n    </g>\r\n    <g id=\"xtick_119\">\r\n     <g id=\"text_119\">\r\n      <!-- 117 -->\r\n      <g transform=\"translate(233.036188 241.18375)rotate(-90)scale(0.05 -0.05)\">\r\n       <use xlink:href=\"#DejaVuSans-49\"/>\r\n       <use x=\"63.623047\" xlink:href=\"#DejaVuSans-49\"/>\r\n       <use x=\"127.246094\" xlink:href=\"#DejaVuSans-55\"/>\r\n      </g>\r\n     </g>\r\n    </g>\r\n    <g id=\"xtick_120\">\r\n     <g id=\"text_120\">\r\n      <!-- 78 -->\r\n      <g transform=\"translate(234.710188 238.0025)rotate(-90)scale(0.05 -0.05)\">\r\n       <use xlink:href=\"#DejaVuSans-55\"/>\r\n       <use x=\"63.623047\" xlink:href=\"#DejaVuSans-56\"/>\r\n      </g>\r\n     </g>\r\n    </g>\r\n    <g id=\"xtick_121\">\r\n     <g id=\"text_121\">\r\n      <!-- 80 -->\r\n      <g transform=\"translate(236.384187 238.0025)rotate(-90)scale(0.05 -0.05)\">\r\n       <use xlink:href=\"#DejaVuSans-56\"/>\r\n       <use x=\"63.623047\" xlink:href=\"#DejaVuSans-48\"/>\r\n      </g>\r\n     </g>\r\n    </g>\r\n    <g id=\"xtick_122\">\r\n     <g id=\"text_122\">\r\n      <!-- 84 -->\r\n      <g transform=\"translate(238.058188 238.0025)rotate(-90)scale(0.05 -0.05)\">\r\n       <use xlink:href=\"#DejaVuSans-56\"/>\r\n       <use x=\"63.623047\" xlink:href=\"#DejaVuSans-52\"/>\r\n      </g>\r\n     </g>\r\n    </g>\r\n    <g id=\"xtick_123\">\r\n     <g id=\"text_123\">\r\n      <!-- 76 -->\r\n      <g transform=\"translate(239.732188 238.0025)rotate(-90)scale(0.05 -0.05)\">\r\n       <use xlink:href=\"#DejaVuSans-55\"/>\r\n       <use x=\"63.623047\" xlink:href=\"#DejaVuSans-54\"/>\r\n      </g>\r\n     </g>\r\n    </g>\r\n    <g id=\"xtick_124\">\r\n     <g id=\"text_124\">\r\n      <!-- 75 -->\r\n      <g transform=\"translate(241.406188 238.0025)rotate(-90)scale(0.05 -0.05)\">\r\n       <use xlink:href=\"#DejaVuSans-55\"/>\r\n       <use x=\"63.623047\" xlink:href=\"#DejaVuSans-53\"/>\r\n      </g>\r\n     </g>\r\n    </g>\r\n    <g id=\"xtick_125\">\r\n     <g id=\"text_125\">\r\n      <!-- 81 -->\r\n      <g transform=\"translate(243.080188 238.0025)rotate(-90)scale(0.05 -0.05)\">\r\n       <use xlink:href=\"#DejaVuSans-56\"/>\r\n       <use x=\"63.623047\" xlink:href=\"#DejaVuSans-49\"/>\r\n      </g>\r\n     </g>\r\n    </g>\r\n    <g id=\"xtick_126\">\r\n     <g id=\"text_126\">\r\n      <!-- 87 -->\r\n      <g transform=\"translate(244.754188 238.0025)rotate(-90)scale(0.05 -0.05)\">\r\n       <use xlink:href=\"#DejaVuSans-56\"/>\r\n       <use x=\"63.623047\" xlink:href=\"#DejaVuSans-55\"/>\r\n      </g>\r\n     </g>\r\n    </g>\r\n    <g id=\"xtick_127\">\r\n     <g id=\"text_127\">\r\n      <!-- 90 -->\r\n      <g transform=\"translate(246.428188 238.0025)rotate(-90)scale(0.05 -0.05)\">\r\n       <use xlink:href=\"#DejaVuSans-57\"/>\r\n       <use x=\"63.623047\" xlink:href=\"#DejaVuSans-48\"/>\r\n      </g>\r\n     </g>\r\n    </g>\r\n    <g id=\"xtick_128\">\r\n     <g id=\"text_128\">\r\n      <!-- 86 -->\r\n      <g transform=\"translate(248.102188 238.0025)rotate(-90)scale(0.05 -0.05)\">\r\n       <use xlink:href=\"#DejaVuSans-56\"/>\r\n       <use x=\"63.623047\" xlink:href=\"#DejaVuSans-54\"/>\r\n      </g>\r\n     </g>\r\n    </g>\r\n    <g id=\"xtick_129\">\r\n     <g id=\"text_129\">\r\n      <!-- 88 -->\r\n      <g transform=\"translate(249.776188 238.0025)rotate(-90)scale(0.05 -0.05)\">\r\n       <use xlink:href=\"#DejaVuSans-56\"/>\r\n       <use x=\"63.623047\" xlink:href=\"#DejaVuSans-56\"/>\r\n      </g>\r\n     </g>\r\n    </g>\r\n    <g id=\"xtick_130\">\r\n     <g id=\"text_130\">\r\n      <!-- 199 -->\r\n      <g transform=\"translate(251.450188 241.18375)rotate(-90)scale(0.05 -0.05)\">\r\n       <use xlink:href=\"#DejaVuSans-49\"/>\r\n       <use x=\"63.623047\" xlink:href=\"#DejaVuSans-57\"/>\r\n       <use x=\"127.246094\" xlink:href=\"#DejaVuSans-57\"/>\r\n      </g>\r\n     </g>\r\n    </g>\r\n    <g id=\"xtick_131\">\r\n     <g id=\"text_131\">\r\n      <!-- 195 -->\r\n      <g transform=\"translate(253.124188 241.18375)rotate(-90)scale(0.05 -0.05)\">\r\n       <use xlink:href=\"#DejaVuSans-49\"/>\r\n       <use x=\"63.623047\" xlink:href=\"#DejaVuSans-57\"/>\r\n       <use x=\"127.246094\" xlink:href=\"#DejaVuSans-53\"/>\r\n      </g>\r\n     </g>\r\n    </g>\r\n    <g id=\"xtick_132\">\r\n     <g id=\"text_132\">\r\n      <!-- 197 -->\r\n      <g transform=\"translate(254.798188 241.18375)rotate(-90)scale(0.05 -0.05)\">\r\n       <use xlink:href=\"#DejaVuSans-49\"/>\r\n       <use x=\"63.623047\" xlink:href=\"#DejaVuSans-57\"/>\r\n       <use x=\"127.246094\" xlink:href=\"#DejaVuSans-55\"/>\r\n      </g>\r\n     </g>\r\n    </g>\r\n    <g id=\"xtick_133\">\r\n     <g id=\"text_133\">\r\n      <!-- 193 -->\r\n      <g transform=\"translate(256.472188 241.18375)rotate(-90)scale(0.05 -0.05)\">\r\n       <use xlink:href=\"#DejaVuSans-49\"/>\r\n       <use x=\"63.623047\" xlink:href=\"#DejaVuSans-57\"/>\r\n       <use x=\"127.246094\" xlink:href=\"#DejaVuSans-51\"/>\r\n      </g>\r\n     </g>\r\n    </g>\r\n    <g id=\"xtick_134\">\r\n     <g id=\"text_134\">\r\n      <!-- 185 -->\r\n      <g transform=\"translate(258.146188 241.18375)rotate(-90)scale(0.05 -0.05)\">\r\n       <use xlink:href=\"#DejaVuSans-49\"/>\r\n       <use x=\"63.623047\" xlink:href=\"#DejaVuSans-56\"/>\r\n       <use x=\"127.246094\" xlink:href=\"#DejaVuSans-53\"/>\r\n      </g>\r\n     </g>\r\n    </g>\r\n    <g id=\"xtick_135\">\r\n     <g id=\"text_135\">\r\n      <!-- 189 -->\r\n      <g transform=\"translate(259.820188 241.18375)rotate(-90)scale(0.05 -0.05)\">\r\n       <use xlink:href=\"#DejaVuSans-49\"/>\r\n       <use x=\"63.623047\" xlink:href=\"#DejaVuSans-56\"/>\r\n       <use x=\"127.246094\" xlink:href=\"#DejaVuSans-57\"/>\r\n      </g>\r\n     </g>\r\n    </g>\r\n    <g id=\"xtick_136\">\r\n     <g id=\"text_136\">\r\n      <!-- 179 -->\r\n      <g transform=\"translate(261.494188 241.18375)rotate(-90)scale(0.05 -0.05)\">\r\n       <use xlink:href=\"#DejaVuSans-49\"/>\r\n       <use x=\"63.623047\" xlink:href=\"#DejaVuSans-55\"/>\r\n       <use x=\"127.246094\" xlink:href=\"#DejaVuSans-57\"/>\r\n      </g>\r\n     </g>\r\n    </g>\r\n    <g id=\"xtick_137\">\r\n     <g id=\"text_137\">\r\n      <!-- 181 -->\r\n      <g transform=\"translate(263.168188 241.18375)rotate(-90)scale(0.05 -0.05)\">\r\n       <use xlink:href=\"#DejaVuSans-49\"/>\r\n       <use x=\"63.623047\" xlink:href=\"#DejaVuSans-56\"/>\r\n       <use x=\"127.246094\" xlink:href=\"#DejaVuSans-49\"/>\r\n      </g>\r\n     </g>\r\n    </g>\r\n    <g id=\"xtick_138\">\r\n     <g id=\"text_138\">\r\n      <!-- 183 -->\r\n      <g transform=\"translate(264.842188 241.18375)rotate(-90)scale(0.05 -0.05)\">\r\n       <use xlink:href=\"#DejaVuSans-49\"/>\r\n       <use x=\"63.623047\" xlink:href=\"#DejaVuSans-56\"/>\r\n       <use x=\"127.246094\" xlink:href=\"#DejaVuSans-51\"/>\r\n      </g>\r\n     </g>\r\n    </g>\r\n    <g id=\"xtick_139\">\r\n     <g id=\"text_139\">\r\n      <!-- 175 -->\r\n      <g transform=\"translate(266.516188 241.18375)rotate(-90)scale(0.05 -0.05)\">\r\n       <use xlink:href=\"#DejaVuSans-49\"/>\r\n       <use x=\"63.623047\" xlink:href=\"#DejaVuSans-55\"/>\r\n       <use x=\"127.246094\" xlink:href=\"#DejaVuSans-53\"/>\r\n      </g>\r\n     </g>\r\n    </g>\r\n    <g id=\"xtick_140\">\r\n     <g id=\"text_140\">\r\n      <!-- 167 -->\r\n      <g transform=\"translate(268.190188 241.18375)rotate(-90)scale(0.05 -0.05)\">\r\n       <use xlink:href=\"#DejaVuSans-49\"/>\r\n       <use x=\"63.623047\" xlink:href=\"#DejaVuSans-54\"/>\r\n       <use x=\"127.246094\" xlink:href=\"#DejaVuSans-55\"/>\r\n      </g>\r\n     </g>\r\n    </g>\r\n    <g id=\"xtick_141\">\r\n     <g id=\"text_141\">\r\n      <!-- 173 -->\r\n      <g transform=\"translate(269.864188 241.18375)rotate(-90)scale(0.05 -0.05)\">\r\n       <use xlink:href=\"#DejaVuSans-49\"/>\r\n       <use x=\"63.623047\" xlink:href=\"#DejaVuSans-55\"/>\r\n       <use x=\"127.246094\" xlink:href=\"#DejaVuSans-51\"/>\r\n      </g>\r\n     </g>\r\n    </g>\r\n    <g id=\"xtick_142\">\r\n     <g id=\"text_142\">\r\n      <!-- 161 -->\r\n      <g transform=\"translate(271.538188 241.18375)rotate(-90)scale(0.05 -0.05)\">\r\n       <use xlink:href=\"#DejaVuSans-49\"/>\r\n       <use x=\"63.623047\" xlink:href=\"#DejaVuSans-54\"/>\r\n       <use x=\"127.246094\" xlink:href=\"#DejaVuSans-49\"/>\r\n      </g>\r\n     </g>\r\n    </g>\r\n    <g id=\"xtick_143\">\r\n     <g id=\"text_143\">\r\n      <!-- 149 -->\r\n      <g transform=\"translate(273.212188 241.18375)rotate(-90)scale(0.05 -0.05)\">\r\n       <use xlink:href=\"#DejaVuSans-49\"/>\r\n       <use x=\"63.623047\" xlink:href=\"#DejaVuSans-52\"/>\r\n       <use x=\"127.246094\" xlink:href=\"#DejaVuSans-57\"/>\r\n      </g>\r\n     </g>\r\n    </g>\r\n    <g id=\"xtick_144\">\r\n     <g id=\"text_144\">\r\n      <!-- 151 -->\r\n      <g transform=\"translate(274.886188 241.18375)rotate(-90)scale(0.05 -0.05)\">\r\n       <use xlink:href=\"#DejaVuSans-49\"/>\r\n       <use x=\"63.623047\" xlink:href=\"#DejaVuSans-53\"/>\r\n       <use x=\"127.246094\" xlink:href=\"#DejaVuSans-49\"/>\r\n      </g>\r\n     </g>\r\n    </g>\r\n    <g id=\"xtick_145\">\r\n     <g id=\"text_145\">\r\n      <!-- 155 -->\r\n      <g transform=\"translate(276.560188 241.18375)rotate(-90)scale(0.05 -0.05)\">\r\n       <use xlink:href=\"#DejaVuSans-49\"/>\r\n       <use x=\"63.623047\" xlink:href=\"#DejaVuSans-53\"/>\r\n       <use x=\"127.246094\" xlink:href=\"#DejaVuSans-53\"/>\r\n      </g>\r\n     </g>\r\n    </g>\r\n    <g id=\"xtick_146\">\r\n     <g id=\"text_146\">\r\n      <!-- 135 -->\r\n      <g transform=\"translate(278.234188 241.18375)rotate(-90)scale(0.05 -0.05)\">\r\n       <use xlink:href=\"#DejaVuSans-49\"/>\r\n       <use x=\"63.623047\" xlink:href=\"#DejaVuSans-51\"/>\r\n       <use x=\"127.246094\" xlink:href=\"#DejaVuSans-53\"/>\r\n      </g>\r\n     </g>\r\n    </g>\r\n    <g id=\"xtick_147\">\r\n     <g id=\"text_147\">\r\n      <!-- 143 -->\r\n      <g transform=\"translate(279.908188 241.18375)rotate(-90)scale(0.05 -0.05)\">\r\n       <use xlink:href=\"#DejaVuSans-49\"/>\r\n       <use x=\"63.623047\" xlink:href=\"#DejaVuSans-52\"/>\r\n       <use x=\"127.246094\" xlink:href=\"#DejaVuSans-51\"/>\r\n      </g>\r\n     </g>\r\n    </g>\r\n    <g id=\"xtick_148\">\r\n     <g id=\"text_148\">\r\n      <!-- 123 -->\r\n      <g transform=\"translate(281.582188 241.18375)rotate(-90)scale(0.05 -0.05)\">\r\n       <use xlink:href=\"#DejaVuSans-49\"/>\r\n       <use x=\"63.623047\" xlink:href=\"#DejaVuSans-50\"/>\r\n       <use x=\"127.246094\" xlink:href=\"#DejaVuSans-51\"/>\r\n      </g>\r\n     </g>\r\n    </g>\r\n    <g id=\"xtick_149\">\r\n     <g id=\"text_149\">\r\n      <!-- 127 -->\r\n      <g transform=\"translate(283.256188 241.18375)rotate(-90)scale(0.05 -0.05)\">\r\n       <use xlink:href=\"#DejaVuSans-49\"/>\r\n       <use x=\"63.623047\" xlink:href=\"#DejaVuSans-50\"/>\r\n       <use x=\"127.246094\" xlink:href=\"#DejaVuSans-55\"/>\r\n      </g>\r\n     </g>\r\n    </g>\r\n    <g id=\"xtick_150\">\r\n     <g id=\"text_150\">\r\n      <!-- 163 -->\r\n      <g transform=\"translate(284.930188 241.18375)rotate(-90)scale(0.05 -0.05)\">\r\n       <use xlink:href=\"#DejaVuSans-49\"/>\r\n       <use x=\"63.623047\" xlink:href=\"#DejaVuSans-54\"/>\r\n       <use x=\"127.246094\" xlink:href=\"#DejaVuSans-51\"/>\r\n      </g>\r\n     </g>\r\n    </g>\r\n    <g id=\"xtick_151\">\r\n     <g id=\"text_151\">\r\n      <!-- 141 -->\r\n      <g transform=\"translate(286.604188 241.18375)rotate(-90)scale(0.05 -0.05)\">\r\n       <use xlink:href=\"#DejaVuSans-49\"/>\r\n       <use x=\"63.623047\" xlink:href=\"#DejaVuSans-52\"/>\r\n       <use x=\"127.246094\" xlink:href=\"#DejaVuSans-49\"/>\r\n      </g>\r\n     </g>\r\n    </g>\r\n    <g id=\"xtick_152\">\r\n     <g id=\"text_152\">\r\n      <!-- 145 -->\r\n      <g transform=\"translate(288.278188 241.18375)rotate(-90)scale(0.05 -0.05)\">\r\n       <use xlink:href=\"#DejaVuSans-49\"/>\r\n       <use x=\"63.623047\" xlink:href=\"#DejaVuSans-52\"/>\r\n       <use x=\"127.246094\" xlink:href=\"#DejaVuSans-53\"/>\r\n      </g>\r\n     </g>\r\n    </g>\r\n    <g id=\"xtick_153\">\r\n     <g id=\"text_153\">\r\n      <!-- 147 -->\r\n      <g transform=\"translate(289.952188 241.18375)rotate(-90)scale(0.05 -0.05)\">\r\n       <use xlink:href=\"#DejaVuSans-49\"/>\r\n       <use x=\"63.623047\" xlink:href=\"#DejaVuSans-52\"/>\r\n       <use x=\"127.246094\" xlink:href=\"#DejaVuSans-55\"/>\r\n      </g>\r\n     </g>\r\n    </g>\r\n    <g id=\"xtick_154\">\r\n     <g id=\"text_154\">\r\n      <!-- 159 -->\r\n      <g transform=\"translate(291.626188 241.18375)rotate(-90)scale(0.05 -0.05)\">\r\n       <use xlink:href=\"#DejaVuSans-49\"/>\r\n       <use x=\"63.623047\" xlink:href=\"#DejaVuSans-53\"/>\r\n       <use x=\"127.246094\" xlink:href=\"#DejaVuSans-57\"/>\r\n      </g>\r\n     </g>\r\n    </g>\r\n    <g id=\"xtick_155\">\r\n     <g id=\"text_155\">\r\n      <!-- 153 -->\r\n      <g transform=\"translate(293.300188 241.18375)rotate(-90)scale(0.05 -0.05)\">\r\n       <use xlink:href=\"#DejaVuSans-49\"/>\r\n       <use x=\"63.623047\" xlink:href=\"#DejaVuSans-53\"/>\r\n       <use x=\"127.246094\" xlink:href=\"#DejaVuSans-51\"/>\r\n      </g>\r\n     </g>\r\n    </g>\r\n    <g id=\"xtick_156\">\r\n     <g id=\"text_156\">\r\n      <!-- 157 -->\r\n      <g transform=\"translate(294.974188 241.18375)rotate(-90)scale(0.05 -0.05)\">\r\n       <use xlink:href=\"#DejaVuSans-49\"/>\r\n       <use x=\"63.623047\" xlink:href=\"#DejaVuSans-53\"/>\r\n       <use x=\"127.246094\" xlink:href=\"#DejaVuSans-55\"/>\r\n      </g>\r\n     </g>\r\n    </g>\r\n    <g id=\"xtick_157\">\r\n     <g id=\"text_157\">\r\n      <!-- 133 -->\r\n      <g transform=\"translate(296.648188 241.18375)rotate(-90)scale(0.05 -0.05)\">\r\n       <use xlink:href=\"#DejaVuSans-49\"/>\r\n       <use x=\"63.623047\" xlink:href=\"#DejaVuSans-51\"/>\r\n       <use x=\"127.246094\" xlink:href=\"#DejaVuSans-51\"/>\r\n      </g>\r\n     </g>\r\n    </g>\r\n    <g id=\"xtick_158\">\r\n     <g id=\"text_158\">\r\n      <!-- 137 -->\r\n      <g transform=\"translate(298.322188 241.18375)rotate(-90)scale(0.05 -0.05)\">\r\n       <use xlink:href=\"#DejaVuSans-49\"/>\r\n       <use x=\"63.623047\" xlink:href=\"#DejaVuSans-51\"/>\r\n       <use x=\"127.246094\" xlink:href=\"#DejaVuSans-55\"/>\r\n      </g>\r\n     </g>\r\n    </g>\r\n    <g id=\"xtick_159\">\r\n     <g id=\"text_159\">\r\n      <!-- 139 -->\r\n      <g transform=\"translate(299.996188 241.18375)rotate(-90)scale(0.05 -0.05)\">\r\n       <use xlink:href=\"#DejaVuSans-49\"/>\r\n       <use x=\"63.623047\" xlink:href=\"#DejaVuSans-51\"/>\r\n       <use x=\"127.246094\" xlink:href=\"#DejaVuSans-57\"/>\r\n      </g>\r\n     </g>\r\n    </g>\r\n    <g id=\"xtick_160\">\r\n     <g id=\"text_160\">\r\n      <!-- 125 -->\r\n      <g transform=\"translate(301.670188 241.18375)rotate(-90)scale(0.05 -0.05)\">\r\n       <use xlink:href=\"#DejaVuSans-49\"/>\r\n       <use x=\"63.623047\" xlink:href=\"#DejaVuSans-50\"/>\r\n       <use x=\"127.246094\" xlink:href=\"#DejaVuSans-53\"/>\r\n      </g>\r\n     </g>\r\n    </g>\r\n    <g id=\"xtick_161\">\r\n     <g id=\"text_161\">\r\n      <!-- 129 -->\r\n      <g transform=\"translate(303.344188 241.18375)rotate(-90)scale(0.05 -0.05)\">\r\n       <use xlink:href=\"#DejaVuSans-49\"/>\r\n       <use x=\"63.623047\" xlink:href=\"#DejaVuSans-50\"/>\r\n       <use x=\"127.246094\" xlink:href=\"#DejaVuSans-57\"/>\r\n      </g>\r\n     </g>\r\n    </g>\r\n    <g id=\"xtick_162\">\r\n     <g id=\"text_162\">\r\n      <!-- 131 -->\r\n      <g transform=\"translate(305.018188 241.18375)rotate(-90)scale(0.05 -0.05)\">\r\n       <use xlink:href=\"#DejaVuSans-49\"/>\r\n       <use x=\"63.623047\" xlink:href=\"#DejaVuSans-51\"/>\r\n       <use x=\"127.246094\" xlink:href=\"#DejaVuSans-49\"/>\r\n      </g>\r\n     </g>\r\n    </g>\r\n    <g id=\"xtick_163\">\r\n     <g id=\"text_163\">\r\n      <!-- 187 -->\r\n      <g transform=\"translate(306.692188 241.18375)rotate(-90)scale(0.05 -0.05)\">\r\n       <use xlink:href=\"#DejaVuSans-49\"/>\r\n       <use x=\"63.623047\" xlink:href=\"#DejaVuSans-56\"/>\r\n       <use x=\"127.246094\" xlink:href=\"#DejaVuSans-55\"/>\r\n      </g>\r\n     </g>\r\n    </g>\r\n    <g id=\"xtick_164\">\r\n     <g id=\"text_164\">\r\n      <!-- 191 -->\r\n      <g transform=\"translate(308.366188 241.18375)rotate(-90)scale(0.05 -0.05)\">\r\n       <use xlink:href=\"#DejaVuSans-49\"/>\r\n       <use x=\"63.623047\" xlink:href=\"#DejaVuSans-57\"/>\r\n       <use x=\"127.246094\" xlink:href=\"#DejaVuSans-49\"/>\r\n      </g>\r\n     </g>\r\n    </g>\r\n    <g id=\"xtick_165\">\r\n     <g id=\"text_165\">\r\n      <!-- 165 -->\r\n      <g transform=\"translate(310.040188 241.18375)rotate(-90)scale(0.05 -0.05)\">\r\n       <use xlink:href=\"#DejaVuSans-49\"/>\r\n       <use x=\"63.623047\" xlink:href=\"#DejaVuSans-54\"/>\r\n       <use x=\"127.246094\" xlink:href=\"#DejaVuSans-53\"/>\r\n      </g>\r\n     </g>\r\n    </g>\r\n    <g id=\"xtick_166\">\r\n     <g id=\"text_166\">\r\n      <!-- 171 -->\r\n      <g transform=\"translate(311.714188 241.18375)rotate(-90)scale(0.05 -0.05)\">\r\n       <use xlink:href=\"#DejaVuSans-49\"/>\r\n       <use x=\"63.623047\" xlink:href=\"#DejaVuSans-55\"/>\r\n       <use x=\"127.246094\" xlink:href=\"#DejaVuSans-49\"/>\r\n      </g>\r\n     </g>\r\n    </g>\r\n    <g id=\"xtick_167\">\r\n     <g id=\"text_167\">\r\n      <!-- 169 -->\r\n      <g transform=\"translate(313.388188 241.18375)rotate(-90)scale(0.05 -0.05)\">\r\n       <use xlink:href=\"#DejaVuSans-49\"/>\r\n       <use x=\"63.623047\" xlink:href=\"#DejaVuSans-54\"/>\r\n       <use x=\"127.246094\" xlink:href=\"#DejaVuSans-57\"/>\r\n      </g>\r\n     </g>\r\n    </g>\r\n    <g id=\"xtick_168\">\r\n     <g id=\"text_168\">\r\n      <!-- 177 -->\r\n      <g transform=\"translate(315.062188 241.18375)rotate(-90)scale(0.05 -0.05)\">\r\n       <use xlink:href=\"#DejaVuSans-49\"/>\r\n       <use x=\"63.623047\" xlink:href=\"#DejaVuSans-55\"/>\r\n       <use x=\"127.246094\" xlink:href=\"#DejaVuSans-55\"/>\r\n      </g>\r\n     </g>\r\n    </g>\r\n    <g id=\"xtick_169\">\r\n     <g id=\"text_169\">\r\n      <!-- 162 -->\r\n      <g transform=\"translate(316.736188 241.18375)rotate(-90)scale(0.05 -0.05)\">\r\n       <use xlink:href=\"#DejaVuSans-49\"/>\r\n       <use x=\"63.623047\" xlink:href=\"#DejaVuSans-54\"/>\r\n       <use x=\"127.246094\" xlink:href=\"#DejaVuSans-50\"/>\r\n      </g>\r\n     </g>\r\n    </g>\r\n    <g id=\"xtick_170\">\r\n     <g id=\"text_170\">\r\n      <!-- 156 -->\r\n      <g transform=\"translate(318.410188 241.18375)rotate(-90)scale(0.05 -0.05)\">\r\n       <use xlink:href=\"#DejaVuSans-49\"/>\r\n       <use x=\"63.623047\" xlink:href=\"#DejaVuSans-53\"/>\r\n       <use x=\"127.246094\" xlink:href=\"#DejaVuSans-54\"/>\r\n      </g>\r\n     </g>\r\n    </g>\r\n    <g id=\"xtick_171\">\r\n     <g id=\"text_171\">\r\n      <!-- 158 -->\r\n      <g transform=\"translate(320.084188 241.18375)rotate(-90)scale(0.05 -0.05)\">\r\n       <use xlink:href=\"#DejaVuSans-49\"/>\r\n       <use x=\"63.623047\" xlink:href=\"#DejaVuSans-53\"/>\r\n       <use x=\"127.246094\" xlink:href=\"#DejaVuSans-56\"/>\r\n      </g>\r\n     </g>\r\n    </g>\r\n    <g id=\"xtick_172\">\r\n     <g id=\"text_172\">\r\n      <!-- 140 -->\r\n      <g transform=\"translate(321.758188 241.18375)rotate(-90)scale(0.05 -0.05)\">\r\n       <use xlink:href=\"#DejaVuSans-49\"/>\r\n       <use x=\"63.623047\" xlink:href=\"#DejaVuSans-52\"/>\r\n       <use x=\"127.246094\" xlink:href=\"#DejaVuSans-48\"/>\r\n      </g>\r\n     </g>\r\n    </g>\r\n    <g id=\"xtick_173\">\r\n     <g id=\"text_173\">\r\n      <!-- 134 -->\r\n      <g transform=\"translate(323.432188 241.18375)rotate(-90)scale(0.05 -0.05)\">\r\n       <use xlink:href=\"#DejaVuSans-49\"/>\r\n       <use x=\"63.623047\" xlink:href=\"#DejaVuSans-51\"/>\r\n       <use x=\"127.246094\" xlink:href=\"#DejaVuSans-52\"/>\r\n      </g>\r\n     </g>\r\n    </g>\r\n    <g id=\"xtick_174\">\r\n     <g id=\"text_174\">\r\n      <!-- 136 -->\r\n      <g transform=\"translate(325.106188 241.18375)rotate(-90)scale(0.05 -0.05)\">\r\n       <use xlink:href=\"#DejaVuSans-49\"/>\r\n       <use x=\"63.623047\" xlink:href=\"#DejaVuSans-51\"/>\r\n       <use x=\"127.246094\" xlink:href=\"#DejaVuSans-54\"/>\r\n      </g>\r\n     </g>\r\n    </g>\r\n    <g id=\"xtick_175\">\r\n     <g id=\"text_175\">\r\n      <!-- 138 -->\r\n      <g transform=\"translate(326.780188 241.18375)rotate(-90)scale(0.05 -0.05)\">\r\n       <use xlink:href=\"#DejaVuSans-49\"/>\r\n       <use x=\"63.623047\" xlink:href=\"#DejaVuSans-51\"/>\r\n       <use x=\"127.246094\" xlink:href=\"#DejaVuSans-56\"/>\r\n      </g>\r\n     </g>\r\n    </g>\r\n    <g id=\"xtick_176\">\r\n     <g id=\"text_176\">\r\n      <!-- 128 -->\r\n      <g transform=\"translate(328.454188 241.18375)rotate(-90)scale(0.05 -0.05)\">\r\n       <use xlink:href=\"#DejaVuSans-49\"/>\r\n       <use x=\"63.623047\" xlink:href=\"#DejaVuSans-50\"/>\r\n       <use x=\"127.246094\" xlink:href=\"#DejaVuSans-56\"/>\r\n      </g>\r\n     </g>\r\n    </g>\r\n    <g id=\"xtick_177\">\r\n     <g id=\"text_177\">\r\n      <!-- 130 -->\r\n      <g transform=\"translate(330.128188 241.18375)rotate(-90)scale(0.05 -0.05)\">\r\n       <use xlink:href=\"#DejaVuSans-49\"/>\r\n       <use x=\"63.623047\" xlink:href=\"#DejaVuSans-51\"/>\r\n       <use x=\"127.246094\" xlink:href=\"#DejaVuSans-48\"/>\r\n      </g>\r\n     </g>\r\n    </g>\r\n    <g id=\"xtick_178\">\r\n     <g id=\"text_178\">\r\n      <!-- 172 -->\r\n      <g transform=\"translate(331.802188 241.18375)rotate(-90)scale(0.05 -0.05)\">\r\n       <use xlink:href=\"#DejaVuSans-49\"/>\r\n       <use x=\"63.623047\" xlink:href=\"#DejaVuSans-55\"/>\r\n       <use x=\"127.246094\" xlink:href=\"#DejaVuSans-50\"/>\r\n      </g>\r\n     </g>\r\n    </g>\r\n    <g id=\"xtick_179\">\r\n     <g id=\"text_179\">\r\n      <!-- 176 -->\r\n      <g transform=\"translate(333.476188 241.18375)rotate(-90)scale(0.05 -0.05)\">\r\n       <use xlink:href=\"#DejaVuSans-49\"/>\r\n       <use x=\"63.623047\" xlink:href=\"#DejaVuSans-55\"/>\r\n       <use x=\"127.246094\" xlink:href=\"#DejaVuSans-54\"/>\r\n      </g>\r\n     </g>\r\n    </g>\r\n    <g id=\"xtick_180\">\r\n     <g id=\"text_180\">\r\n      <!-- 170 -->\r\n      <g transform=\"translate(335.150188 241.18375)rotate(-90)scale(0.05 -0.05)\">\r\n       <use xlink:href=\"#DejaVuSans-49\"/>\r\n       <use x=\"63.623047\" xlink:href=\"#DejaVuSans-55\"/>\r\n       <use x=\"127.246094\" xlink:href=\"#DejaVuSans-48\"/>\r\n      </g>\r\n     </g>\r\n    </g>\r\n    <g id=\"xtick_181\">\r\n     <g id=\"text_181\">\r\n      <!-- 174 -->\r\n      <g transform=\"translate(336.824188 241.18375)rotate(-90)scale(0.05 -0.05)\">\r\n       <use xlink:href=\"#DejaVuSans-49\"/>\r\n       <use x=\"63.623047\" xlink:href=\"#DejaVuSans-55\"/>\r\n       <use x=\"127.246094\" xlink:href=\"#DejaVuSans-52\"/>\r\n      </g>\r\n     </g>\r\n    </g>\r\n    <g id=\"xtick_182\">\r\n     <g id=\"text_182\">\r\n      <!-- 178 -->\r\n      <g transform=\"translate(338.498188 241.18375)rotate(-90)scale(0.05 -0.05)\">\r\n       <use xlink:href=\"#DejaVuSans-49\"/>\r\n       <use x=\"63.623047\" xlink:href=\"#DejaVuSans-55\"/>\r\n       <use x=\"127.246094\" xlink:href=\"#DejaVuSans-56\"/>\r\n      </g>\r\n     </g>\r\n    </g>\r\n    <g id=\"xtick_183\">\r\n     <g id=\"text_183\">\r\n      <!-- 182 -->\r\n      <g transform=\"translate(340.172188 241.18375)rotate(-90)scale(0.05 -0.05)\">\r\n       <use xlink:href=\"#DejaVuSans-49\"/>\r\n       <use x=\"63.623047\" xlink:href=\"#DejaVuSans-56\"/>\r\n       <use x=\"127.246094\" xlink:href=\"#DejaVuSans-50\"/>\r\n      </g>\r\n     </g>\r\n    </g>\r\n    <g id=\"xtick_184\">\r\n     <g id=\"text_184\">\r\n      <!-- 166 -->\r\n      <g transform=\"translate(341.846188 241.18375)rotate(-90)scale(0.05 -0.05)\">\r\n       <use xlink:href=\"#DejaVuSans-49\"/>\r\n       <use x=\"63.623047\" xlink:href=\"#DejaVuSans-54\"/>\r\n       <use x=\"127.246094\" xlink:href=\"#DejaVuSans-54\"/>\r\n      </g>\r\n     </g>\r\n    </g>\r\n    <g id=\"xtick_185\">\r\n     <g id=\"text_185\">\r\n      <!-- 164 -->\r\n      <g transform=\"translate(343.520188 241.18375)rotate(-90)scale(0.05 -0.05)\">\r\n       <use xlink:href=\"#DejaVuSans-49\"/>\r\n       <use x=\"63.623047\" xlink:href=\"#DejaVuSans-54\"/>\r\n       <use x=\"127.246094\" xlink:href=\"#DejaVuSans-52\"/>\r\n      </g>\r\n     </g>\r\n    </g>\r\n    <g id=\"xtick_186\">\r\n     <g id=\"text_186\">\r\n      <!-- 168 -->\r\n      <g transform=\"translate(345.194188 241.18375)rotate(-90)scale(0.05 -0.05)\">\r\n       <use xlink:href=\"#DejaVuSans-49\"/>\r\n       <use x=\"63.623047\" xlink:href=\"#DejaVuSans-54\"/>\r\n       <use x=\"127.246094\" xlink:href=\"#DejaVuSans-56\"/>\r\n      </g>\r\n     </g>\r\n    </g>\r\n    <g id=\"xtick_187\">\r\n     <g id=\"text_187\">\r\n      <!-- 148 -->\r\n      <g transform=\"translate(346.868188 241.18375)rotate(-90)scale(0.05 -0.05)\">\r\n       <use xlink:href=\"#DejaVuSans-49\"/>\r\n       <use x=\"63.623047\" xlink:href=\"#DejaVuSans-52\"/>\r\n       <use x=\"127.246094\" xlink:href=\"#DejaVuSans-56\"/>\r\n      </g>\r\n     </g>\r\n    </g>\r\n    <g id=\"xtick_188\">\r\n     <g id=\"text_188\">\r\n      <!-- 152 -->\r\n      <g transform=\"translate(348.542188 241.18375)rotate(-90)scale(0.05 -0.05)\">\r\n       <use xlink:href=\"#DejaVuSans-49\"/>\r\n       <use x=\"63.623047\" xlink:href=\"#DejaVuSans-53\"/>\r\n       <use x=\"127.246094\" xlink:href=\"#DejaVuSans-50\"/>\r\n      </g>\r\n     </g>\r\n    </g>\r\n    <g id=\"xtick_189\">\r\n     <g id=\"text_189\">\r\n      <!-- 144 -->\r\n      <g transform=\"translate(350.216188 241.18375)rotate(-90)scale(0.05 -0.05)\">\r\n       <use xlink:href=\"#DejaVuSans-49\"/>\r\n       <use x=\"63.623047\" xlink:href=\"#DejaVuSans-52\"/>\r\n       <use x=\"127.246094\" xlink:href=\"#DejaVuSans-52\"/>\r\n      </g>\r\n     </g>\r\n    </g>\r\n    <g id=\"xtick_190\">\r\n     <g id=\"text_190\">\r\n      <!-- 150 -->\r\n      <g transform=\"translate(351.890188 241.18375)rotate(-90)scale(0.05 -0.05)\">\r\n       <use xlink:href=\"#DejaVuSans-49\"/>\r\n       <use x=\"63.623047\" xlink:href=\"#DejaVuSans-53\"/>\r\n       <use x=\"127.246094\" xlink:href=\"#DejaVuSans-48\"/>\r\n      </g>\r\n     </g>\r\n    </g>\r\n    <g id=\"xtick_191\">\r\n     <g id=\"text_191\">\r\n      <!-- 154 -->\r\n      <g transform=\"translate(353.564188 241.18375)rotate(-90)scale(0.05 -0.05)\">\r\n       <use xlink:href=\"#DejaVuSans-49\"/>\r\n       <use x=\"63.623047\" xlink:href=\"#DejaVuSans-53\"/>\r\n       <use x=\"127.246094\" xlink:href=\"#DejaVuSans-52\"/>\r\n      </g>\r\n     </g>\r\n    </g>\r\n    <g id=\"xtick_192\">\r\n     <g id=\"text_192\">\r\n      <!-- 180 -->\r\n      <g transform=\"translate(355.238188 241.18375)rotate(-90)scale(0.05 -0.05)\">\r\n       <use xlink:href=\"#DejaVuSans-49\"/>\r\n       <use x=\"63.623047\" xlink:href=\"#DejaVuSans-56\"/>\r\n       <use x=\"127.246094\" xlink:href=\"#DejaVuSans-48\"/>\r\n      </g>\r\n     </g>\r\n    </g>\r\n    <g id=\"xtick_193\">\r\n     <g id=\"text_193\">\r\n      <!-- 184 -->\r\n      <g transform=\"translate(356.912188 241.18375)rotate(-90)scale(0.05 -0.05)\">\r\n       <use xlink:href=\"#DejaVuSans-49\"/>\r\n       <use x=\"63.623047\" xlink:href=\"#DejaVuSans-56\"/>\r\n       <use x=\"127.246094\" xlink:href=\"#DejaVuSans-52\"/>\r\n      </g>\r\n     </g>\r\n    </g>\r\n    <g id=\"xtick_194\">\r\n     <g id=\"text_194\">\r\n      <!-- 188 -->\r\n      <g transform=\"translate(358.586188 241.18375)rotate(-90)scale(0.05 -0.05)\">\r\n       <use xlink:href=\"#DejaVuSans-49\"/>\r\n       <use x=\"63.623047\" xlink:href=\"#DejaVuSans-56\"/>\r\n       <use x=\"127.246094\" xlink:href=\"#DejaVuSans-56\"/>\r\n      </g>\r\n     </g>\r\n    </g>\r\n    <g id=\"xtick_195\">\r\n     <g id=\"text_195\">\r\n      <!-- 186 -->\r\n      <g transform=\"translate(360.260188 241.18375)rotate(-90)scale(0.05 -0.05)\">\r\n       <use xlink:href=\"#DejaVuSans-49\"/>\r\n       <use x=\"63.623047\" xlink:href=\"#DejaVuSans-56\"/>\r\n       <use x=\"127.246094\" xlink:href=\"#DejaVuSans-54\"/>\r\n      </g>\r\n     </g>\r\n    </g>\r\n    <g id=\"xtick_196\">\r\n     <g id=\"text_196\">\r\n      <!-- 190 -->\r\n      <g transform=\"translate(361.934188 241.18375)rotate(-90)scale(0.05 -0.05)\">\r\n       <use xlink:href=\"#DejaVuSans-49\"/>\r\n       <use x=\"63.623047\" xlink:href=\"#DejaVuSans-57\"/>\r\n       <use x=\"127.246094\" xlink:href=\"#DejaVuSans-48\"/>\r\n      </g>\r\n     </g>\r\n    </g>\r\n    <g id=\"xtick_197\">\r\n     <g id=\"text_197\">\r\n      <!-- 192 -->\r\n      <g transform=\"translate(363.608188 241.18375)rotate(-90)scale(0.05 -0.05)\">\r\n       <use xlink:href=\"#DejaVuSans-49\"/>\r\n       <use x=\"63.623047\" xlink:href=\"#DejaVuSans-57\"/>\r\n       <use x=\"127.246094\" xlink:href=\"#DejaVuSans-50\"/>\r\n      </g>\r\n     </g>\r\n    </g>\r\n    <g id=\"xtick_198\">\r\n     <g id=\"text_198\">\r\n      <!-- 194 -->\r\n      <g transform=\"translate(365.282188 241.18375)rotate(-90)scale(0.05 -0.05)\">\r\n       <use xlink:href=\"#DejaVuSans-49\"/>\r\n       <use x=\"63.623047\" xlink:href=\"#DejaVuSans-57\"/>\r\n       <use x=\"127.246094\" xlink:href=\"#DejaVuSans-52\"/>\r\n      </g>\r\n     </g>\r\n    </g>\r\n    <g id=\"xtick_199\">\r\n     <g id=\"text_199\">\r\n      <!-- 196 -->\r\n      <g transform=\"translate(366.956188 241.18375)rotate(-90)scale(0.05 -0.05)\">\r\n       <use xlink:href=\"#DejaVuSans-49\"/>\r\n       <use x=\"63.623047\" xlink:href=\"#DejaVuSans-57\"/>\r\n       <use x=\"127.246094\" xlink:href=\"#DejaVuSans-54\"/>\r\n      </g>\r\n     </g>\r\n    </g>\r\n    <g id=\"xtick_200\">\r\n     <g id=\"text_200\">\r\n      <!-- 198 -->\r\n      <g transform=\"translate(368.630188 241.18375)rotate(-90)scale(0.05 -0.05)\">\r\n       <use xlink:href=\"#DejaVuSans-49\"/>\r\n       <use x=\"63.623047\" xlink:href=\"#DejaVuSans-57\"/>\r\n       <use x=\"127.246094\" xlink:href=\"#DejaVuSans-56\"/>\r\n      </g>\r\n     </g>\r\n    </g>\r\n   </g>\r\n   <g id=\"matplotlib.axis_2\">\r\n    <g id=\"ytick_1\">\r\n     <g id=\"line2d_1\">\r\n      <defs>\r\n       <path d=\"M 0 0 \r\nL -3.5 0 \r\n\" id=\"mb993a640aa\" style=\"stroke:#000000;stroke-width:0.8;\"/>\r\n      </defs>\r\n      <g>\r\n       <use style=\"stroke:#000000;stroke-width:0.8;\" x=\"33.2875\" xlink:href=\"#mb993a640aa\" y=\"224.64\"/>\r\n      </g>\r\n     </g>\r\n     <g id=\"text_201\">\r\n      <!-- 0 -->\r\n      <g transform=\"translate(19.925 228.439219)scale(0.1 -0.1)\">\r\n       <use xlink:href=\"#DejaVuSans-48\"/>\r\n      </g>\r\n     </g>\r\n    </g>\r\n    <g id=\"ytick_2\">\r\n     <g id=\"line2d_2\">\r\n      <g>\r\n       <use style=\"stroke:#000000;stroke-width:0.8;\" x=\"33.2875\" xlink:href=\"#mb993a640aa\" y=\"199.115461\"/>\r\n      </g>\r\n     </g>\r\n     <g id=\"text_202\">\r\n      <!-- 50 -->\r\n      <g transform=\"translate(13.5625 202.914679)scale(0.1 -0.1)\">\r\n       <use xlink:href=\"#DejaVuSans-53\"/>\r\n       <use x=\"63.623047\" xlink:href=\"#DejaVuSans-48\"/>\r\n      </g>\r\n     </g>\r\n    </g>\r\n    <g id=\"ytick_3\">\r\n     <g id=\"line2d_3\">\r\n      <g>\r\n       <use style=\"stroke:#000000;stroke-width:0.8;\" x=\"33.2875\" xlink:href=\"#mb993a640aa\" y=\"173.590921\"/>\r\n      </g>\r\n     </g>\r\n     <g id=\"text_203\">\r\n      <!-- 100 -->\r\n      <g transform=\"translate(7.2 177.39014)scale(0.1 -0.1)\">\r\n       <use xlink:href=\"#DejaVuSans-49\"/>\r\n       <use x=\"63.623047\" xlink:href=\"#DejaVuSans-48\"/>\r\n       <use x=\"127.246094\" xlink:href=\"#DejaVuSans-48\"/>\r\n      </g>\r\n     </g>\r\n    </g>\r\n    <g id=\"ytick_4\">\r\n     <g id=\"line2d_4\">\r\n      <g>\r\n       <use style=\"stroke:#000000;stroke-width:0.8;\" x=\"33.2875\" xlink:href=\"#mb993a640aa\" y=\"148.066382\"/>\r\n      </g>\r\n     </g>\r\n     <g id=\"text_204\">\r\n      <!-- 150 -->\r\n      <g transform=\"translate(7.2 151.8656)scale(0.1 -0.1)\">\r\n       <use xlink:href=\"#DejaVuSans-49\"/>\r\n       <use x=\"63.623047\" xlink:href=\"#DejaVuSans-53\"/>\r\n       <use x=\"127.246094\" xlink:href=\"#DejaVuSans-48\"/>\r\n      </g>\r\n     </g>\r\n    </g>\r\n    <g id=\"ytick_5\">\r\n     <g id=\"line2d_5\">\r\n      <g>\r\n       <use style=\"stroke:#000000;stroke-width:0.8;\" x=\"33.2875\" xlink:href=\"#mb993a640aa\" y=\"122.541842\"/>\r\n      </g>\r\n     </g>\r\n     <g id=\"text_205\">\r\n      <!-- 200 -->\r\n      <g transform=\"translate(7.2 126.341061)scale(0.1 -0.1)\">\r\n       <use xlink:href=\"#DejaVuSans-50\"/>\r\n       <use x=\"63.623047\" xlink:href=\"#DejaVuSans-48\"/>\r\n       <use x=\"127.246094\" xlink:href=\"#DejaVuSans-48\"/>\r\n      </g>\r\n     </g>\r\n    </g>\r\n    <g id=\"ytick_6\">\r\n     <g id=\"line2d_6\">\r\n      <g>\r\n       <use style=\"stroke:#000000;stroke-width:0.8;\" x=\"33.2875\" xlink:href=\"#mb993a640aa\" y=\"97.017303\"/>\r\n      </g>\r\n     </g>\r\n     <g id=\"text_206\">\r\n      <!-- 250 -->\r\n      <g transform=\"translate(7.2 100.816522)scale(0.1 -0.1)\">\r\n       <use xlink:href=\"#DejaVuSans-50\"/>\r\n       <use x=\"63.623047\" xlink:href=\"#DejaVuSans-53\"/>\r\n       <use x=\"127.246094\" xlink:href=\"#DejaVuSans-48\"/>\r\n      </g>\r\n     </g>\r\n    </g>\r\n    <g id=\"ytick_7\">\r\n     <g id=\"line2d_7\">\r\n      <g>\r\n       <use style=\"stroke:#000000;stroke-width:0.8;\" x=\"33.2875\" xlink:href=\"#mb993a640aa\" y=\"71.492763\"/>\r\n      </g>\r\n     </g>\r\n     <g id=\"text_207\">\r\n      <!-- 300 -->\r\n      <g transform=\"translate(7.2 75.291982)scale(0.1 -0.1)\">\r\n       <use xlink:href=\"#DejaVuSans-51\"/>\r\n       <use x=\"63.623047\" xlink:href=\"#DejaVuSans-48\"/>\r\n       <use x=\"127.246094\" xlink:href=\"#DejaVuSans-48\"/>\r\n      </g>\r\n     </g>\r\n    </g>\r\n    <g id=\"ytick_8\">\r\n     <g id=\"line2d_8\">\r\n      <g>\r\n       <use style=\"stroke:#000000;stroke-width:0.8;\" x=\"33.2875\" xlink:href=\"#mb993a640aa\" y=\"45.968224\"/>\r\n      </g>\r\n     </g>\r\n     <g id=\"text_208\">\r\n      <!-- 350 -->\r\n      <g transform=\"translate(7.2 49.767443)scale(0.1 -0.1)\">\r\n       <use xlink:href=\"#DejaVuSans-51\"/>\r\n       <use x=\"63.623047\" xlink:href=\"#DejaVuSans-53\"/>\r\n       <use x=\"127.246094\" xlink:href=\"#DejaVuSans-48\"/>\r\n      </g>\r\n     </g>\r\n    </g>\r\n    <g id=\"ytick_9\">\r\n     <g id=\"line2d_9\">\r\n      <g>\r\n       <use style=\"stroke:#000000;stroke-width:0.8;\" x=\"33.2875\" xlink:href=\"#mb993a640aa\" y=\"20.443685\"/>\r\n      </g>\r\n     </g>\r\n     <g id=\"text_209\">\r\n      <!-- 400 -->\r\n      <g transform=\"translate(7.2 24.242903)scale(0.1 -0.1)\">\r\n       <use xlink:href=\"#DejaVuSans-52\"/>\r\n       <use x=\"63.623047\" xlink:href=\"#DejaVuSans-48\"/>\r\n       <use x=\"127.246094\" xlink:href=\"#DejaVuSans-48\"/>\r\n      </g>\r\n     </g>\r\n    </g>\r\n   </g>\r\n   <g id=\"LineCollection_1\">\r\n    <path clip-path=\"url(#p8430b6be81)\" d=\"M 35.7985 224.64 \r\nL 35.7985 223.918057 \r\nL 37.4725 223.918057 \r\nL 37.4725 224.64 \r\n\" style=\"fill:none;stroke:#ff7f0e;stroke-width:1.5;\"/>\r\n    <path clip-path=\"url(#p8430b6be81)\" d=\"M 39.1465 224.64 \r\nL 39.1465 223.619018 \r\nL 40.8205 223.619018 \r\nL 40.8205 224.64 \r\n\" style=\"fill:none;stroke:#ff7f0e;stroke-width:1.5;\"/>\r\n    <path clip-path=\"url(#p8430b6be81)\" d=\"M 36.6355 223.918057 \r\nL 36.6355 221.890923 \r\nL 39.9835 221.890923 \r\nL 39.9835 223.619018 \r\n\" style=\"fill:none;stroke:#ff7f0e;stroke-width:1.5;\"/>\r\n    <path clip-path=\"url(#p8430b6be81)\" d=\"M 34.1245 224.64 \r\nL 34.1245 221.435679 \r\nL 38.3095 221.435679 \r\nL 38.3095 221.890923 \r\n\" style=\"fill:none;stroke:#ff7f0e;stroke-width:1.5;\"/>\r\n    <path clip-path=\"url(#p8430b6be81)\" d=\"M 42.4945 224.64 \r\nL 42.4945 222.799399 \r\nL 44.1685 222.799399 \r\nL 44.1685 224.64 \r\n\" style=\"fill:none;stroke:#ff7f0e;stroke-width:1.5;\"/>\r\n    <path clip-path=\"url(#p8430b6be81)\" d=\"M 47.5165 224.64 \r\nL 47.5165 221.411373 \r\nL 49.1905 221.411373 \r\nL 49.1905 224.64 \r\n\" style=\"fill:none;stroke:#ff7f0e;stroke-width:1.5;\"/>\r\n    <path clip-path=\"url(#p8430b6be81)\" d=\"M 52.5385 224.64 \r\nL 52.5385 224.129509 \r\nL 54.2125 224.129509 \r\nL 54.2125 224.64 \r\n\" style=\"fill:none;stroke:#ff7f0e;stroke-width:1.5;\"/>\r\n    <path clip-path=\"url(#p8430b6be81)\" d=\"M 50.8645 224.64 \r\nL 50.8645 221.397948 \r\nL 53.3755 221.397948 \r\nL 53.3755 224.129509 \r\n\" style=\"fill:none;stroke:#ff7f0e;stroke-width:1.5;\"/>\r\n    <path clip-path=\"url(#p8430b6be81)\" d=\"M 48.3535 221.411373 \r\nL 48.3535 218.71596 \r\nL 52.12 218.71596 \r\nL 52.12 221.397948 \r\n\" style=\"fill:none;stroke:#ff7f0e;stroke-width:1.5;\"/>\r\n    <path clip-path=\"url(#p8430b6be81)\" d=\"M 45.8425 224.64 \r\nL 45.8425 217.248159 \r\nL 50.23675 217.248159 \r\nL 50.23675 218.71596 \r\n\" style=\"fill:none;stroke:#ff7f0e;stroke-width:1.5;\"/>\r\n    <path clip-path=\"url(#p8430b6be81)\" d=\"M 43.3315 222.799399 \r\nL 43.3315 214.186358 \r\nL 48.039625 214.186358 \r\nL 48.039625 217.248159 \r\n\" style=\"fill:none;stroke:#ff7f0e;stroke-width:1.5;\"/>\r\n    <path clip-path=\"url(#p8430b6be81)\" d=\"M 36.217 221.435679 \r\nL 36.217 209.354887 \r\nL 45.685563 209.354887 \r\nL 45.685563 214.186358 \r\n\" style=\"fill:none;stroke:#ff7f0e;stroke-width:1.5;\"/>\r\n    <path clip-path=\"url(#p8430b6be81)\" d=\"M 57.5605 224.64 \r\nL 57.5605 222.535193 \r\nL 59.2345 222.535193 \r\nL 59.2345 224.64 \r\n\" style=\"fill:none;stroke:#ff7f0e;stroke-width:1.5;\"/>\r\n    <path clip-path=\"url(#p8430b6be81)\" d=\"M 55.8865 224.64 \r\nL 55.8865 221.451986 \r\nL 58.3975 221.451986 \r\nL 58.3975 222.535193 \r\n\" style=\"fill:none;stroke:#ff7f0e;stroke-width:1.5;\"/>\r\n    <path clip-path=\"url(#p8430b6be81)\" d=\"M 60.9085 224.64 \r\nL 60.9085 222.087546 \r\nL 62.5825 222.087546 \r\nL 62.5825 224.64 \r\n\" style=\"fill:none;stroke:#ff7f0e;stroke-width:1.5;\"/>\r\n    <path clip-path=\"url(#p8430b6be81)\" d=\"M 65.9305 224.64 \r\nL 65.9305 222.036998 \r\nL 67.6045 222.036998 \r\nL 67.6045 224.64 \r\n\" style=\"fill:none;stroke:#ff7f0e;stroke-width:1.5;\"/>\r\n    <path clip-path=\"url(#p8430b6be81)\" d=\"M 64.2565 224.64 \r\nL 64.2565 221.279538 \r\nL 66.7675 221.279538 \r\nL 66.7675 222.036998 \r\n\" style=\"fill:none;stroke:#ff7f0e;stroke-width:1.5;\"/>\r\n    <path clip-path=\"url(#p8430b6be81)\" d=\"M 61.7455 222.087546 \r\nL 61.7455 216.522287 \r\nL 65.512 216.522287 \r\nL 65.512 221.279538 \r\n\" style=\"fill:none;stroke:#ff7f0e;stroke-width:1.5;\"/>\r\n    <path clip-path=\"url(#p8430b6be81)\" d=\"M 57.142 221.451986 \r\nL 57.142 208.919702 \r\nL 63.62875 208.919702 \r\nL 63.62875 216.522287 \r\n\" style=\"fill:none;stroke:#ff7f0e;stroke-width:1.5;\"/>\r\n    <path clip-path=\"url(#p8430b6be81)\" d=\"M 40.951281 209.354887 \r\nL 40.951281 196.414426 \r\nL 60.385375 196.414426 \r\nL 60.385375 208.919702 \r\n\" style=\"fill:none;stroke:#ff7f0e;stroke-width:1.5;\"/>\r\n    <path clip-path=\"url(#p8430b6be81)\" d=\"M 70.9525 224.64 \r\nL 70.9525 223.918057 \r\nL 72.6265 223.918057 \r\nL 72.6265 224.64 \r\n\" style=\"fill:none;stroke:#ff7f0e;stroke-width:1.5;\"/>\r\n    <path clip-path=\"url(#p8430b6be81)\" d=\"M 69.2785 224.64 \r\nL 69.2785 223.707976 \r\nL 71.7895 223.707976 \r\nL 71.7895 223.918057 \r\n\" style=\"fill:none;stroke:#ff7f0e;stroke-width:1.5;\"/>\r\n    <path clip-path=\"url(#p8430b6be81)\" d=\"M 75.9745 224.64 \r\nL 75.9745 223.619018 \r\nL 77.6485 223.619018 \r\nL 77.6485 224.64 \r\n\" style=\"fill:none;stroke:#ff7f0e;stroke-width:1.5;\"/>\r\n    <path clip-path=\"url(#p8430b6be81)\" d=\"M 74.3005 224.64 \r\nL 74.3005 222.514657 \r\nL 76.8115 222.514657 \r\nL 76.8115 223.619018 \r\n\" style=\"fill:none;stroke:#ff7f0e;stroke-width:1.5;\"/>\r\n    <path clip-path=\"url(#p8430b6be81)\" d=\"M 70.534 223.707976 \r\nL 70.534 216.488116 \r\nL 75.556 216.488116 \r\nL 75.556 222.514657 \r\n\" style=\"fill:none;stroke:#ff7f0e;stroke-width:1.5;\"/>\r\n    <path clip-path=\"url(#p8430b6be81)\" d=\"M 80.9965 224.64 \r\nL 80.9965 223.025686 \r\nL 82.6705 223.025686 \r\nL 82.6705 224.64 \r\n\" style=\"fill:none;stroke:#ff7f0e;stroke-width:1.5;\"/>\r\n    <path clip-path=\"url(#p8430b6be81)\" d=\"M 79.3225 224.64 \r\nL 79.3225 221.279538 \r\nL 81.8335 221.279538 \r\nL 81.8335 223.025686 \r\n\" style=\"fill:none;stroke:#ff7f0e;stroke-width:1.5;\"/>\r\n    <path clip-path=\"url(#p8430b6be81)\" d=\"M 86.0185 224.64 \r\nL 86.0185 223.108528 \r\nL 87.6925 223.108528 \r\nL 87.6925 224.64 \r\n\" style=\"fill:none;stroke:#ff7f0e;stroke-width:1.5;\"/>\r\n    <path clip-path=\"url(#p8430b6be81)\" d=\"M 84.3445 224.64 \r\nL 84.3445 220.763406 \r\nL 86.8555 220.763406 \r\nL 86.8555 223.108528 \r\n\" style=\"fill:none;stroke:#ff7f0e;stroke-width:1.5;\"/>\r\n    <path clip-path=\"url(#p8430b6be81)\" d=\"M 80.578 221.279538 \r\nL 80.578 214.985559 \r\nL 85.6 214.985559 \r\nL 85.6 220.763406 \r\n\" style=\"fill:none;stroke:#ff7f0e;stroke-width:1.5;\"/>\r\n    <path clip-path=\"url(#p8430b6be81)\" d=\"M 73.045 216.488116 \r\nL 73.045 209.841636 \r\nL 83.089 209.841636 \r\nL 83.089 214.985559 \r\n\" style=\"fill:none;stroke:#ff7f0e;stroke-width:1.5;\"/>\r\n    <path clip-path=\"url(#p8430b6be81)\" d=\"M 89.3665 224.64 \r\nL 89.3665 223.918057 \r\nL 91.0405 223.918057 \r\nL 91.0405 224.64 \r\n\" style=\"fill:none;stroke:#ff7f0e;stroke-width:1.5;\"/>\r\n    <path clip-path=\"url(#p8430b6be81)\" d=\"M 92.7145 224.64 \r\nL 92.7145 223.196114 \r\nL 94.3885 223.196114 \r\nL 94.3885 224.64 \r\n\" style=\"fill:none;stroke:#ff7f0e;stroke-width:1.5;\"/>\r\n    <path clip-path=\"url(#p8430b6be81)\" d=\"M 90.2035 223.918057 \r\nL 90.2035 218.492877 \r\nL 93.5515 218.492877 \r\nL 93.5515 223.196114 \r\n\" style=\"fill:none;stroke:#ff7f0e;stroke-width:1.5;\"/>\r\n    <path clip-path=\"url(#p8430b6be81)\" d=\"M 96.0625 224.64 \r\nL 96.0625 223.498508 \r\nL 97.7365 223.498508 \r\nL 97.7365 224.64 \r\n\" style=\"fill:none;stroke:#ff7f0e;stroke-width:1.5;\"/>\r\n    <path clip-path=\"url(#p8430b6be81)\" d=\"M 99.4105 224.64 \r\nL 99.4105 223.918057 \r\nL 101.0845 223.918057 \r\nL 101.0845 224.64 \r\n\" style=\"fill:none;stroke:#ff7f0e;stroke-width:1.5;\"/>\r\n    <path clip-path=\"url(#p8430b6be81)\" d=\"M 104.4325 224.64 \r\nL 104.4325 223.108528 \r\nL 106.1065 223.108528 \r\nL 106.1065 224.64 \r\n\" style=\"fill:none;stroke:#ff7f0e;stroke-width:1.5;\"/>\r\n    <path clip-path=\"url(#p8430b6be81)\" d=\"M 102.7585 224.64 \r\nL 102.7585 221.090957 \r\nL 105.2695 221.090957 \r\nL 105.2695 223.108528 \r\n\" style=\"fill:none;stroke:#ff7f0e;stroke-width:1.5;\"/>\r\n    <path clip-path=\"url(#p8430b6be81)\" d=\"M 100.2475 223.918057 \r\nL 100.2475 219.876635 \r\nL 104.014 219.876635 \r\nL 104.014 221.090957 \r\n\" style=\"fill:none;stroke:#ff7f0e;stroke-width:1.5;\"/>\r\n    <path clip-path=\"url(#p8430b6be81)\" d=\"M 96.8995 223.498508 \r\nL 96.8995 214.748365 \r\nL 102.13075 214.748365 \r\nL 102.13075 219.876635 \r\n\" style=\"fill:none;stroke:#ff7f0e;stroke-width:1.5;\"/>\r\n    <path clip-path=\"url(#p8430b6be81)\" d=\"M 91.8775 218.492877 \r\nL 91.8775 206.052392 \r\nL 99.515125 206.052392 \r\nL 99.515125 214.748365 \r\n\" style=\"fill:none;stroke:#ff7f0e;stroke-width:1.5;\"/>\r\n    <path clip-path=\"url(#p8430b6be81)\" d=\"M 78.067 209.841636 \r\nL 78.067 183.198685 \r\nL 95.696313 183.198685 \r\nL 95.696313 206.052392 \r\n\" style=\"fill:none;stroke:#ff7f0e;stroke-width:1.5;\"/>\r\n    <path clip-path=\"url(#p8430b6be81)\" d=\"M 107.7805 224.64 \r\nL 107.7805 224.129509 \r\nL 109.4545 224.129509 \r\nL 109.4545 224.64 \r\n\" style=\"fill:none;stroke:#ff7f0e;stroke-width:1.5;\"/>\r\n    <path clip-path=\"url(#p8430b6be81)\" d=\"M 111.1285 224.64 \r\nL 111.1285 222.598037 \r\nL 112.8025 222.598037 \r\nL 112.8025 224.64 \r\n\" style=\"fill:none;stroke:#ff7f0e;stroke-width:1.5;\"/>\r\n    <path clip-path=\"url(#p8430b6be81)\" d=\"M 108.6175 224.129509 \r\nL 108.6175 221.312007 \r\nL 111.9655 221.312007 \r\nL 111.9655 222.598037 \r\n\" style=\"fill:none;stroke:#ff7f0e;stroke-width:1.5;\"/>\r\n    <path clip-path=\"url(#p8430b6be81)\" d=\"M 116.1505 224.64 \r\nL 116.1505 223.498508 \r\nL 117.8245 223.498508 \r\nL 117.8245 224.64 \r\n\" style=\"fill:none;stroke:#ff7f0e;stroke-width:1.5;\"/>\r\n    <path clip-path=\"url(#p8430b6be81)\" d=\"M 114.4765 224.64 \r\nL 114.4765 222.752794 \r\nL 116.9875 222.752794 \r\nL 116.9875 223.498508 \r\n\" style=\"fill:none;stroke:#ff7f0e;stroke-width:1.5;\"/>\r\n    <path clip-path=\"url(#p8430b6be81)\" d=\"M 121.1725 224.64 \r\nL 121.1725 224.64 \r\nL 122.8465 224.64 \r\nL 122.8465 224.64 \r\n\" style=\"fill:none;stroke:#ff7f0e;stroke-width:1.5;\"/>\r\n    <path clip-path=\"url(#p8430b6be81)\" d=\"M 119.4985 224.64 \r\nL 119.4985 224.050536 \r\nL 122.0095 224.050536 \r\nL 122.0095 224.64 \r\n\" style=\"fill:none;stroke:#ff7f0e;stroke-width:1.5;\"/>\r\n    <path clip-path=\"url(#p8430b6be81)\" d=\"M 124.5205 224.64 \r\nL 124.5205 224.129509 \r\nL 126.1945 224.129509 \r\nL 126.1945 224.64 \r\n\" style=\"fill:none;stroke:#ff7f0e;stroke-width:1.5;\"/>\r\n    <path clip-path=\"url(#p8430b6be81)\" d=\"M 127.8685 224.64 \r\nL 127.8685 223.918057 \r\nL 129.5425 223.918057 \r\nL 129.5425 224.64 \r\n\" style=\"fill:none;stroke:#ff7f0e;stroke-width:1.5;\"/>\r\n    <path clip-path=\"url(#p8430b6be81)\" d=\"M 125.3575 224.129509 \r\nL 125.3575 222.1132 \r\nL 128.7055 222.1132 \r\nL 128.7055 223.918057 \r\n\" style=\"fill:none;stroke:#ff7f0e;stroke-width:1.5;\"/>\r\n    <path clip-path=\"url(#p8430b6be81)\" d=\"M 120.754 224.050536 \r\nL 120.754 221.330704 \r\nL 127.0315 221.330704 \r\nL 127.0315 222.1132 \r\n\" style=\"fill:none;stroke:#ff7f0e;stroke-width:1.5;\"/>\r\n    <path clip-path=\"url(#p8430b6be81)\" d=\"M 115.732 222.752794 \r\nL 115.732 217.415587 \r\nL 123.89275 217.415587 \r\nL 123.89275 221.330704 \r\n\" style=\"fill:none;stroke:#ff7f0e;stroke-width:1.5;\"/>\r\n    <path clip-path=\"url(#p8430b6be81)\" d=\"M 110.2915 221.312007 \r\nL 110.2915 215.445293 \r\nL 119.812375 215.445293 \r\nL 119.812375 217.415587 \r\n\" style=\"fill:none;stroke:#ff7f0e;stroke-width:1.5;\"/>\r\n    <path clip-path=\"url(#p8430b6be81)\" d=\"M 132.8905 224.64 \r\nL 132.8905 224.129509 \r\nL 134.5645 224.129509 \r\nL 134.5645 224.64 \r\n\" style=\"fill:none;stroke:#ff7f0e;stroke-width:1.5;\"/>\r\n    <path clip-path=\"url(#p8430b6be81)\" d=\"M 131.2165 224.64 \r\nL 131.2165 223.755804 \r\nL 133.7275 223.755804 \r\nL 133.7275 224.129509 \r\n\" style=\"fill:none;stroke:#ff7f0e;stroke-width:1.5;\"/>\r\n    <path clip-path=\"url(#p8430b6be81)\" d=\"M 139.5865 224.64 \r\nL 139.5865 224.129509 \r\nL 141.2605 224.129509 \r\nL 141.2605 224.64 \r\n\" style=\"fill:none;stroke:#ff7f0e;stroke-width:1.5;\"/>\r\n    <path clip-path=\"url(#p8430b6be81)\" d=\"M 137.9125 224.64 \r\nL 137.9125 223.16634 \r\nL 140.4235 223.16634 \r\nL 140.4235 224.129509 \r\n\" style=\"fill:none;stroke:#ff7f0e;stroke-width:1.5;\"/>\r\n    <path clip-path=\"url(#p8430b6be81)\" d=\"M 136.2385 224.64 \r\nL 136.2385 221.506956 \r\nL 139.168 221.506956 \r\nL 139.168 223.16634 \r\n\" style=\"fill:none;stroke:#ff7f0e;stroke-width:1.5;\"/>\r\n    <path clip-path=\"url(#p8430b6be81)\" d=\"M 132.472 223.755804 \r\nL 132.472 219.997219 \r\nL 137.70325 219.997219 \r\nL 137.70325 221.506956 \r\n\" style=\"fill:none;stroke:#ff7f0e;stroke-width:1.5;\"/>\r\n    <path clip-path=\"url(#p8430b6be81)\" d=\"M 146.2825 224.64 \r\nL 146.2825 224.129509 \r\nL 147.9565 224.129509 \r\nL 147.9565 224.64 \r\n\" style=\"fill:none;stroke:#ff7f0e;stroke-width:1.5;\"/>\r\n    <path clip-path=\"url(#p8430b6be81)\" d=\"M 144.6085 224.64 \r\nL 144.6085 223.16634 \r\nL 147.1195 223.16634 \r\nL 147.1195 224.129509 \r\n\" style=\"fill:none;stroke:#ff7f0e;stroke-width:1.5;\"/>\r\n    <path clip-path=\"url(#p8430b6be81)\" d=\"M 142.9345 224.64 \r\nL 142.9345 222.55593 \r\nL 145.864 222.55593 \r\nL 145.864 223.16634 \r\n\" style=\"fill:none;stroke:#ff7f0e;stroke-width:1.5;\"/>\r\n    <path clip-path=\"url(#p8430b6be81)\" d=\"M 151.3045 224.64 \r\nL 151.3045 224.129509 \r\nL 152.9785 224.129509 \r\nL 152.9785 224.64 \r\n\" style=\"fill:none;stroke:#ff7f0e;stroke-width:1.5;\"/>\r\n    <path clip-path=\"url(#p8430b6be81)\" d=\"M 154.6525 224.64 \r\nL 154.6525 223.918057 \r\nL 156.3265 223.918057 \r\nL 156.3265 224.64 \r\n\" style=\"fill:none;stroke:#ff7f0e;stroke-width:1.5;\"/>\r\n    <path clip-path=\"url(#p8430b6be81)\" d=\"M 152.1415 224.129509 \r\nL 152.1415 223.338499 \r\nL 155.4895 223.338499 \r\nL 155.4895 223.918057 \r\n\" style=\"fill:none;stroke:#ff7f0e;stroke-width:1.5;\"/>\r\n    <path clip-path=\"url(#p8430b6be81)\" d=\"M 149.6305 224.64 \r\nL 149.6305 222.444296 \r\nL 153.8155 222.444296 \r\nL 153.8155 223.338499 \r\n\" style=\"fill:none;stroke:#ff7f0e;stroke-width:1.5;\"/>\r\n    <path clip-path=\"url(#p8430b6be81)\" d=\"M 144.39925 222.55593 \r\nL 144.39925 220.782124 \r\nL 151.723 220.782124 \r\nL 151.723 222.444296 \r\n\" style=\"fill:none;stroke:#ff7f0e;stroke-width:1.5;\"/>\r\n    <path clip-path=\"url(#p8430b6be81)\" d=\"M 159.6745 224.64 \r\nL 159.6745 224.64 \r\nL 161.3485 224.64 \r\nL 161.3485 224.64 \r\n\" style=\"fill:none;stroke:#ff7f0e;stroke-width:1.5;\"/>\r\n    <path clip-path=\"url(#p8430b6be81)\" d=\"M 158.0005 224.64 \r\nL 158.0005 222.775951 \r\nL 160.5115 222.775951 \r\nL 160.5115 224.64 \r\n\" style=\"fill:none;stroke:#ff7f0e;stroke-width:1.5;\"/>\r\n    <path clip-path=\"url(#p8430b6be81)\" d=\"M 164.6965 224.64 \r\nL 164.6965 223.918057 \r\nL 166.3705 223.918057 \r\nL 166.3705 224.64 \r\n\" style=\"fill:none;stroke:#ff7f0e;stroke-width:1.5;\"/>\r\n    <path clip-path=\"url(#p8430b6be81)\" d=\"M 163.0225 224.64 \r\nL 163.0225 222.395388 \r\nL 165.5335 222.395388 \r\nL 165.5335 223.918057 \r\n\" style=\"fill:none;stroke:#ff7f0e;stroke-width:1.5;\"/>\r\n    <path clip-path=\"url(#p8430b6be81)\" d=\"M 159.256 222.775951 \r\nL 159.256 220.631211 \r\nL 164.278 220.631211 \r\nL 164.278 222.395388 \r\n\" style=\"fill:none;stroke:#ff7f0e;stroke-width:1.5;\"/>\r\n    <path clip-path=\"url(#p8430b6be81)\" d=\"M 148.061125 220.782124 \r\nL 148.061125 213.931584 \r\nL 161.767 213.931584 \r\nL 161.767 220.631211 \r\n\" style=\"fill:none;stroke:#ff7f0e;stroke-width:1.5;\"/>\r\n    <path clip-path=\"url(#p8430b6be81)\" d=\"M 135.087625 219.997219 \r\nL 135.087625 210.82155 \r\nL 154.914063 210.82155 \r\nL 154.914063 213.931584 \r\n\" style=\"fill:none;stroke:#ff7f0e;stroke-width:1.5;\"/>\r\n    <path clip-path=\"url(#p8430b6be81)\" d=\"M 115.051938 215.445293 \r\nL 115.051938 199.745531 \r\nL 145.000844 199.745531 \r\nL 145.000844 210.82155 \r\n\" style=\"fill:none;stroke:#ff7f0e;stroke-width:1.5;\"/>\r\n    <path clip-path=\"url(#p8430b6be81)\" d=\"M 169.7185 224.64 \r\nL 169.7185 223.498508 \r\nL 171.3925 223.498508 \r\nL 171.3925 224.64 \r\n\" style=\"fill:none;stroke:#ff7f0e;stroke-width:1.5;\"/>\r\n    <path clip-path=\"url(#p8430b6be81)\" d=\"M 168.0445 224.64 \r\nL 168.0445 221.737226 \r\nL 170.5555 221.737226 \r\nL 170.5555 223.498508 \r\n\" style=\"fill:none;stroke:#ff7f0e;stroke-width:1.5;\"/>\r\n    <path clip-path=\"url(#p8430b6be81)\" d=\"M 174.7405 224.64 \r\nL 174.7405 223.918057 \r\nL 176.4145 223.918057 \r\nL 176.4145 224.64 \r\n\" style=\"fill:none;stroke:#ff7f0e;stroke-width:1.5;\"/>\r\n    <path clip-path=\"url(#p8430b6be81)\" d=\"M 173.0665 224.64 \r\nL 173.0665 221.279538 \r\nL 175.5775 221.279538 \r\nL 175.5775 223.918057 \r\n\" style=\"fill:none;stroke:#ff7f0e;stroke-width:1.5;\"/>\r\n    <path clip-path=\"url(#p8430b6be81)\" d=\"M 169.3 221.737226 \r\nL 169.3 217.85476 \r\nL 174.322 217.85476 \r\nL 174.322 221.279538 \r\n\" style=\"fill:none;stroke:#ff7f0e;stroke-width:1.5;\"/>\r\n    <path clip-path=\"url(#p8430b6be81)\" d=\"M 178.0885 224.64 \r\nL 178.0885 223.498508 \r\nL 179.7625 223.498508 \r\nL 179.7625 224.64 \r\n\" style=\"fill:none;stroke:#ff7f0e;stroke-width:1.5;\"/>\r\n    <path clip-path=\"url(#p8430b6be81)\" d=\"M 184.7845 224.64 \r\nL 184.7845 224.129509 \r\nL 186.4585 224.129509 \r\nL 186.4585 224.64 \r\n\" style=\"fill:none;stroke:#ff7f0e;stroke-width:1.5;\"/>\r\n    <path clip-path=\"url(#p8430b6be81)\" d=\"M 183.1105 224.64 \r\nL 183.1105 223.980959 \r\nL 185.6215 223.980959 \r\nL 185.6215 224.129509 \r\n\" style=\"fill:none;stroke:#ff7f0e;stroke-width:1.5;\"/>\r\n    <path clip-path=\"url(#p8430b6be81)\" d=\"M 181.4365 224.64 \r\nL 181.4365 222.959769 \r\nL 184.366 222.959769 \r\nL 184.366 223.980959 \r\n\" style=\"fill:none;stroke:#ff7f0e;stroke-width:1.5;\"/>\r\n    <path clip-path=\"url(#p8430b6be81)\" d=\"M 178.9255 223.498508 \r\nL 178.9255 221.541807 \r\nL 182.90125 221.541807 \r\nL 182.90125 222.959769 \r\n\" style=\"fill:none;stroke:#ff7f0e;stroke-width:1.5;\"/>\r\n    <path clip-path=\"url(#p8430b6be81)\" d=\"M 188.1325 224.64 \r\nL 188.1325 224.129509 \r\nL 189.8065 224.129509 \r\nL 189.8065 224.64 \r\n\" style=\"fill:none;stroke:#ff7f0e;stroke-width:1.5;\"/>\r\n    <path clip-path=\"url(#p8430b6be81)\" d=\"M 191.4805 224.64 \r\nL 191.4805 224.129509 \r\nL 193.1545 224.129509 \r\nL 193.1545 224.64 \r\n\" style=\"fill:none;stroke:#ff7f0e;stroke-width:1.5;\"/>\r\n    <path clip-path=\"url(#p8430b6be81)\" d=\"M 188.9695 224.129509 \r\nL 188.9695 223.025686 \r\nL 192.3175 223.025686 \r\nL 192.3175 224.129509 \r\n\" style=\"fill:none;stroke:#ff7f0e;stroke-width:1.5;\"/>\r\n    <path clip-path=\"url(#p8430b6be81)\" d=\"M 194.8285 224.64 \r\nL 194.8285 223.619018 \r\nL 196.5025 223.619018 \r\nL 196.5025 224.64 \r\n\" style=\"fill:none;stroke:#ff7f0e;stroke-width:1.5;\"/>\r\n    <path clip-path=\"url(#p8430b6be81)\" d=\"M 198.1765 224.64 \r\nL 198.1765 223.619018 \r\nL 199.8505 223.619018 \r\nL 199.8505 224.64 \r\n\" style=\"fill:none;stroke:#ff7f0e;stroke-width:1.5;\"/>\r\n    <path clip-path=\"url(#p8430b6be81)\" d=\"M 195.6655 223.619018 \r\nL 195.6655 222.598037 \r\nL 199.0135 222.598037 \r\nL 199.0135 223.619018 \r\n\" style=\"fill:none;stroke:#ff7f0e;stroke-width:1.5;\"/>\r\n    <path clip-path=\"url(#p8430b6be81)\" d=\"M 190.6435 223.025686 \r\nL 190.6435 221.411373 \r\nL 197.3395 221.411373 \r\nL 197.3395 222.598037 \r\n\" style=\"fill:none;stroke:#ff7f0e;stroke-width:1.5;\"/>\r\n    <path clip-path=\"url(#p8430b6be81)\" d=\"M 180.913375 221.541807 \r\nL 180.913375 219.718266 \r\nL 193.9915 219.718266 \r\nL 193.9915 221.411373 \r\n\" style=\"fill:none;stroke:#ff7f0e;stroke-width:1.5;\"/>\r\n    <path clip-path=\"url(#p8430b6be81)\" d=\"M 201.5245 224.64 \r\nL 201.5245 223.918057 \r\nL 203.1985 223.918057 \r\nL 203.1985 224.64 \r\n\" style=\"fill:none;stroke:#ff7f0e;stroke-width:1.5;\"/>\r\n    <path clip-path=\"url(#p8430b6be81)\" d=\"M 204.8725 224.64 \r\nL 204.8725 224.129509 \r\nL 206.5465 224.129509 \r\nL 206.5465 224.64 \r\n\" style=\"fill:none;stroke:#ff7f0e;stroke-width:1.5;\"/>\r\n    <path clip-path=\"url(#p8430b6be81)\" d=\"M 208.2205 224.64 \r\nL 208.2205 224.129509 \r\nL 209.8945 224.129509 \r\nL 209.8945 224.64 \r\n\" style=\"fill:none;stroke:#ff7f0e;stroke-width:1.5;\"/>\r\n    <path clip-path=\"url(#p8430b6be81)\" d=\"M 205.7095 224.129509 \r\nL 205.7095 223.498508 \r\nL 209.0575 223.498508 \r\nL 209.0575 224.129509 \r\n\" style=\"fill:none;stroke:#ff7f0e;stroke-width:1.5;\"/>\r\n    <path clip-path=\"url(#p8430b6be81)\" d=\"M 202.3615 223.918057 \r\nL 202.3615 222.847215 \r\nL 207.3835 222.847215 \r\nL 207.3835 223.498508 \r\n\" style=\"fill:none;stroke:#ff7f0e;stroke-width:1.5;\"/>\r\n    <path clip-path=\"url(#p8430b6be81)\" d=\"M 213.2425 224.64 \r\nL 213.2425 223.918057 \r\nL 214.9165 223.918057 \r\nL 214.9165 224.64 \r\n\" style=\"fill:none;stroke:#ff7f0e;stroke-width:1.5;\"/>\r\n    <path clip-path=\"url(#p8430b6be81)\" d=\"M 211.5685 224.64 \r\nL 211.5685 223.707976 \r\nL 214.0795 223.707976 \r\nL 214.0795 223.918057 \r\n\" style=\"fill:none;stroke:#ff7f0e;stroke-width:1.5;\"/>\r\n    <path clip-path=\"url(#p8430b6be81)\" d=\"M 216.5905 224.64 \r\nL 216.5905 223.108528 \r\nL 218.2645 223.108528 \r\nL 218.2645 224.64 \r\n\" style=\"fill:none;stroke:#ff7f0e;stroke-width:1.5;\"/>\r\n    <path clip-path=\"url(#p8430b6be81)\" d=\"M 212.824 223.707976 \r\nL 212.824 222.094362 \r\nL 217.4275 222.094362 \r\nL 217.4275 223.108528 \r\n\" style=\"fill:none;stroke:#ff7f0e;stroke-width:1.5;\"/>\r\n    <path clip-path=\"url(#p8430b6be81)\" d=\"M 204.8725 222.847215 \r\nL 204.8725 219.137252 \r\nL 215.12575 219.137252 \r\nL 215.12575 222.094362 \r\n\" style=\"fill:none;stroke:#ff7f0e;stroke-width:1.5;\"/>\r\n    <path clip-path=\"url(#p8430b6be81)\" d=\"M 187.452438 219.718266 \r\nL 187.452438 212.166181 \r\nL 209.999125 212.166181 \r\nL 209.999125 219.137252 \r\n\" style=\"fill:none;stroke:#ff7f0e;stroke-width:1.5;\"/>\r\n    <path clip-path=\"url(#p8430b6be81)\" d=\"M 221.6125 224.64 \r\nL 221.6125 224.129509 \r\nL 223.2865 224.129509 \r\nL 223.2865 224.64 \r\n\" style=\"fill:none;stroke:#ff7f0e;stroke-width:1.5;\"/>\r\n    <path clip-path=\"url(#p8430b6be81)\" d=\"M 219.9385 224.64 \r\nL 219.9385 223.16634 \r\nL 222.4495 223.16634 \r\nL 222.4495 224.129509 \r\n\" style=\"fill:none;stroke:#ff7f0e;stroke-width:1.5;\"/>\r\n    <path clip-path=\"url(#p8430b6be81)\" d=\"M 226.6345 224.64 \r\nL 226.6345 224.129509 \r\nL 228.3085 224.129509 \r\nL 228.3085 224.64 \r\n\" style=\"fill:none;stroke:#ff7f0e;stroke-width:1.5;\"/>\r\n    <path clip-path=\"url(#p8430b6be81)\" d=\"M 224.9605 224.64 \r\nL 224.9605 223.577329 \r\nL 227.4715 223.577329 \r\nL 227.4715 224.129509 \r\n\" style=\"fill:none;stroke:#ff7f0e;stroke-width:1.5;\"/>\r\n    <path clip-path=\"url(#p8430b6be81)\" d=\"M 229.9825 224.64 \r\nL 229.9825 223.108528 \r\nL 231.6565 223.108528 \r\nL 231.6565 224.64 \r\n\" style=\"fill:none;stroke:#ff7f0e;stroke-width:1.5;\"/>\r\n    <path clip-path=\"url(#p8430b6be81)\" d=\"M 226.216 223.577329 \r\nL 226.216 221.344796 \r\nL 230.8195 221.344796 \r\nL 230.8195 223.108528 \r\n\" style=\"fill:none;stroke:#ff7f0e;stroke-width:1.5;\"/>\r\n    <path clip-path=\"url(#p8430b6be81)\" d=\"M 221.194 223.16634 \r\nL 221.194 219.812779 \r\nL 228.51775 219.812779 \r\nL 228.51775 221.344796 \r\n\" style=\"fill:none;stroke:#ff7f0e;stroke-width:1.5;\"/>\r\n    <path clip-path=\"url(#p8430b6be81)\" d=\"M 233.3305 224.64 \r\nL 233.3305 224.129509 \r\nL 235.0045 224.129509 \r\nL 235.0045 224.64 \r\n\" style=\"fill:none;stroke:#ff7f0e;stroke-width:1.5;\"/>\r\n    <path clip-path=\"url(#p8430b6be81)\" d=\"M 240.0265 224.64 \r\nL 240.0265 224.129509 \r\nL 241.7005 224.129509 \r\nL 241.7005 224.64 \r\n\" style=\"fill:none;stroke:#ff7f0e;stroke-width:1.5;\"/>\r\n    <path clip-path=\"url(#p8430b6be81)\" d=\"M 238.3525 224.64 \r\nL 238.3525 223.755804 \r\nL 240.8635 223.755804 \r\nL 240.8635 224.129509 \r\n\" style=\"fill:none;stroke:#ff7f0e;stroke-width:1.5;\"/>\r\n    <path clip-path=\"url(#p8430b6be81)\" d=\"M 236.6785 224.64 \r\nL 236.6785 222.764337 \r\nL 239.608 222.764337 \r\nL 239.608 223.755804 \r\n\" style=\"fill:none;stroke:#ff7f0e;stroke-width:1.5;\"/>\r\n    <path clip-path=\"url(#p8430b6be81)\" d=\"M 234.1675 224.129509 \r\nL 234.1675 221.930709 \r\nL 238.14325 221.930709 \r\nL 238.14325 222.764337 \r\n\" style=\"fill:none;stroke:#ff7f0e;stroke-width:1.5;\"/>\r\n    <path clip-path=\"url(#p8430b6be81)\" d=\"M 243.3745 224.64 \r\nL 243.3745 223.619018 \r\nL 245.0485 223.619018 \r\nL 245.0485 224.64 \r\n\" style=\"fill:none;stroke:#ff7f0e;stroke-width:1.5;\"/>\r\n    <path clip-path=\"url(#p8430b6be81)\" d=\"M 246.7225 224.64 \r\nL 246.7225 223.498508 \r\nL 248.3965 223.498508 \r\nL 248.3965 224.64 \r\n\" style=\"fill:none;stroke:#ff7f0e;stroke-width:1.5;\"/>\r\n    <path clip-path=\"url(#p8430b6be81)\" d=\"M 244.2115 223.619018 \r\nL 244.2115 221.729755 \r\nL 247.5595 221.729755 \r\nL 247.5595 223.498508 \r\n\" style=\"fill:none;stroke:#ff7f0e;stroke-width:1.5;\"/>\r\n    <path clip-path=\"url(#p8430b6be81)\" d=\"M 236.155375 221.930709 \r\nL 236.155375 219.02847 \r\nL 245.8855 219.02847 \r\nL 245.8855 221.729755 \r\n\" style=\"fill:none;stroke:#ff7f0e;stroke-width:1.5;\"/>\r\n    <path clip-path=\"url(#p8430b6be81)\" d=\"M 224.855875 219.812779 \r\nL 224.855875 210.49875 \r\nL 241.020438 210.49875 \r\nL 241.020438 219.02847 \r\n\" style=\"fill:none;stroke:#ff7f0e;stroke-width:1.5;\"/>\r\n    <path clip-path=\"url(#p8430b6be81)\" d=\"M 198.725781 212.166181 \r\nL 198.725781 200.033179 \r\nL 232.938156 200.033179 \r\nL 232.938156 210.49875 \r\n\" style=\"fill:none;stroke:#ff7f0e;stroke-width:1.5;\"/>\r\n    <path clip-path=\"url(#p8430b6be81)\" d=\"M 171.811 217.85476 \r\nL 171.811 191.694249 \r\nL 215.831969 191.694249 \r\nL 215.831969 200.033179 \r\n\" style=\"fill:none;stroke:#ff7f0e;stroke-width:1.5;\"/>\r\n    <path clip-path=\"url(#p8430b6be81)\" d=\"M 130.026391 199.745531 \r\nL 130.026391 170.195862 \r\nL 193.821484 170.195862 \r\nL 193.821484 191.694249 \r\n\" style=\"fill:none;stroke:#ff7f0e;stroke-width:1.5;\"/>\r\n    <path clip-path=\"url(#p8430b6be81)\" d=\"M 86.881656 183.198685 \r\nL 86.881656 99.235589 \r\nL 161.923938 99.235589 \r\nL 161.923938 170.195862 \r\n\" style=\"fill:none;stroke:#ff7f0e;stroke-width:1.5;\"/>\r\n    <path clip-path=\"url(#p8430b6be81)\" d=\"M 50.668328 196.414426 \r\nL 50.668328 90.604194 \r\nL 124.402797 90.604194 \r\nL 124.402797 99.235589 \r\n\" style=\"fill:none;stroke:#ff7f0e;stroke-width:1.5;\"/>\r\n   </g>\r\n   <g id=\"LineCollection_2\">\r\n    <path clip-path=\"url(#p8430b6be81)\" d=\"M 251.7445 224.64 \r\nL 251.7445 220.652939 \r\nL 253.4185 220.652939 \r\nL 253.4185 224.64 \r\n\" style=\"fill:none;stroke:#2ca02c;stroke-width:1.5;\"/>\r\n    <path clip-path=\"url(#p8430b6be81)\" d=\"M 250.0705 224.64 \r\nL 250.0705 215.541418 \r\nL 252.5815 215.541418 \r\nL 252.5815 220.652939 \r\n\" style=\"fill:none;stroke:#2ca02c;stroke-width:1.5;\"/>\r\n    <path clip-path=\"url(#p8430b6be81)\" d=\"M 261.7885 224.64 \r\nL 261.7885 223.498508 \r\nL 263.4625 223.498508 \r\nL 263.4625 224.64 \r\n\" style=\"fill:none;stroke:#2ca02c;stroke-width:1.5;\"/>\r\n    <path clip-path=\"url(#p8430b6be81)\" d=\"M 260.1145 224.64 \r\nL 260.1145 221.451986 \r\nL 262.6255 221.451986 \r\nL 262.6255 223.498508 \r\n\" style=\"fill:none;stroke:#2ca02c;stroke-width:1.5;\"/>\r\n    <path clip-path=\"url(#p8430b6be81)\" d=\"M 258.4405 224.64 \r\nL 258.4405 219.878459 \r\nL 261.37 219.878459 \r\nL 261.37 221.451986 \r\n\" style=\"fill:none;stroke:#2ca02c;stroke-width:1.5;\"/>\r\n    <path clip-path=\"url(#p8430b6be81)\" d=\"M 256.7665 224.64 \r\nL 256.7665 218.292647 \r\nL 259.90525 218.292647 \r\nL 259.90525 219.878459 \r\n\" style=\"fill:none;stroke:#2ca02c;stroke-width:1.5;\"/>\r\n    <path clip-path=\"url(#p8430b6be81)\" d=\"M 255.0925 224.64 \r\nL 255.0925 214.683466 \r\nL 258.335875 214.683466 \r\nL 258.335875 218.292647 \r\n\" style=\"fill:none;stroke:#2ca02c;stroke-width:1.5;\"/>\r\n    <path clip-path=\"url(#p8430b6be81)\" d=\"M 251.326 215.541418 \r\nL 251.326 194.779319 \r\nL 256.714188 194.779319 \r\nL 256.714188 214.683466 \r\n\" style=\"fill:none;stroke:#2ca02c;stroke-width:1.5;\"/>\r\n    <path clip-path=\"url(#p8430b6be81)\" d=\"M 266.8105 224.64 \r\nL 266.8105 223.025686 \r\nL 268.4845 223.025686 \r\nL 268.4845 224.64 \r\n\" style=\"fill:none;stroke:#2ca02c;stroke-width:1.5;\"/>\r\n    <path clip-path=\"url(#p8430b6be81)\" d=\"M 265.1365 224.64 \r\nL 265.1365 220.131467 \r\nL 267.6475 220.131467 \r\nL 267.6475 223.025686 \r\n\" style=\"fill:none;stroke:#2ca02c;stroke-width:1.5;\"/>\r\n    <path clip-path=\"url(#p8430b6be81)\" d=\"M 273.5065 224.64 \r\nL 273.5065 224.129509 \r\nL 275.1805 224.129509 \r\nL 275.1805 224.64 \r\n\" style=\"fill:none;stroke:#2ca02c;stroke-width:1.5;\"/>\r\n    <path clip-path=\"url(#p8430b6be81)\" d=\"M 271.8325 224.64 \r\nL 271.8325 223.755804 \r\nL 274.3435 223.755804 \r\nL 274.3435 224.129509 \r\n\" style=\"fill:none;stroke:#2ca02c;stroke-width:1.5;\"/>\r\n    <path clip-path=\"url(#p8430b6be81)\" d=\"M 276.8545 224.64 \r\nL 276.8545 223.025686 \r\nL 278.5285 223.025686 \r\nL 278.5285 224.64 \r\n\" style=\"fill:none;stroke:#2ca02c;stroke-width:1.5;\"/>\r\n    <path clip-path=\"url(#p8430b6be81)\" d=\"M 273.088 223.755804 \r\nL 273.088 221.628537 \r\nL 277.6915 221.628537 \r\nL 277.6915 223.025686 \r\n\" style=\"fill:none;stroke:#2ca02c;stroke-width:1.5;\"/>\r\n    <path clip-path=\"url(#p8430b6be81)\" d=\"M 270.1585 224.64 \r\nL 270.1585 220.745521 \r\nL 275.38975 220.745521 \r\nL 275.38975 221.628537 \r\n\" style=\"fill:none;stroke:#2ca02c;stroke-width:1.5;\"/>\r\n    <path clip-path=\"url(#p8430b6be81)\" d=\"M 280.2025 224.64 \r\nL 280.2025 222.357016 \r\nL 281.8765 222.357016 \r\nL 281.8765 224.64 \r\n\" style=\"fill:none;stroke:#2ca02c;stroke-width:1.5;\"/>\r\n    <path clip-path=\"url(#p8430b6be81)\" d=\"M 285.2245 224.64 \r\nL 285.2245 222.357016 \r\nL 286.8985 222.357016 \r\nL 286.8985 224.64 \r\n\" style=\"fill:none;stroke:#2ca02c;stroke-width:1.5;\"/>\r\n    <path clip-path=\"url(#p8430b6be81)\" d=\"M 283.5505 224.64 \r\nL 283.5505 221.465639 \r\nL 286.0615 221.465639 \r\nL 286.0615 222.357016 \r\n\" style=\"fill:none;stroke:#2ca02c;stroke-width:1.5;\"/>\r\n    <path clip-path=\"url(#p8430b6be81)\" d=\"M 281.0395 222.357016 \r\nL 281.0395 218.485815 \r\nL 284.806 218.485815 \r\nL 284.806 221.465639 \r\n\" style=\"fill:none;stroke:#2ca02c;stroke-width:1.5;\"/>\r\n    <path clip-path=\"url(#p8430b6be81)\" d=\"M 272.774125 220.745521 \r\nL 272.774125 216.602257 \r\nL 282.92275 216.602257 \r\nL 282.92275 218.485815 \r\n\" style=\"fill:none;stroke:#2ca02c;stroke-width:1.5;\"/>\r\n    <path clip-path=\"url(#p8430b6be81)\" d=\"M 266.392 220.131467 \r\nL 266.392 212.326636 \r\nL 277.848438 212.326636 \r\nL 277.848438 216.602257 \r\n\" style=\"fill:none;stroke:#2ca02c;stroke-width:1.5;\"/>\r\n    <path clip-path=\"url(#p8430b6be81)\" d=\"M 288.5725 224.64 \r\nL 288.5725 223.918057 \r\nL 290.2465 223.918057 \r\nL 290.2465 224.64 \r\n\" style=\"fill:none;stroke:#2ca02c;stroke-width:1.5;\"/>\r\n    <path clip-path=\"url(#p8430b6be81)\" d=\"M 291.9205 224.64 \r\nL 291.9205 223.619018 \r\nL 293.5945 223.619018 \r\nL 293.5945 224.64 \r\n\" style=\"fill:none;stroke:#2ca02c;stroke-width:1.5;\"/>\r\n    <path clip-path=\"url(#p8430b6be81)\" d=\"M 289.4095 223.918057 \r\nL 289.4095 222.087546 \r\nL 292.7575 222.087546 \r\nL 292.7575 223.619018 \r\n\" style=\"fill:none;stroke:#2ca02c;stroke-width:1.5;\"/>\r\n    <path clip-path=\"url(#p8430b6be81)\" d=\"M 296.9425 224.64 \r\nL 296.9425 223.918057 \r\nL 298.6165 223.918057 \r\nL 298.6165 224.64 \r\n\" style=\"fill:none;stroke:#2ca02c;stroke-width:1.5;\"/>\r\n    <path clip-path=\"url(#p8430b6be81)\" d=\"M 295.2685 224.64 \r\nL 295.2685 223.389558 \r\nL 297.7795 223.389558 \r\nL 297.7795 223.918057 \r\n\" style=\"fill:none;stroke:#2ca02c;stroke-width:1.5;\"/>\r\n    <path clip-path=\"url(#p8430b6be81)\" d=\"M 301.9645 224.64 \r\nL 301.9645 224.64 \r\nL 303.6385 224.64 \r\nL 303.6385 224.64 \r\n\" style=\"fill:none;stroke:#2ca02c;stroke-width:1.5;\"/>\r\n    <path clip-path=\"url(#p8430b6be81)\" d=\"M 300.2905 224.64 \r\nL 300.2905 223.321918 \r\nL 302.8015 223.321918 \r\nL 302.8015 224.64 \r\n\" style=\"fill:none;stroke:#2ca02c;stroke-width:1.5;\"/>\r\n    <path clip-path=\"url(#p8430b6be81)\" d=\"M 296.524 223.389558 \r\nL 296.524 220.797165 \r\nL 301.546 220.797165 \r\nL 301.546 223.321918 \r\n\" style=\"fill:none;stroke:#2ca02c;stroke-width:1.5;\"/>\r\n    <path clip-path=\"url(#p8430b6be81)\" d=\"M 291.0835 222.087546 \r\nL 291.0835 217.835584 \r\nL 299.035 217.835584 \r\nL 299.035 220.797165 \r\n\" style=\"fill:none;stroke:#2ca02c;stroke-width:1.5;\"/>\r\n    <path clip-path=\"url(#p8430b6be81)\" d=\"M 305.3125 224.64 \r\nL 305.3125 223.498508 \r\nL 306.9865 223.498508 \r\nL 306.9865 224.64 \r\n\" style=\"fill:none;stroke:#2ca02c;stroke-width:1.5;\"/>\r\n    <path clip-path=\"url(#p8430b6be81)\" d=\"M 308.6605 224.64 \r\nL 308.6605 223.619018 \r\nL 310.3345 223.619018 \r\nL 310.3345 224.64 \r\n\" style=\"fill:none;stroke:#2ca02c;stroke-width:1.5;\"/>\r\n    <path clip-path=\"url(#p8430b6be81)\" d=\"M 312.0085 224.64 \r\nL 312.0085 221.534806 \r\nL 313.6825 221.534806 \r\nL 313.6825 224.64 \r\n\" style=\"fill:none;stroke:#2ca02c;stroke-width:1.5;\"/>\r\n    <path clip-path=\"url(#p8430b6be81)\" d=\"M 309.4975 223.619018 \r\nL 309.4975 218.052888 \r\nL 312.8455 218.052888 \r\nL 312.8455 221.534806 \r\n\" style=\"fill:none;stroke:#2ca02c;stroke-width:1.5;\"/>\r\n    <path clip-path=\"url(#p8430b6be81)\" d=\"M 306.1495 223.498508 \r\nL 306.1495 211.818311 \r\nL 311.1715 211.818311 \r\nL 311.1715 218.052888 \r\n\" style=\"fill:none;stroke:#2ca02c;stroke-width:1.5;\"/>\r\n    <path clip-path=\"url(#p8430b6be81)\" d=\"M 295.05925 217.835584 \r\nL 295.05925 199.174661 \r\nL 308.6605 199.174661 \r\nL 308.6605 211.818311 \r\n\" style=\"fill:none;stroke:#2ca02c;stroke-width:1.5;\"/>\r\n    <path clip-path=\"url(#p8430b6be81)\" d=\"M 272.120219 212.326636 \r\nL 272.120219 189.14907 \r\nL 301.859875 189.14907 \r\nL 301.859875 199.174661 \r\n\" style=\"fill:none;stroke:#2ca02c;stroke-width:1.5;\"/>\r\n    <path clip-path=\"url(#p8430b6be81)\" d=\"M 254.020094 194.779319 \r\nL 254.020094 167.047346 \r\nL 286.990047 167.047346 \r\nL 286.990047 189.14907 \r\n\" style=\"fill:none;stroke:#2ca02c;stroke-width:1.5;\"/>\r\n   </g>\r\n   <g id=\"LineCollection_3\">\r\n    <path clip-path=\"url(#p8430b6be81)\" d=\"M 317.0305 224.64 \r\nL 317.0305 224.64 \r\nL 318.7045 224.64 \r\nL 318.7045 224.64 \r\n\" style=\"fill:none;stroke:#d62728;stroke-width:1.5;\"/>\r\n    <path clip-path=\"url(#p8430b6be81)\" d=\"M 315.3565 224.64 \r\nL 315.3565 221.69268 \r\nL 317.8675 221.69268 \r\nL 317.8675 224.64 \r\n\" style=\"fill:none;stroke:#d62728;stroke-width:1.5;\"/>\r\n    <path clip-path=\"url(#p8430b6be81)\" d=\"M 322.0525 224.64 \r\nL 322.0525 223.619018 \r\nL 323.7265 223.619018 \r\nL 323.7265 224.64 \r\n\" style=\"fill:none;stroke:#d62728;stroke-width:1.5;\"/>\r\n    <path clip-path=\"url(#p8430b6be81)\" d=\"M 320.3785 224.64 \r\nL 320.3785 223.321918 \r\nL 322.8895 223.321918 \r\nL 322.8895 223.619018 \r\n\" style=\"fill:none;stroke:#d62728;stroke-width:1.5;\"/>\r\n    <path clip-path=\"url(#p8430b6be81)\" d=\"M 327.0745 224.64 \r\nL 327.0745 223.619018 \r\nL 328.7485 223.619018 \r\nL 328.7485 224.64 \r\n\" style=\"fill:none;stroke:#d62728;stroke-width:1.5;\"/>\r\n    <path clip-path=\"url(#p8430b6be81)\" d=\"M 325.4005 224.64 \r\nL 325.4005 222.871608 \r\nL 327.9115 222.871608 \r\nL 327.9115 223.619018 \r\n\" style=\"fill:none;stroke:#d62728;stroke-width:1.5;\"/>\r\n    <path clip-path=\"url(#p8430b6be81)\" d=\"M 321.634 223.321918 \r\nL 321.634 220.534858 \r\nL 326.656 220.534858 \r\nL 326.656 222.871608 \r\n\" style=\"fill:none;stroke:#d62728;stroke-width:1.5;\"/>\r\n    <path clip-path=\"url(#p8430b6be81)\" d=\"M 316.612 221.69268 \r\nL 316.612 216.203592 \r\nL 324.145 216.203592 \r\nL 324.145 220.534858 \r\n\" style=\"fill:none;stroke:#d62728;stroke-width:1.5;\"/>\r\n    <path clip-path=\"url(#p8430b6be81)\" d=\"M 333.7705 224.64 \r\nL 333.7705 224.129509 \r\nL 335.4445 224.129509 \r\nL 335.4445 224.64 \r\n\" style=\"fill:none;stroke:#d62728;stroke-width:1.5;\"/>\r\n    <path clip-path=\"url(#p8430b6be81)\" d=\"M 332.0965 224.64 \r\nL 332.0965 223.424789 \r\nL 334.6075 223.424789 \r\nL 334.6075 224.129509 \r\n\" style=\"fill:none;stroke:#d62728;stroke-width:1.5;\"/>\r\n    <path clip-path=\"url(#p8430b6be81)\" d=\"M 330.4225 224.64 \r\nL 330.4225 222.309939 \r\nL 333.352 222.309939 \r\nL 333.352 223.424789 \r\n\" style=\"fill:none;stroke:#d62728;stroke-width:1.5;\"/>\r\n    <path clip-path=\"url(#p8430b6be81)\" d=\"M 337.1185 224.64 \r\nL 337.1185 222.036998 \r\nL 338.7925 222.036998 \r\nL 338.7925 224.64 \r\n\" style=\"fill:none;stroke:#d62728;stroke-width:1.5;\"/>\r\n    <path clip-path=\"url(#p8430b6be81)\" d=\"M 331.88725 222.309939 \r\nL 331.88725 217.813279 \r\nL 337.9555 217.813279 \r\nL 337.9555 222.036998 \r\n\" style=\"fill:none;stroke:#d62728;stroke-width:1.5;\"/>\r\n    <path clip-path=\"url(#p8430b6be81)\" d=\"M 342.1405 224.64 \r\nL 342.1405 223.498508 \r\nL 343.8145 223.498508 \r\nL 343.8145 224.64 \r\n\" style=\"fill:none;stroke:#d62728;stroke-width:1.5;\"/>\r\n    <path clip-path=\"url(#p8430b6be81)\" d=\"M 340.4665 224.64 \r\nL 340.4665 220.808484 \r\nL 342.9775 220.808484 \r\nL 342.9775 223.498508 \r\n\" style=\"fill:none;stroke:#d62728;stroke-width:1.5;\"/>\r\n    <path clip-path=\"url(#p8430b6be81)\" d=\"M 345.4885 224.64 \r\nL 345.4885 223.619018 \r\nL 347.1625 223.619018 \r\nL 347.1625 224.64 \r\n\" style=\"fill:none;stroke:#d62728;stroke-width:1.5;\"/>\r\n    <path clip-path=\"url(#p8430b6be81)\" d=\"M 350.5105 224.64 \r\nL 350.5105 224.129509 \r\nL 352.1845 224.129509 \r\nL 352.1845 224.64 \r\n\" style=\"fill:none;stroke:#d62728;stroke-width:1.5;\"/>\r\n    <path clip-path=\"url(#p8430b6be81)\" d=\"M 348.8365 224.64 \r\nL 348.8365 221.922705 \r\nL 351.3475 221.922705 \r\nL 351.3475 224.129509 \r\n\" style=\"fill:none;stroke:#d62728;stroke-width:1.5;\"/>\r\n    <path clip-path=\"url(#p8430b6be81)\" d=\"M 346.3255 223.619018 \r\nL 346.3255 219.887589 \r\nL 350.092 219.887589 \r\nL 350.092 221.922705 \r\n\" style=\"fill:none;stroke:#d62728;stroke-width:1.5;\"/>\r\n    <path clip-path=\"url(#p8430b6be81)\" d=\"M 341.722 220.808484 \r\nL 341.722 214.024533 \r\nL 348.20875 214.024533 \r\nL 348.20875 219.887589 \r\n\" style=\"fill:none;stroke:#d62728;stroke-width:1.5;\"/>\r\n    <path clip-path=\"url(#p8430b6be81)\" d=\"M 334.921375 217.813279 \r\nL 334.921375 209.35275 \r\nL 344.965375 209.35275 \r\nL 344.965375 214.024533 \r\n\" style=\"fill:none;stroke:#d62728;stroke-width:1.5;\"/>\r\n    <path clip-path=\"url(#p8430b6be81)\" d=\"M 320.3785 216.203592 \r\nL 320.3785 199.376615 \r\nL 339.943375 199.376615 \r\nL 339.943375 209.35275 \r\n\" style=\"fill:none;stroke:#d62728;stroke-width:1.5;\"/>\r\n    <path clip-path=\"url(#p8430b6be81)\" d=\"M 353.8585 224.64 \r\nL 353.8585 220.923571 \r\nL 355.5325 220.923571 \r\nL 355.5325 224.64 \r\n\" style=\"fill:none;stroke:#d62728;stroke-width:1.5;\"/>\r\n    <path clip-path=\"url(#p8430b6be81)\" d=\"M 358.8805 224.64 \r\nL 358.8805 223.498508 \r\nL 360.5545 223.498508 \r\nL 360.5545 224.64 \r\n\" style=\"fill:none;stroke:#d62728;stroke-width:1.5;\"/>\r\n    <path clip-path=\"url(#p8430b6be81)\" d=\"M 357.2065 224.64 \r\nL 357.2065 220.763406 \r\nL 359.7175 220.763406 \r\nL 359.7175 223.498508 \r\n\" style=\"fill:none;stroke:#d62728;stroke-width:1.5;\"/>\r\n    <path clip-path=\"url(#p8430b6be81)\" d=\"M 354.6955 220.923571 \r\nL 354.6955 212.923893 \r\nL 358.462 212.923893 \r\nL 358.462 220.763406 \r\n\" style=\"fill:none;stroke:#d62728;stroke-width:1.5;\"/>\r\n    <path clip-path=\"url(#p8430b6be81)\" d=\"M 362.2285 224.64 \r\nL 362.2285 219.213408 \r\nL 363.9025 219.213408 \r\nL 363.9025 224.64 \r\n\" style=\"fill:none;stroke:#d62728;stroke-width:1.5;\"/>\r\n    <path clip-path=\"url(#p8430b6be81)\" d=\"M 365.5765 224.64 \r\nL 365.5765 217.051009 \r\nL 367.2505 217.051009 \r\nL 367.2505 224.64 \r\n\" style=\"fill:none;stroke:#d62728;stroke-width:1.5;\"/>\r\n    <path clip-path=\"url(#p8430b6be81)\" d=\"M 363.0655 219.213408 \r\nL 363.0655 211.211084 \r\nL 366.4135 211.211084 \r\nL 366.4135 217.051009 \r\n\" style=\"fill:none;stroke:#d62728;stroke-width:1.5;\"/>\r\n    <path clip-path=\"url(#p8430b6be81)\" d=\"M 356.57875 212.923893 \r\nL 356.57875 197.460447 \r\nL 364.7395 197.460447 \r\nL 364.7395 211.211084 \r\n\" style=\"fill:none;stroke:#d62728;stroke-width:1.5;\"/>\r\n    <path clip-path=\"url(#p8430b6be81)\" d=\"M 330.160938 199.376615 \r\nL 330.160938 166.502238 \r\nL 360.659125 166.502238 \r\nL 360.659125 197.460447 \r\n\" style=\"fill:none;stroke:#d62728;stroke-width:1.5;\"/>\r\n   </g>\r\n   <g id=\"LineCollection_4\">\r\n    <path clip-path=\"url(#p8430b6be81)\" d=\"M 270.50507 167.047346 \r\nL 270.50507 23.067782 \r\nL 345.410031 23.067782 \r\nL 345.410031 166.502238 \r\n\" style=\"fill:none;stroke:#1f77b4;stroke-width:1.5;\"/>\r\n    <path clip-path=\"url(#p8430b6be81)\" d=\"M 87.535563 90.604194 \r\nL 87.535563 17.554286 \r\nL 307.957551 17.554286 \r\nL 307.957551 23.067782 \r\n\" style=\"fill:none;stroke:#1f77b4;stroke-width:1.5;\"/>\r\n   </g>\r\n   <g id=\"patch_3\">\r\n    <path d=\"M 33.2875 224.64 \r\nL 33.2875 7.2 \r\n\" style=\"fill:none;stroke:#000000;stroke-linecap:square;stroke-linejoin:miter;stroke-width:0.8;\"/>\r\n   </g>\r\n   <g id=\"patch_4\">\r\n    <path d=\"M 368.0875 224.64 \r\nL 368.0875 7.2 \r\n\" style=\"fill:none;stroke:#000000;stroke-linecap:square;stroke-linejoin:miter;stroke-width:0.8;\"/>\r\n   </g>\r\n   <g id=\"patch_5\">\r\n    <path d=\"M 33.2875 224.64 \r\nL 368.0875 224.64 \r\n\" style=\"fill:none;stroke:#000000;stroke-linecap:square;stroke-linejoin:miter;stroke-width:0.8;\"/>\r\n   </g>\r\n   <g id=\"patch_6\">\r\n    <path d=\"M 33.2875 7.2 \r\nL 368.0875 7.2 \r\n\" style=\"fill:none;stroke:#000000;stroke-linecap:square;stroke-linejoin:miter;stroke-width:0.8;\"/>\r\n   </g>\r\n  </g>\r\n </g>\r\n <defs>\r\n  <clipPath id=\"p8430b6be81\">\r\n   <rect height=\"217.44\" width=\"334.8\" x=\"33.2875\" y=\"7.2\"/>\r\n  </clipPath>\r\n </defs>\r\n</svg>\r\n",
      "image/png": "[encoded data removed]"
     },
     "metadata": {
      "needs_background": "light"
     }
    }
   ],
   "source": [
    "dendro = scy.dendrogram(scy.linkage(x,method='ward'))\n"
   ]
  },
  {
   "cell_type": "code",
   "execution_count": 7,
   "metadata": {},
   "outputs": [],
   "source": [
    "from sklearn.cluster import AgglomerativeClustering"
   ]
  },
  {
   "cell_type": "code",
   "execution_count": 8,
   "metadata": {},
   "outputs": [],
   "source": [
    "cluster = AgglomerativeClustering(n_clusters=5,affinity='euclidean',linkage='ward')\n",
    "ypred = cluster.fit_predict(x)"
   ]
  },
  {
   "cell_type": "code",
   "execution_count": 10,
   "metadata": {},
   "outputs": [],
   "source": [
    "df['groups'] = ypred"
   ]
  },
  {
   "cell_type": "code",
   "execution_count": 15,
   "metadata": {},
   "outputs": [
    {
     "output_type": "display_data",
     "data": {
      "application/vnd.plotly.v1+json": {
       "config": {
        "plotlyServerURL": "https://plot.ly"
       },
       "data": [
        {
         "hovertemplate": "Annual Income (k$)=%{x}<br>Spending Score (1-100)=%{y}<br>Age=%{z}<br>groups=%{marker.color}<extra></extra>",
         "legendgroup": "",
         "marker": {
          "color": [
           4,
           3,
           4,
           3,
           4,
           3,
           4,
           3,
           4,
           3,
           4,
           3,
           4,
           3,
           4,
           3,
           4,
           3,
           4,
           3,
           4,
           3,
           4,
           3,
           4,
           3,
           4,
           3,
           4,
           3,
           4,
           3,
           4,
           3,
           4,
           3,
           4,
           3,
           4,
           3,
           4,
           3,
           4,
           1,
           4,
           1,
           1,
           1,
           1,
           1,
           1,
           1,
           1,
           1,
           1,
           1,
           1,
           1,
           1,
           1,
           1,
           1,
           1,
           1,
           1,
           1,
           1,
           1,
           1,
           1,
           1,
           1,
           1,
           1,
           1,
           1,
           1,
           1,
           1,
           1,
           1,
           1,
           1,
           1,
           1,
           1,
           1,
           1,
           1,
           1,
           1,
           1,
           1,
           1,
           1,
           1,
           1,
           1,
           1,
           1,
           1,
           1,
           1,
           1,
           1,
           1,
           1,
           1,
           1,
           1,
           1,
           1,
           1,
           1,
           1,
           1,
           1,
           1,
           1,
           1,
           1,
           1,
           1,
           2,
           1,
           2,
           1,
           2,
           0,
           2,
           0,
           2,
           1,
           2,
           0,
           2,
           0,
           2,
           0,
           2,
           0,
           2,
           1,
           2,
           0,
           2,
           1,
           2,
           0,
           2,
           0,
           2,
           0,
           2,
           0,
           2,
           0,
           2,
           0,
           2,
           1,
           2,
           0,
           2,
           0,
           2,
           0,
           2,
           0,
           2,
           0,
           2,
           0,
           2,
           0,
           2,
           0,
           2,
           0,
           2,
           0,
           2,
           0,
           2,
           0,
           2,
           0,
           2,
           0,
           2,
           0,
           2,
           0,
           2,
           0,
           2,
           0,
           2,
           0,
           2
          ],
          "coloraxis": "coloraxis",
          "line": {
           "color": "black",
           "width": 2
          },
          "size": 10,
          "symbol": "circle"
         },
         "mode": "markers",
         "name": "",
         "scene": "scene",
         "showlegend": false,
         "type": "scatter3d",
         "x": [
          15,
          15,
          16,
          16,
          17,
          17,
          18,
          18,
          19,
          19,
          19,
          19,
          20,
          20,
          20,
          20,
          21,
          21,
          23,
          23,
          24,
          24,
          25,
          25,
          28,
          28,
          28,
          28,
          29,
          29,
          30,
          30,
          33,
          33,
          33,
          33,
          34,
          34,
          37,
          37,
          38,
          38,
          39,
          39,
          39,
          39,
          40,
          40,
          40,
          40,
          42,
          42,
          43,
          43,
          43,
          43,
          44,
          44,
          46,
          46,
          46,
          46,
          47,
          47,
          48,
          48,
          48,
          48,
          48,
          48,
          49,
          49,
          50,
          50,
          54,
          54,
          54,
          54,
          54,
          54,
          54,
          54,
          54,
          54,
          54,
          54,
          57,
          57,
          58,
          58,
          59,
          59,
          60,
          60,
          60,
          60,
          60,
          60,
          61,
          61,
          62,
          62,
          62,
          62,
          62,
          62,
          63,
          63,
          63,
          63,
          63,
          63,
          64,
          64,
          65,
          65,
          65,
          65,
          67,
          67,
          67,
          67,
          69,
          69,
          70,
          70,
          71,
          71,
          71,
          71,
          71,
          71,
          72,
          72,
          73,
          73,
          73,
          73,
          74,
          74,
          75,
          75,
          76,
          76,
          77,
          77,
          77,
          77,
          78,
          78,
          78,
          78,
          78,
          78,
          78,
          78,
          78,
          78,
          78,
          78,
          79,
          79,
          81,
          81,
          85,
          85,
          86,
          86,
          87,
          87,
          87,
          87,
          87,
          87,
          88,
          88,
          88,
          88,
          93,
          93,
          97,
          97,
          98,
          98,
          99,
          99,
          101,
          101,
          103,
          103,
          103,
          103,
          113,
          113,
          120,
          120,
          126,
          126,
          137,
          137
         ],
         "y": [
          39,
          81,
          6,
          77,
          40,
          76,
          6,
          94,
          3,
          72,
          14,
          99,
          15,
          77,
          13,
          79,
          35,
          66,
          29,
          98,
          35,
          73,
          5,
          73,
          14,
          82,
          32,
          61,
          31,
          87,
          4,
          73,
          4,
          92,
          14,
          81,
          17,
          73,
          26,
          75,
          35,
          92,
          36,
          61,
          28,
          65,
          55,
          47,
          42,
          42,
          52,
          60,
          54,
          60,
          45,
          41,
          50,
          46,
          51,
          46,
          56,
          55,
          52,
          59,
          51,
          59,
          50,
          48,
          59,
          47,
          55,
          42,
          49,
          56,
          47,
          54,
          53,
          48,
          52,
          42,
          51,
          55,
          41,
          44,
          57,
          46,
          58,
          55,
          60,
          46,
          55,
          41,
          49,
          40,
          42,
          52,
          47,
          50,
          42,
          49,
          41,
          48,
          59,
          55,
          56,
          42,
          50,
          46,
          43,
          48,
          52,
          54,
          42,
          46,
          48,
          50,
          43,
          59,
          43,
          57,
          56,
          40,
          58,
          91,
          29,
          77,
          35,
          95,
          11,
          75,
          9,
          75,
          34,
          71,
          5,
          88,
          7,
          73,
          10,
          72,
          5,
          93,
          40,
          87,
          12,
          97,
          36,
          74,
          22,
          90,
          17,
          88,
          20,
          76,
          16,
          89,
          1,
          78,
          1,
          73,
          35,
          83,
          5,
          93,
          26,
          75,
          20,
          95,
          27,
          63,
          13,
          75,
          10,
          92,
          13,
          86,
          15,
          69,
          14,
          90,
          32,
          86,
          15,
          88,
          39,
          97,
          24,
          68,
          17,
          85,
          23,
          69,
          8,
          91,
          16,
          79,
          28,
          74,
          18,
          83
         ],
         "z": [
          19,
          21,
          20,
          23,
          31,
          22,
          35,
          23,
          64,
          30,
          67,
          35,
          58,
          24,
          37,
          22,
          35,
          20,
          52,
          35,
          35,
          25,
          46,
          31,
          54,
          29,
          45,
          35,
          40,
          23,
          60,
          21,
          53,
          18,
          49,
          21,
          42,
          30,
          36,
          20,
          65,
          24,
          48,
          31,
          49,
          24,
          50,
          27,
          29,
          31,
          49,
          33,
          31,
          59,
          50,
          47,
          51,
          69,
          27,
          53,
          70,
          19,
          67,
          54,
          63,
          18,
          43,
          68,
          19,
          32,
          70,
          47,
          60,
          60,
          59,
          26,
          45,
          40,
          23,
          49,
          57,
          38,
          67,
          46,
          21,
          48,
          55,
          22,
          34,
          50,
          68,
          18,
          48,
          40,
          32,
          24,
          47,
          27,
          48,
          20,
          23,
          49,
          67,
          26,
          49,
          21,
          66,
          54,
          68,
          66,
          65,
          19,
          38,
          19,
          18,
          19,
          63,
          49,
          51,
          50,
          27,
          38,
          40,
          39,
          23,
          31,
          43,
          40,
          59,
          38,
          47,
          39,
          25,
          31,
          20,
          29,
          44,
          32,
          19,
          35,
          57,
          32,
          28,
          32,
          25,
          28,
          48,
          32,
          34,
          34,
          43,
          39,
          44,
          38,
          47,
          27,
          37,
          30,
          34,
          30,
          56,
          29,
          19,
          31,
          50,
          36,
          42,
          33,
          36,
          32,
          40,
          28,
          36,
          36,
          52,
          30,
          58,
          27,
          59,
          35,
          37,
          32,
          46,
          29,
          41,
          30,
          54,
          28,
          41,
          36,
          34,
          32,
          33,
          38,
          47,
          35,
          45,
          32,
          32,
          30
         ]
        }
       ],
       "layout": {
        "coloraxis": {
         "colorbar": {
          "title": {
           "text": "groups"
          }
         },
         "colorscale": [
          [
           0,
           "#0d0887"
          ],
          [
           0.1111111111111111,
           "#46039f"
          ],
          [
           0.2222222222222222,
           "#7201a8"
          ],
          [
           0.3333333333333333,
           "#9c179e"
          ],
          [
           0.4444444444444444,
           "#bd3786"
          ],
          [
           0.5555555555555556,
           "#d8576b"
          ],
          [
           0.6666666666666666,
           "#ed7953"
          ],
          [
           0.7777777777777778,
           "#fb9f3a"
          ],
          [
           0.8888888888888888,
           "#fdca26"
          ],
          [
           1,
           "#f0f921"
          ]
         ]
        },
        "legend": {
         "tracegroupgap": 0
        },
        "margin": {
         "t": 60
        },
        "scene": {
         "domain": {
          "x": [
           0,
           1
          ],
          "y": [
           0,
           1
          ]
         },
         "xaxis": {
          "title": {
           "text": "Annual Income (k$)"
          }
         },
         "yaxis": {
          "title": {
           "text": "Spending Score (1-100)"
          }
         },
         "zaxis": {
          "title": {
           "text": "Age"
          }
         }
        },
        "template": {
         "data": {
          "bar": [
           {
            "error_x": {
             "color": "#2a3f5f"
            },
            "error_y": {
             "color": "#2a3f5f"
            },
            "marker": {
             "line": {
              "color": "#E5ECF6",
              "width": 0.5
             }
            },
            "type": "bar"
           }
          ],
          "barpolar": [
           {
            "marker": {
             "line": {
              "color": "#E5ECF6",
              "width": 0.5
             }
            },
            "type": "barpolar"
           }
          ],
          "carpet": [
           {
            "aaxis": {
             "endlinecolor": "#2a3f5f",
             "gridcolor": "white",
             "linecolor": "white",
             "minorgridcolor": "white",
             "startlinecolor": "#2a3f5f"
            },
            "baxis": {
             "endlinecolor": "#2a3f5f",
             "gridcolor": "white",
             "linecolor": "white",
             "minorgridcolor": "white",
             "startlinecolor": "#2a3f5f"
            },
            "type": "carpet"
           }
          ],
          "choropleth": [
           {
            "colorbar": {
             "outlinewidth": 0,
             "ticks": ""
            },
            "type": "choropleth"
           }
          ],
          "contour": [
           {
            "colorbar": {
             "outlinewidth": 0,
             "ticks": ""
            },
            "colorscale": [
             [
              0,
              "#0d0887"
             ],
             [
              0.1111111111111111,
              "#46039f"
             ],
             [
              0.2222222222222222,
              "#7201a8"
             ],
             [
              0.3333333333333333,
              "#9c179e"
             ],
             [
              0.4444444444444444,
              "#bd3786"
             ],
             [
              0.5555555555555556,
              "#d8576b"
             ],
             [
              0.6666666666666666,
              "#ed7953"
             ],
             [
              0.7777777777777778,
              "#fb9f3a"
             ],
             [
              0.8888888888888888,
              "#fdca26"
             ],
             [
              1,
              "#f0f921"
             ]
            ],
            "type": "contour"
           }
          ],
          "contourcarpet": [
           {
            "colorbar": {
             "outlinewidth": 0,
             "ticks": ""
            },
            "type": "contourcarpet"
           }
          ],
          "heatmap": [
           {
            "colorbar": {
             "outlinewidth": 0,
             "ticks": ""
            },
            "colorscale": [
             [
              0,
              "#0d0887"
             ],
             [
              0.1111111111111111,
              "#46039f"
             ],
             [
              0.2222222222222222,
              "#7201a8"
             ],
             [
              0.3333333333333333,
              "#9c179e"
             ],
             [
              0.4444444444444444,
              "#bd3786"
             ],
             [
              0.5555555555555556,
              "#d8576b"
             ],
             [
              0.6666666666666666,
              "#ed7953"
             ],
             [
              0.7777777777777778,
              "#fb9f3a"
             ],
             [
              0.8888888888888888,
              "#fdca26"
             ],
             [
              1,
              "#f0f921"
             ]
            ],
            "type": "heatmap"
           }
          ],
          "heatmapgl": [
           {
            "colorbar": {
             "outlinewidth": 0,
             "ticks": ""
            },
            "colorscale": [
             [
              0,
              "#0d0887"
             ],
             [
              0.1111111111111111,
              "#46039f"
             ],
             [
              0.2222222222222222,
              "#7201a8"
             ],
             [
              0.3333333333333333,
              "#9c179e"
             ],
             [
              0.4444444444444444,
              "#bd3786"
             ],
             [
              0.5555555555555556,
              "#d8576b"
             ],
             [
              0.6666666666666666,
              "#ed7953"
             ],
             [
              0.7777777777777778,
              "#fb9f3a"
             ],
             [
              0.8888888888888888,
              "#fdca26"
             ],
             [
              1,
              "#f0f921"
             ]
            ],
            "type": "heatmapgl"
           }
          ],
          "histogram": [
           {
            "marker": {
             "colorbar": {
              "outlinewidth": 0,
              "ticks": ""
             }
            },
            "type": "histogram"
           }
          ],
          "histogram2d": [
           {
            "colorbar": {
             "outlinewidth": 0,
             "ticks": ""
            },
            "colorscale": [
             [
              0,
              "#0d0887"
             ],
             [
              0.1111111111111111,
              "#46039f"
             ],
             [
              0.2222222222222222,
              "#7201a8"
             ],
             [
              0.3333333333333333,
              "#9c179e"
             ],
             [
              0.4444444444444444,
              "#bd3786"
             ],
             [
              0.5555555555555556,
              "#d8576b"
             ],
             [
              0.6666666666666666,
              "#ed7953"
             ],
             [
              0.7777777777777778,
              "#fb9f3a"
             ],
             [
              0.8888888888888888,
              "#fdca26"
             ],
             [
              1,
              "#f0f921"
             ]
            ],
            "type": "histogram2d"
           }
          ],
          "histogram2dcontour": [
           {
            "colorbar": {
             "outlinewidth": 0,
             "ticks": ""
            },
            "colorscale": [
             [
              0,
              "#0d0887"
             ],
             [
              0.1111111111111111,
              "#46039f"
             ],
             [
              0.2222222222222222,
              "#7201a8"
             ],
             [
              0.3333333333333333,
              "#9c179e"
             ],
             [
              0.4444444444444444,
              "#bd3786"
             ],
             [
              0.5555555555555556,
              "#d8576b"
             ],
             [
              0.6666666666666666,
              "#ed7953"
             ],
             [
              0.7777777777777778,
              "#fb9f3a"
             ],
             [
              0.8888888888888888,
              "#fdca26"
             ],
             [
              1,
              "#f0f921"
             ]
            ],
            "type": "histogram2dcontour"
           }
          ],
          "mesh3d": [
           {
            "colorbar": {
             "outlinewidth": 0,
             "ticks": ""
            },
            "type": "mesh3d"
           }
          ],
          "parcoords": [
           {
            "line": {
             "colorbar": {
              "outlinewidth": 0,
              "ticks": ""
             }
            },
            "type": "parcoords"
           }
          ],
          "pie": [
           {
            "automargin": true,
            "type": "pie"
           }
          ],
          "scatter": [
           {
            "marker": {
             "colorbar": {
              "outlinewidth": 0,
              "ticks": ""
             }
            },
            "type": "scatter"
           }
          ],
          "scatter3d": [
           {
            "line": {
             "colorbar": {
              "outlinewidth": 0,
              "ticks": ""
             }
            },
            "marker": {
             "colorbar": {
              "outlinewidth": 0,
              "ticks": ""
             }
            },
            "type": "scatter3d"
           }
          ],
          "scattercarpet": [
           {
            "marker": {
             "colorbar": {
              "outlinewidth": 0,
              "ticks": ""
             }
            },
            "type": "scattercarpet"
           }
          ],
          "scattergeo": [
           {
            "marker": {
             "colorbar": {
              "outlinewidth": 0,
              "ticks": ""
             }
            },
            "type": "scattergeo"
           }
          ],
          "scattergl": [
           {
            "marker": {
             "colorbar": {
              "outlinewidth": 0,
              "ticks": ""
             }
            },
            "type": "scattergl"
           }
          ],
          "scattermapbox": [
           {
            "marker": {
             "colorbar": {
              "outlinewidth": 0,
              "ticks": ""
             }
            },
            "type": "scattermapbox"
           }
          ],
          "scatterpolar": [
           {
            "marker": {
             "colorbar": {
              "outlinewidth": 0,
              "ticks": ""
             }
            },
            "type": "scatterpolar"
           }
          ],
          "scatterpolargl": [
           {
            "marker": {
             "colorbar": {
              "outlinewidth": 0,
              "ticks": ""
             }
            },
            "type": "scatterpolargl"
           }
          ],
          "scatterternary": [
           {
            "marker": {
             "colorbar": {
              "outlinewidth": 0,
              "ticks": ""
             }
            },
            "type": "scatterternary"
           }
          ],
          "surface": [
           {
            "colorbar": {
             "outlinewidth": 0,
             "ticks": ""
            },
            "colorscale": [
             [
              0,
              "#0d0887"
             ],
             [
              0.1111111111111111,
              "#46039f"
             ],
             [
              0.2222222222222222,
              "#7201a8"
             ],
             [
              0.3333333333333333,
              "#9c179e"
             ],
             [
              0.4444444444444444,
              "#bd3786"
             ],
             [
              0.5555555555555556,
              "#d8576b"
             ],
             [
              0.6666666666666666,
              "#ed7953"
             ],
             [
              0.7777777777777778,
              "#fb9f3a"
             ],
             [
              0.8888888888888888,
              "#fdca26"
             ],
             [
              1,
              "#f0f921"
             ]
            ],
            "type": "surface"
           }
          ],
          "table": [
           {
            "cells": {
             "fill": {
              "color": "#EBF0F8"
             },
             "line": {
              "color": "white"
             }
            },
            "header": {
             "fill": {
              "color": "#C8D4E3"
             },
             "line": {
              "color": "white"
             }
            },
            "type": "table"
           }
          ]
         },
         "layout": {
          "annotationdefaults": {
           "arrowcolor": "#2a3f5f",
           "arrowhead": 0,
           "arrowwidth": 1
          },
          "coloraxis": {
           "colorbar": {
            "outlinewidth": 0,
            "ticks": ""
           }
          },
          "colorscale": {
           "diverging": [
            [
             0,
             "#8e0152"
            ],
            [
             0.1,
             "#c51b7d"
            ],
            [
             0.2,
             "#de77ae"
            ],
            [
             0.3,
             "#f1b6da"
            ],
            [
             0.4,
             "#fde0ef"
            ],
            [
             0.5,
             "#f7f7f7"
            ],
            [
             0.6,
             "#e6f5d0"
            ],
            [
             0.7,
             "#b8e186"
            ],
            [
             0.8,
             "#7fbc41"
            ],
            [
             0.9,
             "#4d9221"
            ],
            [
             1,
             "#276419"
            ]
           ],
           "sequential": [
            [
             0,
             "#0d0887"
            ],
            [
             0.1111111111111111,
             "#46039f"
            ],
            [
             0.2222222222222222,
             "#7201a8"
            ],
            [
             0.3333333333333333,
             "#9c179e"
            ],
            [
             0.4444444444444444,
             "#bd3786"
            ],
            [
             0.5555555555555556,
             "#d8576b"
            ],
            [
             0.6666666666666666,
             "#ed7953"
            ],
            [
             0.7777777777777778,
             "#fb9f3a"
            ],
            [
             0.8888888888888888,
             "#fdca26"
            ],
            [
             1,
             "#f0f921"
            ]
           ],
           "sequentialminus": [
            [
             0,
             "#0d0887"
            ],
            [
             0.1111111111111111,
             "#46039f"
            ],
            [
             0.2222222222222222,
             "#7201a8"
            ],
            [
             0.3333333333333333,
             "#9c179e"
            ],
            [
             0.4444444444444444,
             "#bd3786"
            ],
            [
             0.5555555555555556,
             "#d8576b"
            ],
            [
             0.6666666666666666,
             "#ed7953"
            ],
            [
             0.7777777777777778,
             "#fb9f3a"
            ],
            [
             0.8888888888888888,
             "#fdca26"
            ],
            [
             1,
             "#f0f921"
            ]
           ]
          },
          "colorway": [
           "#636efa",
           "#EF553B",
           "#00cc96",
           "#ab63fa",
           "#FFA15A",
           "#19d3f3",
           "#FF6692",
           "#B6E880",
           "#FF97FF",
           "#FECB52"
          ],
          "font": {
           "color": "#2a3f5f"
          },
          "geo": {
           "bgcolor": "white",
           "lakecolor": "white",
           "landcolor": "#E5ECF6",
           "showlakes": true,
           "showland": true,
           "subunitcolor": "white"
          },
          "hoverlabel": {
           "align": "left"
          },
          "hovermode": "closest",
          "mapbox": {
           "style": "light"
          },
          "paper_bgcolor": "white",
          "plot_bgcolor": "#E5ECF6",
          "polar": {
           "angularaxis": {
            "gridcolor": "white",
            "linecolor": "white",
            "ticks": ""
           },
           "bgcolor": "#E5ECF6",
           "radialaxis": {
            "gridcolor": "white",
            "linecolor": "white",
            "ticks": ""
           }
          },
          "scene": {
           "xaxis": {
            "backgroundcolor": "#E5ECF6",
            "gridcolor": "white",
            "gridwidth": 2,
            "linecolor": "white",
            "showbackground": true,
            "ticks": "",
            "zerolinecolor": "white"
           },
           "yaxis": {
            "backgroundcolor": "#E5ECF6",
            "gridcolor": "white",
            "gridwidth": 2,
            "linecolor": "white",
            "showbackground": true,
            "ticks": "",
            "zerolinecolor": "white"
           },
           "zaxis": {
            "backgroundcolor": "#E5ECF6",
            "gridcolor": "white",
            "gridwidth": 2,
            "linecolor": "white",
            "showbackground": true,
            "ticks": "",
            "zerolinecolor": "white"
           }
          },
          "shapedefaults": {
           "line": {
            "color": "#2a3f5f"
           }
          },
          "ternary": {
           "aaxis": {
            "gridcolor": "white",
            "linecolor": "white",
            "ticks": ""
           },
           "baxis": {
            "gridcolor": "white",
            "linecolor": "white",
            "ticks": ""
           },
           "bgcolor": "#E5ECF6",
           "caxis": {
            "gridcolor": "white",
            "linecolor": "white",
            "ticks": ""
           }
          },
          "title": {
           "x": 0.05
          },
          "xaxis": {
           "automargin": true,
           "gridcolor": "white",
           "linecolor": "white",
           "ticks": "",
           "title": {
            "standoff": 15
           },
           "zerolinecolor": "white",
           "zerolinewidth": 2
          },
          "yaxis": {
           "automargin": true,
           "gridcolor": "white",
           "linecolor": "white",
           "ticks": "",
           "title": {
            "standoff": 15
           },
           "zerolinecolor": "white",
           "zerolinewidth": 2
          }
         }
        }
       }
      }
     },
     "metadata": {}
    }
   ],
   "source": [
    "fig = px.scatter_3d(df,x='Annual Income (k$)',y='Spending Score (1-100)',z='Age',color='groups')\n",
    "# for marker border\n",
    "fig.update_traces(marker=dict(size=10,line=dict(width=2,color='black')),selector=dict(mode='markers')) \n",
    "fig.show()"
   ]
  },
  {
   "cell_type": "code",
   "execution_count": 10,
   "metadata": {},
   "outputs": [
    {
     "output_type": "stream",
     "text": [
      "\u001b[1;31mSignature:\u001b[0m\n",
      "\u001b[0mpx\u001b[0m\u001b[1;33m.\u001b[0m\u001b[0mscatter_3d\u001b[0m\u001b[1;33m(\u001b[0m\u001b[1;33m\n",
      "\u001b[0m    \u001b[0mdata_frame\u001b[0m\u001b[1;33m=\u001b[0m\u001b[1;32mNone\u001b[0m\u001b[1;33m,\u001b[0m\u001b[1;33m\n",
      "\u001b[0m    \u001b[0mx\u001b[0m\u001b[1;33m=\u001b[0m\u001b[1;32mNone\u001b[0m\u001b[1;33m,\u001b[0m\u001b[1;33m\n",
      "\u001b[0m    \u001b[0my\u001b[0m\u001b[1;33m=\u001b[0m\u001b[1;32mNone\u001b[0m\u001b[1;33m,\u001b[0m\u001b[1;33m\n",
      "\u001b[0m    \u001b[0mz\u001b[0m\u001b[1;33m=\u001b[0m\u001b[1;32mNone\u001b[0m\u001b[1;33m,\u001b[0m\u001b[1;33m\n",
      "\u001b[0m    \u001b[0mcolor\u001b[0m\u001b[1;33m=\u001b[0m\u001b[1;32mNone\u001b[0m\u001b[1;33m,\u001b[0m\u001b[1;33m\n",
      "\u001b[0m    \u001b[0msymbol\u001b[0m\u001b[1;33m=\u001b[0m\u001b[1;32mNone\u001b[0m\u001b[1;33m,\u001b[0m\u001b[1;33m\n",
      "\u001b[0m    \u001b[0msize\u001b[0m\u001b[1;33m=\u001b[0m\u001b[1;32mNone\u001b[0m\u001b[1;33m,\u001b[0m\u001b[1;33m\n",
      "\u001b[0m    \u001b[0mtext\u001b[0m\u001b[1;33m=\u001b[0m\u001b[1;32mNone\u001b[0m\u001b[1;33m,\u001b[0m\u001b[1;33m\n",
      "\u001b[0m    \u001b[0mhover_name\u001b[0m\u001b[1;33m=\u001b[0m\u001b[1;32mNone\u001b[0m\u001b[1;33m,\u001b[0m\u001b[1;33m\n",
      "\u001b[0m    \u001b[0mhover_data\u001b[0m\u001b[1;33m=\u001b[0m\u001b[1;32mNone\u001b[0m\u001b[1;33m,\u001b[0m\u001b[1;33m\n",
      "\u001b[0m    \u001b[0mcustom_data\u001b[0m\u001b[1;33m=\u001b[0m\u001b[1;32mNone\u001b[0m\u001b[1;33m,\u001b[0m\u001b[1;33m\n",
      "\u001b[0m    \u001b[0merror_x\u001b[0m\u001b[1;33m=\u001b[0m\u001b[1;32mNone\u001b[0m\u001b[1;33m,\u001b[0m\u001b[1;33m\n",
      "\u001b[0m    \u001b[0merror_x_minus\u001b[0m\u001b[1;33m=\u001b[0m\u001b[1;32mNone\u001b[0m\u001b[1;33m,\u001b[0m\u001b[1;33m\n",
      "\u001b[0m    \u001b[0merror_y\u001b[0m\u001b[1;33m=\u001b[0m\u001b[1;32mNone\u001b[0m\u001b[1;33m,\u001b[0m\u001b[1;33m\n",
      "\u001b[0m    \u001b[0merror_y_minus\u001b[0m\u001b[1;33m=\u001b[0m\u001b[1;32mNone\u001b[0m\u001b[1;33m,\u001b[0m\u001b[1;33m\n",
      "\u001b[0m    \u001b[0merror_z\u001b[0m\u001b[1;33m=\u001b[0m\u001b[1;32mNone\u001b[0m\u001b[1;33m,\u001b[0m\u001b[1;33m\n",
      "\u001b[0m    \u001b[0merror_z_minus\u001b[0m\u001b[1;33m=\u001b[0m\u001b[1;32mNone\u001b[0m\u001b[1;33m,\u001b[0m\u001b[1;33m\n",
      "\u001b[0m    \u001b[0manimation_frame\u001b[0m\u001b[1;33m=\u001b[0m\u001b[1;32mNone\u001b[0m\u001b[1;33m,\u001b[0m\u001b[1;33m\n",
      "\u001b[0m    \u001b[0manimation_group\u001b[0m\u001b[1;33m=\u001b[0m\u001b[1;32mNone\u001b[0m\u001b[1;33m,\u001b[0m\u001b[1;33m\n",
      "\u001b[0m    \u001b[0mcategory_orders\u001b[0m\u001b[1;33m=\u001b[0m\u001b[1;33m{\u001b[0m\u001b[1;33m}\u001b[0m\u001b[1;33m,\u001b[0m\u001b[1;33m\n",
      "\u001b[0m    \u001b[0mlabels\u001b[0m\u001b[1;33m=\u001b[0m\u001b[1;33m{\u001b[0m\u001b[1;33m}\u001b[0m\u001b[1;33m,\u001b[0m\u001b[1;33m\n",
      "\u001b[0m    \u001b[0msize_max\u001b[0m\u001b[1;33m=\u001b[0m\u001b[1;32mNone\u001b[0m\u001b[1;33m,\u001b[0m\u001b[1;33m\n",
      "\u001b[0m    \u001b[0mcolor_discrete_sequence\u001b[0m\u001b[1;33m=\u001b[0m\u001b[1;32mNone\u001b[0m\u001b[1;33m,\u001b[0m\u001b[1;33m\n",
      "\u001b[0m    \u001b[0mcolor_discrete_map\u001b[0m\u001b[1;33m=\u001b[0m\u001b[1;33m{\u001b[0m\u001b[1;33m}\u001b[0m\u001b[1;33m,\u001b[0m\u001b[1;33m\n",
      "\u001b[0m    \u001b[0mcolor_continuous_scale\u001b[0m\u001b[1;33m=\u001b[0m\u001b[1;32mNone\u001b[0m\u001b[1;33m,\u001b[0m\u001b[1;33m\n",
      "\u001b[0m    \u001b[0mrange_color\u001b[0m\u001b[1;33m=\u001b[0m\u001b[1;32mNone\u001b[0m\u001b[1;33m,\u001b[0m\u001b[1;33m\n",
      "\u001b[0m    \u001b[0mcolor_continuous_midpoint\u001b[0m\u001b[1;33m=\u001b[0m\u001b[1;32mNone\u001b[0m\u001b[1;33m,\u001b[0m\u001b[1;33m\n",
      "\u001b[0m    \u001b[0msymbol_sequence\u001b[0m\u001b[1;33m=\u001b[0m\u001b[1;32mNone\u001b[0m\u001b[1;33m,\u001b[0m\u001b[1;33m\n",
      "\u001b[0m    \u001b[0msymbol_map\u001b[0m\u001b[1;33m=\u001b[0m\u001b[1;33m{\u001b[0m\u001b[1;33m}\u001b[0m\u001b[1;33m,\u001b[0m\u001b[1;33m\n",
      "\u001b[0m    \u001b[0mopacity\u001b[0m\u001b[1;33m=\u001b[0m\u001b[1;32mNone\u001b[0m\u001b[1;33m,\u001b[0m\u001b[1;33m\n",
      "\u001b[0m    \u001b[0mlog_x\u001b[0m\u001b[1;33m=\u001b[0m\u001b[1;32mFalse\u001b[0m\u001b[1;33m,\u001b[0m\u001b[1;33m\n",
      "\u001b[0m    \u001b[0mlog_y\u001b[0m\u001b[1;33m=\u001b[0m\u001b[1;32mFalse\u001b[0m\u001b[1;33m,\u001b[0m\u001b[1;33m\n",
      "\u001b[0m    \u001b[0mlog_z\u001b[0m\u001b[1;33m=\u001b[0m\u001b[1;32mFalse\u001b[0m\u001b[1;33m,\u001b[0m\u001b[1;33m\n",
      "\u001b[0m    \u001b[0mrange_x\u001b[0m\u001b[1;33m=\u001b[0m\u001b[1;32mNone\u001b[0m\u001b[1;33m,\u001b[0m\u001b[1;33m\n",
      "\u001b[0m    \u001b[0mrange_y\u001b[0m\u001b[1;33m=\u001b[0m\u001b[1;32mNone\u001b[0m\u001b[1;33m,\u001b[0m\u001b[1;33m\n",
      "\u001b[0m    \u001b[0mrange_z\u001b[0m\u001b[1;33m=\u001b[0m\u001b[1;32mNone\u001b[0m\u001b[1;33m,\u001b[0m\u001b[1;33m\n",
      "\u001b[0m    \u001b[0mtitle\u001b[0m\u001b[1;33m=\u001b[0m\u001b[1;32mNone\u001b[0m\u001b[1;33m,\u001b[0m\u001b[1;33m\n",
      "\u001b[0m    \u001b[0mtemplate\u001b[0m\u001b[1;33m=\u001b[0m\u001b[1;32mNone\u001b[0m\u001b[1;33m,\u001b[0m\u001b[1;33m\n",
      "\u001b[0m    \u001b[0mwidth\u001b[0m\u001b[1;33m=\u001b[0m\u001b[1;32mNone\u001b[0m\u001b[1;33m,\u001b[0m\u001b[1;33m\n",
      "\u001b[0m    \u001b[0mheight\u001b[0m\u001b[1;33m=\u001b[0m\u001b[1;32mNone\u001b[0m\u001b[1;33m,\u001b[0m\u001b[1;33m\n",
      "\u001b[0m\u001b[1;33m)\u001b[0m\u001b[1;33m\u001b[0m\u001b[1;33m\u001b[0m\u001b[0m\n",
      "\u001b[1;31mDocstring:\u001b[0m\n",
      "    In a 3D scatter plot, each row of `data_frame` is represented by a\n",
      "    symbol mark in 3D space.\n",
      "    \n",
      "Parameters\n",
      "----------\n",
      "data_frame: DataFrame or array-like or dict\n",
      "    This argument needs to be passed for column names (and not keyword\n",
      "    names) to be used. Array-like and dict are tranformed internally to a\n",
      "    pandas DataFrame. Optional: if missing, a DataFrame gets constructed\n",
      "    under the hood using the other arguments.\n",
      "x: str or int or Series or array-like\n",
      "    Either a name of a column in `data_frame`, or a pandas Series or\n",
      "    array_like object. Values from this column or array_like are used to\n",
      "    position marks along the x axis in cartesian coordinates.\n",
      "y: str or int or Series or array-like\n",
      "    Either a name of a column in `data_frame`, or a pandas Series or\n",
      "    array_like object. Values from this column or array_like are used to\n",
      "    position marks along the y axis in cartesian coordinates.\n",
      "z: str or int or Series or array-like\n",
      "    Either a name of a column in `data_frame`, or a pandas Series or\n",
      "    array_like object. Values from this column or array_like are used to\n",
      "    position marks along the z axis in cartesian coordinates.\n",
      "color: str or int or Series or array-like\n",
      "    Either a name of a column in `data_frame`, or a pandas Series or\n",
      "    array_like object. Values from this column or array_like are used to\n",
      "    assign color to marks.\n",
      "symbol: str or int or Series or array-like\n",
      "    Either a name of a column in `data_frame`, or a pandas Series or\n",
      "    array_like object. Values from this column or array_like are used to\n",
      "    assign symbols to marks.\n",
      "size: str or int or Series or array-like\n",
      "    Either a name of a column in `data_frame`, or a pandas Series or\n",
      "    array_like object. Values from this column or array_like are used to\n",
      "    assign mark sizes.\n",
      "text: str or int or Series or array-like\n",
      "    Either a name of a column in `data_frame`, or a pandas Series or\n",
      "    array_like object. Values from this column or array_like appear in the\n",
      "    figure as text labels.\n",
      "hover_name: str or int or Series or array-like\n",
      "    Either a name of a column in `data_frame`, or a pandas Series or\n",
      "    array_like object. Values from this column or array_like appear in bold\n",
      "    in the hover tooltip.\n",
      "hover_data: list of str or int, or Series or array-like, or dict\n",
      "    Either a list of names of columns in `data_frame`, or pandas Series, or\n",
      "    array_like objects or a dict with column names as keys, with values\n",
      "    True (for default formatting) False (in order to remove this column\n",
      "    from hover information), or a formatting string, for example ':.3f' or\n",
      "    '|%a' or list-like data to appear in the hover tooltip or tuples with a\n",
      "    bool or formatting string as first element, and list-like data to\n",
      "    appear in hover as second element Values from these columns appear as\n",
      "    extra data in the hover tooltip.\n",
      "custom_data: list of str or int, or Series or array-like\n",
      "    Either names of columns in `data_frame`, or pandas Series, or\n",
      "    array_like objects Values from these columns are extra data, to be used\n",
      "    in widgets or Dash callbacks for example. This data is not user-visible\n",
      "    but is included in events emitted by the figure (lasso selection etc.)\n",
      "error_x: str or int or Series or array-like\n",
      "    Either a name of a column in `data_frame`, or a pandas Series or\n",
      "    array_like object. Values from this column or array_like are used to\n",
      "    size x-axis error bars. If `error_x_minus` is `None`, error bars will\n",
      "    be symmetrical, otherwise `error_x` is used for the positive direction\n",
      "    only.\n",
      "error_x_minus: str or int or Series or array-like\n",
      "    Either a name of a column in `data_frame`, or a pandas Series or\n",
      "    array_like object. Values from this column or array_like are used to\n",
      "    size x-axis error bars in the negative direction. Ignored if `error_x`\n",
      "    is `None`.\n",
      "error_y: str or int or Series or array-like\n",
      "    Either a name of a column in `data_frame`, or a pandas Series or\n",
      "    array_like object. Values from this column or array_like are used to\n",
      "    size y-axis error bars. If `error_y_minus` is `None`, error bars will\n",
      "    be symmetrical, otherwise `error_y` is used for the positive direction\n",
      "    only.\n",
      "error_y_minus: str or int or Series or array-like\n",
      "    Either a name of a column in `data_frame`, or a pandas Series or\n",
      "    array_like object. Values from this column or array_like are used to\n",
      "    size y-axis error bars in the negative direction. Ignored if `error_y`\n",
      "    is `None`.\n",
      "error_z: str or int or Series or array-like\n",
      "    Either a name of a column in `data_frame`, or a pandas Series or\n",
      "    array_like object. Values from this column or array_like are used to\n",
      "    size z-axis error bars. If `error_z_minus` is `None`, error bars will\n",
      "    be symmetrical, otherwise `error_z` is used for the positive direction\n",
      "    only.\n",
      "error_z_minus: str or int or Series or array-like\n",
      "    Either a name of a column in `data_frame`, or a pandas Series or\n",
      "    array_like object. Values from this column or array_like are used to\n",
      "    size z-axis error bars in the negative direction. Ignored if `error_z`\n",
      "    is `None`.\n",
      "animation_frame: str or int or Series or array-like\n",
      "    Either a name of a column in `data_frame`, or a pandas Series or\n",
      "    array_like object. Values from this column or array_like are used to\n",
      "    assign marks to animation frames.\n",
      "animation_group: str or int or Series or array-like\n",
      "    Either a name of a column in `data_frame`, or a pandas Series or\n",
      "    array_like object. Values from this column or array_like are used to\n",
      "    provide object-constancy across animation frames: rows with matching\n",
      "    `animation_group`s will be treated as if they describe the same object\n",
      "    in each frame.\n",
      "category_orders: dict with str keys and list of str values (default `{}`)\n",
      "    By default, in Python 3.6+, the order of categorical values in axes,\n",
      "    legends and facets depends on the order in which these values are first\n",
      "    encountered in `data_frame` (and no order is guaranteed by default in\n",
      "    Python below 3.6). This parameter is used to force a specific ordering\n",
      "    of values per column. The keys of this dict should correspond to column\n",
      "    names, and the values should be lists of strings corresponding to the\n",
      "    specific display order desired.\n",
      "labels: dict with str keys and str values (default `{}`)\n",
      "    By default, column names are used in the figure for axis titles, legend\n",
      "    entries and hovers. This parameter allows this to be overridden. The\n",
      "    keys of this dict should correspond to column names, and the values\n",
      "    should correspond to the desired label to be displayed.\n",
      "size_max: int (default `20`)\n",
      "    Set the maximum mark size when using `size`.\n",
      "color_discrete_sequence: list of str\n",
      "    Strings should define valid CSS-colors. When `color` is set and the\n",
      "    values in the corresponding column are not numeric, values in that\n",
      "    column are assigned colors by cycling through `color_discrete_sequence`\n",
      "    in the order described in `category_orders`, unless the value of\n",
      "    `color` is a key in `color_discrete_map`. Various useful color\n",
      "    sequences are available in the `plotly.express.colors` submodules,\n",
      "    specifically `plotly.express.colors.qualitative`.\n",
      "color_discrete_map: dict with str keys and str values (default `{}`)\n",
      "    String values should define valid CSS-colors Used to override\n",
      "    `color_discrete_sequence` to assign a specific colors to marks\n",
      "    corresponding with specific values. Keys in `color_discrete_map` should\n",
      "    be values in the column denoted by `color`. Alternatively, if the\n",
      "    values of `color` are valid colors, the string `'identity'` may be\n",
      "    passed to cause them to be used directly.\n",
      "color_continuous_scale: list of str\n",
      "    Strings should define valid CSS-colors This list is used to build a\n",
      "    continuous color scale when the column denoted by `color` contains\n",
      "    numeric data. Various useful color scales are available in the\n",
      "    `plotly.express.colors` submodules, specifically\n",
      "    `plotly.express.colors.sequential`, `plotly.express.colors.diverging`\n",
      "    and `plotly.express.colors.cyclical`.\n",
      "range_color: list of two numbers\n",
      "    If provided, overrides auto-scaling on the continuous color scale.\n",
      "color_continuous_midpoint: number (default `None`)\n",
      "    If set, computes the bounds of the continuous color scale to have the\n",
      "    desired midpoint. Setting this value is recommended when using\n",
      "    `plotly.express.colors.diverging` color scales as the inputs to\n",
      "    `color_continuous_scale`.\n",
      "symbol_sequence: list of str\n",
      "    Strings should define valid plotly.js symbols. When `symbol` is set,\n",
      "    values in that column are assigned symbols by cycling through\n",
      "    `symbol_sequence` in the order described in `category_orders`, unless\n",
      "    the value of `symbol` is a key in `symbol_map`.\n",
      "symbol_map: dict with str keys and str values (default `{}`)\n",
      "    String values should define plotly.js symbols Used to override\n",
      "    `symbol_sequence` to assign a specific symbols to marks corresponding\n",
      "    with specific values. Keys in `symbol_map` should be values in the\n",
      "    column denoted by `symbol`. Alternatively, if the values of `symbol`\n",
      "    are valid symbol names, the string `'identity'` may be passed to cause\n",
      "    them to be used directly.\n",
      "opacity: float\n",
      "    Value between 0 and 1. Sets the opacity for markers.\n",
      "log_x: boolean (default `False`)\n",
      "    If `True`, the x-axis is log-scaled in cartesian coordinates.\n",
      "log_y: boolean (default `False`)\n",
      "    If `True`, the y-axis is log-scaled in cartesian coordinates.\n",
      "log_z: boolean (default `False`)\n",
      "    If `True`, the z-axis is log-scaled in cartesian coordinates.\n",
      "range_x: list of two numbers\n",
      "    If provided, overrides auto-scaling on the x-axis in cartesian\n",
      "    coordinates.\n",
      "range_y: list of two numbers\n",
      "    If provided, overrides auto-scaling on the y-axis in cartesian\n",
      "    coordinates.\n",
      "range_z: list of two numbers\n",
      "    If provided, overrides auto-scaling on the z-axis in cartesian\n",
      "    coordinates.\n",
      "title: str\n",
      "    The figure title.\n",
      "template: str or dict or plotly.graph_objects.layout.Template instance\n",
      "    The figure template name (must be a key in plotly.io.templates) or\n",
      "    definition.\n",
      "width: int (default `None`)\n",
      "    The figure width in pixels.\n",
      "height: int (default `None`)\n",
      "    The figure height in pixels.\n",
      "\n",
      "Returns\n",
      "-------\n",
      "    plotly.graph_objects.Figure\n",
      "\u001b[1;31mFile:\u001b[0m      c:\\users\\mansi\\appdata\\local\\programs\\python\\python38\\lib\\site-packages\\plotly\\express\\_chart_types.py\n",
      "\u001b[1;31mType:\u001b[0m      function\n"
     ],
     "name": "stdout"
    }
   ],
   "source": [
    "px.scatter_3d?"
   ]
  },
  {
   "cell_type": "code",
   "execution_count": null,
   "metadata": {},
   "outputs": [],
   "source": []
  }
 ]
}