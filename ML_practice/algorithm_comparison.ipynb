{
 "metadata": {
  "language_info": {
   "codemirror_mode": {
    "name": "ipython",
    "version": 3
   },
   "file_extension": ".py",
   "mimetype": "text/x-python",
   "name": "python",
   "nbconvert_exporter": "python",
   "pygments_lexer": "ipython3",
   "version": "3.8.5-final"
  },
  "orig_nbformat": 2,
  "kernelspec": {
   "name": "python3",
   "display_name": "Python 3"
  }
 },
 "nbformat": 4,
 "nbformat_minor": 2,
 "cells": [
  {
   "cell_type": "code",
   "execution_count": 1,
   "metadata": {},
   "outputs": [],
   "source": [
    "import pandas as pd \n",
    "import numpy as np \n",
    "import matplotlib.pyplot as plt \n",
    "import seaborn as sns \n",
    "import plotly.express as px \n",
    "import pandas_profiling as pp  "
   ]
  },
  {
   "cell_type": "code",
   "execution_count": 2,
   "metadata": {},
   "outputs": [],
   "source": [
    "from sklearn.model_selection import train_test_split\n",
    "from sklearn.neighbors import KNeighborsClassifier\n",
    "from sklearn.preprocessing import StandardScaler \n",
    "from sklearn.metrics import plot_confusion_matrix,confusion_matrix\n",
    "from sklearn.svm import SVC\n",
    "from sklearn.linear_model import LogisticRegression\n",
    "from sklearn.tree import DecisionTreeClassifier\n",
    "from sklearn.datasets import load_digits\n",
    "from sklearn.ensemble import RandomForestClassifier"
   ]
  },
  {
   "cell_type": "code",
   "execution_count": 3,
   "metadata": {},
   "outputs": [
    {
     "output_type": "execute_result",
     "data": {
      "text/plain": [
       "dict_keys(['data', 'target', 'frame', 'feature_names', 'target_names', 'images', 'DESCR'])"
      ]
     },
     "metadata": {},
     "execution_count": 3
    }
   ],
   "source": [
    "digits = load_digits()\n",
    "digits.keys()"
   ]
  },
  {
   "cell_type": "code",
   "execution_count": 4,
   "metadata": {},
   "outputs": [
    {
     "output_type": "stream",
     "name": "stdout",
     "text": [
      ".. _digits_dataset:\n\nOptical recognition of handwritten digits dataset\n--------------------------------------------------\n\n**Data Set Characteristics:**\n\n    :Number of Instances: 5620\n    :Number of Attributes: 64\n    :Attribute Information: 8x8 image of integer pixels in the range 0..16.\n    :Missing Attribute Values: None\n    :Creator: E. Alpaydin (alpaydin '@' boun.edu.tr)\n    :Date: July; 1998\n\nThis is a copy of the test set of the UCI ML hand-written digits datasets\nhttps://archive.ics.uci.edu/ml/datasets/Optical+Recognition+of+Handwritten+Digits\n\nThe data set contains images of hand-written digits: 10 classes where\neach class refers to a digit.\n\nPreprocessing programs made available by NIST were used to extract\nnormalized bitmaps of handwritten digits from a preprinted form. From a\ntotal of 43 people, 30 contributed to the training set and different 13\nto the test set. 32x32 bitmaps are divided into nonoverlapping blocks of\n4x4 and the number of on pixels are counted in each block. This generates\nan input matrix of 8x8 where each element is an integer in the range\n0..16. This reduces dimensionality and gives invariance to small\ndistortions.\n\nFor info on NIST preprocessing routines, see M. D. Garris, J. L. Blue, G.\nT. Candela, D. L. Dimmick, J. Geist, P. J. Grother, S. A. Janet, and C.\nL. Wilson, NIST Form-Based Handprint Recognition System, NISTIR 5469,\n1994.\n\n.. topic:: References\n\n  - C. Kaynak (1995) Methods of Combining Multiple Classifiers and Their\n    Applications to Handwritten Digit Recognition, MSc Thesis, Institute of\n    Graduate Studies in Science and Engineering, Bogazici University.\n  - E. Alpaydin, C. Kaynak (1998) Cascading Classifiers, Kybernetika.\n  - Ken Tang and Ponnuthurai N. Suganthan and Xi Yao and A. Kai Qin.\n    Linear dimensionalityreduction using relevance weighted LDA. School of\n    Electrical and Electronic Engineering Nanyang Technological University.\n    2005.\n  - Claudio Gentile. A New Approximate Maximal Margin Classification\n    Algorithm. NIPS. 2000.\n"
     ]
    }
   ],
   "source": [
    "print(digits.get('DESCR'))"
   ]
  },
  {
   "cell_type": "code",
   "execution_count": 5,
   "metadata": {},
   "outputs": [
    {
     "output_type": "execute_result",
     "data": {
      "text/plain": [
       "   pixel_0_0  pixel_0_1  pixel_0_2  pixel_0_3  pixel_0_4  pixel_0_5  \\\n",
       "0        0.0        0.0        5.0       13.0        9.0        1.0   \n",
       "1        0.0        0.0        0.0       12.0       13.0        5.0   \n",
       "2        0.0        0.0        0.0        4.0       15.0       12.0   \n",
       "3        0.0        0.0        7.0       15.0       13.0        1.0   \n",
       "4        0.0        0.0        0.0        1.0       11.0        0.0   \n",
       "\n",
       "   pixel_0_6  pixel_0_7  pixel_1_0  pixel_1_1  ...  pixel_6_7  pixel_7_0  \\\n",
       "0        0.0        0.0        0.0        0.0  ...        0.0        0.0   \n",
       "1        0.0        0.0        0.0        0.0  ...        0.0        0.0   \n",
       "2        0.0        0.0        0.0        0.0  ...        0.0        0.0   \n",
       "3        0.0        0.0        0.0        8.0  ...        0.0        0.0   \n",
       "4        0.0        0.0        0.0        0.0  ...        0.0        0.0   \n",
       "\n",
       "   pixel_7_1  pixel_7_2  pixel_7_3  pixel_7_4  pixel_7_5  pixel_7_6  \\\n",
       "0        0.0        6.0       13.0       10.0        0.0        0.0   \n",
       "1        0.0        0.0       11.0       16.0       10.0        0.0   \n",
       "2        0.0        0.0        3.0       11.0       16.0        9.0   \n",
       "3        0.0        7.0       13.0       13.0        9.0        0.0   \n",
       "4        0.0        0.0        2.0       16.0        4.0        0.0   \n",
       "\n",
       "   pixel_7_7  target  \n",
       "0        0.0       0  \n",
       "1        0.0       1  \n",
       "2        0.0       2  \n",
       "3        0.0       3  \n",
       "4        0.0       4  \n",
       "\n",
       "[5 rows x 65 columns]"
      ],
      "text/html": "<div>\n<style scoped>\n    .dataframe tbody tr th:only-of-type {\n        vertical-align: middle;\n    }\n\n    .dataframe tbody tr th {\n        vertical-align: top;\n    }\n\n    .dataframe thead th {\n        text-align: right;\n    }\n</style>\n<table border=\"1\" class=\"dataframe\">\n  <thead>\n    <tr style=\"text-align: right;\">\n      <th></th>\n      <th>pixel_0_0</th>\n      <th>pixel_0_1</th>\n      <th>pixel_0_2</th>\n      <th>pixel_0_3</th>\n      <th>pixel_0_4</th>\n      <th>pixel_0_5</th>\n      <th>pixel_0_6</th>\n      <th>pixel_0_7</th>\n      <th>pixel_1_0</th>\n      <th>pixel_1_1</th>\n      <th>...</th>\n      <th>pixel_6_7</th>\n      <th>pixel_7_0</th>\n      <th>pixel_7_1</th>\n      <th>pixel_7_2</th>\n      <th>pixel_7_3</th>\n      <th>pixel_7_4</th>\n      <th>pixel_7_5</th>\n      <th>pixel_7_6</th>\n      <th>pixel_7_7</th>\n      <th>target</th>\n    </tr>\n  </thead>\n  <tbody>\n    <tr>\n      <th>0</th>\n      <td>0.0</td>\n      <td>0.0</td>\n      <td>5.0</td>\n      <td>13.0</td>\n      <td>9.0</td>\n      <td>1.0</td>\n      <td>0.0</td>\n      <td>0.0</td>\n      <td>0.0</td>\n      <td>0.0</td>\n      <td>...</td>\n      <td>0.0</td>\n      <td>0.0</td>\n      <td>0.0</td>\n      <td>6.0</td>\n      <td>13.0</td>\n      <td>10.0</td>\n      <td>0.0</td>\n      <td>0.0</td>\n      <td>0.0</td>\n      <td>0</td>\n    </tr>\n    <tr>\n      <th>1</th>\n      <td>0.0</td>\n      <td>0.0</td>\n      <td>0.0</td>\n      <td>12.0</td>\n      <td>13.0</td>\n      <td>5.0</td>\n      <td>0.0</td>\n      <td>0.0</td>\n      <td>0.0</td>\n      <td>0.0</td>\n      <td>...</td>\n      <td>0.0</td>\n      <td>0.0</td>\n      <td>0.0</td>\n      <td>0.0</td>\n      <td>11.0</td>\n      <td>16.0</td>\n      <td>10.0</td>\n      <td>0.0</td>\n      <td>0.0</td>\n      <td>1</td>\n    </tr>\n    <tr>\n      <th>2</th>\n      <td>0.0</td>\n      <td>0.0</td>\n      <td>0.0</td>\n      <td>4.0</td>\n      <td>15.0</td>\n      <td>12.0</td>\n      <td>0.0</td>\n      <td>0.0</td>\n      <td>0.0</td>\n      <td>0.0</td>\n      <td>...</td>\n      <td>0.0</td>\n      <td>0.0</td>\n      <td>0.0</td>\n      <td>0.0</td>\n      <td>3.0</td>\n      <td>11.0</td>\n      <td>16.0</td>\n      <td>9.0</td>\n      <td>0.0</td>\n      <td>2</td>\n    </tr>\n    <tr>\n      <th>3</th>\n      <td>0.0</td>\n      <td>0.0</td>\n      <td>7.0</td>\n      <td>15.0</td>\n      <td>13.0</td>\n      <td>1.0</td>\n      <td>0.0</td>\n      <td>0.0</td>\n      <td>0.0</td>\n      <td>8.0</td>\n      <td>...</td>\n      <td>0.0</td>\n      <td>0.0</td>\n      <td>0.0</td>\n      <td>7.0</td>\n      <td>13.0</td>\n      <td>13.0</td>\n      <td>9.0</td>\n      <td>0.0</td>\n      <td>0.0</td>\n      <td>3</td>\n    </tr>\n    <tr>\n      <th>4</th>\n      <td>0.0</td>\n      <td>0.0</td>\n      <td>0.0</td>\n      <td>1.0</td>\n      <td>11.0</td>\n      <td>0.0</td>\n      <td>0.0</td>\n      <td>0.0</td>\n      <td>0.0</td>\n      <td>0.0</td>\n      <td>...</td>\n      <td>0.0</td>\n      <td>0.0</td>\n      <td>0.0</td>\n      <td>0.0</td>\n      <td>2.0</td>\n      <td>16.0</td>\n      <td>4.0</td>\n      <td>0.0</td>\n      <td>0.0</td>\n      <td>4</td>\n    </tr>\n  </tbody>\n</table>\n<p>5 rows × 65 columns</p>\n</div>"
     },
     "metadata": {},
     "execution_count": 5
    }
   ],
   "source": [
    "df = pd.DataFrame(digits.data,columns=digits.feature_names)\n",
    "df['target']= digits.target\n",
    "df.head()"
   ]
  },
  {
   "cell_type": "code",
   "execution_count": 6,
   "metadata": {},
   "outputs": [
    {
     "output_type": "stream",
     "name": "stdout",
     "text": [
      "['pixel_0_0', 'pixel_0_1', 'pixel_0_2', 'pixel_0_3', 'pixel_0_4', 'pixel_0_5', 'pixel_0_6', 'pixel_0_7', 'pixel_1_0', 'pixel_1_1', 'pixel_1_2', 'pixel_1_3', 'pixel_1_4', 'pixel_1_5', 'pixel_1_6', 'pixel_1_7', 'pixel_2_0', 'pixel_2_1', 'pixel_2_2', 'pixel_2_3', 'pixel_2_4', 'pixel_2_5', 'pixel_2_6', 'pixel_2_7', 'pixel_3_0', 'pixel_3_1', 'pixel_3_2', 'pixel_3_3', 'pixel_3_4', 'pixel_3_5', 'pixel_3_6', 'pixel_3_7', 'pixel_4_0', 'pixel_4_1', 'pixel_4_2', 'pixel_4_3', 'pixel_4_4', 'pixel_4_5', 'pixel_4_6', 'pixel_4_7', 'pixel_5_0', 'pixel_5_1', 'pixel_5_2', 'pixel_5_3', 'pixel_5_4', 'pixel_5_5', 'pixel_5_6', 'pixel_5_7', 'pixel_6_0', 'pixel_6_1', 'pixel_6_2', 'pixel_6_3', 'pixel_6_4', 'pixel_6_5', 'pixel_6_6', 'pixel_6_7', 'pixel_7_0', 'pixel_7_1', 'pixel_7_2', 'pixel_7_3', 'pixel_7_4', 'pixel_7_5', 'pixel_7_6', 'pixel_7_7', 'target']\n"
     ]
    }
   ],
   "source": [
    "print(df.columns.to_list())"
   ]
  },
  {
   "cell_type": "code",
   "execution_count": 7,
   "metadata": {},
   "outputs": [
    {
     "output_type": "stream",
     "name": "stdout",
     "text": [
      "<class 'pandas.core.frame.DataFrame'>\nRangeIndex: 1797 entries, 0 to 1796\nData columns (total 65 columns):\n #   Column     Non-Null Count  Dtype  \n---  ------     --------------  -----  \n 0   pixel_0_0  1797 non-null   float64\n 1   pixel_0_1  1797 non-null   float64\n 2   pixel_0_2  1797 non-null   float64\n 3   pixel_0_3  1797 non-null   float64\n 4   pixel_0_4  1797 non-null   float64\n 5   pixel_0_5  1797 non-null   float64\n 6   pixel_0_6  1797 non-null   float64\n 7   pixel_0_7  1797 non-null   float64\n 8   pixel_1_0  1797 non-null   float64\n 9   pixel_1_1  1797 non-null   float64\n 10  pixel_1_2  1797 non-null   float64\n 11  pixel_1_3  1797 non-null   float64\n 12  pixel_1_4  1797 non-null   float64\n 13  pixel_1_5  1797 non-null   float64\n 14  pixel_1_6  1797 non-null   float64\n 15  pixel_1_7  1797 non-null   float64\n 16  pixel_2_0  1797 non-null   float64\n 17  pixel_2_1  1797 non-null   float64\n 18  pixel_2_2  1797 non-null   float64\n 19  pixel_2_3  1797 non-null   float64\n 20  pixel_2_4  1797 non-null   float64\n 21  pixel_2_5  1797 non-null   float64\n 22  pixel_2_6  1797 non-null   float64\n 23  pixel_2_7  1797 non-null   float64\n 24  pixel_3_0  1797 non-null   float64\n 25  pixel_3_1  1797 non-null   float64\n 26  pixel_3_2  1797 non-null   float64\n 27  pixel_3_3  1797 non-null   float64\n 28  pixel_3_4  1797 non-null   float64\n 29  pixel_3_5  1797 non-null   float64\n 30  pixel_3_6  1797 non-null   float64\n 31  pixel_3_7  1797 non-null   float64\n 32  pixel_4_0  1797 non-null   float64\n 33  pixel_4_1  1797 non-null   float64\n 34  pixel_4_2  1797 non-null   float64\n 35  pixel_4_3  1797 non-null   float64\n 36  pixel_4_4  1797 non-null   float64\n 37  pixel_4_5  1797 non-null   float64\n 38  pixel_4_6  1797 non-null   float64\n 39  pixel_4_7  1797 non-null   float64\n 40  pixel_5_0  1797 non-null   float64\n 41  pixel_5_1  1797 non-null   float64\n 42  pixel_5_2  1797 non-null   float64\n 43  pixel_5_3  1797 non-null   float64\n 44  pixel_5_4  1797 non-null   float64\n 45  pixel_5_5  1797 non-null   float64\n 46  pixel_5_6  1797 non-null   float64\n 47  pixel_5_7  1797 non-null   float64\n 48  pixel_6_0  1797 non-null   float64\n 49  pixel_6_1  1797 non-null   float64\n 50  pixel_6_2  1797 non-null   float64\n 51  pixel_6_3  1797 non-null   float64\n 52  pixel_6_4  1797 non-null   float64\n 53  pixel_6_5  1797 non-null   float64\n 54  pixel_6_6  1797 non-null   float64\n 55  pixel_6_7  1797 non-null   float64\n 56  pixel_7_0  1797 non-null   float64\n 57  pixel_7_1  1797 non-null   float64\n 58  pixel_7_2  1797 non-null   float64\n 59  pixel_7_3  1797 non-null   float64\n 60  pixel_7_4  1797 non-null   float64\n 61  pixel_7_5  1797 non-null   float64\n 62  pixel_7_6  1797 non-null   float64\n 63  pixel_7_7  1797 non-null   float64\n 64  target     1797 non-null   int32  \ndtypes: float64(64), int32(1)\nmemory usage: 905.6 KB\n"
     ]
    }
   ],
   "source": [
    "df.info()"
   ]
  },
  {
   "cell_type": "code",
   "execution_count": 8,
   "metadata": {},
   "outputs": [],
   "source": [
    "x = pd.DataFrame(digits.data,columns=digits.feature_names)\n",
    "scaler = StandardScaler()\n",
    "scaledX = scaler.fit_transform(x)\n",
    "y = df['target']"
   ]
  },
  {
   "cell_type": "code",
   "execution_count": 9,
   "metadata": {},
   "outputs": [],
   "source": [
    "trainx,testx,trainy,testy = train_test_split(scaledX,y,test_size=.3,random_state=0)"
   ]
  },
  {
   "cell_type": "code",
   "execution_count": 10,
   "metadata": {},
   "outputs": [],
   "source": [
    "grid_param = {\n",
    "    'svc':{\n",
    "    'model':SVC(),'params':{'kernel':['linear','ploy','rbf'],'gamma':['scale','auto'],'C':[1.0,2.0,5.0]}\n",
    "    },\n",
    "    'RandomForestClassifier':{'model':RandomForestClassifier(), 'params':{\n",
    "                            'n_estimators':[20,50,100],\n",
    "                            'criterion':['gini','entropy'],\n",
    "                            'max_depth':[5,10,15]}\n",
    "    },\n",
    "    'logistic_regression':{'model':LogisticRegression(), 'params':{\n",
    "                            'solver':['liblinear','saga'],\n",
    "                            'C':[1,5,10]}\n",
    "    },\n",
    "    'KNN':{'model':KNeighborsClassifier(), 'params':{\n",
    "                            'n_neighbors':[3,5,7],\n",
    "                            'weights':['uniform', 'distance']}\n",
    "\n",
    "    },\n",
    "    'DecisionTreeClassifier':{'model':DecisionTreeClassifier(), 'params':{\n",
    "                            'criterion':['gini','entropy'],\n",
    "                            'max_depth':[10,20,30]}\n",
    "    }\n",
    "}"
   ]
  },
  {
   "cell_type": "code",
   "execution_count": 11,
   "metadata": {},
   "outputs": [],
   "source": [
    "from sklearn.model_selection import GridSearchCV"
   ]
  },
  {
   "cell_type": "code",
   "execution_count": 12,
   "metadata": {},
   "outputs": [],
   "source": [
    "scores = []\n",
    "for model_name,mp in grid_param.items():\n",
    "    clf = GridSearchCV(mp['model'],mp['params'],cv=3)\n",
    "    clf.fit(trainx,trainy)\n",
    "    scores.append({\n",
    "        'model':model_name,\n",
    "        'best_score':clf.best_score_*100,\n",
    "        'best_parameters':clf.best_params_\n",
    "    })"
   ]
  },
  {
   "cell_type": "code",
   "execution_count": 13,
   "metadata": {},
   "outputs": [
    {
     "output_type": "execute_result",
     "data": {
      "text/plain": [
       "[{'model': 'svc',\n",
       "  'best_score': 97.77247414478919,\n",
       "  'best_parameters': {'C': 2.0, 'gamma': 'scale', 'kernel': 'rbf'}},\n",
       " {'model': 'RandomForestClassifier',\n",
       "  'best_score': 96.97692919649961,\n",
       "  'best_parameters': {'criterion': 'entropy',\n",
       "   'max_depth': 15,\n",
       "   'n_estimators': 100}},\n",
       " {'model': 'logistic_regression',\n",
       "  'best_score': 96.4200477326969,\n",
       "  'best_parameters': {'C': 1, 'solver': 'saga'}},\n",
       " {'model': 'KNN',\n",
       "  'best_score': 97.21559268098648,\n",
       "  'best_parameters': {'n_neighbors': 5, 'weights': 'distance'}},\n",
       " {'model': 'DecisionTreeClassifier',\n",
       "  'best_score': 83.05489260143197,\n",
       "  'best_parameters': {'criterion': 'entropy', 'max_depth': 10}}]"
      ]
     },
     "metadata": {},
     "execution_count": 13
    }
   ],
   "source": [
    "scores"
   ]
  },
  {
   "source": [
    "### hence we can say that svc is the most suitable classifier for this dataset."
   ],
   "cell_type": "markdown",
   "metadata": {}
  },
  {
   "cell_type": "code",
   "execution_count": 14,
   "metadata": {},
   "outputs": [
    {
     "output_type": "execute_result",
     "data": {
      "text/plain": [
       "                    model  best_score  \\\n",
       "0                     svc   97.772474   \n",
       "1  RandomForestClassifier   96.976929   \n",
       "2     logistic_regression   96.420048   \n",
       "3                     KNN   97.215593   \n",
       "4  DecisionTreeClassifier   83.054893   \n",
       "\n",
       "                                     best_parameters  \n",
       "0      {'C': 2.0, 'gamma': 'scale', 'kernel': 'rbf'}  \n",
       "1  {'criterion': 'entropy', 'max_depth': 15, 'n_e...  \n",
       "2                         {'C': 1, 'solver': 'saga'}  \n",
       "3          {'n_neighbors': 5, 'weights': 'distance'}  \n",
       "4          {'criterion': 'entropy', 'max_depth': 10}  "
      ],
      "text/html": "<div>\n<style scoped>\n    .dataframe tbody tr th:only-of-type {\n        vertical-align: middle;\n    }\n\n    .dataframe tbody tr th {\n        vertical-align: top;\n    }\n\n    .dataframe thead th {\n        text-align: right;\n    }\n</style>\n<table border=\"1\" class=\"dataframe\">\n  <thead>\n    <tr style=\"text-align: right;\">\n      <th></th>\n      <th>model</th>\n      <th>best_score</th>\n      <th>best_parameters</th>\n    </tr>\n  </thead>\n  <tbody>\n    <tr>\n      <th>0</th>\n      <td>svc</td>\n      <td>97.772474</td>\n      <td>{'C': 2.0, 'gamma': 'scale', 'kernel': 'rbf'}</td>\n    </tr>\n    <tr>\n      <th>1</th>\n      <td>RandomForestClassifier</td>\n      <td>96.976929</td>\n      <td>{'criterion': 'entropy', 'max_depth': 15, 'n_e...</td>\n    </tr>\n    <tr>\n      <th>2</th>\n      <td>logistic_regression</td>\n      <td>96.420048</td>\n      <td>{'C': 1, 'solver': 'saga'}</td>\n    </tr>\n    <tr>\n      <th>3</th>\n      <td>KNN</td>\n      <td>97.215593</td>\n      <td>{'n_neighbors': 5, 'weights': 'distance'}</td>\n    </tr>\n    <tr>\n      <th>4</th>\n      <td>DecisionTreeClassifier</td>\n      <td>83.054893</td>\n      <td>{'criterion': 'entropy', 'max_depth': 10}</td>\n    </tr>\n  </tbody>\n</table>\n</div>"
     },
     "metadata": {},
     "execution_count": 14
    }
   ],
   "source": [
    "pd.DataFrame(scores)"
   ]
  },
  {
   "cell_type": "code",
   "execution_count": null,
   "metadata": {},
   "outputs": [],
   "source": []
  }
 ]
}