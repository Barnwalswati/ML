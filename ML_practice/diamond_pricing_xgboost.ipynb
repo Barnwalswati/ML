{
 "metadata": {
  "language_info": {
   "codemirror_mode": {
    "name": "ipython",
    "version": 3
   },
   "file_extension": ".py",
   "mimetype": "text/x-python",
   "name": "python",
   "nbconvert_exporter": "python",
   "pygments_lexer": "ipython3",
   "version": "3.8.5-final"
  },
  "orig_nbformat": 2,
  "kernelspec": {
   "name": "python3",
   "display_name": "Python 3"
  }
 },
 "nbformat": 4,
 "nbformat_minor": 2,
 "cells": [
  {
   "cell_type": "code",
   "execution_count": 7,
   "metadata": {},
   "outputs": [],
   "source": [
    "import pandas as pd \n",
    "import numpy as np \n",
    "import matplotlib.pyplot as plt \n",
    "import seaborn as sns \n",
    "import plotly.express as px \n",
    "from sklearn.model_selection import train_test_split\n",
    "from sklearn.metrics import mean_squared_error"
   ]
  },
  {
   "cell_type": "code",
   "execution_count": 8,
   "metadata": {},
   "outputs": [
    {
     "output_type": "execute_result",
     "data": {
      "text/plain": [
       "   Paleonium  Pressure        Price\n",
       "0         17      6567  2810.280298\n",
       "1         59      5253  1986.967089\n",
       "2        123      9715  2083.132087\n",
       "3        182      2073  2236.340285\n",
       "4        133      6400  1903.323339"
      ],
      "text/html": "<div>\n<style scoped>\n    .dataframe tbody tr th:only-of-type {\n        vertical-align: middle;\n    }\n\n    .dataframe tbody tr th {\n        vertical-align: top;\n    }\n\n    .dataframe thead th {\n        text-align: right;\n    }\n</style>\n<table border=\"1\" class=\"dataframe\">\n  <thead>\n    <tr style=\"text-align: right;\">\n      <th></th>\n      <th>Paleonium</th>\n      <th>Pressure</th>\n      <th>Price</th>\n    </tr>\n  </thead>\n  <tbody>\n    <tr>\n      <th>0</th>\n      <td>17</td>\n      <td>6567</td>\n      <td>2810.280298</td>\n    </tr>\n    <tr>\n      <th>1</th>\n      <td>59</td>\n      <td>5253</td>\n      <td>1986.967089</td>\n    </tr>\n    <tr>\n      <th>2</th>\n      <td>123</td>\n      <td>9715</td>\n      <td>2083.132087</td>\n    </tr>\n    <tr>\n      <th>3</th>\n      <td>182</td>\n      <td>2073</td>\n      <td>2236.340285</td>\n    </tr>\n    <tr>\n      <th>4</th>\n      <td>133</td>\n      <td>6400</td>\n      <td>1903.323339</td>\n    </tr>\n  </tbody>\n</table>\n</div>"
     },
     "metadata": {},
     "execution_count": 8
    }
   ],
   "source": [
    "df = pd.read_csv('../datasets/diamond_pricing.csv')\n",
    "df.head()"
   ]
  },
  {
   "cell_type": "code",
   "execution_count": 9,
   "metadata": {},
   "outputs": [],
   "source": [
    "x = df[['Paleonium','Pressure']]\n",
    "y = df['Price']"
   ]
  },
  {
   "cell_type": "code",
   "execution_count": 10,
   "metadata": {},
   "outputs": [],
   "source": [
    "import xgboost as xgb"
   ]
  },
  {
   "cell_type": "code",
   "execution_count": 11,
   "metadata": {},
   "outputs": [],
   "source": [
    "trainx, testx, trainy, testy = train_test_split(x,y,random_state=0)"
   ]
  },
  {
   "cell_type": "code",
   "execution_count": 12,
   "metadata": {},
   "outputs": [
    {
     "output_type": "execute_result",
     "data": {
      "text/plain": [
       "761.581182092489"
      ]
     },
     "metadata": {},
     "execution_count": 12
    }
   ],
   "source": [
    "xreg = xgb.XGBRegressor(learning_rate=.1, max_depth = 5, n_estimators=10)\n",
    "xreg.fit(trainx,trainy)\n",
    "ypred = xreg.predict(testx)\n",
    "rmse = np.sqrt(mean_squared_error(testy, ypred))\n",
    "rmse"
   ]
  },
  {
   "cell_type": "code",
   "execution_count": 13,
   "metadata": {},
   "outputs": [
    {
     "output_type": "execute_result",
     "data": {
      "text/plain": [
       "<xgboost.core.DMatrix at 0x22b6d506fd0>"
      ]
     },
     "metadata": {},
     "execution_count": 13
    }
   ],
   "source": [
    "data_matrix = xgb.DMatrix(data=x,label=y)\n",
    "data_matrix"
   ]
  },
  {
   "cell_type": "code",
   "execution_count": 14,
   "metadata": {},
   "outputs": [],
   "source": [
    "params = {\n",
    "        'learning_rate':.1,\n",
    "        'max_depth':5,\n",
    "        'alpha':10\n",
    "}"
   ]
  },
  {
   "cell_type": "code",
   "execution_count": 15,
   "metadata": {},
   "outputs": [],
   "source": [
    "result = xgb.cv(dtrain=data_matrix, params=params,nfold=3,num_boost_round=100,early_stopping_rounds=10,metrics='rmse',seed=0)"
   ]
  },
  {
   "cell_type": "code",
   "execution_count": 16,
   "metadata": {},
   "outputs": [
    {
     "output_type": "execute_result",
     "data": {
      "text/plain": [
       "    train-rmse-mean  train-rmse-std  test-rmse-mean  test-rmse-std\n",
       "0       1909.468872        7.466207     1908.693848      16.598492\n",
       "1       1724.561808        6.887862     1723.818563      15.589818\n",
       "2       1557.923746        5.958357     1557.210327      14.137272\n",
       "3       1407.577433        5.322247     1407.483195      13.739703\n",
       "4       1272.321899        4.625579     1273.073079      13.211154\n",
       "..              ...             ...             ...            ...\n",
       "95        41.102566        0.614038       88.755030       5.302565\n",
       "96        40.972388        0.609235       88.709635       5.292728\n",
       "97        40.827863        0.644670       88.696007       5.316443\n",
       "98        40.729178        0.656355       88.654526       5.304449\n",
       "99        40.645721        0.649777       88.641393       5.321328\n",
       "\n",
       "[100 rows x 4 columns]"
      ],
      "text/html": "<div>\n<style scoped>\n    .dataframe tbody tr th:only-of-type {\n        vertical-align: middle;\n    }\n\n    .dataframe tbody tr th {\n        vertical-align: top;\n    }\n\n    .dataframe thead th {\n        text-align: right;\n    }\n</style>\n<table border=\"1\" class=\"dataframe\">\n  <thead>\n    <tr style=\"text-align: right;\">\n      <th></th>\n      <th>train-rmse-mean</th>\n      <th>train-rmse-std</th>\n      <th>test-rmse-mean</th>\n      <th>test-rmse-std</th>\n    </tr>\n  </thead>\n  <tbody>\n    <tr>\n      <th>0</th>\n      <td>1909.468872</td>\n      <td>7.466207</td>\n      <td>1908.693848</td>\n      <td>16.598492</td>\n    </tr>\n    <tr>\n      <th>1</th>\n      <td>1724.561808</td>\n      <td>6.887862</td>\n      <td>1723.818563</td>\n      <td>15.589818</td>\n    </tr>\n    <tr>\n      <th>2</th>\n      <td>1557.923746</td>\n      <td>5.958357</td>\n      <td>1557.210327</td>\n      <td>14.137272</td>\n    </tr>\n    <tr>\n      <th>3</th>\n      <td>1407.577433</td>\n      <td>5.322247</td>\n      <td>1407.483195</td>\n      <td>13.739703</td>\n    </tr>\n    <tr>\n      <th>4</th>\n      <td>1272.321899</td>\n      <td>4.625579</td>\n      <td>1273.073079</td>\n      <td>13.211154</td>\n    </tr>\n    <tr>\n      <th>...</th>\n      <td>...</td>\n      <td>...</td>\n      <td>...</td>\n      <td>...</td>\n    </tr>\n    <tr>\n      <th>95</th>\n      <td>41.102566</td>\n      <td>0.614038</td>\n      <td>88.755030</td>\n      <td>5.302565</td>\n    </tr>\n    <tr>\n      <th>96</th>\n      <td>40.972388</td>\n      <td>0.609235</td>\n      <td>88.709635</td>\n      <td>5.292728</td>\n    </tr>\n    <tr>\n      <th>97</th>\n      <td>40.827863</td>\n      <td>0.644670</td>\n      <td>88.696007</td>\n      <td>5.316443</td>\n    </tr>\n    <tr>\n      <th>98</th>\n      <td>40.729178</td>\n      <td>0.656355</td>\n      <td>88.654526</td>\n      <td>5.304449</td>\n    </tr>\n    <tr>\n      <th>99</th>\n      <td>40.645721</td>\n      <td>0.649777</td>\n      <td>88.641393</td>\n      <td>5.321328</td>\n    </tr>\n  </tbody>\n</table>\n<p>100 rows × 4 columns</p>\n</div>"
     },
     "metadata": {},
     "execution_count": 16
    }
   ],
   "source": [
    "result"
   ]
  },
  {
   "cell_type": "code",
   "execution_count": 17,
   "metadata": {},
   "outputs": [
    {
     "output_type": "execute_result",
     "data": {
      "text/plain": [
       "<AxesSubplot:>"
      ]
     },
     "metadata": {},
     "execution_count": 17
    },
    {
     "output_type": "display_data",
     "data": {
      "text/plain": "<Figure size 432x288 with 1 Axes>",
      "image/svg+xml": "<?xml version=\"1.0\" encoding=\"utf-8\" standalone=\"no\"?>\r\n<!DOCTYPE svg PUBLIC \"-//W3C//DTD SVG 1.1//EN\"\r\n  \"http://www.w3.org/Graphics/SVG/1.1/DTD/svg11.dtd\">\r\n<!-- Created with matplotlib (https://matplotlib.org/) -->\r\n<svg height=\"252.009539pt\" version=\"1.1\" viewBox=\"0 0 381.65 252.009539\" width=\"381.65pt\" xmlns=\"http://www.w3.org/2000/svg\" xmlns:xlink=\"http://www.w3.org/1999/xlink\">\r\n <metadata>\r\n  <rdf:RDF xmlns:cc=\"http://creativecommons.org/ns#\" xmlns:dc=\"http://purl.org/dc/elements/1.1/\" xmlns:rdf=\"http://www.w3.org/1999/02/22-rdf-syntax-ns#\">\r\n   <cc:Work>\r\n    <dc:type rdf:resource=\"http://purl.org/dc/dcmitype/StillImage\"/>\r\n    <dc:date>2020-12-07T15:58:26.110670</dc:date>\r\n    <dc:format>image/svg+xml</dc:format>\r\n    <dc:creator>\r\n     <cc:Agent>\r\n      <dc:title>Matplotlib v3.3.1, https://matplotlib.org/</dc:title>\r\n     </cc:Agent>\r\n    </dc:creator>\r\n   </cc:Work>\r\n  </rdf:RDF>\r\n </metadata>\r\n <defs>\r\n  <style type=\"text/css\">*{stroke-linecap:butt;stroke-linejoin:round;}</style>\r\n </defs>\r\n <g id=\"figure_1\">\r\n  <g id=\"patch_1\">\r\n   <path d=\"M -0 252.009539 \r\nL 381.65 252.009539 \r\nL 381.65 0 \r\nL -0 0 \r\nz\r\n\" style=\"fill:none;\"/>\r\n  </g>\r\n  <g id=\"axes_1\">\r\n   <g id=\"patch_2\">\r\n    <path d=\"M 39.65 228.131414 \r\nL 374.45 228.131414 \r\nL 374.45 10.691414 \r\nL 39.65 10.691414 \r\nz\r\n\" style=\"fill:#ffffff;\"/>\r\n   </g>\r\n   <g id=\"matplotlib.axis_1\">\r\n    <g id=\"xtick_1\">\r\n     <g id=\"line2d_1\">\r\n      <defs>\r\n       <path d=\"M 0 0 \r\nL 0 3.5 \r\n\" id=\"m0792f9f675\" style=\"stroke:#000000;stroke-width:0.8;\"/>\r\n      </defs>\r\n      <g>\r\n       <use style=\"stroke:#000000;stroke-width:0.8;\" x=\"54.868182\" xlink:href=\"#m0792f9f675\" y=\"228.131414\"/>\r\n      </g>\r\n     </g>\r\n     <g id=\"text_1\">\r\n      <!-- 0 -->\r\n      <g transform=\"translate(51.686932 242.729851)scale(0.1 -0.1)\">\r\n       <defs>\r\n        <path d=\"M 31.78125 66.40625 \r\nQ 24.171875 66.40625 20.328125 58.90625 \r\nQ 16.5 51.421875 16.5 36.375 \r\nQ 16.5 21.390625 20.328125 13.890625 \r\nQ 24.171875 6.390625 31.78125 6.390625 \r\nQ 39.453125 6.390625 43.28125 13.890625 \r\nQ 47.125 21.390625 47.125 36.375 \r\nQ 47.125 51.421875 43.28125 58.90625 \r\nQ 39.453125 66.40625 31.78125 66.40625 \r\nz\r\nM 31.78125 74.21875 \r\nQ 44.046875 74.21875 50.515625 64.515625 \r\nQ 56.984375 54.828125 56.984375 36.375 \r\nQ 56.984375 17.96875 50.515625 8.265625 \r\nQ 44.046875 -1.421875 31.78125 -1.421875 \r\nQ 19.53125 -1.421875 13.0625 8.265625 \r\nQ 6.59375 17.96875 6.59375 36.375 \r\nQ 6.59375 54.828125 13.0625 64.515625 \r\nQ 19.53125 74.21875 31.78125 74.21875 \r\nz\r\n\" id=\"DejaVuSans-48\"/>\r\n       </defs>\r\n       <use xlink:href=\"#DejaVuSans-48\"/>\r\n      </g>\r\n     </g>\r\n    </g>\r\n    <g id=\"xtick_2\">\r\n     <g id=\"line2d_2\">\r\n      <g>\r\n       <use style=\"stroke:#000000;stroke-width:0.8;\" x=\"116.355785\" xlink:href=\"#m0792f9f675\" y=\"228.131414\"/>\r\n      </g>\r\n     </g>\r\n     <g id=\"text_2\">\r\n      <!-- 20 -->\r\n      <g transform=\"translate(109.993285 242.729851)scale(0.1 -0.1)\">\r\n       <defs>\r\n        <path d=\"M 19.1875 8.296875 \r\nL 53.609375 8.296875 \r\nL 53.609375 0 \r\nL 7.328125 0 \r\nL 7.328125 8.296875 \r\nQ 12.9375 14.109375 22.625 23.890625 \r\nQ 32.328125 33.6875 34.8125 36.53125 \r\nQ 39.546875 41.84375 41.421875 45.53125 \r\nQ 43.3125 49.21875 43.3125 52.78125 \r\nQ 43.3125 58.59375 39.234375 62.25 \r\nQ 35.15625 65.921875 28.609375 65.921875 \r\nQ 23.96875 65.921875 18.8125 64.3125 \r\nQ 13.671875 62.703125 7.8125 59.421875 \r\nL 7.8125 69.390625 \r\nQ 13.765625 71.78125 18.9375 73 \r\nQ 24.125 74.21875 28.421875 74.21875 \r\nQ 39.75 74.21875 46.484375 68.546875 \r\nQ 53.21875 62.890625 53.21875 53.421875 \r\nQ 53.21875 48.921875 51.53125 44.890625 \r\nQ 49.859375 40.875 45.40625 35.40625 \r\nQ 44.1875 33.984375 37.640625 27.21875 \r\nQ 31.109375 20.453125 19.1875 8.296875 \r\nz\r\n\" id=\"DejaVuSans-50\"/>\r\n       </defs>\r\n       <use xlink:href=\"#DejaVuSans-50\"/>\r\n       <use x=\"63.623047\" xlink:href=\"#DejaVuSans-48\"/>\r\n      </g>\r\n     </g>\r\n    </g>\r\n    <g id=\"xtick_3\">\r\n     <g id=\"line2d_3\">\r\n      <g>\r\n       <use style=\"stroke:#000000;stroke-width:0.8;\" x=\"177.843388\" xlink:href=\"#m0792f9f675\" y=\"228.131414\"/>\r\n      </g>\r\n     </g>\r\n     <g id=\"text_3\">\r\n      <!-- 40 -->\r\n      <g transform=\"translate(171.480888 242.729851)scale(0.1 -0.1)\">\r\n       <defs>\r\n        <path d=\"M 37.796875 64.3125 \r\nL 12.890625 25.390625 \r\nL 37.796875 25.390625 \r\nz\r\nM 35.203125 72.90625 \r\nL 47.609375 72.90625 \r\nL 47.609375 25.390625 \r\nL 58.015625 25.390625 \r\nL 58.015625 17.1875 \r\nL 47.609375 17.1875 \r\nL 47.609375 0 \r\nL 37.796875 0 \r\nL 37.796875 17.1875 \r\nL 4.890625 17.1875 \r\nL 4.890625 26.703125 \r\nz\r\n\" id=\"DejaVuSans-52\"/>\r\n       </defs>\r\n       <use xlink:href=\"#DejaVuSans-52\"/>\r\n       <use x=\"63.623047\" xlink:href=\"#DejaVuSans-48\"/>\r\n      </g>\r\n     </g>\r\n    </g>\r\n    <g id=\"xtick_4\">\r\n     <g id=\"line2d_4\">\r\n      <g>\r\n       <use style=\"stroke:#000000;stroke-width:0.8;\" x=\"239.330992\" xlink:href=\"#m0792f9f675\" y=\"228.131414\"/>\r\n      </g>\r\n     </g>\r\n     <g id=\"text_4\">\r\n      <!-- 60 -->\r\n      <g transform=\"translate(232.968492 242.729851)scale(0.1 -0.1)\">\r\n       <defs>\r\n        <path d=\"M 33.015625 40.375 \r\nQ 26.375 40.375 22.484375 35.828125 \r\nQ 18.609375 31.296875 18.609375 23.390625 \r\nQ 18.609375 15.53125 22.484375 10.953125 \r\nQ 26.375 6.390625 33.015625 6.390625 \r\nQ 39.65625 6.390625 43.53125 10.953125 \r\nQ 47.40625 15.53125 47.40625 23.390625 \r\nQ 47.40625 31.296875 43.53125 35.828125 \r\nQ 39.65625 40.375 33.015625 40.375 \r\nz\r\nM 52.59375 71.296875 \r\nL 52.59375 62.3125 \r\nQ 48.875 64.0625 45.09375 64.984375 \r\nQ 41.3125 65.921875 37.59375 65.921875 \r\nQ 27.828125 65.921875 22.671875 59.328125 \r\nQ 17.53125 52.734375 16.796875 39.40625 \r\nQ 19.671875 43.65625 24.015625 45.921875 \r\nQ 28.375 48.1875 33.59375 48.1875 \r\nQ 44.578125 48.1875 50.953125 41.515625 \r\nQ 57.328125 34.859375 57.328125 23.390625 \r\nQ 57.328125 12.15625 50.6875 5.359375 \r\nQ 44.046875 -1.421875 33.015625 -1.421875 \r\nQ 20.359375 -1.421875 13.671875 8.265625 \r\nQ 6.984375 17.96875 6.984375 36.375 \r\nQ 6.984375 53.65625 15.1875 63.9375 \r\nQ 23.390625 74.21875 37.203125 74.21875 \r\nQ 40.921875 74.21875 44.703125 73.484375 \r\nQ 48.484375 72.75 52.59375 71.296875 \r\nz\r\n\" id=\"DejaVuSans-54\"/>\r\n       </defs>\r\n       <use xlink:href=\"#DejaVuSans-54\"/>\r\n       <use x=\"63.623047\" xlink:href=\"#DejaVuSans-48\"/>\r\n      </g>\r\n     </g>\r\n    </g>\r\n    <g id=\"xtick_5\">\r\n     <g id=\"line2d_5\">\r\n      <g>\r\n       <use style=\"stroke:#000000;stroke-width:0.8;\" x=\"300.818595\" xlink:href=\"#m0792f9f675\" y=\"228.131414\"/>\r\n      </g>\r\n     </g>\r\n     <g id=\"text_5\">\r\n      <!-- 80 -->\r\n      <g transform=\"translate(294.456095 242.729851)scale(0.1 -0.1)\">\r\n       <defs>\r\n        <path d=\"M 31.78125 34.625 \r\nQ 24.75 34.625 20.71875 30.859375 \r\nQ 16.703125 27.09375 16.703125 20.515625 \r\nQ 16.703125 13.921875 20.71875 10.15625 \r\nQ 24.75 6.390625 31.78125 6.390625 \r\nQ 38.8125 6.390625 42.859375 10.171875 \r\nQ 46.921875 13.96875 46.921875 20.515625 \r\nQ 46.921875 27.09375 42.890625 30.859375 \r\nQ 38.875 34.625 31.78125 34.625 \r\nz\r\nM 21.921875 38.8125 \r\nQ 15.578125 40.375 12.03125 44.71875 \r\nQ 8.5 49.078125 8.5 55.328125 \r\nQ 8.5 64.0625 14.71875 69.140625 \r\nQ 20.953125 74.21875 31.78125 74.21875 \r\nQ 42.671875 74.21875 48.875 69.140625 \r\nQ 55.078125 64.0625 55.078125 55.328125 \r\nQ 55.078125 49.078125 51.53125 44.71875 \r\nQ 48 40.375 41.703125 38.8125 \r\nQ 48.828125 37.15625 52.796875 32.3125 \r\nQ 56.78125 27.484375 56.78125 20.515625 \r\nQ 56.78125 9.90625 50.3125 4.234375 \r\nQ 43.84375 -1.421875 31.78125 -1.421875 \r\nQ 19.734375 -1.421875 13.25 4.234375 \r\nQ 6.78125 9.90625 6.78125 20.515625 \r\nQ 6.78125 27.484375 10.78125 32.3125 \r\nQ 14.796875 37.15625 21.921875 38.8125 \r\nz\r\nM 18.3125 54.390625 \r\nQ 18.3125 48.734375 21.84375 45.5625 \r\nQ 25.390625 42.390625 31.78125 42.390625 \r\nQ 38.140625 42.390625 41.71875 45.5625 \r\nQ 45.3125 48.734375 45.3125 54.390625 \r\nQ 45.3125 60.0625 41.71875 63.234375 \r\nQ 38.140625 66.40625 31.78125 66.40625 \r\nQ 25.390625 66.40625 21.84375 63.234375 \r\nQ 18.3125 60.0625 18.3125 54.390625 \r\nz\r\n\" id=\"DejaVuSans-56\"/>\r\n       </defs>\r\n       <use xlink:href=\"#DejaVuSans-56\"/>\r\n       <use x=\"63.623047\" xlink:href=\"#DejaVuSans-48\"/>\r\n      </g>\r\n     </g>\r\n    </g>\r\n    <g id=\"xtick_6\">\r\n     <g id=\"line2d_6\">\r\n      <g>\r\n       <use style=\"stroke:#000000;stroke-width:0.8;\" x=\"362.306198\" xlink:href=\"#m0792f9f675\" y=\"228.131414\"/>\r\n      </g>\r\n     </g>\r\n     <g id=\"text_6\">\r\n      <!-- 100 -->\r\n      <g transform=\"translate(352.762448 242.729851)scale(0.1 -0.1)\">\r\n       <defs>\r\n        <path d=\"M 12.40625 8.296875 \r\nL 28.515625 8.296875 \r\nL 28.515625 63.921875 \r\nL 10.984375 60.40625 \r\nL 10.984375 69.390625 \r\nL 28.421875 72.90625 \r\nL 38.28125 72.90625 \r\nL 38.28125 8.296875 \r\nL 54.390625 8.296875 \r\nL 54.390625 0 \r\nL 12.40625 0 \r\nz\r\n\" id=\"DejaVuSans-49\"/>\r\n       </defs>\r\n       <use xlink:href=\"#DejaVuSans-49\"/>\r\n       <use x=\"63.623047\" xlink:href=\"#DejaVuSans-48\"/>\r\n       <use x=\"127.246094\" xlink:href=\"#DejaVuSans-48\"/>\r\n      </g>\r\n     </g>\r\n    </g>\r\n   </g>\r\n   <g id=\"matplotlib.axis_2\">\r\n    <g id=\"ytick_1\">\r\n     <g id=\"line2d_7\">\r\n      <defs>\r\n       <path d=\"M 0 0 \r\nL -3.5 0 \r\n\" id=\"m9db1a2d693\" style=\"stroke:#000000;stroke-width:0.8;\"/>\r\n      </defs>\r\n      <g>\r\n       <use style=\"stroke:#000000;stroke-width:0.8;\" x=\"39.65\" xlink:href=\"#m9db1a2d693\" y=\"222.547034\"/>\r\n      </g>\r\n     </g>\r\n     <g id=\"text_7\">\r\n      <!-- 0 -->\r\n      <g transform=\"translate(26.2875 226.346253)scale(0.1 -0.1)\">\r\n       <use xlink:href=\"#DejaVuSans-48\"/>\r\n      </g>\r\n     </g>\r\n    </g>\r\n    <g id=\"ytick_2\">\r\n     <g id=\"line2d_8\">\r\n      <g>\r\n       <use style=\"stroke:#000000;stroke-width:0.8;\" x=\"39.65\" xlink:href=\"#m9db1a2d693\" y=\"196.103557\"/>\r\n      </g>\r\n     </g>\r\n     <g id=\"text_8\">\r\n      <!-- 250 -->\r\n      <g transform=\"translate(13.5625 199.902776)scale(0.1 -0.1)\">\r\n       <defs>\r\n        <path d=\"M 10.796875 72.90625 \r\nL 49.515625 72.90625 \r\nL 49.515625 64.59375 \r\nL 19.828125 64.59375 \r\nL 19.828125 46.734375 \r\nQ 21.96875 47.46875 24.109375 47.828125 \r\nQ 26.265625 48.1875 28.421875 48.1875 \r\nQ 40.625 48.1875 47.75 41.5 \r\nQ 54.890625 34.8125 54.890625 23.390625 \r\nQ 54.890625 11.625 47.5625 5.09375 \r\nQ 40.234375 -1.421875 26.90625 -1.421875 \r\nQ 22.3125 -1.421875 17.546875 -0.640625 \r\nQ 12.796875 0.140625 7.71875 1.703125 \r\nL 7.71875 11.625 \r\nQ 12.109375 9.234375 16.796875 8.0625 \r\nQ 21.484375 6.890625 26.703125 6.890625 \r\nQ 35.15625 6.890625 40.078125 11.328125 \r\nQ 45.015625 15.765625 45.015625 23.390625 \r\nQ 45.015625 31 40.078125 35.4375 \r\nQ 35.15625 39.890625 26.703125 39.890625 \r\nQ 22.75 39.890625 18.8125 39.015625 \r\nQ 14.890625 38.140625 10.796875 36.28125 \r\nz\r\n\" id=\"DejaVuSans-53\"/>\r\n       </defs>\r\n       <use xlink:href=\"#DejaVuSans-50\"/>\r\n       <use x=\"63.623047\" xlink:href=\"#DejaVuSans-53\"/>\r\n       <use x=\"127.246094\" xlink:href=\"#DejaVuSans-48\"/>\r\n      </g>\r\n     </g>\r\n    </g>\r\n    <g id=\"ytick_3\">\r\n     <g id=\"line2d_9\">\r\n      <g>\r\n       <use style=\"stroke:#000000;stroke-width:0.8;\" x=\"39.65\" xlink:href=\"#m9db1a2d693\" y=\"169.66008\"/>\r\n      </g>\r\n     </g>\r\n     <g id=\"text_9\">\r\n      <!-- 500 -->\r\n      <g transform=\"translate(13.5625 173.459299)scale(0.1 -0.1)\">\r\n       <use xlink:href=\"#DejaVuSans-53\"/>\r\n       <use x=\"63.623047\" xlink:href=\"#DejaVuSans-48\"/>\r\n       <use x=\"127.246094\" xlink:href=\"#DejaVuSans-48\"/>\r\n      </g>\r\n     </g>\r\n    </g>\r\n    <g id=\"ytick_4\">\r\n     <g id=\"line2d_10\">\r\n      <g>\r\n       <use style=\"stroke:#000000;stroke-width:0.8;\" x=\"39.65\" xlink:href=\"#m9db1a2d693\" y=\"143.216603\"/>\r\n      </g>\r\n     </g>\r\n     <g id=\"text_10\">\r\n      <!-- 750 -->\r\n      <g transform=\"translate(13.5625 147.015822)scale(0.1 -0.1)\">\r\n       <defs>\r\n        <path d=\"M 8.203125 72.90625 \r\nL 55.078125 72.90625 \r\nL 55.078125 68.703125 \r\nL 28.609375 0 \r\nL 18.3125 0 \r\nL 43.21875 64.59375 \r\nL 8.203125 64.59375 \r\nz\r\n\" id=\"DejaVuSans-55\"/>\r\n       </defs>\r\n       <use xlink:href=\"#DejaVuSans-55\"/>\r\n       <use x=\"63.623047\" xlink:href=\"#DejaVuSans-53\"/>\r\n       <use x=\"127.246094\" xlink:href=\"#DejaVuSans-48\"/>\r\n      </g>\r\n     </g>\r\n    </g>\r\n    <g id=\"ytick_5\">\r\n     <g id=\"line2d_11\">\r\n      <g>\r\n       <use style=\"stroke:#000000;stroke-width:0.8;\" x=\"39.65\" xlink:href=\"#m9db1a2d693\" y=\"116.773126\"/>\r\n      </g>\r\n     </g>\r\n     <g id=\"text_11\">\r\n      <!-- 1000 -->\r\n      <g transform=\"translate(7.2 120.572345)scale(0.1 -0.1)\">\r\n       <use xlink:href=\"#DejaVuSans-49\"/>\r\n       <use x=\"63.623047\" xlink:href=\"#DejaVuSans-48\"/>\r\n       <use x=\"127.246094\" xlink:href=\"#DejaVuSans-48\"/>\r\n       <use x=\"190.869141\" xlink:href=\"#DejaVuSans-48\"/>\r\n      </g>\r\n     </g>\r\n    </g>\r\n    <g id=\"ytick_6\">\r\n     <g id=\"line2d_12\">\r\n      <g>\r\n       <use style=\"stroke:#000000;stroke-width:0.8;\" x=\"39.65\" xlink:href=\"#m9db1a2d693\" y=\"90.329649\"/>\r\n      </g>\r\n     </g>\r\n     <g id=\"text_12\">\r\n      <!-- 1250 -->\r\n      <g transform=\"translate(7.2 94.128868)scale(0.1 -0.1)\">\r\n       <use xlink:href=\"#DejaVuSans-49\"/>\r\n       <use x=\"63.623047\" xlink:href=\"#DejaVuSans-50\"/>\r\n       <use x=\"127.246094\" xlink:href=\"#DejaVuSans-53\"/>\r\n       <use x=\"190.869141\" xlink:href=\"#DejaVuSans-48\"/>\r\n      </g>\r\n     </g>\r\n    </g>\r\n    <g id=\"ytick_7\">\r\n     <g id=\"line2d_13\">\r\n      <g>\r\n       <use style=\"stroke:#000000;stroke-width:0.8;\" x=\"39.65\" xlink:href=\"#m9db1a2d693\" y=\"63.886173\"/>\r\n      </g>\r\n     </g>\r\n     <g id=\"text_13\">\r\n      <!-- 1500 -->\r\n      <g transform=\"translate(7.2 67.685391)scale(0.1 -0.1)\">\r\n       <use xlink:href=\"#DejaVuSans-49\"/>\r\n       <use x=\"63.623047\" xlink:href=\"#DejaVuSans-53\"/>\r\n       <use x=\"127.246094\" xlink:href=\"#DejaVuSans-48\"/>\r\n       <use x=\"190.869141\" xlink:href=\"#DejaVuSans-48\"/>\r\n      </g>\r\n     </g>\r\n    </g>\r\n    <g id=\"ytick_8\">\r\n     <g id=\"line2d_14\">\r\n      <g>\r\n       <use style=\"stroke:#000000;stroke-width:0.8;\" x=\"39.65\" xlink:href=\"#m9db1a2d693\" y=\"37.442696\"/>\r\n      </g>\r\n     </g>\r\n     <g id=\"text_14\">\r\n      <!-- 1750 -->\r\n      <g transform=\"translate(7.2 41.241914)scale(0.1 -0.1)\">\r\n       <use xlink:href=\"#DejaVuSans-49\"/>\r\n       <use x=\"63.623047\" xlink:href=\"#DejaVuSans-55\"/>\r\n       <use x=\"127.246094\" xlink:href=\"#DejaVuSans-53\"/>\r\n       <use x=\"190.869141\" xlink:href=\"#DejaVuSans-48\"/>\r\n      </g>\r\n     </g>\r\n    </g>\r\n    <g id=\"ytick_9\">\r\n     <g id=\"line2d_15\">\r\n      <g>\r\n       <use style=\"stroke:#000000;stroke-width:0.8;\" x=\"39.65\" xlink:href=\"#m9db1a2d693\" y=\"10.999219\"/>\r\n      </g>\r\n     </g>\r\n     <g id=\"text_15\">\r\n      <!-- 2000 -->\r\n      <g transform=\"translate(7.2 14.798438)scale(0.1 -0.1)\">\r\n       <use xlink:href=\"#DejaVuSans-50\"/>\r\n       <use x=\"63.623047\" xlink:href=\"#DejaVuSans-48\"/>\r\n       <use x=\"127.246094\" xlink:href=\"#DejaVuSans-48\"/>\r\n       <use x=\"190.869141\" xlink:href=\"#DejaVuSans-48\"/>\r\n      </g>\r\n     </g>\r\n    </g>\r\n   </g>\r\n   <g id=\"line2d_16\">\r\n    <path clip-path=\"url(#p4c05b90465)\" d=\"M 54.868182 20.57505 \r\nL 57.942562 40.133393 \r\nL 61.016942 57.759352 \r\nL 64.091322 73.662069 \r\nL 67.165702 87.968575 \r\nL 70.240083 100.886058 \r\nL 73.314463 112.527562 \r\nL 76.388843 123.023981 \r\nL 79.463223 132.490771 \r\nL 82.537603 141.033133 \r\nL 85.611983 148.738127 \r\nL 88.686364 155.694602 \r\nL 91.760744 161.945723 \r\nL 94.835124 167.592088 \r\nL 97.909504 172.694154 \r\nL 100.983884 177.260045 \r\nL 104.058264 181.401898 \r\nL 107.132645 185.154263 \r\nL 110.207025 188.535487 \r\nL 113.281405 191.575413 \r\nL 116.355785 194.312563 \r\nL 119.430165 196.800442 \r\nL 122.504545 199.02493 \r\nL 125.578926 201.04389 \r\nL 128.653306 202.847768 \r\nL 131.727686 204.481599 \r\nL 134.802066 205.927924 \r\nL 137.876446 207.225906 \r\nL 140.950826 208.373236 \r\nL 144.025207 209.421856 \r\nL 147.099587 210.356783 \r\nL 150.173967 211.189493 \r\nL 153.248347 211.928442 \r\nL 156.322727 212.591582 \r\nL 159.397107 213.175278 \r\nL 162.471488 213.698779 \r\nL 165.545868 214.147028 \r\nL 168.620248 214.547541 \r\nL 171.694628 214.899764 \r\nL 174.769008 215.211312 \r\nL 177.843388 215.483169 \r\nL 180.917769 215.720512 \r\nL 183.992149 215.926256 \r\nL 187.066529 216.112147 \r\nL 190.140909 216.278277 \r\nL 193.215289 216.422389 \r\nL 196.289669 216.54832 \r\nL 199.36405 216.665197 \r\nL 202.43843 216.761824 \r\nL 205.51281 216.863449 \r\nL 208.58719 216.940919 \r\nL 211.66157 217.006822 \r\nL 214.73595 217.078449 \r\nL 217.810331 217.138182 \r\nL 220.884711 217.192104 \r\nL 223.959091 217.254839 \r\nL 227.033471 217.304785 \r\nL 230.107851 217.348036 \r\nL 233.182231 217.392065 \r\nL 236.256612 217.429826 \r\nL 239.330992 217.464405 \r\nL 242.405372 217.506518 \r\nL 245.479752 217.535154 \r\nL 248.554132 217.561718 \r\nL 251.628512 217.592103 \r\nL 254.702893 217.618977 \r\nL 257.777273 217.642509 \r\nL 260.851653 217.671851 \r\nL 263.926033 217.68983 \r\nL 267.000413 217.711 \r\nL 270.074793 217.731798 \r\nL 273.149174 217.754675 \r\nL 276.223554 217.775309 \r\nL 279.297934 217.796949 \r\nL 282.372314 217.824993 \r\nL 285.446694 217.837056 \r\nL 288.521074 217.851615 \r\nL 291.595455 217.879711 \r\nL 294.669835 217.897672 \r\nL 297.744215 217.915106 \r\nL 300.818595 217.932353 \r\nL 303.892975 217.95075 \r\nL 306.967355 217.974396 \r\nL 310.041736 217.989808 \r\nL 313.116116 218.003588 \r\nL 316.190496 218.028789 \r\nL 319.264876 218.056388 \r\nL 322.339256 218.07205 \r\nL 325.413636 218.084642 \r\nL 328.488017 218.108321 \r\nL 331.562397 218.119726 \r\nL 334.636777 218.131603 \r\nL 337.711157 218.148867 \r\nL 340.785537 218.168723 \r\nL 343.859917 218.184333 \r\nL 346.934298 218.199455 \r\nL 350.008678 218.213224 \r\nL 353.083058 218.228511 \r\nL 356.157438 218.23895 \r\nL 359.231818 218.247777 \r\n\" style=\"fill:none;stroke:#1f77b4;stroke-linecap:square;stroke-width:1.5;\"/>\r\n   </g>\r\n   <g id=\"patch_3\">\r\n    <path d=\"M 39.65 228.131414 \r\nL 39.65 10.691414 \r\n\" style=\"fill:none;stroke:#000000;stroke-linecap:square;stroke-linejoin:miter;stroke-width:0.8;\"/>\r\n   </g>\r\n   <g id=\"patch_4\">\r\n    <path d=\"M 374.45 228.131414 \r\nL 374.45 10.691414 \r\n\" style=\"fill:none;stroke:#000000;stroke-linecap:square;stroke-linejoin:miter;stroke-width:0.8;\"/>\r\n   </g>\r\n   <g id=\"patch_5\">\r\n    <path d=\"M 39.65 228.131414 \r\nL 374.45 228.131414 \r\n\" style=\"fill:none;stroke:#000000;stroke-linecap:square;stroke-linejoin:miter;stroke-width:0.8;\"/>\r\n   </g>\r\n   <g id=\"patch_6\">\r\n    <path d=\"M 39.65 10.691414 \r\nL 374.45 10.691414 \r\n\" style=\"fill:none;stroke:#000000;stroke-linecap:square;stroke-linejoin:miter;stroke-width:0.8;\"/>\r\n   </g>\r\n  </g>\r\n </g>\r\n <defs>\r\n  <clipPath id=\"p4c05b90465\">\r\n   <rect height=\"217.44\" width=\"334.8\" x=\"39.65\" y=\"10.691414\"/>\r\n  </clipPath>\r\n </defs>\r\n</svg>\r\n",
      "image/png": "[encoded data removed]"
     },
     "metadata": {
      "needs_background": "light"
     }
    }
   ],
   "source": [
    "result['train-rmse-mean'].plot()"
   ]
  },
  {
   "source": [
    "## hyperparameter tuning in xgboost"
   ],
   "cell_type": "markdown",
   "metadata": {}
  },
  {
   "cell_type": "code",
   "execution_count": 19,
   "metadata": {},
   "outputs": [],
   "source": [
    "gridsearch_params = [ \n",
    "    (max_depth, min_child_weight,learning_rate,subsample,colsample_bytree)\n",
    "    for max_depth in range(3,12)\n",
    "    for min_child_weight in range(5,10)\n",
    "    for learning_rate in np.arange(.1,1,.05)\n",
    "    for subsample in np.arange(.1,1)\n",
    "    for colsample_bytree in np.arange(.1,1)\n",
    "]"
   ]
  },
  {
   "cell_type": "code",
   "execution_count": 20,
   "metadata": {},
   "outputs": [],
   "source": [
    "from tqdm import tqdm"
   ]
  },
  {
   "cell_type": "code",
   "execution_count": 22,
   "metadata": {},
   "outputs": [
    {
     "output_type": "stream",
     "name": "stderr",
     "text": [
      "100%|██████████| 810/810 [02:47<00:00,  4.85it/s]Best params: 3,5,0.20000000000000004,0.1,0.1, with rmse: 92.83525333333334\n",
      "\n"
     ]
    }
   ],
   "source": [
    "# initial parameter for variable\n",
    "min_rmse = float('inf')\n",
    "best_params = None\n",
    "\n",
    "for max_depth,min_child_weight,lr,ss,colsample_bytree in tqdm(gridsearch_params):\n",
    "    params['max_depth'] = max_depth\n",
    "    params['min_child_weight'] = min_child_weight\n",
    "    params['learning_rate'] = lr\n",
    "    params['subsample'] = ss \n",
    "    params['colsample_bytree'] = colsample_bytree\n",
    "    result = xgb.cv(dtrain= data_matrix,\n",
    "                    params= params,\n",
    "                    nfold = 3,\n",
    "                    num_boost_round=100,\n",
    "                    early_stopping_rounds=10,\n",
    "                    metrics='rmse', # rmse or mse or mae\n",
    "                    seed = 0 )\n",
    "    mean_rmse = result['test-rmse-mean'].min()\n",
    "    boost_rounds = result['test-rmse-mean'].argmin()\n",
    "    if mean_rmse < min_rmse:\n",
    "        min_rmse = mean_rmse\n",
    "        best_params = (max_depth,min_child_weight,lr,ss,colsample_bytree)\n",
    "\n",
    "        \n",
    "print(f'Best params: {best_params[0]},{best_params[1]},{best_params[2]},{best_params[3]},{best_params[4]}, with rmse: {min_rmse}')"
   ]
  },
  {
   "cell_type": "code",
   "execution_count": 28,
   "metadata": {},
   "outputs": [
    {
     "output_type": "stream",
     "name": "stdout",
     "text": [
      "{'learning_rate': 0.2, 'max_depth': 5, 'alpha': 10, 'min_child_weight': 5, 'subsample': 0.1, 'colsample_bytree': 0.1}\n"
     ]
    }
   ],
   "source": [
    "# updating params with best values\n",
    "params['max_depth'] = 5\n",
    "params['min_child_weight'] = 5 \n",
    "params['learning_rate'] = 0.2\n",
    "params['subsample'] = 0.1\n",
    "params['colsample_bytree'] = 0.1\n",
    "print(params)"
   ]
  },
  {
   "source": [
    "## Model Training"
   ],
   "cell_type": "markdown",
   "metadata": {}
  },
  {
   "cell_type": "code",
   "execution_count": 29,
   "metadata": {},
   "outputs": [],
   "source": [
    "trainx, testx, trainy, testy = train_test_split(x,y,random_state=0)\n",
    "dtrain = xgb.DMatrix(data=trainx,label=trainy)\n",
    "dtest = xgb.DMatrix(data=testx,label=testy)"
   ]
  },
  {
   "cell_type": "code",
   "execution_count": 30,
   "metadata": {},
   "outputs": [
    {
     "output_type": "stream",
     "name": "stdout",
     "text": [
      "[0]\tTest-rmse:1741.09741\n",
      "Will train until Test-rmse hasn't improved in 10 rounds.\n",
      "[1]\tTest-rmse:1462.91516\n",
      "[2]\tTest-rmse:1204.25415\n",
      "[3]\tTest-rmse:996.86316\n",
      "[4]\tTest-rmse:834.64392\n",
      "[5]\tTest-rmse:730.42926\n",
      "[6]\tTest-rmse:625.55780\n",
      "[7]\tTest-rmse:541.50867\n",
      "[8]\tTest-rmse:460.93140\n",
      "[9]\tTest-rmse:390.59564\n",
      "[10]\tTest-rmse:342.45254\n",
      "[11]\tTest-rmse:309.28787\n",
      "[12]\tTest-rmse:286.16342\n",
      "[13]\tTest-rmse:263.24432\n",
      "[14]\tTest-rmse:235.71609\n",
      "[15]\tTest-rmse:221.60181\n",
      "[16]\tTest-rmse:203.09235\n",
      "[17]\tTest-rmse:191.47734\n",
      "[18]\tTest-rmse:174.02914\n",
      "[19]\tTest-rmse:166.57967\n",
      "[20]\tTest-rmse:158.08659\n",
      "[21]\tTest-rmse:150.44203\n",
      "[22]\tTest-rmse:142.17383\n",
      "[23]\tTest-rmse:132.65674\n",
      "[24]\tTest-rmse:127.40320\n",
      "[25]\tTest-rmse:122.77722\n",
      "[26]\tTest-rmse:117.13808\n",
      "[27]\tTest-rmse:112.29698\n",
      "[28]\tTest-rmse:108.73393\n",
      "[29]\tTest-rmse:107.00161\n",
      "[30]\tTest-rmse:105.51369\n",
      "[31]\tTest-rmse:102.73065\n",
      "[32]\tTest-rmse:103.06565\n",
      "[33]\tTest-rmse:99.94811\n",
      "[34]\tTest-rmse:99.34106\n",
      "[35]\tTest-rmse:98.82185\n",
      "[36]\tTest-rmse:98.45079\n",
      "[37]\tTest-rmse:98.27782\n",
      "[38]\tTest-rmse:97.24842\n",
      "[39]\tTest-rmse:96.32455\n",
      "[40]\tTest-rmse:95.79210\n",
      "[41]\tTest-rmse:93.91440\n",
      "[42]\tTest-rmse:94.22620\n",
      "[43]\tTest-rmse:94.17594\n",
      "[44]\tTest-rmse:94.54580\n",
      "[45]\tTest-rmse:92.67291\n",
      "[46]\tTest-rmse:92.52822\n",
      "[47]\tTest-rmse:91.08746\n",
      "[48]\tTest-rmse:90.80098\n",
      "[49]\tTest-rmse:89.21762\n",
      "[50]\tTest-rmse:88.88759\n",
      "[51]\tTest-rmse:89.64906\n",
      "[52]\tTest-rmse:88.93497\n",
      "[53]\tTest-rmse:89.50219\n",
      "[54]\tTest-rmse:88.84518\n",
      "[55]\tTest-rmse:88.77356\n",
      "[56]\tTest-rmse:87.32567\n",
      "[57]\tTest-rmse:86.43764\n",
      "[58]\tTest-rmse:87.17783\n",
      "[59]\tTest-rmse:87.09643\n",
      "[60]\tTest-rmse:86.80084\n",
      "[61]\tTest-rmse:86.67526\n",
      "[62]\tTest-rmse:86.02033\n",
      "[63]\tTest-rmse:86.25634\n",
      "[64]\tTest-rmse:85.90245\n",
      "[65]\tTest-rmse:86.66409\n",
      "[66]\tTest-rmse:85.48792\n",
      "[67]\tTest-rmse:85.52511\n",
      "[68]\tTest-rmse:86.35455\n",
      "[69]\tTest-rmse:86.47171\n",
      "[70]\tTest-rmse:86.65099\n",
      "[71]\tTest-rmse:85.77445\n",
      "[72]\tTest-rmse:86.00146\n",
      "[73]\tTest-rmse:86.42943\n",
      "[74]\tTest-rmse:85.96256\n",
      "[75]\tTest-rmse:86.02290\n",
      "[76]\tTest-rmse:85.87344\n",
      "Stopping. Best iteration:\n",
      "[66]\tTest-rmse:85.48792\n",
      "\n"
     ]
    }
   ],
   "source": [
    "model = xgb.train(params,dtrain,num_boost_round=100,evals=[(dtest,'Test')],early_stopping_rounds=10)"
   ]
  },
  {
   "source": [
    "## Model Saving"
   ],
   "cell_type": "markdown",
   "metadata": {}
  },
  {
   "cell_type": "code",
   "execution_count": 31,
   "metadata": {},
   "outputs": [
    {
     "output_type": "stream",
     "name": "stdout",
     "text": [
      "[0]\tTest-rmse:1741.09741\n",
      "[1]\tTest-rmse:1462.91516\n",
      "[2]\tTest-rmse:1204.25415\n",
      "[3]\tTest-rmse:996.86316\n",
      "[4]\tTest-rmse:834.64392\n",
      "[5]\tTest-rmse:730.42926\n",
      "[6]\tTest-rmse:625.55780\n",
      "[7]\tTest-rmse:541.50867\n",
      "[8]\tTest-rmse:460.93140\n",
      "[9]\tTest-rmse:390.59564\n",
      "[10]\tTest-rmse:342.45254\n",
      "[11]\tTest-rmse:309.28787\n",
      "[12]\tTest-rmse:286.16342\n",
      "[13]\tTest-rmse:263.24432\n",
      "[14]\tTest-rmse:235.71609\n",
      "[15]\tTest-rmse:221.60181\n",
      "[16]\tTest-rmse:203.09235\n",
      "[17]\tTest-rmse:191.47734\n",
      "[18]\tTest-rmse:174.02914\n",
      "[19]\tTest-rmse:166.57967\n",
      "[20]\tTest-rmse:158.08659\n",
      "[21]\tTest-rmse:150.44203\n",
      "[22]\tTest-rmse:142.17383\n",
      "[23]\tTest-rmse:132.65674\n",
      "[24]\tTest-rmse:127.40320\n",
      "[25]\tTest-rmse:122.77722\n",
      "[26]\tTest-rmse:117.13808\n",
      "[27]\tTest-rmse:112.29698\n",
      "[28]\tTest-rmse:108.73393\n",
      "[29]\tTest-rmse:107.00161\n",
      "[30]\tTest-rmse:105.51369\n",
      "[31]\tTest-rmse:102.73065\n",
      "[32]\tTest-rmse:103.06565\n",
      "[33]\tTest-rmse:99.94811\n",
      "[34]\tTest-rmse:99.34106\n",
      "[35]\tTest-rmse:98.82185\n",
      "[36]\tTest-rmse:98.45079\n",
      "[37]\tTest-rmse:98.27782\n",
      "[38]\tTest-rmse:97.24842\n",
      "[39]\tTest-rmse:96.32455\n",
      "[40]\tTest-rmse:95.79210\n",
      "[41]\tTest-rmse:93.91440\n",
      "[42]\tTest-rmse:94.22620\n",
      "[43]\tTest-rmse:94.17594\n",
      "[44]\tTest-rmse:94.54580\n",
      "[45]\tTest-rmse:92.67291\n",
      "[46]\tTest-rmse:92.52822\n",
      "[47]\tTest-rmse:91.08746\n",
      "[48]\tTest-rmse:90.80098\n",
      "[49]\tTest-rmse:89.21762\n",
      "[50]\tTest-rmse:88.88759\n",
      "[51]\tTest-rmse:89.64906\n",
      "[52]\tTest-rmse:88.93497\n",
      "[53]\tTest-rmse:89.50219\n",
      "[54]\tTest-rmse:88.84518\n",
      "[55]\tTest-rmse:88.77356\n",
      "[56]\tTest-rmse:87.32567\n",
      "[57]\tTest-rmse:86.43764\n",
      "[58]\tTest-rmse:87.17783\n",
      "[59]\tTest-rmse:87.09643\n",
      "[60]\tTest-rmse:86.80084\n",
      "[61]\tTest-rmse:86.67526\n",
      "[62]\tTest-rmse:86.02033\n",
      "[63]\tTest-rmse:86.25634\n",
      "[64]\tTest-rmse:85.90245\n",
      "[65]\tTest-rmse:86.66409\n",
      "[66]\tTest-rmse:85.48792\n"
     ]
    }
   ],
   "source": [
    "num_round = model.best_iteration+1\n",
    "best_model = xgb.train(params,dtrain,num_boost_round=num_round,evals=[(dtest,'Test')])"
   ]
  },
  {
   "cell_type": "code",
   "execution_count": 32,
   "metadata": {},
   "outputs": [
    {
     "output_type": "execute_result",
     "data": {
      "text/plain": [
       "85.48791876095883"
      ]
     },
     "metadata": {},
     "execution_count": 32
    }
   ],
   "source": [
    "ypred = best_model.predict(dtest)\n",
    "np.sqrt(mean_squared_error(testy,ypred))"
   ]
  },
  {
   "cell_type": "code",
   "execution_count": 33,
   "metadata": {},
   "outputs": [],
   "source": [
    "best_model.save_model('boston_pricing.model')"
   ]
  },
  {
   "cell_type": "code",
   "execution_count": 34,
   "metadata": {},
   "outputs": [],
   "source": [
    "loaded_model = xgb.Booster()\n",
    "loaded_model.load_model('boston_pricing.model')"
   ]
  },
  {
   "cell_type": "code",
   "execution_count": 35,
   "metadata": {},
   "outputs": [
    {
     "output_type": "execute_result",
     "data": {
      "text/plain": [
       "array([1951.465   , 3066.4976  , 1886.4089  , 2932.382   , 1408.0193  ,\n",
       "       1601.1322  , 1350.9154  , 1530.5421  , 1402.7225  , 2533.7434  ,\n",
       "       2311.8325  , 2177.3005  , 1769.5425  , 1519.4037  ,  -10.159842,\n",
       "       2045.697   ,  950.8535  , 2898.8506  , 2097.4097  , 2378.7654  ,\n",
       "       1587.1656  , 1087.0935  , 2360.6436  , 1567.4264  , 2157.8613  ,\n",
       "       2014.9226  , 1973.8412  , 2939.609   ,  855.13245 , 1905.1493  ,\n",
       "       1133.3324  , 2549.0378  , 2238.2004  , 1474.0154  , 1433.6628  ,\n",
       "       1783.3463  , 1789.4899  , 2663.8547  , 3179.2102  , 1622.9447  ,\n",
       "        540.8357  , 2412.0796  , 2666.2395  , 2731.7217  , 2058.5417  ,\n",
       "       1848.2297  , 2038.9736  , 1143.0326  , 1566.8143  , 1597.6603  ,\n",
       "       1855.4606  , 2128.3389  , 1843.4006  , 2042.7941  , 2277.9568  ,\n",
       "        296.46368 , 1886.4473  , 1872.9106  ,  482.25296 , 1600.1772  ,\n",
       "       1299.0994  , 2392.6382  , 2137.1597  , 2023.3911  , 1491.5579  ,\n",
       "       2421.688   , 2371.0222  , 2329.953   , 1979.4484  , 1801.702   ,\n",
       "       1952.7233  , 1614.0002  , 1068.5626  , 2861.048   , 2208.4385  ,\n",
       "       2002.6892  , 1754.9915  , 1966.6277  , 1744.6061  , 2083.1753  ,\n",
       "       2020.1229  , 2970.0073  , 2438.977   , 2422.585   , 1650.5577  ,\n",
       "       1723.5135  , 1707.2584  , 2604.3552  , 2358.5723  , 1829.6705  ,\n",
       "       1685.3088  , 1691.5553  , 1242.5148  , 2230.4016  , 2577.8477  ,\n",
       "       3116.118   , 1427.1594  ,  181.70721 , 1393.1829  , 2930.7415  ,\n",
       "       3018.6804  , 1926.7766  , 1944.4569  , 1360.2738  , 1631.5161  ,\n",
       "       2402.529   , 3252.617   , 2465.033   , 2733.242   , 2665.3008  ,\n",
       "       1690.2645  , 2172.968   , 1844.8857  , 2239.9453  , 1841.654   ,\n",
       "       1056.1312  , 2380.2563  , 1144.3441  , 3278.0002  , 2872.0488  ,\n",
       "       2486.3345  , 1998.2476  , 2008.6478  , 2037.1669  , 1043.14    ,\n",
       "       2711.455   , 2557.7866  , 1646.9525  , 1484.7238  , 2863.2424  ,\n",
       "       2110.3354  , 1410.7638  , 1754.3784  , 2199.1465  , 1098.6311  ,\n",
       "       2340.6653  , 2088.005   , 2030.1097  , 2226.3674  , 1161.0767  ,\n",
       "       3319.8164  , 3037.9097  , 1297.5829  , 2351.1614  , 1994.642   ,\n",
       "       2854.5176  , 2730.658   , 2456.8376  ,  272.73242 , 1168.5708  ,\n",
       "       1794.1716  , 2068.334   , 2375.5596  , 2709.8318  , 2640.2224  ,\n",
       "       1889.5602  , 2656.1113  , 2199.321   ,  562.8411  , 1087.921   ,\n",
       "        187.08165 , 1229.0789  , 2879.48    , 2382.525   , 1526.3604  ,\n",
       "       1606.4413  , 2626.1885  , 1478.0704  , 2996.4626  , 2056.6243  ,\n",
       "       1111.4216  , 2939.609   , 1971.5607  , 2466.7334  , 1387.1097  ,\n",
       "       2509.0894  , 2004.23    , 1794.5023  , 2176.8577  , 1679.9326  ,\n",
       "       1949.3662  , 1567.6233  ,  533.36554 , 1566.8143  , 1908.791   ,\n",
       "       2002.8264  , 2436.96    , 2337.0903  , 2685.27    ,  680.8195  ,\n",
       "       1156.8245  , 2050.5718  , 1886.4545  , 1809.9038  , 1799.6635  ,\n",
       "       3027.615   , 2244.5256  , 2275.9243  , 2169.1848  , 1514.7805  ,\n",
       "       2907.1707  , 2382.187   , 1169.0308  , 2149.0786  , 2050.006   ,\n",
       "       1981.4371  , 2379.2715  , 2088.043   , 1604.5374  , 2484.8892  ,\n",
       "       2373.4182  , 1472.152   , 2015.9384  , 2971.9326  , 1860.3385  ,\n",
       "       1516.8405  , 2345.7913  , 2771.4695  , 2011.2023  , 1338.15    ,\n",
       "       2109.1482  , 2029.4803  , 2093.0012  , 3308.6423  , 2367.526   ,\n",
       "       1703.3531  , 2063.8433  , 1085.2916  , 2842.3057  , 2177.8132  ,\n",
       "       1423.9877  , 2733.4111  , 3280.204   , 2278.7795  , 2707.4172  ,\n",
       "       1395.2953  , 3168.6787  , 1011.532   , 2009.2324  , 1445.9937  ,\n",
       "       2066.1646  , 2976.5325  , 1930.3542  , 1324.8362  , 1303.4873  ,\n",
       "       2169.278   , 1900.6388  , 2065.0657  , 3314.5095  , 1179.4185  ],\n",
       "      dtype=float32)"
      ]
     },
     "metadata": {},
     "execution_count": 35
    }
   ],
   "source": [
    "loaded_model.predict(dtest)"
   ]
  },
  {
   "cell_type": "code",
   "execution_count": null,
   "metadata": {},
   "outputs": [],
   "source": []
  }
 ]
}