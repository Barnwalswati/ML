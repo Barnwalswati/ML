{
 "metadata": {
  "language_info": {
   "codemirror_mode": {
    "name": "ipython",
    "version": 3
   },
   "file_extension": ".py",
   "mimetype": "text/x-python",
   "name": "python",
   "nbconvert_exporter": "python",
   "pygments_lexer": "ipython3",
   "version": "3.8.5-final"
  },
  "orig_nbformat": 2,
  "kernelspec": {
   "name": "python3",
   "display_name": "Python 3"
  }
 },
 "nbformat": 4,
 "nbformat_minor": 2,
 "cells": [
  {
   "cell_type": "code",
   "execution_count": 5,
   "metadata": {},
   "outputs": [
    {
     "output_type": "stream",
     "name": "stdout",
     "text": [
      "hp = 120 \n=> price=15750.059763324163\n"
     ]
    }
   ],
   "source": [
    "import pickle\n",
    "import numpy as np\n",
    "\n",
    "path = 'models/slr_hpvsprice_predictor.pkl'\n",
    "with open(path,'rb') as f:\n",
    "    model = pickle.load(f)\n",
    "\n",
    "\n",
    "hp = int(input('enter the horsepower of vehicle: '))\n",
    "# convert this single value in to numpy 2d array\n",
    "x = np.array([[hp]])\n",
    "prediction = model.predict(x)\n",
    "print(f'hp = {hp} \\n=> price={prediction[0]}')"
   ]
  },
  {
   "cell_type": "code",
   "execution_count": null,
   "metadata": {},
   "outputs": [],
   "source": []
  }
 ]
}