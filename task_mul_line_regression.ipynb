{
 "metadata": {
  "language_info": {
   "codemirror_mode": {
    "name": "ipython",
    "version": 3
   },
   "file_extension": ".py",
   "mimetype": "text/x-python",
   "name": "python",
   "nbconvert_exporter": "python",
   "pygments_lexer": "ipython3",
   "version": "3.8.5-final"
  },
  "orig_nbformat": 2,
  "kernelspec": {
   "name": "Python 3.8.5 64-bit",
   "display_name": "Python 3.8.5 64-bit",
   "metadata": {
    "interpreter": {
     "hash": "95a42c9d714500044bc0391fb32b02737b2d8f1e03fd948c22a6212aefb0a58d"
    }
   }
  }
 },
 "nbformat": 4,
 "nbformat_minor": 2,
 "cells": [
  {
   "cell_type": "code",
   "execution_count": 1,
   "metadata": {},
   "outputs": [],
   "source": [
    "# basics imports\n",
    "import pandas as pd \n",
    "import numpy as np \n",
    "import matplotlib.pyplot as plt\n",
    "import seaborn as sns\n",
    "import plotly.express as px\n",
    "import pickle\n",
    "\n",
    "# algo and estimators\n",
    "from sklearn.linear_model import LinearRegression\n",
    "from sklearn.model_selection import train_test_split\n",
    "from sklearn.preprocessing import OneHotEncoder"
   ]
  },
  {
   "cell_type": "code",
   "execution_count": 2,
   "metadata": {},
   "outputs": [],
   "source": [
    "df = pd.read_csv(r'https://s3-api.us-geo.objectstorage.softlayer.net/cf-courses-data/CognitiveClass/DA0101EN/automobileEDA.csv')"
   ]
  },
  {
   "cell_type": "code",
   "execution_count": 3,
   "metadata": {},
   "outputs": [
    {
     "output_type": "execute_result",
     "data": {
      "text/plain": [
       "   symboling  normalized-losses         make aspiration num-of-doors  \\\n",
       "0          3                122  alfa-romero        std          two   \n",
       "1          3                122  alfa-romero        std          two   \n",
       "2          1                122  alfa-romero        std          two   \n",
       "3          2                164         audi        std         four   \n",
       "4          2                164         audi        std         four   \n",
       "\n",
       "    body-style drive-wheels engine-location  wheel-base    length  ...  \\\n",
       "0  convertible          rwd           front        88.6  0.811148  ...   \n",
       "1  convertible          rwd           front        88.6  0.811148  ...   \n",
       "2    hatchback          rwd           front        94.5  0.822681  ...   \n",
       "3        sedan          fwd           front        99.8  0.848630  ...   \n",
       "4        sedan          4wd           front        99.4  0.848630  ...   \n",
       "\n",
       "   compression-ratio  horsepower  peak-rpm city-mpg highway-mpg    price  \\\n",
       "0                9.0       111.0    5000.0       21          27  13495.0   \n",
       "1                9.0       111.0    5000.0       21          27  16500.0   \n",
       "2                9.0       154.0    5000.0       19          26  16500.0   \n",
       "3               10.0       102.0    5500.0       24          30  13950.0   \n",
       "4                8.0       115.0    5500.0       18          22  17450.0   \n",
       "\n",
       "  city-L/100km  horsepower-binned  diesel  gas  \n",
       "0    11.190476             Medium       0    1  \n",
       "1    11.190476             Medium       0    1  \n",
       "2    12.368421             Medium       0    1  \n",
       "3     9.791667             Medium       0    1  \n",
       "4    13.055556             Medium       0    1  \n",
       "\n",
       "[5 rows x 29 columns]"
      ],
      "text/html": "<div>\n<style scoped>\n    .dataframe tbody tr th:only-of-type {\n        vertical-align: middle;\n    }\n\n    .dataframe tbody tr th {\n        vertical-align: top;\n    }\n\n    .dataframe thead th {\n        text-align: right;\n    }\n</style>\n<table border=\"1\" class=\"dataframe\">\n  <thead>\n    <tr style=\"text-align: right;\">\n      <th></th>\n      <th>symboling</th>\n      <th>normalized-losses</th>\n      <th>make</th>\n      <th>aspiration</th>\n      <th>num-of-doors</th>\n      <th>body-style</th>\n      <th>drive-wheels</th>\n      <th>engine-location</th>\n      <th>wheel-base</th>\n      <th>length</th>\n      <th>...</th>\n      <th>compression-ratio</th>\n      <th>horsepower</th>\n      <th>peak-rpm</th>\n      <th>city-mpg</th>\n      <th>highway-mpg</th>\n      <th>price</th>\n      <th>city-L/100km</th>\n      <th>horsepower-binned</th>\n      <th>diesel</th>\n      <th>gas</th>\n    </tr>\n  </thead>\n  <tbody>\n    <tr>\n      <th>0</th>\n      <td>3</td>\n      <td>122</td>\n      <td>alfa-romero</td>\n      <td>std</td>\n      <td>two</td>\n      <td>convertible</td>\n      <td>rwd</td>\n      <td>front</td>\n      <td>88.6</td>\n      <td>0.811148</td>\n      <td>...</td>\n      <td>9.0</td>\n      <td>111.0</td>\n      <td>5000.0</td>\n      <td>21</td>\n      <td>27</td>\n      <td>13495.0</td>\n      <td>11.190476</td>\n      <td>Medium</td>\n      <td>0</td>\n      <td>1</td>\n    </tr>\n    <tr>\n      <th>1</th>\n      <td>3</td>\n      <td>122</td>\n      <td>alfa-romero</td>\n      <td>std</td>\n      <td>two</td>\n      <td>convertible</td>\n      <td>rwd</td>\n      <td>front</td>\n      <td>88.6</td>\n      <td>0.811148</td>\n      <td>...</td>\n      <td>9.0</td>\n      <td>111.0</td>\n      <td>5000.0</td>\n      <td>21</td>\n      <td>27</td>\n      <td>16500.0</td>\n      <td>11.190476</td>\n      <td>Medium</td>\n      <td>0</td>\n      <td>1</td>\n    </tr>\n    <tr>\n      <th>2</th>\n      <td>1</td>\n      <td>122</td>\n      <td>alfa-romero</td>\n      <td>std</td>\n      <td>two</td>\n      <td>hatchback</td>\n      <td>rwd</td>\n      <td>front</td>\n      <td>94.5</td>\n      <td>0.822681</td>\n      <td>...</td>\n      <td>9.0</td>\n      <td>154.0</td>\n      <td>5000.0</td>\n      <td>19</td>\n      <td>26</td>\n      <td>16500.0</td>\n      <td>12.368421</td>\n      <td>Medium</td>\n      <td>0</td>\n      <td>1</td>\n    </tr>\n    <tr>\n      <th>3</th>\n      <td>2</td>\n      <td>164</td>\n      <td>audi</td>\n      <td>std</td>\n      <td>four</td>\n      <td>sedan</td>\n      <td>fwd</td>\n      <td>front</td>\n      <td>99.8</td>\n      <td>0.848630</td>\n      <td>...</td>\n      <td>10.0</td>\n      <td>102.0</td>\n      <td>5500.0</td>\n      <td>24</td>\n      <td>30</td>\n      <td>13950.0</td>\n      <td>9.791667</td>\n      <td>Medium</td>\n      <td>0</td>\n      <td>1</td>\n    </tr>\n    <tr>\n      <th>4</th>\n      <td>2</td>\n      <td>164</td>\n      <td>audi</td>\n      <td>std</td>\n      <td>four</td>\n      <td>sedan</td>\n      <td>4wd</td>\n      <td>front</td>\n      <td>99.4</td>\n      <td>0.848630</td>\n      <td>...</td>\n      <td>8.0</td>\n      <td>115.0</td>\n      <td>5500.0</td>\n      <td>18</td>\n      <td>22</td>\n      <td>17450.0</td>\n      <td>13.055556</td>\n      <td>Medium</td>\n      <td>0</td>\n      <td>1</td>\n    </tr>\n  </tbody>\n</table>\n<p>5 rows × 29 columns</p>\n</div>"
     },
     "metadata": {},
     "execution_count": 3
    }
   ],
   "source": [
    "df.head()"
   ]
  },
  {
   "cell_type": "code",
   "execution_count": 4,
   "metadata": {},
   "outputs": [
    {
     "output_type": "stream",
     "name": "stdout",
     "text": [
      "<class 'pandas.core.frame.DataFrame'>\nRangeIndex: 201 entries, 0 to 200\nData columns (total 29 columns):\n #   Column             Non-Null Count  Dtype  \n---  ------             --------------  -----  \n 0   symboling          201 non-null    int64  \n 1   normalized-losses  201 non-null    int64  \n 2   make               201 non-null    object \n 3   aspiration         201 non-null    object \n 4   num-of-doors       201 non-null    object \n 5   body-style         201 non-null    object \n 6   drive-wheels       201 non-null    object \n 7   engine-location    201 non-null    object \n 8   wheel-base         201 non-null    float64\n 9   length             201 non-null    float64\n 10  width              201 non-null    float64\n 11  height             201 non-null    float64\n 12  curb-weight        201 non-null    int64  \n 13  engine-type        201 non-null    object \n 14  num-of-cylinders   201 non-null    object \n 15  engine-size        201 non-null    int64  \n 16  fuel-system        201 non-null    object \n 17  bore               201 non-null    float64\n 18  stroke             197 non-null    float64\n 19  compression-ratio  201 non-null    float64\n 20  horsepower         201 non-null    float64\n 21  peak-rpm           201 non-null    float64\n 22  city-mpg           201 non-null    int64  \n 23  highway-mpg        201 non-null    int64  \n 24  price              201 non-null    float64\n 25  city-L/100km       201 non-null    float64\n 26  horsepower-binned  200 non-null    object \n 27  diesel             201 non-null    int64  \n 28  gas                201 non-null    int64  \ndtypes: float64(11), int64(8), object(10)\nmemory usage: 45.7+ KB\n"
     ]
    }
   ],
   "source": [
    "df.info()"
   ]
  },
  {
   "cell_type": "code",
   "execution_count": 6,
   "metadata": {},
   "outputs": [
    {
     "output_type": "execute_result",
     "data": {
      "text/plain": [
       "         symboling  normalized-losses    make aspiration num-of-doors  \\\n",
       "count   201.000000          201.00000     201        201          201   \n",
       "unique         NaN                NaN      22          2            2   \n",
       "top            NaN                NaN  toyota        std         four   \n",
       "freq           NaN                NaN      32        165          115   \n",
       "mean      0.840796          122.00000     NaN        NaN          NaN   \n",
       "std       1.254802           31.99625     NaN        NaN          NaN   \n",
       "min      -2.000000           65.00000     NaN        NaN          NaN   \n",
       "25%       0.000000          101.00000     NaN        NaN          NaN   \n",
       "50%       1.000000          122.00000     NaN        NaN          NaN   \n",
       "75%       2.000000          137.00000     NaN        NaN          NaN   \n",
       "max       3.000000          256.00000     NaN        NaN          NaN   \n",
       "\n",
       "       body-style drive-wheels engine-location  wheel-base      length  ...  \\\n",
       "count         201          201             201  201.000000  201.000000  ...   \n",
       "unique          5            3               2         NaN         NaN  ...   \n",
       "top         sedan          fwd           front         NaN         NaN  ...   \n",
       "freq           94          118             198         NaN         NaN  ...   \n",
       "mean          NaN          NaN             NaN   98.797015    0.837102  ...   \n",
       "std           NaN          NaN             NaN    6.066366    0.059213  ...   \n",
       "min           NaN          NaN             NaN   86.600000    0.678039  ...   \n",
       "25%           NaN          NaN             NaN   94.500000    0.801538  ...   \n",
       "50%           NaN          NaN             NaN   97.000000    0.832292  ...   \n",
       "75%           NaN          NaN             NaN  102.400000    0.881788  ...   \n",
       "max           NaN          NaN             NaN  120.900000    1.000000  ...   \n",
       "\n",
       "        compression-ratio  horsepower     peak-rpm    city-mpg highway-mpg  \\\n",
       "count          201.000000  201.000000   201.000000  201.000000  201.000000   \n",
       "unique                NaN         NaN          NaN         NaN         NaN   \n",
       "top                   NaN         NaN          NaN         NaN         NaN   \n",
       "freq                  NaN         NaN          NaN         NaN         NaN   \n",
       "mean            10.164279  103.405534  5117.665368   25.179104   30.686567   \n",
       "std              4.004965   37.365700   478.113805    6.423220    6.815150   \n",
       "min              7.000000   48.000000  4150.000000   13.000000   16.000000   \n",
       "25%              8.600000   70.000000  4800.000000   19.000000   25.000000   \n",
       "50%              9.000000   95.000000  5125.369458   24.000000   30.000000   \n",
       "75%              9.400000  116.000000  5500.000000   30.000000   34.000000   \n",
       "max             23.000000  262.000000  6600.000000   49.000000   54.000000   \n",
       "\n",
       "               price city-L/100km  horsepower-binned      diesel         gas  \n",
       "count     201.000000   201.000000                200  201.000000  201.000000  \n",
       "unique           NaN          NaN                  3         NaN         NaN  \n",
       "top              NaN          NaN                Low         NaN         NaN  \n",
       "freq             NaN          NaN                115         NaN         NaN  \n",
       "mean    13207.129353     9.944145                NaN    0.099502    0.900498  \n",
       "std      7947.066342     2.534599                NaN    0.300083    0.300083  \n",
       "min      5118.000000     4.795918                NaN    0.000000    0.000000  \n",
       "25%      7775.000000     7.833333                NaN    0.000000    1.000000  \n",
       "50%     10295.000000     9.791667                NaN    0.000000    1.000000  \n",
       "75%     16500.000000    12.368421                NaN    0.000000    1.000000  \n",
       "max     45400.000000    18.076923                NaN    1.000000    1.000000  \n",
       "\n",
       "[11 rows x 29 columns]"
      ],
      "text/html": "<div>\n<style scoped>\n    .dataframe tbody tr th:only-of-type {\n        vertical-align: middle;\n    }\n\n    .dataframe tbody tr th {\n        vertical-align: top;\n    }\n\n    .dataframe thead th {\n        text-align: right;\n    }\n</style>\n<table border=\"1\" class=\"dataframe\">\n  <thead>\n    <tr style=\"text-align: right;\">\n      <th></th>\n      <th>symboling</th>\n      <th>normalized-losses</th>\n      <th>make</th>\n      <th>aspiration</th>\n      <th>num-of-doors</th>\n      <th>body-style</th>\n      <th>drive-wheels</th>\n      <th>engine-location</th>\n      <th>wheel-base</th>\n      <th>length</th>\n      <th>...</th>\n      <th>compression-ratio</th>\n      <th>horsepower</th>\n      <th>peak-rpm</th>\n      <th>city-mpg</th>\n      <th>highway-mpg</th>\n      <th>price</th>\n      <th>city-L/100km</th>\n      <th>horsepower-binned</th>\n      <th>diesel</th>\n      <th>gas</th>\n    </tr>\n  </thead>\n  <tbody>\n    <tr>\n      <th>count</th>\n      <td>201.000000</td>\n      <td>201.00000</td>\n      <td>201</td>\n      <td>201</td>\n      <td>201</td>\n      <td>201</td>\n      <td>201</td>\n      <td>201</td>\n      <td>201.000000</td>\n      <td>201.000000</td>\n      <td>...</td>\n      <td>201.000000</td>\n      <td>201.000000</td>\n      <td>201.000000</td>\n      <td>201.000000</td>\n      <td>201.000000</td>\n      <td>201.000000</td>\n      <td>201.000000</td>\n      <td>200</td>\n      <td>201.000000</td>\n      <td>201.000000</td>\n    </tr>\n    <tr>\n      <th>unique</th>\n      <td>NaN</td>\n      <td>NaN</td>\n      <td>22</td>\n      <td>2</td>\n      <td>2</td>\n      <td>5</td>\n      <td>3</td>\n      <td>2</td>\n      <td>NaN</td>\n      <td>NaN</td>\n      <td>...</td>\n      <td>NaN</td>\n      <td>NaN</td>\n      <td>NaN</td>\n      <td>NaN</td>\n      <td>NaN</td>\n      <td>NaN</td>\n      <td>NaN</td>\n      <td>3</td>\n      <td>NaN</td>\n      <td>NaN</td>\n    </tr>\n    <tr>\n      <th>top</th>\n      <td>NaN</td>\n      <td>NaN</td>\n      <td>toyota</td>\n      <td>std</td>\n      <td>four</td>\n      <td>sedan</td>\n      <td>fwd</td>\n      <td>front</td>\n      <td>NaN</td>\n      <td>NaN</td>\n      <td>...</td>\n      <td>NaN</td>\n      <td>NaN</td>\n      <td>NaN</td>\n      <td>NaN</td>\n      <td>NaN</td>\n      <td>NaN</td>\n      <td>NaN</td>\n      <td>Low</td>\n      <td>NaN</td>\n      <td>NaN</td>\n    </tr>\n    <tr>\n      <th>freq</th>\n      <td>NaN</td>\n      <td>NaN</td>\n      <td>32</td>\n      <td>165</td>\n      <td>115</td>\n      <td>94</td>\n      <td>118</td>\n      <td>198</td>\n      <td>NaN</td>\n      <td>NaN</td>\n      <td>...</td>\n      <td>NaN</td>\n      <td>NaN</td>\n      <td>NaN</td>\n      <td>NaN</td>\n      <td>NaN</td>\n      <td>NaN</td>\n      <td>NaN</td>\n      <td>115</td>\n      <td>NaN</td>\n      <td>NaN</td>\n    </tr>\n    <tr>\n      <th>mean</th>\n      <td>0.840796</td>\n      <td>122.00000</td>\n      <td>NaN</td>\n      <td>NaN</td>\n      <td>NaN</td>\n      <td>NaN</td>\n      <td>NaN</td>\n      <td>NaN</td>\n      <td>98.797015</td>\n      <td>0.837102</td>\n      <td>...</td>\n      <td>10.164279</td>\n      <td>103.405534</td>\n      <td>5117.665368</td>\n      <td>25.179104</td>\n      <td>30.686567</td>\n      <td>13207.129353</td>\n      <td>9.944145</td>\n      <td>NaN</td>\n      <td>0.099502</td>\n      <td>0.900498</td>\n    </tr>\n    <tr>\n      <th>std</th>\n      <td>1.254802</td>\n      <td>31.99625</td>\n      <td>NaN</td>\n      <td>NaN</td>\n      <td>NaN</td>\n      <td>NaN</td>\n      <td>NaN</td>\n      <td>NaN</td>\n      <td>6.066366</td>\n      <td>0.059213</td>\n      <td>...</td>\n      <td>4.004965</td>\n      <td>37.365700</td>\n      <td>478.113805</td>\n      <td>6.423220</td>\n      <td>6.815150</td>\n      <td>7947.066342</td>\n      <td>2.534599</td>\n      <td>NaN</td>\n      <td>0.300083</td>\n      <td>0.300083</td>\n    </tr>\n    <tr>\n      <th>min</th>\n      <td>-2.000000</td>\n      <td>65.00000</td>\n      <td>NaN</td>\n      <td>NaN</td>\n      <td>NaN</td>\n      <td>NaN</td>\n      <td>NaN</td>\n      <td>NaN</td>\n      <td>86.600000</td>\n      <td>0.678039</td>\n      <td>...</td>\n      <td>7.000000</td>\n      <td>48.000000</td>\n      <td>4150.000000</td>\n      <td>13.000000</td>\n      <td>16.000000</td>\n      <td>5118.000000</td>\n      <td>4.795918</td>\n      <td>NaN</td>\n      <td>0.000000</td>\n      <td>0.000000</td>\n    </tr>\n    <tr>\n      <th>25%</th>\n      <td>0.000000</td>\n      <td>101.00000</td>\n      <td>NaN</td>\n      <td>NaN</td>\n      <td>NaN</td>\n      <td>NaN</td>\n      <td>NaN</td>\n      <td>NaN</td>\n      <td>94.500000</td>\n      <td>0.801538</td>\n      <td>...</td>\n      <td>8.600000</td>\n      <td>70.000000</td>\n      <td>4800.000000</td>\n      <td>19.000000</td>\n      <td>25.000000</td>\n      <td>7775.000000</td>\n      <td>7.833333</td>\n      <td>NaN</td>\n      <td>0.000000</td>\n      <td>1.000000</td>\n    </tr>\n    <tr>\n      <th>50%</th>\n      <td>1.000000</td>\n      <td>122.00000</td>\n      <td>NaN</td>\n      <td>NaN</td>\n      <td>NaN</td>\n      <td>NaN</td>\n      <td>NaN</td>\n      <td>NaN</td>\n      <td>97.000000</td>\n      <td>0.832292</td>\n      <td>...</td>\n      <td>9.000000</td>\n      <td>95.000000</td>\n      <td>5125.369458</td>\n      <td>24.000000</td>\n      <td>30.000000</td>\n      <td>10295.000000</td>\n      <td>9.791667</td>\n      <td>NaN</td>\n      <td>0.000000</td>\n      <td>1.000000</td>\n    </tr>\n    <tr>\n      <th>75%</th>\n      <td>2.000000</td>\n      <td>137.00000</td>\n      <td>NaN</td>\n      <td>NaN</td>\n      <td>NaN</td>\n      <td>NaN</td>\n      <td>NaN</td>\n      <td>NaN</td>\n      <td>102.400000</td>\n      <td>0.881788</td>\n      <td>...</td>\n      <td>9.400000</td>\n      <td>116.000000</td>\n      <td>5500.000000</td>\n      <td>30.000000</td>\n      <td>34.000000</td>\n      <td>16500.000000</td>\n      <td>12.368421</td>\n      <td>NaN</td>\n      <td>0.000000</td>\n      <td>1.000000</td>\n    </tr>\n    <tr>\n      <th>max</th>\n      <td>3.000000</td>\n      <td>256.00000</td>\n      <td>NaN</td>\n      <td>NaN</td>\n      <td>NaN</td>\n      <td>NaN</td>\n      <td>NaN</td>\n      <td>NaN</td>\n      <td>120.900000</td>\n      <td>1.000000</td>\n      <td>...</td>\n      <td>23.000000</td>\n      <td>262.000000</td>\n      <td>6600.000000</td>\n      <td>49.000000</td>\n      <td>54.000000</td>\n      <td>45400.000000</td>\n      <td>18.076923</td>\n      <td>NaN</td>\n      <td>1.000000</td>\n      <td>1.000000</td>\n    </tr>\n  </tbody>\n</table>\n<p>11 rows × 29 columns</p>\n</div>"
     },
     "metadata": {},
     "execution_count": 6
    }
   ],
   "source": [
    "df.describe(include='all')"
   ]
  },
  {
   "cell_type": "code",
   "execution_count": null,
   "metadata": {},
   "outputs": [],
   "source": [
    "state_hot_encoder = OneHotEncoder(drop='first')\n",
    "state_dummies = state_hot_encoder.fit_transform(df[['make']]).toarray()"
   ]
  }
 ]
}