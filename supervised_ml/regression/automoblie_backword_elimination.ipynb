{
 "metadata": {
  "language_info": {
   "codemirror_mode": {
    "name": "ipython",
    "version": 3
   },
   "file_extension": ".py",
   "mimetype": "text/x-python",
   "name": "python",
   "nbconvert_exporter": "python",
   "pygments_lexer": "ipython3",
   "version": "3.8.5-final"
  },
  "orig_nbformat": 2,
  "kernelspec": {
   "name": "python3",
   "display_name": "Python 3"
  }
 },
 "nbformat": 4,
 "nbformat_minor": 2,
 "cells": [
  {
   "cell_type": "code",
   "execution_count": 1,
   "metadata": {},
   "outputs": [],
   "source": [
    "import pandas as pd\n",
    "import numpy as np\n",
    "import matplotlib.pyplot as plt\n",
    "# algo and estimators\n",
    "import statsmodels.regression.linear_model as sm\n",
    "from sklearn.model_selection import train_test_split\n",
    "from sklearn.preprocessing import OneHotEncoder,LabelEncoder"
   ]
  },
  {
   "cell_type": "code",
   "execution_count": 2,
   "metadata": {},
   "outputs": [],
   "source": [
    "df = pd.read_csv('https://s3-api.us-geo.objectstorage.softlayer.net/cf-courses-data/CognitiveClass/DA0101EN/automobileEDA.csv')"
   ]
  },
  {
   "cell_type": "code",
   "execution_count": 3,
   "metadata": {},
   "outputs": [
    {
     "output_type": "execute_result",
     "data": {
      "text/plain": [
       "   symboling  normalized-losses         make aspiration num-of-doors  \\\n",
       "0          3                122  alfa-romero        std          two   \n",
       "1          3                122  alfa-romero        std          two   \n",
       "2          1                122  alfa-romero        std          two   \n",
       "3          2                164         audi        std         four   \n",
       "4          2                164         audi        std         four   \n",
       "\n",
       "    body-style drive-wheels engine-location  wheel-base    length  ...  \\\n",
       "0  convertible          rwd           front        88.6  0.811148  ...   \n",
       "1  convertible          rwd           front        88.6  0.811148  ...   \n",
       "2    hatchback          rwd           front        94.5  0.822681  ...   \n",
       "3        sedan          fwd           front        99.8  0.848630  ...   \n",
       "4        sedan          4wd           front        99.4  0.848630  ...   \n",
       "\n",
       "   compression-ratio  horsepower  peak-rpm city-mpg highway-mpg    price  \\\n",
       "0                9.0       111.0    5000.0       21          27  13495.0   \n",
       "1                9.0       111.0    5000.0       21          27  16500.0   \n",
       "2                9.0       154.0    5000.0       19          26  16500.0   \n",
       "3               10.0       102.0    5500.0       24          30  13950.0   \n",
       "4                8.0       115.0    5500.0       18          22  17450.0   \n",
       "\n",
       "  city-L/100km  horsepower-binned  diesel  gas  \n",
       "0    11.190476             Medium       0    1  \n",
       "1    11.190476             Medium       0    1  \n",
       "2    12.368421             Medium       0    1  \n",
       "3     9.791667             Medium       0    1  \n",
       "4    13.055556             Medium       0    1  \n",
       "\n",
       "[5 rows x 29 columns]"
      ],
      "text/html": "<div>\n<style scoped>\n    .dataframe tbody tr th:only-of-type {\n        vertical-align: middle;\n    }\n\n    .dataframe tbody tr th {\n        vertical-align: top;\n    }\n\n    .dataframe thead th {\n        text-align: right;\n    }\n</style>\n<table border=\"1\" class=\"dataframe\">\n  <thead>\n    <tr style=\"text-align: right;\">\n      <th></th>\n      <th>symboling</th>\n      <th>normalized-losses</th>\n      <th>make</th>\n      <th>aspiration</th>\n      <th>num-of-doors</th>\n      <th>body-style</th>\n      <th>drive-wheels</th>\n      <th>engine-location</th>\n      <th>wheel-base</th>\n      <th>length</th>\n      <th>...</th>\n      <th>compression-ratio</th>\n      <th>horsepower</th>\n      <th>peak-rpm</th>\n      <th>city-mpg</th>\n      <th>highway-mpg</th>\n      <th>price</th>\n      <th>city-L/100km</th>\n      <th>horsepower-binned</th>\n      <th>diesel</th>\n      <th>gas</th>\n    </tr>\n  </thead>\n  <tbody>\n    <tr>\n      <th>0</th>\n      <td>3</td>\n      <td>122</td>\n      <td>alfa-romero</td>\n      <td>std</td>\n      <td>two</td>\n      <td>convertible</td>\n      <td>rwd</td>\n      <td>front</td>\n      <td>88.6</td>\n      <td>0.811148</td>\n      <td>...</td>\n      <td>9.0</td>\n      <td>111.0</td>\n      <td>5000.0</td>\n      <td>21</td>\n      <td>27</td>\n      <td>13495.0</td>\n      <td>11.190476</td>\n      <td>Medium</td>\n      <td>0</td>\n      <td>1</td>\n    </tr>\n    <tr>\n      <th>1</th>\n      <td>3</td>\n      <td>122</td>\n      <td>alfa-romero</td>\n      <td>std</td>\n      <td>two</td>\n      <td>convertible</td>\n      <td>rwd</td>\n      <td>front</td>\n      <td>88.6</td>\n      <td>0.811148</td>\n      <td>...</td>\n      <td>9.0</td>\n      <td>111.0</td>\n      <td>5000.0</td>\n      <td>21</td>\n      <td>27</td>\n      <td>16500.0</td>\n      <td>11.190476</td>\n      <td>Medium</td>\n      <td>0</td>\n      <td>1</td>\n    </tr>\n    <tr>\n      <th>2</th>\n      <td>1</td>\n      <td>122</td>\n      <td>alfa-romero</td>\n      <td>std</td>\n      <td>two</td>\n      <td>hatchback</td>\n      <td>rwd</td>\n      <td>front</td>\n      <td>94.5</td>\n      <td>0.822681</td>\n      <td>...</td>\n      <td>9.0</td>\n      <td>154.0</td>\n      <td>5000.0</td>\n      <td>19</td>\n      <td>26</td>\n      <td>16500.0</td>\n      <td>12.368421</td>\n      <td>Medium</td>\n      <td>0</td>\n      <td>1</td>\n    </tr>\n    <tr>\n      <th>3</th>\n      <td>2</td>\n      <td>164</td>\n      <td>audi</td>\n      <td>std</td>\n      <td>four</td>\n      <td>sedan</td>\n      <td>fwd</td>\n      <td>front</td>\n      <td>99.8</td>\n      <td>0.848630</td>\n      <td>...</td>\n      <td>10.0</td>\n      <td>102.0</td>\n      <td>5500.0</td>\n      <td>24</td>\n      <td>30</td>\n      <td>13950.0</td>\n      <td>9.791667</td>\n      <td>Medium</td>\n      <td>0</td>\n      <td>1</td>\n    </tr>\n    <tr>\n      <th>4</th>\n      <td>2</td>\n      <td>164</td>\n      <td>audi</td>\n      <td>std</td>\n      <td>four</td>\n      <td>sedan</td>\n      <td>4wd</td>\n      <td>front</td>\n      <td>99.4</td>\n      <td>0.848630</td>\n      <td>...</td>\n      <td>8.0</td>\n      <td>115.0</td>\n      <td>5500.0</td>\n      <td>18</td>\n      <td>22</td>\n      <td>17450.0</td>\n      <td>13.055556</td>\n      <td>Medium</td>\n      <td>0</td>\n      <td>1</td>\n    </tr>\n  </tbody>\n</table>\n<p>5 rows × 29 columns</p>\n</div>"
     },
     "metadata": {},
     "execution_count": 3
    }
   ],
   "source": [
    "df.head()"
   ]
  },
  {
   "cell_type": "code",
   "execution_count": 4,
   "metadata": {},
   "outputs": [
    {
     "output_type": "execute_result",
     "data": {
      "text/plain": [
       "symboling            0\n",
       "normalized-losses    0\n",
       "make                 0\n",
       "aspiration           0\n",
       "num-of-doors         0\n",
       "body-style           0\n",
       "drive-wheels         0\n",
       "engine-location      0\n",
       "wheel-base           0\n",
       "length               0\n",
       "width                0\n",
       "height               0\n",
       "curb-weight          0\n",
       "engine-type          0\n",
       "num-of-cylinders     0\n",
       "engine-size          0\n",
       "fuel-system          0\n",
       "bore                 0\n",
       "stroke               4\n",
       "compression-ratio    0\n",
       "horsepower           0\n",
       "peak-rpm             0\n",
       "city-mpg             0\n",
       "highway-mpg          0\n",
       "price                0\n",
       "city-L/100km         0\n",
       "horsepower-binned    1\n",
       "diesel               0\n",
       "gas                  0\n",
       "dtype: int64"
      ]
     },
     "metadata": {},
     "execution_count": 4
    }
   ],
   "source": [
    "df.isnull().sum()"
   ]
  },
  {
   "cell_type": "code",
   "execution_count": 5,
   "metadata": {},
   "outputs": [
    {
     "output_type": "stream",
     "name": "stdout",
     "text": [
      "<class 'pandas.core.frame.DataFrame'>\nRangeIndex: 201 entries, 0 to 200\nData columns (total 29 columns):\n #   Column             Non-Null Count  Dtype  \n---  ------             --------------  -----  \n 0   symboling          201 non-null    int64  \n 1   normalized-losses  201 non-null    int64  \n 2   make               201 non-null    object \n 3   aspiration         201 non-null    object \n 4   num-of-doors       201 non-null    object \n 5   body-style         201 non-null    object \n 6   drive-wheels       201 non-null    object \n 7   engine-location    201 non-null    object \n 8   wheel-base         201 non-null    float64\n 9   length             201 non-null    float64\n 10  width              201 non-null    float64\n 11  height             201 non-null    float64\n 12  curb-weight        201 non-null    int64  \n 13  engine-type        201 non-null    object \n 14  num-of-cylinders   201 non-null    object \n 15  engine-size        201 non-null    int64  \n 16  fuel-system        201 non-null    object \n 17  bore               201 non-null    float64\n 18  stroke             197 non-null    float64\n 19  compression-ratio  201 non-null    float64\n 20  horsepower         201 non-null    float64\n 21  peak-rpm           201 non-null    float64\n 22  city-mpg           201 non-null    int64  \n 23  highway-mpg        201 non-null    int64  \n 24  price              201 non-null    float64\n 25  city-L/100km       201 non-null    float64\n 26  horsepower-binned  200 non-null    object \n 27  diesel             201 non-null    int64  \n 28  gas                201 non-null    int64  \ndtypes: float64(11), int64(8), object(10)\nmemory usage: 45.7+ KB\n"
     ]
    }
   ],
   "source": [
    "df.info()"
   ]
  },
  {
   "cell_type": "code",
   "execution_count": 6,
   "metadata": {},
   "outputs": [
    {
     "output_type": "execute_result",
     "data": {
      "text/plain": [
       "         symboling  normalized-losses    make aspiration num-of-doors  \\\n",
       "count   201.000000          201.00000     201        201          201   \n",
       "unique         NaN                NaN      22          2            2   \n",
       "top            NaN                NaN  toyota        std         four   \n",
       "freq           NaN                NaN      32        165          115   \n",
       "mean      0.840796          122.00000     NaN        NaN          NaN   \n",
       "std       1.254802           31.99625     NaN        NaN          NaN   \n",
       "min      -2.000000           65.00000     NaN        NaN          NaN   \n",
       "25%       0.000000          101.00000     NaN        NaN          NaN   \n",
       "50%       1.000000          122.00000     NaN        NaN          NaN   \n",
       "75%       2.000000          137.00000     NaN        NaN          NaN   \n",
       "max       3.000000          256.00000     NaN        NaN          NaN   \n",
       "\n",
       "       body-style drive-wheels engine-location  wheel-base      length  ...  \\\n",
       "count         201          201             201  201.000000  201.000000  ...   \n",
       "unique          5            3               2         NaN         NaN  ...   \n",
       "top         sedan          fwd           front         NaN         NaN  ...   \n",
       "freq           94          118             198         NaN         NaN  ...   \n",
       "mean          NaN          NaN             NaN   98.797015    0.837102  ...   \n",
       "std           NaN          NaN             NaN    6.066366    0.059213  ...   \n",
       "min           NaN          NaN             NaN   86.600000    0.678039  ...   \n",
       "25%           NaN          NaN             NaN   94.500000    0.801538  ...   \n",
       "50%           NaN          NaN             NaN   97.000000    0.832292  ...   \n",
       "75%           NaN          NaN             NaN  102.400000    0.881788  ...   \n",
       "max           NaN          NaN             NaN  120.900000    1.000000  ...   \n",
       "\n",
       "        compression-ratio  horsepower     peak-rpm    city-mpg highway-mpg  \\\n",
       "count          201.000000  201.000000   201.000000  201.000000  201.000000   \n",
       "unique                NaN         NaN          NaN         NaN         NaN   \n",
       "top                   NaN         NaN          NaN         NaN         NaN   \n",
       "freq                  NaN         NaN          NaN         NaN         NaN   \n",
       "mean            10.164279  103.405534  5117.665368   25.179104   30.686567   \n",
       "std              4.004965   37.365700   478.113805    6.423220    6.815150   \n",
       "min              7.000000   48.000000  4150.000000   13.000000   16.000000   \n",
       "25%              8.600000   70.000000  4800.000000   19.000000   25.000000   \n",
       "50%              9.000000   95.000000  5125.369458   24.000000   30.000000   \n",
       "75%              9.400000  116.000000  5500.000000   30.000000   34.000000   \n",
       "max             23.000000  262.000000  6600.000000   49.000000   54.000000   \n",
       "\n",
       "               price city-L/100km  horsepower-binned      diesel         gas  \n",
       "count     201.000000   201.000000                200  201.000000  201.000000  \n",
       "unique           NaN          NaN                  3         NaN         NaN  \n",
       "top              NaN          NaN                Low         NaN         NaN  \n",
       "freq             NaN          NaN                115         NaN         NaN  \n",
       "mean    13207.129353     9.944145                NaN    0.099502    0.900498  \n",
       "std      7947.066342     2.534599                NaN    0.300083    0.300083  \n",
       "min      5118.000000     4.795918                NaN    0.000000    0.000000  \n",
       "25%      7775.000000     7.833333                NaN    0.000000    1.000000  \n",
       "50%     10295.000000     9.791667                NaN    0.000000    1.000000  \n",
       "75%     16500.000000    12.368421                NaN    0.000000    1.000000  \n",
       "max     45400.000000    18.076923                NaN    1.000000    1.000000  \n",
       "\n",
       "[11 rows x 29 columns]"
      ],
      "text/html": "<div>\n<style scoped>\n    .dataframe tbody tr th:only-of-type {\n        vertical-align: middle;\n    }\n\n    .dataframe tbody tr th {\n        vertical-align: top;\n    }\n\n    .dataframe thead th {\n        text-align: right;\n    }\n</style>\n<table border=\"1\" class=\"dataframe\">\n  <thead>\n    <tr style=\"text-align: right;\">\n      <th></th>\n      <th>symboling</th>\n      <th>normalized-losses</th>\n      <th>make</th>\n      <th>aspiration</th>\n      <th>num-of-doors</th>\n      <th>body-style</th>\n      <th>drive-wheels</th>\n      <th>engine-location</th>\n      <th>wheel-base</th>\n      <th>length</th>\n      <th>...</th>\n      <th>compression-ratio</th>\n      <th>horsepower</th>\n      <th>peak-rpm</th>\n      <th>city-mpg</th>\n      <th>highway-mpg</th>\n      <th>price</th>\n      <th>city-L/100km</th>\n      <th>horsepower-binned</th>\n      <th>diesel</th>\n      <th>gas</th>\n    </tr>\n  </thead>\n  <tbody>\n    <tr>\n      <th>count</th>\n      <td>201.000000</td>\n      <td>201.00000</td>\n      <td>201</td>\n      <td>201</td>\n      <td>201</td>\n      <td>201</td>\n      <td>201</td>\n      <td>201</td>\n      <td>201.000000</td>\n      <td>201.000000</td>\n      <td>...</td>\n      <td>201.000000</td>\n      <td>201.000000</td>\n      <td>201.000000</td>\n      <td>201.000000</td>\n      <td>201.000000</td>\n      <td>201.000000</td>\n      <td>201.000000</td>\n      <td>200</td>\n      <td>201.000000</td>\n      <td>201.000000</td>\n    </tr>\n    <tr>\n      <th>unique</th>\n      <td>NaN</td>\n      <td>NaN</td>\n      <td>22</td>\n      <td>2</td>\n      <td>2</td>\n      <td>5</td>\n      <td>3</td>\n      <td>2</td>\n      <td>NaN</td>\n      <td>NaN</td>\n      <td>...</td>\n      <td>NaN</td>\n      <td>NaN</td>\n      <td>NaN</td>\n      <td>NaN</td>\n      <td>NaN</td>\n      <td>NaN</td>\n      <td>NaN</td>\n      <td>3</td>\n      <td>NaN</td>\n      <td>NaN</td>\n    </tr>\n    <tr>\n      <th>top</th>\n      <td>NaN</td>\n      <td>NaN</td>\n      <td>toyota</td>\n      <td>std</td>\n      <td>four</td>\n      <td>sedan</td>\n      <td>fwd</td>\n      <td>front</td>\n      <td>NaN</td>\n      <td>NaN</td>\n      <td>...</td>\n      <td>NaN</td>\n      <td>NaN</td>\n      <td>NaN</td>\n      <td>NaN</td>\n      <td>NaN</td>\n      <td>NaN</td>\n      <td>NaN</td>\n      <td>Low</td>\n      <td>NaN</td>\n      <td>NaN</td>\n    </tr>\n    <tr>\n      <th>freq</th>\n      <td>NaN</td>\n      <td>NaN</td>\n      <td>32</td>\n      <td>165</td>\n      <td>115</td>\n      <td>94</td>\n      <td>118</td>\n      <td>198</td>\n      <td>NaN</td>\n      <td>NaN</td>\n      <td>...</td>\n      <td>NaN</td>\n      <td>NaN</td>\n      <td>NaN</td>\n      <td>NaN</td>\n      <td>NaN</td>\n      <td>NaN</td>\n      <td>NaN</td>\n      <td>115</td>\n      <td>NaN</td>\n      <td>NaN</td>\n    </tr>\n    <tr>\n      <th>mean</th>\n      <td>0.840796</td>\n      <td>122.00000</td>\n      <td>NaN</td>\n      <td>NaN</td>\n      <td>NaN</td>\n      <td>NaN</td>\n      <td>NaN</td>\n      <td>NaN</td>\n      <td>98.797015</td>\n      <td>0.837102</td>\n      <td>...</td>\n      <td>10.164279</td>\n      <td>103.405534</td>\n      <td>5117.665368</td>\n      <td>25.179104</td>\n      <td>30.686567</td>\n      <td>13207.129353</td>\n      <td>9.944145</td>\n      <td>NaN</td>\n      <td>0.099502</td>\n      <td>0.900498</td>\n    </tr>\n    <tr>\n      <th>std</th>\n      <td>1.254802</td>\n      <td>31.99625</td>\n      <td>NaN</td>\n      <td>NaN</td>\n      <td>NaN</td>\n      <td>NaN</td>\n      <td>NaN</td>\n      <td>NaN</td>\n      <td>6.066366</td>\n      <td>0.059213</td>\n      <td>...</td>\n      <td>4.004965</td>\n      <td>37.365700</td>\n      <td>478.113805</td>\n      <td>6.423220</td>\n      <td>6.815150</td>\n      <td>7947.066342</td>\n      <td>2.534599</td>\n      <td>NaN</td>\n      <td>0.300083</td>\n      <td>0.300083</td>\n    </tr>\n    <tr>\n      <th>min</th>\n      <td>-2.000000</td>\n      <td>65.00000</td>\n      <td>NaN</td>\n      <td>NaN</td>\n      <td>NaN</td>\n      <td>NaN</td>\n      <td>NaN</td>\n      <td>NaN</td>\n      <td>86.600000</td>\n      <td>0.678039</td>\n      <td>...</td>\n      <td>7.000000</td>\n      <td>48.000000</td>\n      <td>4150.000000</td>\n      <td>13.000000</td>\n      <td>16.000000</td>\n      <td>5118.000000</td>\n      <td>4.795918</td>\n      <td>NaN</td>\n      <td>0.000000</td>\n      <td>0.000000</td>\n    </tr>\n    <tr>\n      <th>25%</th>\n      <td>0.000000</td>\n      <td>101.00000</td>\n      <td>NaN</td>\n      <td>NaN</td>\n      <td>NaN</td>\n      <td>NaN</td>\n      <td>NaN</td>\n      <td>NaN</td>\n      <td>94.500000</td>\n      <td>0.801538</td>\n      <td>...</td>\n      <td>8.600000</td>\n      <td>70.000000</td>\n      <td>4800.000000</td>\n      <td>19.000000</td>\n      <td>25.000000</td>\n      <td>7775.000000</td>\n      <td>7.833333</td>\n      <td>NaN</td>\n      <td>0.000000</td>\n      <td>1.000000</td>\n    </tr>\n    <tr>\n      <th>50%</th>\n      <td>1.000000</td>\n      <td>122.00000</td>\n      <td>NaN</td>\n      <td>NaN</td>\n      <td>NaN</td>\n      <td>NaN</td>\n      <td>NaN</td>\n      <td>NaN</td>\n      <td>97.000000</td>\n      <td>0.832292</td>\n      <td>...</td>\n      <td>9.000000</td>\n      <td>95.000000</td>\n      <td>5125.369458</td>\n      <td>24.000000</td>\n      <td>30.000000</td>\n      <td>10295.000000</td>\n      <td>9.791667</td>\n      <td>NaN</td>\n      <td>0.000000</td>\n      <td>1.000000</td>\n    </tr>\n    <tr>\n      <th>75%</th>\n      <td>2.000000</td>\n      <td>137.00000</td>\n      <td>NaN</td>\n      <td>NaN</td>\n      <td>NaN</td>\n      <td>NaN</td>\n      <td>NaN</td>\n      <td>NaN</td>\n      <td>102.400000</td>\n      <td>0.881788</td>\n      <td>...</td>\n      <td>9.400000</td>\n      <td>116.000000</td>\n      <td>5500.000000</td>\n      <td>30.000000</td>\n      <td>34.000000</td>\n      <td>16500.000000</td>\n      <td>12.368421</td>\n      <td>NaN</td>\n      <td>0.000000</td>\n      <td>1.000000</td>\n    </tr>\n    <tr>\n      <th>max</th>\n      <td>3.000000</td>\n      <td>256.00000</td>\n      <td>NaN</td>\n      <td>NaN</td>\n      <td>NaN</td>\n      <td>NaN</td>\n      <td>NaN</td>\n      <td>NaN</td>\n      <td>120.900000</td>\n      <td>1.000000</td>\n      <td>...</td>\n      <td>23.000000</td>\n      <td>262.000000</td>\n      <td>6600.000000</td>\n      <td>49.000000</td>\n      <td>54.000000</td>\n      <td>45400.000000</td>\n      <td>18.076923</td>\n      <td>NaN</td>\n      <td>1.000000</td>\n      <td>1.000000</td>\n    </tr>\n  </tbody>\n</table>\n<p>11 rows × 29 columns</p>\n</div>"
     },
     "metadata": {},
     "execution_count": 6
    }
   ],
   "source": [
    "df.describe(include='all')"
   ]
  },
  {
   "cell_type": "code",
   "execution_count": 7,
   "metadata": {},
   "outputs": [],
   "source": [
    "from sklearn.impute import SimpleImputer\n",
    "stroke_imputer = SimpleImputer()\n",
    "df['stroke'] = stroke_imputer.fit_transform(df[['stroke']])"
   ]
  },
  {
   "cell_type": "code",
   "execution_count": 8,
   "metadata": {},
   "outputs": [],
   "source": [
    "make_henc = OneHotEncoder(drop='first')\n",
    "make_dummies = make_henc.fit_transform(df[['make']]).toarray()"
   ]
  },
  {
   "cell_type": "code",
   "execution_count": 9,
   "metadata": {},
   "outputs": [],
   "source": [
    "aspiration_enc = LabelEncoder()\n",
    "df['aspiration'] = aspiration_enc.fit_transform(df['aspiration'])"
   ]
  },
  {
   "cell_type": "code",
   "execution_count": 10,
   "metadata": {},
   "outputs": [],
   "source": [
    "num_door_enc = LabelEncoder()\n",
    "df['num-of-doors'] = num_door_enc.fit_transform(df['num-of-doors'])"
   ]
  },
  {
   "cell_type": "code",
   "execution_count": 11,
   "metadata": {},
   "outputs": [],
   "source": [
    "body_style_henc = OneHotEncoder(drop='first')\n",
    "body_style_dummies = body_style_henc.fit_transform(df[['body-style']]).toarray()"
   ]
  },
  {
   "cell_type": "code",
   "execution_count": 12,
   "metadata": {},
   "outputs": [],
   "source": [
    "engine_enc = LabelEncoder()\n",
    "df['engine-location'] = engine_enc.fit_transform(df['engine-location'])"
   ]
  },
  {
   "cell_type": "code",
   "execution_count": 13,
   "metadata": {},
   "outputs": [],
   "source": [
    "num_of_cyl_henc = OneHotEncoder(drop='first')\n",
    "num_cyl_dummies = num_of_cyl_henc.fit_transform(df[['num-of-cylinders']]).toarray()"
   ]
  },
  {
   "cell_type": "code",
   "execution_count": 14,
   "metadata": {},
   "outputs": [],
   "source": [
    "fuel_sys_henc = OneHotEncoder(drop='first')\n",
    "fuel_sys_dummies = fuel_sys_henc.fit_transform(df[['fuel-system']]).toarray()"
   ]
  },
  {
   "cell_type": "code",
   "execution_count": 15,
   "metadata": {},
   "outputs": [],
   "source": [
    "df.drop(labels=['make','aspiration','num-of-doors','body-style','drive-wheels','engine-location','engine-type','num-of-cylinders','fuel-system','horsepower-binned','diesel','gas','city-L/100km'],axis=1,inplace=True)"
   ]
  },
  {
   "cell_type": "code",
   "execution_count": 16,
   "metadata": {},
   "outputs": [
    {
     "output_type": "execute_result",
     "data": {
      "text/plain": [
       "     symboling  normalized-losses  wheel-base    length     width  height  \\\n",
       "0            3                122        88.6  0.811148  0.890278    48.8   \n",
       "1            3                122        88.6  0.811148  0.890278    48.8   \n",
       "2            1                122        94.5  0.822681  0.909722    52.4   \n",
       "3            2                164        99.8  0.848630  0.919444    54.3   \n",
       "4            2                164        99.4  0.848630  0.922222    54.3   \n",
       "..         ...                ...         ...       ...       ...     ...   \n",
       "196         -1                 95       109.1  0.907256  0.956944    55.5   \n",
       "197         -1                 95       109.1  0.907256  0.955556    55.5   \n",
       "198         -1                 95       109.1  0.907256  0.956944    55.5   \n",
       "199         -1                 95       109.1  0.907256  0.956944    55.5   \n",
       "200         -1                 95       109.1  0.907256  0.956944    55.5   \n",
       "\n",
       "     curb-weight  engine-size  bore  stroke  compression-ratio  horsepower  \\\n",
       "0           2548          130  3.47    2.68                9.0       111.0   \n",
       "1           2548          130  3.47    2.68                9.0       111.0   \n",
       "2           2823          152  2.68    3.47                9.0       154.0   \n",
       "3           2337          109  3.19    3.40               10.0       102.0   \n",
       "4           2824          136  3.19    3.40                8.0       115.0   \n",
       "..           ...          ...   ...     ...                ...         ...   \n",
       "196         2952          141  3.78    3.15                9.5       114.0   \n",
       "197         3049          141  3.78    3.15                8.7       160.0   \n",
       "198         3012          173  3.58    2.87                8.8       134.0   \n",
       "199         3217          145  3.01    3.40               23.0       106.0   \n",
       "200         3062          141  3.78    3.15                9.5       114.0   \n",
       "\n",
       "     peak-rpm  city-mpg  highway-mpg    price  \n",
       "0      5000.0        21           27  13495.0  \n",
       "1      5000.0        21           27  16500.0  \n",
       "2      5000.0        19           26  16500.0  \n",
       "3      5500.0        24           30  13950.0  \n",
       "4      5500.0        18           22  17450.0  \n",
       "..        ...       ...          ...      ...  \n",
       "196    5400.0        23           28  16845.0  \n",
       "197    5300.0        19           25  19045.0  \n",
       "198    5500.0        18           23  21485.0  \n",
       "199    4800.0        26           27  22470.0  \n",
       "200    5400.0        19           25  22625.0  \n",
       "\n",
       "[201 rows x 16 columns]"
      ],
      "text/html": "<div>\n<style scoped>\n    .dataframe tbody tr th:only-of-type {\n        vertical-align: middle;\n    }\n\n    .dataframe tbody tr th {\n        vertical-align: top;\n    }\n\n    .dataframe thead th {\n        text-align: right;\n    }\n</style>\n<table border=\"1\" class=\"dataframe\">\n  <thead>\n    <tr style=\"text-align: right;\">\n      <th></th>\n      <th>symboling</th>\n      <th>normalized-losses</th>\n      <th>wheel-base</th>\n      <th>length</th>\n      <th>width</th>\n      <th>height</th>\n      <th>curb-weight</th>\n      <th>engine-size</th>\n      <th>bore</th>\n      <th>stroke</th>\n      <th>compression-ratio</th>\n      <th>horsepower</th>\n      <th>peak-rpm</th>\n      <th>city-mpg</th>\n      <th>highway-mpg</th>\n      <th>price</th>\n    </tr>\n  </thead>\n  <tbody>\n    <tr>\n      <th>0</th>\n      <td>3</td>\n      <td>122</td>\n      <td>88.6</td>\n      <td>0.811148</td>\n      <td>0.890278</td>\n      <td>48.8</td>\n      <td>2548</td>\n      <td>130</td>\n      <td>3.47</td>\n      <td>2.68</td>\n      <td>9.0</td>\n      <td>111.0</td>\n      <td>5000.0</td>\n      <td>21</td>\n      <td>27</td>\n      <td>13495.0</td>\n    </tr>\n    <tr>\n      <th>1</th>\n      <td>3</td>\n      <td>122</td>\n      <td>88.6</td>\n      <td>0.811148</td>\n      <td>0.890278</td>\n      <td>48.8</td>\n      <td>2548</td>\n      <td>130</td>\n      <td>3.47</td>\n      <td>2.68</td>\n      <td>9.0</td>\n      <td>111.0</td>\n      <td>5000.0</td>\n      <td>21</td>\n      <td>27</td>\n      <td>16500.0</td>\n    </tr>\n    <tr>\n      <th>2</th>\n      <td>1</td>\n      <td>122</td>\n      <td>94.5</td>\n      <td>0.822681</td>\n      <td>0.909722</td>\n      <td>52.4</td>\n      <td>2823</td>\n      <td>152</td>\n      <td>2.68</td>\n      <td>3.47</td>\n      <td>9.0</td>\n      <td>154.0</td>\n      <td>5000.0</td>\n      <td>19</td>\n      <td>26</td>\n      <td>16500.0</td>\n    </tr>\n    <tr>\n      <th>3</th>\n      <td>2</td>\n      <td>164</td>\n      <td>99.8</td>\n      <td>0.848630</td>\n      <td>0.919444</td>\n      <td>54.3</td>\n      <td>2337</td>\n      <td>109</td>\n      <td>3.19</td>\n      <td>3.40</td>\n      <td>10.0</td>\n      <td>102.0</td>\n      <td>5500.0</td>\n      <td>24</td>\n      <td>30</td>\n      <td>13950.0</td>\n    </tr>\n    <tr>\n      <th>4</th>\n      <td>2</td>\n      <td>164</td>\n      <td>99.4</td>\n      <td>0.848630</td>\n      <td>0.922222</td>\n      <td>54.3</td>\n      <td>2824</td>\n      <td>136</td>\n      <td>3.19</td>\n      <td>3.40</td>\n      <td>8.0</td>\n      <td>115.0</td>\n      <td>5500.0</td>\n      <td>18</td>\n      <td>22</td>\n      <td>17450.0</td>\n    </tr>\n    <tr>\n      <th>...</th>\n      <td>...</td>\n      <td>...</td>\n      <td>...</td>\n      <td>...</td>\n      <td>...</td>\n      <td>...</td>\n      <td>...</td>\n      <td>...</td>\n      <td>...</td>\n      <td>...</td>\n      <td>...</td>\n      <td>...</td>\n      <td>...</td>\n      <td>...</td>\n      <td>...</td>\n      <td>...</td>\n    </tr>\n    <tr>\n      <th>196</th>\n      <td>-1</td>\n      <td>95</td>\n      <td>109.1</td>\n      <td>0.907256</td>\n      <td>0.956944</td>\n      <td>55.5</td>\n      <td>2952</td>\n      <td>141</td>\n      <td>3.78</td>\n      <td>3.15</td>\n      <td>9.5</td>\n      <td>114.0</td>\n      <td>5400.0</td>\n      <td>23</td>\n      <td>28</td>\n      <td>16845.0</td>\n    </tr>\n    <tr>\n      <th>197</th>\n      <td>-1</td>\n      <td>95</td>\n      <td>109.1</td>\n      <td>0.907256</td>\n      <td>0.955556</td>\n      <td>55.5</td>\n      <td>3049</td>\n      <td>141</td>\n      <td>3.78</td>\n      <td>3.15</td>\n      <td>8.7</td>\n      <td>160.0</td>\n      <td>5300.0</td>\n      <td>19</td>\n      <td>25</td>\n      <td>19045.0</td>\n    </tr>\n    <tr>\n      <th>198</th>\n      <td>-1</td>\n      <td>95</td>\n      <td>109.1</td>\n      <td>0.907256</td>\n      <td>0.956944</td>\n      <td>55.5</td>\n      <td>3012</td>\n      <td>173</td>\n      <td>3.58</td>\n      <td>2.87</td>\n      <td>8.8</td>\n      <td>134.0</td>\n      <td>5500.0</td>\n      <td>18</td>\n      <td>23</td>\n      <td>21485.0</td>\n    </tr>\n    <tr>\n      <th>199</th>\n      <td>-1</td>\n      <td>95</td>\n      <td>109.1</td>\n      <td>0.907256</td>\n      <td>0.956944</td>\n      <td>55.5</td>\n      <td>3217</td>\n      <td>145</td>\n      <td>3.01</td>\n      <td>3.40</td>\n      <td>23.0</td>\n      <td>106.0</td>\n      <td>4800.0</td>\n      <td>26</td>\n      <td>27</td>\n      <td>22470.0</td>\n    </tr>\n    <tr>\n      <th>200</th>\n      <td>-1</td>\n      <td>95</td>\n      <td>109.1</td>\n      <td>0.907256</td>\n      <td>0.956944</td>\n      <td>55.5</td>\n      <td>3062</td>\n      <td>141</td>\n      <td>3.78</td>\n      <td>3.15</td>\n      <td>9.5</td>\n      <td>114.0</td>\n      <td>5400.0</td>\n      <td>19</td>\n      <td>25</td>\n      <td>22625.0</td>\n    </tr>\n  </tbody>\n</table>\n<p>201 rows × 16 columns</p>\n</div>"
     },
     "metadata": {},
     "execution_count": 16
    }
   ],
   "source": [
    "df"
   ]
  },
  {
   "cell_type": "code",
   "execution_count": 17,
   "metadata": {},
   "outputs": [],
   "source": [
    "y = df['price']"
   ]
  },
  {
   "cell_type": "code",
   "execution_count": 18,
   "metadata": {},
   "outputs": [],
   "source": [
    "X = df.drop(labels=['price'],axis=1).values"
   ]
  },
  {
   "cell_type": "code",
   "execution_count": 19,
   "metadata": {},
   "outputs": [],
   "source": [
    "X= np.concatenate((X,make_dummies,body_style_dummies,num_cyl_dummies,fuel_sys_dummies),axis=1,)"
   ]
  },
  {
   "cell_type": "code",
   "execution_count": 20,
   "metadata": {},
   "outputs": [
    {
     "output_type": "execute_result",
     "data": {
      "text/plain": [
       "(201, 53)"
      ]
     },
     "metadata": {},
     "execution_count": 20
    }
   ],
   "source": [
    "X.shape"
   ]
  },
  {
   "cell_type": "code",
   "execution_count": 21,
   "metadata": {},
   "outputs": [],
   "source": [
    "X_opt = X[:,list(range(0,53))] # all in - step 1"
   ]
  },
  {
   "cell_type": "code",
   "execution_count": 22,
   "metadata": {},
   "outputs": [
    {
     "output_type": "execute_result",
     "data": {
      "text/plain": [
       "<class 'statsmodels.iolib.summary.Summary'>\n",
       "\"\"\"\n",
       "                                 OLS Regression Results                                \n",
       "=======================================================================================\n",
       "Dep. Variable:                  price   R-squared (uncentered):                   0.990\n",
       "Model:                            OLS   Adj. R-squared (uncentered):              0.986\n",
       "Method:                 Least Squares   F-statistic:                              264.9\n",
       "Date:                Tue, 03 Nov 2020   Prob (F-statistic):                   6.29e-124\n",
       "Time:                        20:30:58   Log-Likelihood:                         -1764.8\n",
       "No. Observations:                 201   AIC:                                      3636.\n",
       "Df Residuals:                     148   BIC:                                      3811.\n",
       "Df Model:                          53                                                  \n",
       "Covariance Type:            nonrobust                                                  \n",
       "==============================================================================\n",
       "                 coef    std err          t      P>|t|      [0.025      0.975]\n",
       "------------------------------------------------------------------------------\n",
       "x1          -229.6692    240.827     -0.954      0.342    -705.572     246.234\n",
       "x2           -12.7327      6.728     -1.892      0.060     -26.028       0.563\n",
       "x3           272.1087     91.956      2.959      0.004      90.393     453.824\n",
       "x4         -2.046e+04   1.04e+04     -1.968      0.051    -4.1e+04      89.291\n",
       "x5          1.909e+04   1.12e+04      1.698      0.092   -3121.397    4.13e+04\n",
       "x6          -417.3311    116.659     -3.577      0.000    -647.864    -186.798\n",
       "x7             5.8296      1.512      3.855      0.000       2.841       8.818\n",
       "x8            66.4331     22.431      2.962      0.004      22.107     110.759\n",
       "x9         -4626.0298   1653.858     -2.797      0.006   -7894.257   -1357.803\n",
       "x10         -964.1118    956.152     -1.008      0.315   -2853.584     925.361\n",
       "x11         -962.3154    477.383     -2.016      0.046   -1905.682     -18.948\n",
       "x12           54.0000     17.933      3.011      0.003      18.562      89.438\n",
       "x13            1.6302      0.589      2.766      0.006       0.466       2.795\n",
       "x14           45.6380    134.648      0.339      0.735    -220.442     311.718\n",
       "x15           71.0105    113.330      0.627      0.532    -152.944     294.965\n",
       "x16         4896.2456   2067.931      2.368      0.019     809.761    8982.730\n",
       "x17         1.008e+04   1702.454      5.920      0.000    6713.553    1.34e+04\n",
       "x18        -3176.4304   2136.542     -1.487      0.139   -7398.500    1045.639\n",
       "x19        -2875.7137   1710.288     -1.681      0.095   -6255.453     504.026\n",
       "x20         -770.9589   2024.253     -0.381      0.704   -4771.130    3229.212\n",
       "x21        -1817.2923   2397.985     -0.758      0.450   -6556.004    2921.420\n",
       "x22         2835.8559   2705.241      1.048      0.296   -2510.032    8181.743\n",
       "x23          302.4610   1535.855      0.197      0.844   -2732.577    3337.499\n",
       "x24         5607.5201   2417.366      2.320      0.022     830.510    1.04e+04\n",
       "x25         -611.0834   2548.588     -0.240      0.811   -5647.405    4425.238\n",
       "x26        -3308.8799   1705.221     -1.940      0.054   -6678.606      60.847\n",
       "x27        -1005.1735   1499.143     -0.670      0.504   -3967.663    1957.316\n",
       "x28         -975.3560   1967.190     -0.496      0.621   -4862.765    2912.053\n",
       "x29        -2989.3229   1724.885     -1.733      0.085   -6397.906     419.261\n",
       "x30         1.271e+04   1871.874      6.788      0.000    9007.279    1.64e+04\n",
       "x31         -520.6608   2038.198     -0.255      0.799   -4548.390    3507.069\n",
       "x32         4000.4157   1708.691      2.341      0.021     623.832    7376.999\n",
       "x33           58.0805   1838.327      0.032      0.975   -3574.680    3690.841\n",
       "x34        -1160.2538   1431.401     -0.811      0.419   -3988.878    1668.371\n",
       "x35          907.9643   1527.380      0.594      0.553   -2110.325    3926.253\n",
       "x36         1722.9629   1692.014      1.018      0.310   -1620.665    5066.591\n",
       "x37        -2425.2046   1186.979     -2.043      0.043   -4770.821     -79.588\n",
       "x38        -4539.7882   1066.621     -4.256      0.000   -6647.561   -2432.015\n",
       "x39        -3940.9349   1123.940     -3.506      0.001   -6161.977   -1719.892\n",
       "x40        -4277.4593   1227.596     -3.484      0.001   -6703.340   -1851.579\n",
       "x41        -2627.2246   2340.763     -1.122      0.264   -7252.859    1998.410\n",
       "x42         -424.8436   3109.546     -0.137      0.892   -6569.687    5720.000\n",
       "x43        -2406.2792   2643.706     -0.910      0.364   -7630.565    2818.007\n",
       "x44         4880.3847   4208.191      1.160      0.248   -3435.516    1.32e+04\n",
       "x45        -7751.3014   4943.310     -1.568      0.119   -1.75e+04    2017.286\n",
       "x46         4658.5904   4399.055      1.059      0.291   -4034.481    1.34e+04\n",
       "x47         2007.1918   1505.658      1.333      0.185    -968.174    4982.557\n",
       "x48         -298.2033   2655.659     -0.112      0.911   -5546.111    4949.704\n",
       "x49         1.476e+04   6477.988      2.278      0.024    1957.671    2.76e+04\n",
       "x50         -503.7308   2694.923     -0.187      0.852   -5829.229    4821.767\n",
       "x51           57.2719   1564.422      0.037      0.971   -3034.217    3148.761\n",
       "x52         -168.5687   1866.612     -0.090      0.928   -3857.223    3520.086\n",
       "x53         2683.8688   3119.116      0.860      0.391   -3479.887    8847.625\n",
       "==============================================================================\n",
       "Omnibus:                       29.506   Durbin-Watson:                   1.587\n",
       "Prob(Omnibus):                  0.000   Jarque-Bera (JB):               70.459\n",
       "Skew:                           0.645   Prob(JB):                     5.01e-16\n",
       "Kurtosis:                       5.598   Cond. No.                     5.50e+05\n",
       "==============================================================================\n",
       "\n",
       "Notes:\n",
       "[1] R² is computed without centering (uncentered) since the model does not contain a constant.\n",
       "[2] Standard Errors assume that the covariance matrix of the errors is correctly specified.\n",
       "[3] The condition number is large, 5.5e+05. This might indicate that there are\n",
       "strong multicollinearity or other numerical problems.\n",
       "\"\"\""
      ],
      "text/html": "<table class=\"simpletable\">\n<caption>OLS Regression Results</caption>\n<tr>\n  <th>Dep. Variable:</th>          <td>price</td>      <th>  R-squared (uncentered):</th>      <td>   0.990</td> \n</tr>\n<tr>\n  <th>Model:</th>                   <td>OLS</td>       <th>  Adj. R-squared (uncentered):</th> <td>   0.986</td> \n</tr>\n<tr>\n  <th>Method:</th>             <td>Least Squares</td>  <th>  F-statistic:       </th>          <td>   264.9</td> \n</tr>\n<tr>\n  <th>Date:</th>             <td>Tue, 03 Nov 2020</td> <th>  Prob (F-statistic):</th>          <td>6.29e-124</td>\n</tr>\n<tr>\n  <th>Time:</th>                 <td>20:30:58</td>     <th>  Log-Likelihood:    </th>          <td> -1764.8</td> \n</tr>\n<tr>\n  <th>No. Observations:</th>      <td>   201</td>      <th>  AIC:               </th>          <td>   3636.</td> \n</tr>\n<tr>\n  <th>Df Residuals:</th>          <td>   148</td>      <th>  BIC:               </th>          <td>   3811.</td> \n</tr>\n<tr>\n  <th>Df Model:</th>              <td>    53</td>      <th>                     </th>              <td> </td>    \n</tr>\n<tr>\n  <th>Covariance Type:</th>      <td>nonrobust</td>    <th>                     </th>              <td> </td>    \n</tr>\n</table>\n<table class=\"simpletable\">\n<tr>\n   <td></td>      <th>coef</th>     <th>std err</th>      <th>t</th>      <th>P>|t|</th>  <th>[0.025</th>    <th>0.975]</th>  \n</tr>\n<tr>\n  <th>x1</th>  <td> -229.6692</td> <td>  240.827</td> <td>   -0.954</td> <td> 0.342</td> <td> -705.572</td> <td>  246.234</td>\n</tr>\n<tr>\n  <th>x2</th>  <td>  -12.7327</td> <td>    6.728</td> <td>   -1.892</td> <td> 0.060</td> <td>  -26.028</td> <td>    0.563</td>\n</tr>\n<tr>\n  <th>x3</th>  <td>  272.1087</td> <td>   91.956</td> <td>    2.959</td> <td> 0.004</td> <td>   90.393</td> <td>  453.824</td>\n</tr>\n<tr>\n  <th>x4</th>  <td>-2.046e+04</td> <td> 1.04e+04</td> <td>   -1.968</td> <td> 0.051</td> <td> -4.1e+04</td> <td>   89.291</td>\n</tr>\n<tr>\n  <th>x5</th>  <td> 1.909e+04</td> <td> 1.12e+04</td> <td>    1.698</td> <td> 0.092</td> <td>-3121.397</td> <td> 4.13e+04</td>\n</tr>\n<tr>\n  <th>x6</th>  <td> -417.3311</td> <td>  116.659</td> <td>   -3.577</td> <td> 0.000</td> <td> -647.864</td> <td> -186.798</td>\n</tr>\n<tr>\n  <th>x7</th>  <td>    5.8296</td> <td>    1.512</td> <td>    3.855</td> <td> 0.000</td> <td>    2.841</td> <td>    8.818</td>\n</tr>\n<tr>\n  <th>x8</th>  <td>   66.4331</td> <td>   22.431</td> <td>    2.962</td> <td> 0.004</td> <td>   22.107</td> <td>  110.759</td>\n</tr>\n<tr>\n  <th>x9</th>  <td>-4626.0298</td> <td> 1653.858</td> <td>   -2.797</td> <td> 0.006</td> <td>-7894.257</td> <td>-1357.803</td>\n</tr>\n<tr>\n  <th>x10</th> <td> -964.1118</td> <td>  956.152</td> <td>   -1.008</td> <td> 0.315</td> <td>-2853.584</td> <td>  925.361</td>\n</tr>\n<tr>\n  <th>x11</th> <td> -962.3154</td> <td>  477.383</td> <td>   -2.016</td> <td> 0.046</td> <td>-1905.682</td> <td>  -18.948</td>\n</tr>\n<tr>\n  <th>x12</th> <td>   54.0000</td> <td>   17.933</td> <td>    3.011</td> <td> 0.003</td> <td>   18.562</td> <td>   89.438</td>\n</tr>\n<tr>\n  <th>x13</th> <td>    1.6302</td> <td>    0.589</td> <td>    2.766</td> <td> 0.006</td> <td>    0.466</td> <td>    2.795</td>\n</tr>\n<tr>\n  <th>x14</th> <td>   45.6380</td> <td>  134.648</td> <td>    0.339</td> <td> 0.735</td> <td> -220.442</td> <td>  311.718</td>\n</tr>\n<tr>\n  <th>x15</th> <td>   71.0105</td> <td>  113.330</td> <td>    0.627</td> <td> 0.532</td> <td> -152.944</td> <td>  294.965</td>\n</tr>\n<tr>\n  <th>x16</th> <td> 4896.2456</td> <td> 2067.931</td> <td>    2.368</td> <td> 0.019</td> <td>  809.761</td> <td> 8982.730</td>\n</tr>\n<tr>\n  <th>x17</th> <td> 1.008e+04</td> <td> 1702.454</td> <td>    5.920</td> <td> 0.000</td> <td> 6713.553</td> <td> 1.34e+04</td>\n</tr>\n<tr>\n  <th>x18</th> <td>-3176.4304</td> <td> 2136.542</td> <td>   -1.487</td> <td> 0.139</td> <td>-7398.500</td> <td> 1045.639</td>\n</tr>\n<tr>\n  <th>x19</th> <td>-2875.7137</td> <td> 1710.288</td> <td>   -1.681</td> <td> 0.095</td> <td>-6255.453</td> <td>  504.026</td>\n</tr>\n<tr>\n  <th>x20</th> <td> -770.9589</td> <td> 2024.253</td> <td>   -0.381</td> <td> 0.704</td> <td>-4771.130</td> <td> 3229.212</td>\n</tr>\n<tr>\n  <th>x21</th> <td>-1817.2923</td> <td> 2397.985</td> <td>   -0.758</td> <td> 0.450</td> <td>-6556.004</td> <td> 2921.420</td>\n</tr>\n<tr>\n  <th>x22</th> <td> 2835.8559</td> <td> 2705.241</td> <td>    1.048</td> <td> 0.296</td> <td>-2510.032</td> <td> 8181.743</td>\n</tr>\n<tr>\n  <th>x23</th> <td>  302.4610</td> <td> 1535.855</td> <td>    0.197</td> <td> 0.844</td> <td>-2732.577</td> <td> 3337.499</td>\n</tr>\n<tr>\n  <th>x24</th> <td> 5607.5201</td> <td> 2417.366</td> <td>    2.320</td> <td> 0.022</td> <td>  830.510</td> <td> 1.04e+04</td>\n</tr>\n<tr>\n  <th>x25</th> <td> -611.0834</td> <td> 2548.588</td> <td>   -0.240</td> <td> 0.811</td> <td>-5647.405</td> <td> 4425.238</td>\n</tr>\n<tr>\n  <th>x26</th> <td>-3308.8799</td> <td> 1705.221</td> <td>   -1.940</td> <td> 0.054</td> <td>-6678.606</td> <td>   60.847</td>\n</tr>\n<tr>\n  <th>x27</th> <td>-1005.1735</td> <td> 1499.143</td> <td>   -0.670</td> <td> 0.504</td> <td>-3967.663</td> <td> 1957.316</td>\n</tr>\n<tr>\n  <th>x28</th> <td> -975.3560</td> <td> 1967.190</td> <td>   -0.496</td> <td> 0.621</td> <td>-4862.765</td> <td> 2912.053</td>\n</tr>\n<tr>\n  <th>x29</th> <td>-2989.3229</td> <td> 1724.885</td> <td>   -1.733</td> <td> 0.085</td> <td>-6397.906</td> <td>  419.261</td>\n</tr>\n<tr>\n  <th>x30</th> <td> 1.271e+04</td> <td> 1871.874</td> <td>    6.788</td> <td> 0.000</td> <td> 9007.279</td> <td> 1.64e+04</td>\n</tr>\n<tr>\n  <th>x31</th> <td> -520.6608</td> <td> 2038.198</td> <td>   -0.255</td> <td> 0.799</td> <td>-4548.390</td> <td> 3507.069</td>\n</tr>\n<tr>\n  <th>x32</th> <td> 4000.4157</td> <td> 1708.691</td> <td>    2.341</td> <td> 0.021</td> <td>  623.832</td> <td> 7376.999</td>\n</tr>\n<tr>\n  <th>x33</th> <td>   58.0805</td> <td> 1838.327</td> <td>    0.032</td> <td> 0.975</td> <td>-3574.680</td> <td> 3690.841</td>\n</tr>\n<tr>\n  <th>x34</th> <td>-1160.2538</td> <td> 1431.401</td> <td>   -0.811</td> <td> 0.419</td> <td>-3988.878</td> <td> 1668.371</td>\n</tr>\n<tr>\n  <th>x35</th> <td>  907.9643</td> <td> 1527.380</td> <td>    0.594</td> <td> 0.553</td> <td>-2110.325</td> <td> 3926.253</td>\n</tr>\n<tr>\n  <th>x36</th> <td> 1722.9629</td> <td> 1692.014</td> <td>    1.018</td> <td> 0.310</td> <td>-1620.665</td> <td> 5066.591</td>\n</tr>\n<tr>\n  <th>x37</th> <td>-2425.2046</td> <td> 1186.979</td> <td>   -2.043</td> <td> 0.043</td> <td>-4770.821</td> <td>  -79.588</td>\n</tr>\n<tr>\n  <th>x38</th> <td>-4539.7882</td> <td> 1066.621</td> <td>   -4.256</td> <td> 0.000</td> <td>-6647.561</td> <td>-2432.015</td>\n</tr>\n<tr>\n  <th>x39</th> <td>-3940.9349</td> <td> 1123.940</td> <td>   -3.506</td> <td> 0.001</td> <td>-6161.977</td> <td>-1719.892</td>\n</tr>\n<tr>\n  <th>x40</th> <td>-4277.4593</td> <td> 1227.596</td> <td>   -3.484</td> <td> 0.001</td> <td>-6703.340</td> <td>-1851.579</td>\n</tr>\n<tr>\n  <th>x41</th> <td>-2627.2246</td> <td> 2340.763</td> <td>   -1.122</td> <td> 0.264</td> <td>-7252.859</td> <td> 1998.410</td>\n</tr>\n<tr>\n  <th>x42</th> <td> -424.8436</td> <td> 3109.546</td> <td>   -0.137</td> <td> 0.892</td> <td>-6569.687</td> <td> 5720.000</td>\n</tr>\n<tr>\n  <th>x43</th> <td>-2406.2792</td> <td> 2643.706</td> <td>   -0.910</td> <td> 0.364</td> <td>-7630.565</td> <td> 2818.007</td>\n</tr>\n<tr>\n  <th>x44</th> <td> 4880.3847</td> <td> 4208.191</td> <td>    1.160</td> <td> 0.248</td> <td>-3435.516</td> <td> 1.32e+04</td>\n</tr>\n<tr>\n  <th>x45</th> <td>-7751.3014</td> <td> 4943.310</td> <td>   -1.568</td> <td> 0.119</td> <td>-1.75e+04</td> <td> 2017.286</td>\n</tr>\n<tr>\n  <th>x46</th> <td> 4658.5904</td> <td> 4399.055</td> <td>    1.059</td> <td> 0.291</td> <td>-4034.481</td> <td> 1.34e+04</td>\n</tr>\n<tr>\n  <th>x47</th> <td> 2007.1918</td> <td> 1505.658</td> <td>    1.333</td> <td> 0.185</td> <td> -968.174</td> <td> 4982.557</td>\n</tr>\n<tr>\n  <th>x48</th> <td> -298.2033</td> <td> 2655.659</td> <td>   -0.112</td> <td> 0.911</td> <td>-5546.111</td> <td> 4949.704</td>\n</tr>\n<tr>\n  <th>x49</th> <td> 1.476e+04</td> <td> 6477.988</td> <td>    2.278</td> <td> 0.024</td> <td> 1957.671</td> <td> 2.76e+04</td>\n</tr>\n<tr>\n  <th>x50</th> <td> -503.7308</td> <td> 2694.923</td> <td>   -0.187</td> <td> 0.852</td> <td>-5829.229</td> <td> 4821.767</td>\n</tr>\n<tr>\n  <th>x51</th> <td>   57.2719</td> <td> 1564.422</td> <td>    0.037</td> <td> 0.971</td> <td>-3034.217</td> <td> 3148.761</td>\n</tr>\n<tr>\n  <th>x52</th> <td> -168.5687</td> <td> 1866.612</td> <td>   -0.090</td> <td> 0.928</td> <td>-3857.223</td> <td> 3520.086</td>\n</tr>\n<tr>\n  <th>x53</th> <td> 2683.8688</td> <td> 3119.116</td> <td>    0.860</td> <td> 0.391</td> <td>-3479.887</td> <td> 8847.625</td>\n</tr>\n</table>\n<table class=\"simpletable\">\n<tr>\n  <th>Omnibus:</th>       <td>29.506</td> <th>  Durbin-Watson:     </th> <td>   1.587</td>\n</tr>\n<tr>\n  <th>Prob(Omnibus):</th> <td> 0.000</td> <th>  Jarque-Bera (JB):  </th> <td>  70.459</td>\n</tr>\n<tr>\n  <th>Skew:</th>          <td> 0.645</td> <th>  Prob(JB):          </th> <td>5.01e-16</td>\n</tr>\n<tr>\n  <th>Kurtosis:</th>      <td> 5.598</td> <th>  Cond. No.          </th> <td>5.50e+05</td>\n</tr>\n</table><br/><br/>Notes:<br/>[1] R² is computed without centering (uncentered) since the model does not contain a constant.<br/>[2] Standard Errors assume that the covariance matrix of the errors is correctly specified.<br/>[3] The condition number is large, 5.5e+05. This might indicate that there are<br/>strong multicollinearity or other numerical problems."
     },
     "metadata": {},
     "execution_count": 22
    }
   ],
   "source": [
    "regressor = sm.OLS(endog=y, exog=X_opt,).fit()\n",
    "regressor.summary()"
   ]
  },
  {
   "cell_type": "code",
   "execution_count": null,
   "metadata": {},
   "outputs": [],
   "source": []
  }
 ]
}