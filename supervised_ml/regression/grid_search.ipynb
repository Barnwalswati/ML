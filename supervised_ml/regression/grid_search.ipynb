{
 "metadata": {
  "language_info": {
   "codemirror_mode": {
    "name": "ipython",
    "version": 3
   },
   "file_extension": ".py",
   "mimetype": "text/x-python",
   "name": "python",
   "nbconvert_exporter": "python",
   "pygments_lexer": "ipython3",
   "version": "3.8.5-final"
  },
  "orig_nbformat": 2,
  "kernelspec": {
   "name": "python3",
   "display_name": "Python 3"
  }
 },
 "nbformat": 4,
 "nbformat_minor": 2,
 "cells": [
  {
   "source": [
    "### regression algo\n",
    "   - simple linear regression\n",
    "   - multiple\n",
    "   - polynomial\n",
    "   - decision tree\n",
    "   - random forest\n",
    "   - Support Vector Regression\n",
    "### performance -> step wise modelling\n",
    "   - OLS -> check p-value\n",
    "   - Correlation between feature (X) and output(Y)\n",
    "   - cross validation & grid search"
   ],
   "cell_type": "markdown",
   "metadata": {}
  },
  {
   "source": [
    "## Grid Search"
   ],
   "cell_type": "markdown",
   "metadata": {}
  },
  {
   "cell_type": "code",
   "execution_count": 2,
   "metadata": {},
   "outputs": [],
   "source": [
    "import pandas as pd \n",
    "import numpy as np \n",
    "import matplotlib.pyplot as plt \n",
    "import seaborn as sns \n",
    "import plotly.express as px \n",
    "import pickle"
   ]
  },
  {
   "cell_type": "code",
   "execution_count": 3,
   "metadata": {},
   "outputs": [],
   "source": [
    "from sklearn.model_selection import train_test_split\n",
    "from sklearn.preprocessing import StandardScaler\n",
    "from sklearn.linear_model import LinearRegression\n",
    "from sklearn.ensemble import RandomForestRegressor"
   ]
  },
  {
   "cell_type": "code",
   "execution_count": 4,
   "metadata": {},
   "outputs": [
    {
     "output_type": "execute_result",
     "data": {
      "text/plain": [
       "     Paleonium  Pressure        Price\n",
       "0           17      6567  2810.280298\n",
       "1           59      5253  1986.967089\n",
       "2          123      9715  2083.132087\n",
       "3          182      2073  2236.340285\n",
       "4          133      6400  1903.323339\n",
       "..         ...       ...          ...\n",
       "995         90     15039  1633.608018\n",
       "996         49     10592  2316.189728\n",
       "997         42     18435  1189.359047\n",
       "998         10     13675  2922.682785\n",
       "999         54     16996  1469.549379\n",
       "\n",
       "[1000 rows x 3 columns]"
      ],
      "text/html": "<div>\n<style scoped>\n    .dataframe tbody tr th:only-of-type {\n        vertical-align: middle;\n    }\n\n    .dataframe tbody tr th {\n        vertical-align: top;\n    }\n\n    .dataframe thead th {\n        text-align: right;\n    }\n</style>\n<table border=\"1\" class=\"dataframe\">\n  <thead>\n    <tr style=\"text-align: right;\">\n      <th></th>\n      <th>Paleonium</th>\n      <th>Pressure</th>\n      <th>Price</th>\n    </tr>\n  </thead>\n  <tbody>\n    <tr>\n      <th>0</th>\n      <td>17</td>\n      <td>6567</td>\n      <td>2810.280298</td>\n    </tr>\n    <tr>\n      <th>1</th>\n      <td>59</td>\n      <td>5253</td>\n      <td>1986.967089</td>\n    </tr>\n    <tr>\n      <th>2</th>\n      <td>123</td>\n      <td>9715</td>\n      <td>2083.132087</td>\n    </tr>\n    <tr>\n      <th>3</th>\n      <td>182</td>\n      <td>2073</td>\n      <td>2236.340285</td>\n    </tr>\n    <tr>\n      <th>4</th>\n      <td>133</td>\n      <td>6400</td>\n      <td>1903.323339</td>\n    </tr>\n    <tr>\n      <th>...</th>\n      <td>...</td>\n      <td>...</td>\n      <td>...</td>\n    </tr>\n    <tr>\n      <th>995</th>\n      <td>90</td>\n      <td>15039</td>\n      <td>1633.608018</td>\n    </tr>\n    <tr>\n      <th>996</th>\n      <td>49</td>\n      <td>10592</td>\n      <td>2316.189728</td>\n    </tr>\n    <tr>\n      <th>997</th>\n      <td>42</td>\n      <td>18435</td>\n      <td>1189.359047</td>\n    </tr>\n    <tr>\n      <th>998</th>\n      <td>10</td>\n      <td>13675</td>\n      <td>2922.682785</td>\n    </tr>\n    <tr>\n      <th>999</th>\n      <td>54</td>\n      <td>16996</td>\n      <td>1469.549379</td>\n    </tr>\n  </tbody>\n</table>\n<p>1000 rows × 3 columns</p>\n</div>"
     },
     "metadata": {},
     "execution_count": 4
    }
   ],
   "source": [
    "df = pd.read_csv('../../datasets/diamond_pricing.csv')\n",
    "df"
   ]
  },
  {
   "cell_type": "code",
   "execution_count": 5,
   "metadata": {},
   "outputs": [],
   "source": [
    "x = df[['Paleonium','Pressure']]\n",
    "y = df['Price']"
   ]
  },
  {
   "cell_type": "code",
   "execution_count": 7,
   "metadata": {},
   "outputs": [],
   "source": [
    "trainx, testx, trainy, testy = train_test_split(x,y,test_size=.2, random_state=0)"
   ]
  },
  {
   "cell_type": "code",
   "execution_count": 8,
   "metadata": {},
   "outputs": [
    {
     "output_type": "execute_result",
     "data": {
      "text/plain": [
       "11.918023623707574"
      ]
     },
     "metadata": {},
     "execution_count": 8
    }
   ],
   "source": [
    "model1 = LinearRegression()\n",
    "model1.fit(trainx,trainy)\n",
    "model1.score(testx,testy)* 100"
   ]
  },
  {
   "cell_type": "code",
   "execution_count": 9,
   "metadata": {},
   "outputs": [
    {
     "output_type": "execute_result",
     "data": {
      "text/plain": [
       "98.29244257304369"
      ]
     },
     "metadata": {},
     "execution_count": 9
    }
   ],
   "source": [
    "model2 = RandomForestRegressor()\n",
    "model2.fit(trainx,trainy)\n",
    "model2.score(testx,testy)* 100"
   ]
  },
  {
   "source": [
    "## checking the model for performance using cross validation\n"
   ],
   "cell_type": "markdown",
   "metadata": {}
  },
  {
   "cell_type": "code",
   "execution_count": 10,
   "metadata": {},
   "outputs": [],
   "source": [
    "from sklearn.model_selection import cross_val_score"
   ]
  },
  {
   "cell_type": "code",
   "execution_count": 12,
   "metadata": {},
   "outputs": [
    {
     "output_type": "execute_result",
     "data": {
      "text/plain": [
       "array([0.98269939, 0.97924785, 0.98286363, 0.9805104 ])"
      ]
     },
     "metadata": {},
     "execution_count": 12
    }
   ],
   "source": [
    "scores = cross_val_score(model2,x,y,cv=4)\n",
    "scores"
   ]
  },
  {
   "source": [
    "## testing cross validation on another model"
   ],
   "cell_type": "markdown",
   "metadata": {}
  },
  {
   "source": [
    "from sklearn.svm import SVR"
   ],
   "cell_type": "code",
   "metadata": {},
   "execution_count": 17,
   "outputs": []
  },
  {
   "cell_type": "code",
   "execution_count": 40,
   "metadata": {},
   "outputs": [
    {
     "output_type": "stream",
     "name": "stdout",
     "text": [
      "score: 82.28894886681472\n",
      "cross validation: [0.79750838 0.72761543 0.67354716 0.49552279 0.62474557]\n",
      "validation score 66.37878664090478\n"
     ]
    }
   ],
   "source": [
    "df = pd.read_csv('../../datasets/house_pricing.csv')\n",
    "X = df[['Beds','Baths','SquareFeet']]\n",
    "scaler = StandardScaler()\n",
    "scaledX = scaler.fit_transform(X)\n",
    "y = df['Price']\n",
    "trainx, testx, trainy, testy = train_test_split(scaledX,y,test_size=.2, random_state=0)\n",
    "model3 = RandomForestRegressor()\n",
    "model3.fit(trainx,trainy)\n",
    "print('score:',model3.score(testx,testy) * 100)\n",
    "scores = cross_val_score(model3,scaledX,y,cv=5)\n",
    "print('cross validation:',scores)\n",
    "print('validation score',scores.mean() * 100)"
   ]
  },
  {
   "cell_type": "code",
   "execution_count": null,
   "metadata": {},
   "outputs": [],
   "source": [
    "df = pd.read_csv('../../datasets/house_pricing.csv')\n",
    "X = df[['Beds','Baths','SquareFeet']]\n",
    "y = df['Price']"
   ]
  },
  {
   "cell_type": "code",
   "execution_count": 29,
   "metadata": {},
   "outputs": [
    {
     "output_type": "stream",
     "name": "stdout",
     "text": [
      "score:  88.2129083768925\n",
      "cross validation:  [0.8977449  0.75262472 0.71825867 0.62053769 0.52122559]\n",
      "validated score:  70.20783152313051\n"
     ]
    }
   ],
   "source": [
    "df = pd.read_csv('../../datasets/house_pricing.csv')\n",
    "X = df[['Beds','Baths','SquareFeet']]\n",
    "y = df['Price']\n",
    "trainx, testx, trainy, testy = train_test_split(X,y,test_size=.2,random_state=0)\n",
    "model4 = SVR(kernel='linear')\n",
    "model4.fit(trainx,trainy)\n",
    "print('score: ', model4.score(testx,testy)*100)\n",
    "scores = cross_val_score(model4,X,y,cv=5)\n",
    "print('cross validation: ',scores)\n",
    "print('validated score: ',scores.mean()*100)"
   ]
  },
  {
   "source": [
    "## Grid Search for model preformance tuning"
   ],
   "cell_type": "markdown",
   "metadata": {}
  },
  {
   "cell_type": "code",
   "execution_count": 25,
   "metadata": {},
   "outputs": [],
   "source": [
    "from sklearn.model_selection import GridSearchCV"
   ]
  },
  {
   "cell_type": "code",
   "execution_count": null,
   "metadata": {},
   "outputs": [],
   "source": [
    "# GRID SEARCH will create multiple combination for the model parameters\n",
    "# RandomForestRegressor(n_estimators=10,criterion='mse',max_depth=5)\n",
    "# RandomForestRegressor(n_estimators=10,criterion='mse',max_depth=10)\n",
    "# RandomForestRegressor(n_estimators=10,criterion='mse',max_depth=25)\n",
    "# RandomForestRegressor(n_estimators=10,criterion='mae',max_depth=5)\n",
    "# RandomForestRegressor(n_estimators=10,criterion='mae',max_depth=10)\n",
    "# RandomForestRegressor(n_estimators=10,criterion='mae',max_depth=25)\n",
    "# RandomForestRegressor(n_estimators=50,criterion='mse',max_depth=5)\n",
    "# RandomForestRegressor(n_estimators=50,criterion='mse',max_depth=10)\n",
    "# RandomForestRegressor(n_estimators=50,criterion='mse',max_depth=25)"
   ]
  },
  {
   "cell_type": "code",
   "execution_count": 52,
   "metadata": {},
   "outputs": [],
   "source": [
    "model_grid_options = {\n",
    "    'n_estimators' : [10, 50, 100, 200, 500],\n",
    "    'criterion' : ['mse','mae'],\n",
    "    'max_depth' : [5, 10, 25]\n",
    "}"
   ]
  },
  {
   "cell_type": "code",
   "execution_count": 53,
   "metadata": {},
   "outputs": [],
   "source": [
    "#preforming grid search on model3(RamdomForestRegression model)\n",
    "grid = GridSearchCV(model3, model_grid_options, cv=3, n_jobs=-1)   "
   ]
  },
  {
   "cell_type": "code",
   "execution_count": 54,
   "metadata": {},
   "outputs": [
    {
     "output_type": "execute_result",
     "data": {
      "text/plain": [
       "GridSearchCV(cv=3, estimator=RandomForestRegressor(), n_jobs=-1,\n",
       "             param_grid={'criterion': ['mse', 'mae'], 'max_depth': [5, 10, 25],\n",
       "                         'n_estimators': [10, 50, 100, 200, 500]})"
      ]
     },
     "metadata": {},
     "execution_count": 54
    }
   ],
   "source": [
    "grid.fit(X,y)"
   ]
  },
  {
   "cell_type": "code",
   "execution_count": 55,
   "metadata": {},
   "outputs": [
    {
     "output_type": "execute_result",
     "data": {
      "text/plain": [
       "{'mean_fit_time': array([0.06455358, 0.23638256, 0.47015119, 1.18137089, 2.42587741,\n",
       "        0.06398741, 0.26284607, 0.45779991, 0.91879972, 2.30726846,\n",
       "        0.05536596, 0.24844797, 0.50433183, 0.99726605, 2.47704387,\n",
       "        0.10403538, 0.50308609, 1.00652687, 1.97827101, 4.91996606,\n",
       "        0.13474735, 0.66224162, 1.33144403, 2.64854153, 6.92456253,\n",
       "        0.15097562, 0.72792959, 1.5165422 , 2.91097752, 7.26914295]),\n",
       " 'std_fit_time': array([0.00359577, 0.00935498, 0.00731334, 0.08814758, 0.31796104,\n",
       "        0.01176822, 0.03455176, 0.00637714, 0.01127063, 0.00237882,\n",
       "        0.00238248, 0.00443985, 0.00341058, 0.00473243, 0.02145381,\n",
       "        0.00311514, 0.01145711, 0.01046742, 0.01104204, 0.05354218,\n",
       "        0.00451103, 0.00257424, 0.03321079, 0.01827388, 0.17921908,\n",
       "        0.00306119, 0.00566196, 0.08439895, 0.02885117, 0.09033878]),\n",
       " 'mean_score_time': array([0.00871301, 0.01813491, 0.0259428 , 0.06693506, 0.1055402 ,\n",
       "        0.01375842, 0.02055772, 0.02892081, 0.05273779, 0.12156256,\n",
       "        0.00811728, 0.01831166, 0.02998861, 0.05709918, 0.12319843,\n",
       "        0.00677903, 0.01262665, 0.02528612, 0.04446157, 0.10663168,\n",
       "        0.00709701, 0.01561507, 0.02708681, 0.05048013, 0.11765218,\n",
       "        0.0070533 , 0.0159413 , 0.02807132, 0.05051454, 0.1430916 ]),\n",
       " 'std_score_time': array([0.00266924, 0.00659498, 0.00395178, 0.0159538 , 0.00266807,\n",
       "        0.00409032, 0.00308389, 0.00158826, 0.00151841, 0.00491189,\n",
       "        0.00015702, 0.00092062, 0.00184305, 0.00224664, 0.00413794,\n",
       "        0.00118363, 0.00089992, 0.00263061, 0.00089337, 0.01049147,\n",
       "        0.00223516, 0.00242727, 0.00311829, 0.0008132 , 0.00210108,\n",
       "        0.00264498, 0.00183291, 0.0015459 , 0.00100536, 0.08189917]),\n",
       " 'param_criterion': masked_array(data=['mse', 'mse', 'mse', 'mse', 'mse', 'mse', 'mse', 'mse',\n",
       "                    'mse', 'mse', 'mse', 'mse', 'mse', 'mse', 'mse', 'mae',\n",
       "                    'mae', 'mae', 'mae', 'mae', 'mae', 'mae', 'mae', 'mae',\n",
       "                    'mae', 'mae', 'mae', 'mae', 'mae', 'mae'],\n",
       "              mask=[False, False, False, False, False, False, False, False,\n",
       "                    False, False, False, False, False, False, False, False,\n",
       "                    False, False, False, False, False, False, False, False,\n",
       "                    False, False, False, False, False, False],\n",
       "        fill_value='?',\n",
       "             dtype=object),\n",
       " 'param_max_depth': masked_array(data=[5, 5, 5, 5, 5, 10, 10, 10, 10, 10, 25, 25, 25, 25, 25,\n",
       "                    5, 5, 5, 5, 5, 10, 10, 10, 10, 10, 25, 25, 25, 25, 25],\n",
       "              mask=[False, False, False, False, False, False, False, False,\n",
       "                    False, False, False, False, False, False, False, False,\n",
       "                    False, False, False, False, False, False, False, False,\n",
       "                    False, False, False, False, False, False],\n",
       "        fill_value='?',\n",
       "             dtype=object),\n",
       " 'param_n_estimators': masked_array(data=[10, 50, 100, 200, 500, 10, 50, 100, 200, 500, 10, 50,\n",
       "                    100, 200, 500, 10, 50, 100, 200, 500, 10, 50, 100, 200,\n",
       "                    500, 10, 50, 100, 200, 500],\n",
       "              mask=[False, False, False, False, False, False, False, False,\n",
       "                    False, False, False, False, False, False, False, False,\n",
       "                    False, False, False, False, False, False, False, False,\n",
       "                    False, False, False, False, False, False],\n",
       "        fill_value='?',\n",
       "             dtype=object),\n",
       " 'params': [{'criterion': 'mse', 'max_depth': 5, 'n_estimators': 10},\n",
       "  {'criterion': 'mse', 'max_depth': 5, 'n_estimators': 50},\n",
       "  {'criterion': 'mse', 'max_depth': 5, 'n_estimators': 100},\n",
       "  {'criterion': 'mse', 'max_depth': 5, 'n_estimators': 200},\n",
       "  {'criterion': 'mse', 'max_depth': 5, 'n_estimators': 500},\n",
       "  {'criterion': 'mse', 'max_depth': 10, 'n_estimators': 10},\n",
       "  {'criterion': 'mse', 'max_depth': 10, 'n_estimators': 50},\n",
       "  {'criterion': 'mse', 'max_depth': 10, 'n_estimators': 100},\n",
       "  {'criterion': 'mse', 'max_depth': 10, 'n_estimators': 200},\n",
       "  {'criterion': 'mse', 'max_depth': 10, 'n_estimators': 500},\n",
       "  {'criterion': 'mse', 'max_depth': 25, 'n_estimators': 10},\n",
       "  {'criterion': 'mse', 'max_depth': 25, 'n_estimators': 50},\n",
       "  {'criterion': 'mse', 'max_depth': 25, 'n_estimators': 100},\n",
       "  {'criterion': 'mse', 'max_depth': 25, 'n_estimators': 200},\n",
       "  {'criterion': 'mse', 'max_depth': 25, 'n_estimators': 500},\n",
       "  {'criterion': 'mae', 'max_depth': 5, 'n_estimators': 10},\n",
       "  {'criterion': 'mae', 'max_depth': 5, 'n_estimators': 50},\n",
       "  {'criterion': 'mae', 'max_depth': 5, 'n_estimators': 100},\n",
       "  {'criterion': 'mae', 'max_depth': 5, 'n_estimators': 200},\n",
       "  {'criterion': 'mae', 'max_depth': 5, 'n_estimators': 500},\n",
       "  {'criterion': 'mae', 'max_depth': 10, 'n_estimators': 10},\n",
       "  {'criterion': 'mae', 'max_depth': 10, 'n_estimators': 50},\n",
       "  {'criterion': 'mae', 'max_depth': 10, 'n_estimators': 100},\n",
       "  {'criterion': 'mae', 'max_depth': 10, 'n_estimators': 200},\n",
       "  {'criterion': 'mae', 'max_depth': 10, 'n_estimators': 500},\n",
       "  {'criterion': 'mae', 'max_depth': 25, 'n_estimators': 10},\n",
       "  {'criterion': 'mae', 'max_depth': 25, 'n_estimators': 50},\n",
       "  {'criterion': 'mae', 'max_depth': 25, 'n_estimators': 100},\n",
       "  {'criterion': 'mae', 'max_depth': 25, 'n_estimators': 200},\n",
       "  {'criterion': 'mae', 'max_depth': 25, 'n_estimators': 500}],\n",
       " 'split0_test_score': array([0.78963209, 0.81081603, 0.80342495, 0.80438738, 0.80018404,\n",
       "        0.74513909, 0.75112692, 0.76556331, 0.76708926, 0.76423903,\n",
       "        0.73423128, 0.74378169, 0.75129408, 0.75861546, 0.75048571,\n",
       "        0.81165159, 0.82280063, 0.82273658, 0.82612828, 0.82436902,\n",
       "        0.79578554, 0.78416199, 0.79773933, 0.79606771, 0.79107146,\n",
       "        0.77396582, 0.76746921, 0.75954897, 0.75996814, 0.76434179]),\n",
       " 'split1_test_score': array([0.76725429, 0.76430068, 0.76387073, 0.7684773 , 0.76848924,\n",
       "        0.75171668, 0.75325449, 0.7595345 , 0.75809528, 0.75757747,\n",
       "        0.73794908, 0.75238132, 0.7513844 , 0.75222903, 0.75626518,\n",
       "        0.76568355, 0.76835357, 0.76729947, 0.7675864 , 0.76811715,\n",
       "        0.76280813, 0.76482096, 0.76398019, 0.76692973, 0.7660691 ,\n",
       "        0.74834953, 0.75772524, 0.76024455, 0.7571842 , 0.75916813]),\n",
       " 'split2_test_score': array([0.61056199, 0.62319081, 0.60430562, 0.61926887, 0.6144535 ,\n",
       "        0.5509175 , 0.59523569, 0.58646796, 0.58733598, 0.58120857,\n",
       "        0.57880274, 0.57983857, 0.57947037, 0.58172636, 0.57798384,\n",
       "        0.59232989, 0.61664692, 0.61339075, 0.6119203 , 0.61470918,\n",
       "        0.53041161, 0.56150092, 0.57527812, 0.58618872, 0.58141183,\n",
       "        0.54271653, 0.57471764, 0.56932043, 0.57392991, 0.57754341]),\n",
       " 'mean_test_score': array([0.72248279, 0.73276917, 0.7238671 , 0.73071118, 0.72770892,\n",
       "        0.68259109, 0.69987237, 0.70385526, 0.70417351, 0.70100836,\n",
       "        0.68366104, 0.69200052, 0.69404962, 0.69752361, 0.69491157,\n",
       "        0.72322168, 0.73593371, 0.7344756 , 0.73521166, 0.73573178,\n",
       "        0.69633509, 0.70349462, 0.71233255, 0.71639539, 0.7128508 ,\n",
       "        0.68834396, 0.69997069, 0.69637131, 0.69702742, 0.70035111]),\n",
       " 'std_test_score': array([0.07966551, 0.0797767 , 0.08607108, 0.08015371, 0.08112227,\n",
       "        0.093146  , 0.0739944 , 0.08304184, 0.08269816, 0.08475489,\n",
       "        0.07416154, 0.07938815, 0.08101977, 0.08192252, 0.08271405,\n",
       "        0.09443785, 0.08722814, 0.08856062, 0.09039675, 0.08860369,\n",
       "        0.11809552, 0.10071471, 0.0978872 , 0.09283529, 0.0935002 ,\n",
       "        0.10350381, 0.08865658, 0.08983899, 0.0870505 , 0.08686384]),\n",
       " 'rank_test_score': array([10,  5,  8,  6,  7, 30, 20, 15, 14, 17, 29, 27, 26, 21, 25,  9,  1,\n",
       "         4,  3,  2, 24, 16, 13, 11, 12, 28, 19, 23, 22, 18])}"
      ]
     },
     "metadata": {},
     "execution_count": 55
    }
   ],
   "source": [
    "grid.cv_results_"
   ]
  },
  {
   "cell_type": "code",
   "execution_count": 56,
   "metadata": {},
   "outputs": [
    {
     "output_type": "execute_result",
     "data": {
      "text/plain": [
       "dict_keys(['mean_fit_time', 'std_fit_time', 'mean_score_time', 'std_score_time', 'param_criterion', 'param_max_depth', 'param_n_estimators', 'params', 'split0_test_score', 'split1_test_score', 'split2_test_score', 'mean_test_score', 'std_test_score', 'rank_test_score'])"
      ]
     },
     "metadata": {},
     "execution_count": 56
    }
   ],
   "source": [
    "grid.cv_results_.keys()"
   ]
  },
  {
   "cell_type": "code",
   "execution_count": 57,
   "metadata": {},
   "outputs": [
    {
     "output_type": "execute_result",
     "data": {
      "text/plain": [
       "array([10,  5,  8,  6,  7, 30, 20, 15, 14, 17, 29, 27, 26, 21, 25,  9,  1,\n",
       "        4,  3,  2, 24, 16, 13, 11, 12, 28, 19, 23, 22, 18])"
      ]
     },
     "metadata": {},
     "execution_count": 57
    }
   ],
   "source": [
    "grid.cv_results_.get('rank_test_score')"
   ]
  },
  {
   "cell_type": "code",
   "execution_count": 58,
   "metadata": {},
   "outputs": [
    {
     "output_type": "execute_result",
     "data": {
      "text/plain": [
       "RandomForestRegressor(criterion='mae', max_depth=5, n_estimators=50)"
      ]
     },
     "metadata": {},
     "execution_count": 58
    }
   ],
   "source": [
    "grid.best_estimator_"
   ]
  },
  {
   "cell_type": "code",
   "execution_count": 61,
   "metadata": {},
   "outputs": [
    {
     "output_type": "execute_result",
     "data": {
      "text/plain": [
       "RandomForestRegressor(criterion='mae', max_depth=5, n_estimators=50)"
      ]
     },
     "metadata": {},
     "execution_count": 61
    }
   ],
   "source": [
    "final_model = RandomForestRegressor(criterion='mae', max_depth=5, n_estimators=50)\n",
    "final_model.fit(trainx,trainy)"
   ]
  },
  {
   "cell_type": "code",
   "execution_count": 62,
   "metadata": {},
   "outputs": [
    {
     "output_type": "execute_result",
     "data": {
      "text/plain": [
       "88.37713516492529"
      ]
     },
     "metadata": {},
     "execution_count": 62
    }
   ],
   "source": [
    "final_model.score(testx,testy)*100"
   ]
  },
  {
   "cell_type": "code",
   "execution_count": null,
   "metadata": {},
   "outputs": [],
   "source": []
  }
 ]
}