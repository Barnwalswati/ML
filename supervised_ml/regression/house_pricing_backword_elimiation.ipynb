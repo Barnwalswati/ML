{
 "metadata": {
  "language_info": {
   "codemirror_mode": {
    "name": "ipython",
    "version": 3
   },
   "file_extension": ".py",
   "mimetype": "text/x-python",
   "name": "python",
   "nbconvert_exporter": "python",
   "pygments_lexer": "ipython3",
   "version": "3.8.5-final"
  },
  "orig_nbformat": 2,
  "kernelspec": {
   "name": "python3",
   "display_name": "Python 3"
  }
 },
 "nbformat": 4,
 "nbformat_minor": 2,
 "cells": [
  {
   "cell_type": "code",
   "execution_count": 2,
   "metadata": {},
   "outputs": [],
   "source": [
    "import pandas as pd \n",
    "import numpy as np \n",
    "import matplotlib.pyplot as plt \n",
    "#algo and estimators\n",
    "import statsmodels.regression.linear_model as sm\n",
    "from sklearn.model_selection import train_test_split\n",
    "from sklearn.preprocessing import OneHotEncoder"
   ]
  },
  {
   "cell_type": "code",
   "execution_count": 3,
   "metadata": {},
   "outputs": [
    {
     "output_type": "execute_result",
     "data": {
      "text/plain": [
       "                City         Type  Beds  Baths  SquareFeet      Price\n",
       "0         SACRAMENTO  Residential     2      1         836  138159.85\n",
       "1         SACRAMENTO  Residential     3      1        1167  167541.46\n",
       "2         SACRAMENTO  Residential     2      1         796  119095.12\n",
       "3         SACRAMENTO  Residential     2      1         852  130904.95\n",
       "4         SACRAMENTO  Residential     2      1         797  120266.19\n",
       "..               ...          ...   ...    ...         ...        ...\n",
       "809       SACRAMENTO  Residential     4      3        2280  308248.47\n",
       "810       SACRAMENTO  Residential     3      2        1477  212857.63\n",
       "811   CITRUS HEIGHTS  Residential     3      2        1216  181746.98\n",
       "812        ELK GROVE  Residential     4      2        1685  245385.59\n",
       "813  EL DORADO HILLS  Residential     3      2        1362  263355.13\n",
       "\n",
       "[814 rows x 6 columns]"
      ],
      "text/html": "<div>\n<style scoped>\n    .dataframe tbody tr th:only-of-type {\n        vertical-align: middle;\n    }\n\n    .dataframe tbody tr th {\n        vertical-align: top;\n    }\n\n    .dataframe thead th {\n        text-align: right;\n    }\n</style>\n<table border=\"1\" class=\"dataframe\">\n  <thead>\n    <tr style=\"text-align: right;\">\n      <th></th>\n      <th>City</th>\n      <th>Type</th>\n      <th>Beds</th>\n      <th>Baths</th>\n      <th>SquareFeet</th>\n      <th>Price</th>\n    </tr>\n  </thead>\n  <tbody>\n    <tr>\n      <th>0</th>\n      <td>SACRAMENTO</td>\n      <td>Residential</td>\n      <td>2</td>\n      <td>1</td>\n      <td>836</td>\n      <td>138159.85</td>\n    </tr>\n    <tr>\n      <th>1</th>\n      <td>SACRAMENTO</td>\n      <td>Residential</td>\n      <td>3</td>\n      <td>1</td>\n      <td>1167</td>\n      <td>167541.46</td>\n    </tr>\n    <tr>\n      <th>2</th>\n      <td>SACRAMENTO</td>\n      <td>Residential</td>\n      <td>2</td>\n      <td>1</td>\n      <td>796</td>\n      <td>119095.12</td>\n    </tr>\n    <tr>\n      <th>3</th>\n      <td>SACRAMENTO</td>\n      <td>Residential</td>\n      <td>2</td>\n      <td>1</td>\n      <td>852</td>\n      <td>130904.95</td>\n    </tr>\n    <tr>\n      <th>4</th>\n      <td>SACRAMENTO</td>\n      <td>Residential</td>\n      <td>2</td>\n      <td>1</td>\n      <td>797</td>\n      <td>120266.19</td>\n    </tr>\n    <tr>\n      <th>...</th>\n      <td>...</td>\n      <td>...</td>\n      <td>...</td>\n      <td>...</td>\n      <td>...</td>\n      <td>...</td>\n    </tr>\n    <tr>\n      <th>809</th>\n      <td>SACRAMENTO</td>\n      <td>Residential</td>\n      <td>4</td>\n      <td>3</td>\n      <td>2280</td>\n      <td>308248.47</td>\n    </tr>\n    <tr>\n      <th>810</th>\n      <td>SACRAMENTO</td>\n      <td>Residential</td>\n      <td>3</td>\n      <td>2</td>\n      <td>1477</td>\n      <td>212857.63</td>\n    </tr>\n    <tr>\n      <th>811</th>\n      <td>CITRUS HEIGHTS</td>\n      <td>Residential</td>\n      <td>3</td>\n      <td>2</td>\n      <td>1216</td>\n      <td>181746.98</td>\n    </tr>\n    <tr>\n      <th>812</th>\n      <td>ELK GROVE</td>\n      <td>Residential</td>\n      <td>4</td>\n      <td>2</td>\n      <td>1685</td>\n      <td>245385.59</td>\n    </tr>\n    <tr>\n      <th>813</th>\n      <td>EL DORADO HILLS</td>\n      <td>Residential</td>\n      <td>3</td>\n      <td>2</td>\n      <td>1362</td>\n      <td>263355.13</td>\n    </tr>\n  </tbody>\n</table>\n<p>814 rows × 6 columns</p>\n</div>"
     },
     "metadata": {},
     "execution_count": 3
    }
   ],
   "source": [
    "df = pd.read_csv('../../datasets/house_pricing.csv')\n",
    "df"
   ]
  },
  {
   "cell_type": "code",
   "execution_count": 4,
   "metadata": {},
   "outputs": [
    {
     "output_type": "execute_result",
     "data": {
      "text/plain": [
       "array(['Residential', 'Condo', 'Multi-Family'], dtype=object)"
      ]
     },
     "metadata": {},
     "execution_count": 4
    }
   ],
   "source": [
    "df['Type'].unique()"
   ]
  },
  {
   "cell_type": "code",
   "execution_count": 5,
   "metadata": {},
   "outputs": [
    {
     "output_type": "stream",
     "name": "stdout",
     "text": [
      "<class 'pandas.core.frame.DataFrame'>\nRangeIndex: 814 entries, 0 to 813\nData columns (total 6 columns):\n #   Column      Non-Null Count  Dtype  \n---  ------      --------------  -----  \n 0   City        814 non-null    object \n 1   Type        814 non-null    object \n 2   Beds        814 non-null    int64  \n 3   Baths       814 non-null    int64  \n 4   SquareFeet  814 non-null    int64  \n 5   Price       814 non-null    float64\ndtypes: float64(1), int64(3), object(2)\nmemory usage: 38.3+ KB\n"
     ]
    }
   ],
   "source": [
    "df.info()"
   ]
  },
  {
   "cell_type": "code",
   "execution_count": 6,
   "metadata": {},
   "outputs": [
    {
     "output_type": "execute_result",
     "data": {
      "text/plain": [
       "              City         Type        Beds       Baths   SquareFeet  \\\n",
       "count          814          814  814.000000  814.000000   814.000000   \n",
       "unique          36            3         NaN         NaN          NaN   \n",
       "top     SACRAMENTO  Residential         NaN         NaN          NaN   \n",
       "freq           424          759         NaN         NaN          NaN   \n",
       "mean           NaN          NaN    3.244472    1.960688  1591.146192   \n",
       "std            NaN          NaN    0.852137    0.669804   663.841930   \n",
       "min            NaN          NaN    1.000000    1.000000   484.000000   \n",
       "25%            NaN          NaN    3.000000    2.000000  1144.000000   \n",
       "50%            NaN          NaN    3.000000    2.000000  1418.500000   \n",
       "75%            NaN          NaN    4.000000    2.000000  1851.000000   \n",
       "max            NaN          NaN    8.000000    5.000000  5822.000000   \n",
       "\n",
       "                Price  \n",
       "count      814.000000  \n",
       "unique            NaN  \n",
       "top               NaN  \n",
       "freq              NaN  \n",
       "mean    239650.063882  \n",
       "std      97549.832306  \n",
       "min      11985.000000  \n",
       "25%     173096.635000  \n",
       "50%     215468.525000  \n",
       "75%     276800.187500  \n",
       "max     777421.870000  "
      ],
      "text/html": "<div>\n<style scoped>\n    .dataframe tbody tr th:only-of-type {\n        vertical-align: middle;\n    }\n\n    .dataframe tbody tr th {\n        vertical-align: top;\n    }\n\n    .dataframe thead th {\n        text-align: right;\n    }\n</style>\n<table border=\"1\" class=\"dataframe\">\n  <thead>\n    <tr style=\"text-align: right;\">\n      <th></th>\n      <th>City</th>\n      <th>Type</th>\n      <th>Beds</th>\n      <th>Baths</th>\n      <th>SquareFeet</th>\n      <th>Price</th>\n    </tr>\n  </thead>\n  <tbody>\n    <tr>\n      <th>count</th>\n      <td>814</td>\n      <td>814</td>\n      <td>814.000000</td>\n      <td>814.000000</td>\n      <td>814.000000</td>\n      <td>814.000000</td>\n    </tr>\n    <tr>\n      <th>unique</th>\n      <td>36</td>\n      <td>3</td>\n      <td>NaN</td>\n      <td>NaN</td>\n      <td>NaN</td>\n      <td>NaN</td>\n    </tr>\n    <tr>\n      <th>top</th>\n      <td>SACRAMENTO</td>\n      <td>Residential</td>\n      <td>NaN</td>\n      <td>NaN</td>\n      <td>NaN</td>\n      <td>NaN</td>\n    </tr>\n    <tr>\n      <th>freq</th>\n      <td>424</td>\n      <td>759</td>\n      <td>NaN</td>\n      <td>NaN</td>\n      <td>NaN</td>\n      <td>NaN</td>\n    </tr>\n    <tr>\n      <th>mean</th>\n      <td>NaN</td>\n      <td>NaN</td>\n      <td>3.244472</td>\n      <td>1.960688</td>\n      <td>1591.146192</td>\n      <td>239650.063882</td>\n    </tr>\n    <tr>\n      <th>std</th>\n      <td>NaN</td>\n      <td>NaN</td>\n      <td>0.852137</td>\n      <td>0.669804</td>\n      <td>663.841930</td>\n      <td>97549.832306</td>\n    </tr>\n    <tr>\n      <th>min</th>\n      <td>NaN</td>\n      <td>NaN</td>\n      <td>1.000000</td>\n      <td>1.000000</td>\n      <td>484.000000</td>\n      <td>11985.000000</td>\n    </tr>\n    <tr>\n      <th>25%</th>\n      <td>NaN</td>\n      <td>NaN</td>\n      <td>3.000000</td>\n      <td>2.000000</td>\n      <td>1144.000000</td>\n      <td>173096.635000</td>\n    </tr>\n    <tr>\n      <th>50%</th>\n      <td>NaN</td>\n      <td>NaN</td>\n      <td>3.000000</td>\n      <td>2.000000</td>\n      <td>1418.500000</td>\n      <td>215468.525000</td>\n    </tr>\n    <tr>\n      <th>75%</th>\n      <td>NaN</td>\n      <td>NaN</td>\n      <td>4.000000</td>\n      <td>2.000000</td>\n      <td>1851.000000</td>\n      <td>276800.187500</td>\n    </tr>\n    <tr>\n      <th>max</th>\n      <td>NaN</td>\n      <td>NaN</td>\n      <td>8.000000</td>\n      <td>5.000000</td>\n      <td>5822.000000</td>\n      <td>777421.870000</td>\n    </tr>\n  </tbody>\n</table>\n</div>"
     },
     "metadata": {},
     "execution_count": 6
    }
   ],
   "source": [
    "df.describe(include='all')"
   ]
  },
  {
   "cell_type": "code",
   "execution_count": 7,
   "metadata": {},
   "outputs": [
    {
     "output_type": "execute_result",
     "data": {
      "text/plain": [
       "City          0\n",
       "Type          0\n",
       "Beds          0\n",
       "Baths         0\n",
       "SquareFeet    0\n",
       "Price         0\n",
       "dtype: int64"
      ]
     },
     "metadata": {},
     "execution_count": 7
    }
   ],
   "source": [
    "df.isnull().sum()"
   ]
  },
  {
   "cell_type": "code",
   "execution_count": 8,
   "metadata": {},
   "outputs": [],
   "source": [
    "city_hot_encoder = OneHotEncoder(drop='first')\n",
    "city_dummies = city_hot_encoder.fit_transform(df[['City']]).toarray()"
   ]
  },
  {
   "cell_type": "code",
   "execution_count": 9,
   "metadata": {},
   "outputs": [],
   "source": [
    "type_hot_encoder = OneHotEncoder(drop='first')\n",
    "type_dummies = type_hot_encoder.fit_transform(df[['Type']]).toarray()\n"
   ]
  },
  {
   "cell_type": "code",
   "execution_count": 10,
   "metadata": {},
   "outputs": [
    {
     "output_type": "execute_result",
     "data": {
      "text/plain": [
       "array([[0., 1.],\n",
       "       [0., 1.],\n",
       "       [0., 1.],\n",
       "       ...,\n",
       "       [0., 1.],\n",
       "       [0., 1.],\n",
       "       [0., 1.]])"
      ]
     },
     "metadata": {},
     "execution_count": 10
    }
   ],
   "source": [
    "type_dummies"
   ]
  },
  {
   "cell_type": "code",
   "execution_count": 11,
   "metadata": {},
   "outputs": [],
   "source": [
    "x=df.drop(labels=['City','Type','Price'],axis=1)"
   ]
  },
  {
   "cell_type": "code",
   "execution_count": 12,
   "metadata": {},
   "outputs": [
    {
     "output_type": "execute_result",
     "data": {
      "text/plain": [
       "     Beds  Baths  SquareFeet\n",
       "0       2      1         836\n",
       "1       3      1        1167\n",
       "2       2      1         796\n",
       "3       2      1         852\n",
       "4       2      1         797\n",
       "..    ...    ...         ...\n",
       "809     4      3        2280\n",
       "810     3      2        1477\n",
       "811     3      2        1216\n",
       "812     4      2        1685\n",
       "813     3      2        1362\n",
       "\n",
       "[814 rows x 3 columns]"
      ],
      "text/html": "<div>\n<style scoped>\n    .dataframe tbody tr th:only-of-type {\n        vertical-align: middle;\n    }\n\n    .dataframe tbody tr th {\n        vertical-align: top;\n    }\n\n    .dataframe thead th {\n        text-align: right;\n    }\n</style>\n<table border=\"1\" class=\"dataframe\">\n  <thead>\n    <tr style=\"text-align: right;\">\n      <th></th>\n      <th>Beds</th>\n      <th>Baths</th>\n      <th>SquareFeet</th>\n    </tr>\n  </thead>\n  <tbody>\n    <tr>\n      <th>0</th>\n      <td>2</td>\n      <td>1</td>\n      <td>836</td>\n    </tr>\n    <tr>\n      <th>1</th>\n      <td>3</td>\n      <td>1</td>\n      <td>1167</td>\n    </tr>\n    <tr>\n      <th>2</th>\n      <td>2</td>\n      <td>1</td>\n      <td>796</td>\n    </tr>\n    <tr>\n      <th>3</th>\n      <td>2</td>\n      <td>1</td>\n      <td>852</td>\n    </tr>\n    <tr>\n      <th>4</th>\n      <td>2</td>\n      <td>1</td>\n      <td>797</td>\n    </tr>\n    <tr>\n      <th>...</th>\n      <td>...</td>\n      <td>...</td>\n      <td>...</td>\n    </tr>\n    <tr>\n      <th>809</th>\n      <td>4</td>\n      <td>3</td>\n      <td>2280</td>\n    </tr>\n    <tr>\n      <th>810</th>\n      <td>3</td>\n      <td>2</td>\n      <td>1477</td>\n    </tr>\n    <tr>\n      <th>811</th>\n      <td>3</td>\n      <td>2</td>\n      <td>1216</td>\n    </tr>\n    <tr>\n      <th>812</th>\n      <td>4</td>\n      <td>2</td>\n      <td>1685</td>\n    </tr>\n    <tr>\n      <th>813</th>\n      <td>3</td>\n      <td>2</td>\n      <td>1362</td>\n    </tr>\n  </tbody>\n</table>\n<p>814 rows × 3 columns</p>\n</div>"
     },
     "metadata": {},
     "execution_count": 12
    }
   ],
   "source": [
    "x"
   ]
  },
  {
   "cell_type": "code",
   "execution_count": 13,
   "metadata": {},
   "outputs": [],
   "source": [
    "x = np.concatenate((x,city_dummies,type_dummies),axis=1)"
   ]
  },
  {
   "cell_type": "code",
   "execution_count": 14,
   "metadata": {},
   "outputs": [
    {
     "output_type": "execute_result",
     "data": {
      "text/plain": [
       "array([[2.000e+00, 1.000e+00, 8.360e+02, ..., 0.000e+00, 0.000e+00,\n",
       "        1.000e+00],\n",
       "       [3.000e+00, 1.000e+00, 1.167e+03, ..., 0.000e+00, 0.000e+00,\n",
       "        1.000e+00],\n",
       "       [2.000e+00, 1.000e+00, 7.960e+02, ..., 0.000e+00, 0.000e+00,\n",
       "        1.000e+00],\n",
       "       ...,\n",
       "       [3.000e+00, 2.000e+00, 1.216e+03, ..., 0.000e+00, 0.000e+00,\n",
       "        1.000e+00],\n",
       "       [4.000e+00, 2.000e+00, 1.685e+03, ..., 0.000e+00, 0.000e+00,\n",
       "        1.000e+00],\n",
       "       [3.000e+00, 2.000e+00, 1.362e+03, ..., 0.000e+00, 0.000e+00,\n",
       "        1.000e+00]])"
      ]
     },
     "metadata": {},
     "execution_count": 14
    }
   ],
   "source": [
    "x"
   ]
  },
  {
   "cell_type": "code",
   "execution_count": 15,
   "metadata": {},
   "outputs": [
    {
     "output_type": "execute_result",
     "data": {
      "text/plain": [
       "(814, 40)"
      ]
     },
     "metadata": {},
     "execution_count": 15
    }
   ],
   "source": [
    "x.shape"
   ]
  },
  {
   "cell_type": "code",
   "execution_count": 16,
   "metadata": {},
   "outputs": [],
   "source": [
    "x = np.append(arr= np.ones((814,1)),values=x, axis=1)"
   ]
  },
  {
   "cell_type": "code",
   "execution_count": 17,
   "metadata": {},
   "outputs": [
    {
     "output_type": "execute_result",
     "data": {
      "text/plain": [
       "(814, 41)"
      ]
     },
     "metadata": {},
     "execution_count": 17
    }
   ],
   "source": [
    "x.shape"
   ]
  },
  {
   "cell_type": "code",
   "execution_count": 26,
   "metadata": {},
   "outputs": [],
   "source": [
    "z=[0,1,2,3,4,5,6,7,8,9,10,11,12,13,14,15,16,17,18,19,20,21,22,23,24,25,26,27,28,29,30,31,32,33,34,35,36,37,38,39,40]"
   ]
  },
  {
   "cell_type": "code",
   "execution_count": 20,
   "metadata": {},
   "outputs": [],
   "source": [
    "y = df['Price']"
   ]
  },
  {
   "cell_type": "code",
   "execution_count": 33,
   "metadata": {},
   "outputs": [
    {
     "output_type": "execute_result",
     "data": {
      "text/plain": [
       "x7        8.708546e-01\n",
       "x39       7.416511e-01\n",
       "x2        5.835679e-01\n",
       "x40       5.031748e-01\n",
       "x1        4.832279e-01\n",
       "x37       3.433099e-01\n",
       "x30       3.529841e-02\n",
       "x16       1.767606e-04\n",
       "x19       7.451397e-06\n",
       "x34       5.521834e-08\n",
       "x12       3.125051e-08\n",
       "x29       7.524212e-10\n",
       "x31       1.056362e-10\n",
       "x22       7.772197e-11\n",
       "x9        5.739192e-11\n",
       "x23       1.627793e-15\n",
       "x13       2.166460e-38\n",
       "x10       4.145229e-45\n",
       "x28       1.525090e-46\n",
       "x11       1.095138e-48\n",
       "x8        5.292729e-53\n",
       "x20       5.963424e-57\n",
       "x24       4.931955e-60\n",
       "x5        3.316764e-86\n",
       "x36       7.339948e-92\n",
       "const    6.848823e-111\n",
       "x17      5.120040e-111\n",
       "x25      9.266697e-117\n",
       "x4       1.329949e-152\n",
       "x14      3.508517e-160\n",
       "x32      5.585473e-169\n",
       "x33      1.395363e-172\n",
       "x6       2.569466e-243\n",
       "x26      6.442626e-276\n",
       "x38      5.108364e-284\n",
       "x27      1.089840e-302\n",
       "x15      4.940656e-323\n",
       "x35       0.000000e+00\n",
       "x3        0.000000e+00\n",
       "x21       0.000000e+00\n",
       "x18       0.000000e+00\n",
       "dtype: float64"
      ]
     },
     "metadata": {},
     "execution_count": 33
    }
   ],
   "source": [
    "x_opt = x[:,list(range(0,41))]\n",
    "regressor = sm.OLS(endog=y,exog=x_opt).fit()\n",
    "regressor.pvalues.sort_values(ascending=False)"
   ]
  },
  {
   "cell_type": "code",
   "execution_count": 29,
   "metadata": {},
   "outputs": [
    {
     "output_type": "execute_result",
     "data": {
      "text/plain": [
       "<class 'statsmodels.iolib.summary.Summary'>\n",
       "\"\"\"\n",
       "                            OLS Regression Results                            \n",
       "==============================================================================\n",
       "Dep. Variable:                  Price   R-squared:                       0.997\n",
       "Model:                            OLS   Adj. R-squared:                  0.997\n",
       "Method:                 Least Squares   F-statistic:                     5868.\n",
       "Date:                Thu, 05 Nov 2020   Prob (F-statistic):               0.00\n",
       "Time:                        14:26:06   Log-Likelihood:                -8178.2\n",
       "No. Observations:                 814   AIC:                         1.644e+04\n",
       "Df Residuals:                     773   BIC:                         1.663e+04\n",
       "Df Model:                          40                                         \n",
       "Covariance Type:            nonrobust                                         \n",
       "==============================================================================\n",
       "                 coef    std err          t      P>|t|      [0.025      0.975]\n",
       "------------------------------------------------------------------------------\n",
       "const       3.941e+04   1484.394     26.549      0.000    3.65e+04    4.23e+04\n",
       "x1          -269.6811    384.457     -0.701      0.483   -1024.386     485.023\n",
       "x2           264.4535    482.217      0.548      0.584    -682.158    1211.065\n",
       "x3           119.4924      0.570    209.702      0.000     118.374     120.611\n",
       "x4          1.178e+05   3518.907     33.485      0.000    1.11e+05    1.25e+05\n",
       "x5          1.307e+05   5826.195     22.429      0.000    1.19e+05    1.42e+05\n",
       "x6          8.123e+04   1631.899     49.778      0.000     7.8e+04    8.44e+04\n",
       "x7          -228.1393   1402.838     -0.163      0.871   -2981.963    2525.684\n",
       "x8          9.643e+04   5819.211     16.571      0.000     8.5e+04    1.08e+05\n",
       "x9          3.867e+04   5820.385      6.645      0.000    2.72e+04    5.01e+04\n",
       "x10           6.3e+04   4184.441     15.055      0.000    5.48e+04    7.12e+04\n",
       "x11         5.451e+04   3460.687     15.751      0.000    4.77e+04    6.13e+04\n",
       "x12         6409.7226   1146.355      5.591      0.000    4159.386    8660.060\n",
       "x13        -4.167e+04   3042.344    -13.697      0.000   -4.76e+04   -3.57e+04\n",
       "x14         7.507e+04   2159.436     34.766      0.000    7.08e+04    7.93e+04\n",
       "x15         1.198e+05   1795.384     66.732      0.000    1.16e+05    1.23e+05\n",
       "x16         6131.0609   1626.943      3.768      0.000    2937.310    9324.812\n",
       "x17         9.244e+04   3479.104     26.570      0.000    8.56e+04    9.93e+04\n",
       "x18         2.939e+05   3486.741     84.288      0.000    2.87e+05    3.01e+05\n",
       "x19         2.647e+04   5868.528      4.511      0.000     1.5e+04     3.8e+04\n",
       "x20         4.404e+04   2544.961     17.304      0.000     3.9e+04     4.9e+04\n",
       "x21         3.678e+05   4204.803     87.476      0.000     3.6e+05    3.76e+05\n",
       "x22        -3.845e+04   5828.520     -6.597      0.000   -4.99e+04    -2.7e+04\n",
       "x23         4.748e+04   5835.908      8.136      0.000     3.6e+04    5.89e+04\n",
       "x24        -2.895e+04   1620.498    -17.868      0.000   -3.21e+04   -2.58e+04\n",
       "x25         5.498e+04   1997.773     27.520      0.000    5.11e+04    5.89e+04\n",
       "x26         3.279e+05   5820.159     56.342      0.000    3.16e+05    3.39e+05\n",
       "x27         1.709e+05   2751.680     62.103      0.000    1.65e+05    1.76e+05\n",
       "x28         5.312e+04   3463.568     15.336      0.000    4.63e+04    5.99e+04\n",
       "x29        -9988.3488   1602.524     -6.233      0.000   -1.31e+04   -6842.534\n",
       "x30         8878.2944   4210.473      2.109      0.035     612.978    1.71e+04\n",
       "x31         1.273e+04   1943.428      6.549      0.000    8912.381    1.65e+04\n",
       "x32         8.202e+04   2261.745     36.266      0.000    7.76e+04    8.65e+04\n",
       "x33         5.457e+04   1479.538     36.885      0.000    5.17e+04    5.75e+04\n",
       "x34        -5742.4652   1046.418     -5.488      0.000   -7796.624   -3688.307\n",
       "x35        -7.227e+05   6207.380   -116.425      0.000   -7.35e+05   -7.11e+05\n",
       "x36         1.367e+05   5846.244     23.382      0.000    1.25e+05    1.48e+05\n",
       "x37         5533.3730   5835.490      0.948      0.343   -5921.914     1.7e+04\n",
       "x38         1.826e+05   3145.720     58.048      0.000    1.76e+05    1.89e+05\n",
       "x39         -656.7489   1991.440     -0.330      0.742   -4566.020    3252.523\n",
       "x40         -664.3285    991.807     -0.670      0.503   -2611.282    1282.625\n",
       "==============================================================================\n",
       "Omnibus:                      361.101   Durbin-Watson:                   2.052\n",
       "Prob(Omnibus):                  0.000   Jarque-Bera (JB):               43.550\n",
       "Skew:                          -0.013   Prob(JB):                     3.49e-10\n",
       "Kurtosis:                       1.867   Cond. No.                     6.44e+04\n",
       "==============================================================================\n",
       "\n",
       "Notes:\n",
       "[1] Standard Errors assume that the covariance matrix of the errors is correctly specified.\n",
       "[2] The condition number is large, 6.44e+04. This might indicate that there are\n",
       "strong multicollinearity or other numerical problems.\n",
       "\"\"\""
      ],
      "text/html": "<table class=\"simpletable\">\n<caption>OLS Regression Results</caption>\n<tr>\n  <th>Dep. Variable:</th>          <td>Price</td>      <th>  R-squared:         </th> <td>   0.997</td> \n</tr>\n<tr>\n  <th>Model:</th>                   <td>OLS</td>       <th>  Adj. R-squared:    </th> <td>   0.997</td> \n</tr>\n<tr>\n  <th>Method:</th>             <td>Least Squares</td>  <th>  F-statistic:       </th> <td>   5868.</td> \n</tr>\n<tr>\n  <th>Date:</th>             <td>Thu, 05 Nov 2020</td> <th>  Prob (F-statistic):</th>  <td>  0.00</td>  \n</tr>\n<tr>\n  <th>Time:</th>                 <td>14:26:06</td>     <th>  Log-Likelihood:    </th> <td> -8178.2</td> \n</tr>\n<tr>\n  <th>No. Observations:</th>      <td>   814</td>      <th>  AIC:               </th> <td>1.644e+04</td>\n</tr>\n<tr>\n  <th>Df Residuals:</th>          <td>   773</td>      <th>  BIC:               </th> <td>1.663e+04</td>\n</tr>\n<tr>\n  <th>Df Model:</th>              <td>    40</td>      <th>                     </th>     <td> </td>    \n</tr>\n<tr>\n  <th>Covariance Type:</th>      <td>nonrobust</td>    <th>                     </th>     <td> </td>    \n</tr>\n</table>\n<table class=\"simpletable\">\n<tr>\n    <td></td>       <th>coef</th>     <th>std err</th>      <th>t</th>      <th>P>|t|</th>  <th>[0.025</th>    <th>0.975]</th>  \n</tr>\n<tr>\n  <th>const</th> <td> 3.941e+04</td> <td> 1484.394</td> <td>   26.549</td> <td> 0.000</td> <td> 3.65e+04</td> <td> 4.23e+04</td>\n</tr>\n<tr>\n  <th>x1</th>    <td> -269.6811</td> <td>  384.457</td> <td>   -0.701</td> <td> 0.483</td> <td>-1024.386</td> <td>  485.023</td>\n</tr>\n<tr>\n  <th>x2</th>    <td>  264.4535</td> <td>  482.217</td> <td>    0.548</td> <td> 0.584</td> <td> -682.158</td> <td> 1211.065</td>\n</tr>\n<tr>\n  <th>x3</th>    <td>  119.4924</td> <td>    0.570</td> <td>  209.702</td> <td> 0.000</td> <td>  118.374</td> <td>  120.611</td>\n</tr>\n<tr>\n  <th>x4</th>    <td> 1.178e+05</td> <td> 3518.907</td> <td>   33.485</td> <td> 0.000</td> <td> 1.11e+05</td> <td> 1.25e+05</td>\n</tr>\n<tr>\n  <th>x5</th>    <td> 1.307e+05</td> <td> 5826.195</td> <td>   22.429</td> <td> 0.000</td> <td> 1.19e+05</td> <td> 1.42e+05</td>\n</tr>\n<tr>\n  <th>x6</th>    <td> 8.123e+04</td> <td> 1631.899</td> <td>   49.778</td> <td> 0.000</td> <td>  7.8e+04</td> <td> 8.44e+04</td>\n</tr>\n<tr>\n  <th>x7</th>    <td> -228.1393</td> <td> 1402.838</td> <td>   -0.163</td> <td> 0.871</td> <td>-2981.963</td> <td> 2525.684</td>\n</tr>\n<tr>\n  <th>x8</th>    <td> 9.643e+04</td> <td> 5819.211</td> <td>   16.571</td> <td> 0.000</td> <td>  8.5e+04</td> <td> 1.08e+05</td>\n</tr>\n<tr>\n  <th>x9</th>    <td> 3.867e+04</td> <td> 5820.385</td> <td>    6.645</td> <td> 0.000</td> <td> 2.72e+04</td> <td> 5.01e+04</td>\n</tr>\n<tr>\n  <th>x10</th>   <td>   6.3e+04</td> <td> 4184.441</td> <td>   15.055</td> <td> 0.000</td> <td> 5.48e+04</td> <td> 7.12e+04</td>\n</tr>\n<tr>\n  <th>x11</th>   <td> 5.451e+04</td> <td> 3460.687</td> <td>   15.751</td> <td> 0.000</td> <td> 4.77e+04</td> <td> 6.13e+04</td>\n</tr>\n<tr>\n  <th>x12</th>   <td> 6409.7226</td> <td> 1146.355</td> <td>    5.591</td> <td> 0.000</td> <td> 4159.386</td> <td> 8660.060</td>\n</tr>\n<tr>\n  <th>x13</th>   <td>-4.167e+04</td> <td> 3042.344</td> <td>  -13.697</td> <td> 0.000</td> <td>-4.76e+04</td> <td>-3.57e+04</td>\n</tr>\n<tr>\n  <th>x14</th>   <td> 7.507e+04</td> <td> 2159.436</td> <td>   34.766</td> <td> 0.000</td> <td> 7.08e+04</td> <td> 7.93e+04</td>\n</tr>\n<tr>\n  <th>x15</th>   <td> 1.198e+05</td> <td> 1795.384</td> <td>   66.732</td> <td> 0.000</td> <td> 1.16e+05</td> <td> 1.23e+05</td>\n</tr>\n<tr>\n  <th>x16</th>   <td> 6131.0609</td> <td> 1626.943</td> <td>    3.768</td> <td> 0.000</td> <td> 2937.310</td> <td> 9324.812</td>\n</tr>\n<tr>\n  <th>x17</th>   <td> 9.244e+04</td> <td> 3479.104</td> <td>   26.570</td> <td> 0.000</td> <td> 8.56e+04</td> <td> 9.93e+04</td>\n</tr>\n<tr>\n  <th>x18</th>   <td> 2.939e+05</td> <td> 3486.741</td> <td>   84.288</td> <td> 0.000</td> <td> 2.87e+05</td> <td> 3.01e+05</td>\n</tr>\n<tr>\n  <th>x19</th>   <td> 2.647e+04</td> <td> 5868.528</td> <td>    4.511</td> <td> 0.000</td> <td>  1.5e+04</td> <td>  3.8e+04</td>\n</tr>\n<tr>\n  <th>x20</th>   <td> 4.404e+04</td> <td> 2544.961</td> <td>   17.304</td> <td> 0.000</td> <td>  3.9e+04</td> <td>  4.9e+04</td>\n</tr>\n<tr>\n  <th>x21</th>   <td> 3.678e+05</td> <td> 4204.803</td> <td>   87.476</td> <td> 0.000</td> <td>  3.6e+05</td> <td> 3.76e+05</td>\n</tr>\n<tr>\n  <th>x22</th>   <td>-3.845e+04</td> <td> 5828.520</td> <td>   -6.597</td> <td> 0.000</td> <td>-4.99e+04</td> <td> -2.7e+04</td>\n</tr>\n<tr>\n  <th>x23</th>   <td> 4.748e+04</td> <td> 5835.908</td> <td>    8.136</td> <td> 0.000</td> <td>  3.6e+04</td> <td> 5.89e+04</td>\n</tr>\n<tr>\n  <th>x24</th>   <td>-2.895e+04</td> <td> 1620.498</td> <td>  -17.868</td> <td> 0.000</td> <td>-3.21e+04</td> <td>-2.58e+04</td>\n</tr>\n<tr>\n  <th>x25</th>   <td> 5.498e+04</td> <td> 1997.773</td> <td>   27.520</td> <td> 0.000</td> <td> 5.11e+04</td> <td> 5.89e+04</td>\n</tr>\n<tr>\n  <th>x26</th>   <td> 3.279e+05</td> <td> 5820.159</td> <td>   56.342</td> <td> 0.000</td> <td> 3.16e+05</td> <td> 3.39e+05</td>\n</tr>\n<tr>\n  <th>x27</th>   <td> 1.709e+05</td> <td> 2751.680</td> <td>   62.103</td> <td> 0.000</td> <td> 1.65e+05</td> <td> 1.76e+05</td>\n</tr>\n<tr>\n  <th>x28</th>   <td> 5.312e+04</td> <td> 3463.568</td> <td>   15.336</td> <td> 0.000</td> <td> 4.63e+04</td> <td> 5.99e+04</td>\n</tr>\n<tr>\n  <th>x29</th>   <td>-9988.3488</td> <td> 1602.524</td> <td>   -6.233</td> <td> 0.000</td> <td>-1.31e+04</td> <td>-6842.534</td>\n</tr>\n<tr>\n  <th>x30</th>   <td> 8878.2944</td> <td> 4210.473</td> <td>    2.109</td> <td> 0.035</td> <td>  612.978</td> <td> 1.71e+04</td>\n</tr>\n<tr>\n  <th>x31</th>   <td> 1.273e+04</td> <td> 1943.428</td> <td>    6.549</td> <td> 0.000</td> <td> 8912.381</td> <td> 1.65e+04</td>\n</tr>\n<tr>\n  <th>x32</th>   <td> 8.202e+04</td> <td> 2261.745</td> <td>   36.266</td> <td> 0.000</td> <td> 7.76e+04</td> <td> 8.65e+04</td>\n</tr>\n<tr>\n  <th>x33</th>   <td> 5.457e+04</td> <td> 1479.538</td> <td>   36.885</td> <td> 0.000</td> <td> 5.17e+04</td> <td> 5.75e+04</td>\n</tr>\n<tr>\n  <th>x34</th>   <td>-5742.4652</td> <td> 1046.418</td> <td>   -5.488</td> <td> 0.000</td> <td>-7796.624</td> <td>-3688.307</td>\n</tr>\n<tr>\n  <th>x35</th>   <td>-7.227e+05</td> <td> 6207.380</td> <td> -116.425</td> <td> 0.000</td> <td>-7.35e+05</td> <td>-7.11e+05</td>\n</tr>\n<tr>\n  <th>x36</th>   <td> 1.367e+05</td> <td> 5846.244</td> <td>   23.382</td> <td> 0.000</td> <td> 1.25e+05</td> <td> 1.48e+05</td>\n</tr>\n<tr>\n  <th>x37</th>   <td> 5533.3730</td> <td> 5835.490</td> <td>    0.948</td> <td> 0.343</td> <td>-5921.914</td> <td>  1.7e+04</td>\n</tr>\n<tr>\n  <th>x38</th>   <td> 1.826e+05</td> <td> 3145.720</td> <td>   58.048</td> <td> 0.000</td> <td> 1.76e+05</td> <td> 1.89e+05</td>\n</tr>\n<tr>\n  <th>x39</th>   <td> -656.7489</td> <td> 1991.440</td> <td>   -0.330</td> <td> 0.742</td> <td>-4566.020</td> <td> 3252.523</td>\n</tr>\n<tr>\n  <th>x40</th>   <td> -664.3285</td> <td>  991.807</td> <td>   -0.670</td> <td> 0.503</td> <td>-2611.282</td> <td> 1282.625</td>\n</tr>\n</table>\n<table class=\"simpletable\">\n<tr>\n  <th>Omnibus:</th>       <td>361.101</td> <th>  Durbin-Watson:     </th> <td>   2.052</td>\n</tr>\n<tr>\n  <th>Prob(Omnibus):</th> <td> 0.000</td>  <th>  Jarque-Bera (JB):  </th> <td>  43.550</td>\n</tr>\n<tr>\n  <th>Skew:</th>          <td>-0.013</td>  <th>  Prob(JB):          </th> <td>3.49e-10</td>\n</tr>\n<tr>\n  <th>Kurtosis:</th>      <td> 1.867</td>  <th>  Cond. No.          </th> <td>6.44e+04</td>\n</tr>\n</table><br/><br/>Notes:<br/>[1] Standard Errors assume that the covariance matrix of the errors is correctly specified.<br/>[2] The condition number is large, 6.44e+04. This might indicate that there are<br/>strong multicollinearity or other numerical problems."
     },
     "metadata": {},
     "execution_count": 29
    }
   ],
   "source": [
    "x_opt = x[:,z]\n",
    "regressor = sm.OLS(endog=y,exog=x_opt).fit()\n",
    "regressor.summary()"
   ]
  },
  {
   "cell_type": "code",
   "execution_count": 34,
   "metadata": {},
   "outputs": [
    {
     "output_type": "execute_result",
     "data": {
      "text/plain": [
       "<class 'statsmodels.iolib.summary.Summary'>\n",
       "\"\"\"\n",
       "                            OLS Regression Results                            \n",
       "==============================================================================\n",
       "Dep. Variable:                  Price   R-squared:                       0.997\n",
       "Model:                            OLS   Adj. R-squared:                  0.997\n",
       "Method:                 Least Squares   F-statistic:                     6026.\n",
       "Date:                Thu, 05 Nov 2020   Prob (F-statistic):               0.00\n",
       "Time:                        15:42:25   Log-Likelihood:                -8178.2\n",
       "No. Observations:                 814   AIC:                         1.644e+04\n",
       "Df Residuals:                     774   BIC:                         1.662e+04\n",
       "Df Model:                          39                                         \n",
       "Covariance Type:            nonrobust                                         \n",
       "==============================================================================\n",
       "                 coef    std err          t      P>|t|      [0.025      0.975]\n",
       "------------------------------------------------------------------------------\n",
       "const       3.929e+04   1278.771     30.723      0.000    3.68e+04    4.18e+04\n",
       "x1          -273.8960    383.342     -0.714      0.475   -1026.408     478.616\n",
       "x2           266.1074    481.807      0.552      0.581    -679.696    1211.911\n",
       "x3           119.5013      0.567    210.819      0.000     118.389     120.614\n",
       "x4          1.179e+05   3440.546     34.282      0.000    1.11e+05    1.25e+05\n",
       "x5          1.308e+05   5782.070     22.620      0.000    1.19e+05    1.42e+05\n",
       "x6          8.135e+04   1465.587     55.506      0.000    7.85e+04    8.42e+04\n",
       "x7          9.655e+04   5771.343     16.728      0.000    8.52e+04    1.08e+05\n",
       "x8          3.879e+04   5771.456      6.721      0.000    2.75e+04    5.01e+04\n",
       "x9          6.311e+04   4120.291     15.318      0.000     5.5e+04    7.12e+04\n",
       "x10         5.463e+04   3383.831     16.143      0.000     4.8e+04    6.13e+04\n",
       "x11         6523.6937    906.618      7.196      0.000    4743.973    8303.415\n",
       "x12        -4.155e+04   2950.519    -14.083      0.000   -4.73e+04   -3.58e+04\n",
       "x13         7.519e+04   2039.255     36.871      0.000    7.12e+04    7.92e+04\n",
       "x14         1.199e+05   1656.416     72.398      0.000    1.17e+05    1.23e+05\n",
       "x15         6247.8544   1458.937      4.282      0.000    3383.911    9111.798\n",
       "x16         9.255e+04   3410.505     27.137      0.000    8.59e+04    9.92e+04\n",
       "x17          2.94e+05   3420.315     85.957      0.000    2.87e+05    3.01e+05\n",
       "x18         2.658e+04   5829.818      4.559      0.000    1.51e+04     3.8e+04\n",
       "x19         4.415e+04   2442.199     18.080      0.000    3.94e+04    4.89e+04\n",
       "x20         3.679e+05   4138.193     88.912      0.000     3.6e+05    3.76e+05\n",
       "x21        -3.834e+04   5784.906     -6.628      0.000   -4.97e+04    -2.7e+04\n",
       "x22          4.76e+04   5785.227      8.228      0.000    3.62e+04     5.9e+04\n",
       "x23        -2.883e+04   1441.542    -20.002      0.000   -3.17e+04    -2.6e+04\n",
       "x24          5.51e+04   1864.195     29.555      0.000    5.14e+04    5.88e+04\n",
       "x25          3.28e+05   5771.366     56.839      0.000    3.17e+05    3.39e+05\n",
       "x26          1.71e+05   2657.960     64.336      0.000    1.66e+05    1.76e+05\n",
       "x27         5.323e+04   3386.210     15.721      0.000    4.66e+04    5.99e+04\n",
       "x28        -9872.7212   1435.259     -6.879      0.000   -1.27e+04   -7055.259\n",
       "x29         8984.7823   4156.628      2.162      0.031     825.181    1.71e+04\n",
       "x30         1.285e+04   1799.733      7.138      0.000    9313.285    1.64e+04\n",
       "x31         8.214e+04   2148.619     38.228      0.000    7.79e+04    8.64e+04\n",
       "x32         5.469e+04   1299.643     42.078      0.000    5.21e+04    5.72e+04\n",
       "x33        -5624.6359    754.533     -7.454      0.000   -7105.809   -4143.463\n",
       "x34        -7.226e+05   6186.595   -116.804      0.000   -7.35e+05    -7.1e+05\n",
       "x35         1.368e+05   5799.126     23.592      0.000    1.25e+05    1.48e+05\n",
       "x36         5652.3632   5785.796      0.977      0.329   -5705.349     1.7e+04\n",
       "x37         1.827e+05   3079.755     59.325      0.000    1.77e+05    1.89e+05\n",
       "x38         -665.0307   1989.536     -0.334      0.738   -4570.557    3240.496\n",
       "x39         -662.0271    991.082     -0.668      0.504   -2607.554    1283.500\n",
       "==============================================================================\n",
       "Omnibus:                      367.801   Durbin-Watson:                   2.052\n",
       "Prob(Omnibus):                  0.000   Jarque-Bera (JB):               43.771\n",
       "Skew:                          -0.012   Prob(JB):                     3.13e-10\n",
       "Kurtosis:                       1.864   Cond. No.                     5.71e+04\n",
       "==============================================================================\n",
       "\n",
       "Notes:\n",
       "[1] Standard Errors assume that the covariance matrix of the errors is correctly specified.\n",
       "[2] The condition number is large, 5.71e+04. This might indicate that there are\n",
       "strong multicollinearity or other numerical problems.\n",
       "\"\"\""
      ],
      "text/html": "<table class=\"simpletable\">\n<caption>OLS Regression Results</caption>\n<tr>\n  <th>Dep. Variable:</th>          <td>Price</td>      <th>  R-squared:         </th> <td>   0.997</td> \n</tr>\n<tr>\n  <th>Model:</th>                   <td>OLS</td>       <th>  Adj. R-squared:    </th> <td>   0.997</td> \n</tr>\n<tr>\n  <th>Method:</th>             <td>Least Squares</td>  <th>  F-statistic:       </th> <td>   6026.</td> \n</tr>\n<tr>\n  <th>Date:</th>             <td>Thu, 05 Nov 2020</td> <th>  Prob (F-statistic):</th>  <td>  0.00</td>  \n</tr>\n<tr>\n  <th>Time:</th>                 <td>15:42:25</td>     <th>  Log-Likelihood:    </th> <td> -8178.2</td> \n</tr>\n<tr>\n  <th>No. Observations:</th>      <td>   814</td>      <th>  AIC:               </th> <td>1.644e+04</td>\n</tr>\n<tr>\n  <th>Df Residuals:</th>          <td>   774</td>      <th>  BIC:               </th> <td>1.662e+04</td>\n</tr>\n<tr>\n  <th>Df Model:</th>              <td>    39</td>      <th>                     </th>     <td> </td>    \n</tr>\n<tr>\n  <th>Covariance Type:</th>      <td>nonrobust</td>    <th>                     </th>     <td> </td>    \n</tr>\n</table>\n<table class=\"simpletable\">\n<tr>\n    <td></td>       <th>coef</th>     <th>std err</th>      <th>t</th>      <th>P>|t|</th>  <th>[0.025</th>    <th>0.975]</th>  \n</tr>\n<tr>\n  <th>const</th> <td> 3.929e+04</td> <td> 1278.771</td> <td>   30.723</td> <td> 0.000</td> <td> 3.68e+04</td> <td> 4.18e+04</td>\n</tr>\n<tr>\n  <th>x1</th>    <td> -273.8960</td> <td>  383.342</td> <td>   -0.714</td> <td> 0.475</td> <td>-1026.408</td> <td>  478.616</td>\n</tr>\n<tr>\n  <th>x2</th>    <td>  266.1074</td> <td>  481.807</td> <td>    0.552</td> <td> 0.581</td> <td> -679.696</td> <td> 1211.911</td>\n</tr>\n<tr>\n  <th>x3</th>    <td>  119.5013</td> <td>    0.567</td> <td>  210.819</td> <td> 0.000</td> <td>  118.389</td> <td>  120.614</td>\n</tr>\n<tr>\n  <th>x4</th>    <td> 1.179e+05</td> <td> 3440.546</td> <td>   34.282</td> <td> 0.000</td> <td> 1.11e+05</td> <td> 1.25e+05</td>\n</tr>\n<tr>\n  <th>x5</th>    <td> 1.308e+05</td> <td> 5782.070</td> <td>   22.620</td> <td> 0.000</td> <td> 1.19e+05</td> <td> 1.42e+05</td>\n</tr>\n<tr>\n  <th>x6</th>    <td> 8.135e+04</td> <td> 1465.587</td> <td>   55.506</td> <td> 0.000</td> <td> 7.85e+04</td> <td> 8.42e+04</td>\n</tr>\n<tr>\n  <th>x7</th>    <td> 9.655e+04</td> <td> 5771.343</td> <td>   16.728</td> <td> 0.000</td> <td> 8.52e+04</td> <td> 1.08e+05</td>\n</tr>\n<tr>\n  <th>x8</th>    <td> 3.879e+04</td> <td> 5771.456</td> <td>    6.721</td> <td> 0.000</td> <td> 2.75e+04</td> <td> 5.01e+04</td>\n</tr>\n<tr>\n  <th>x9</th>    <td> 6.311e+04</td> <td> 4120.291</td> <td>   15.318</td> <td> 0.000</td> <td>  5.5e+04</td> <td> 7.12e+04</td>\n</tr>\n<tr>\n  <th>x10</th>   <td> 5.463e+04</td> <td> 3383.831</td> <td>   16.143</td> <td> 0.000</td> <td>  4.8e+04</td> <td> 6.13e+04</td>\n</tr>\n<tr>\n  <th>x11</th>   <td> 6523.6937</td> <td>  906.618</td> <td>    7.196</td> <td> 0.000</td> <td> 4743.973</td> <td> 8303.415</td>\n</tr>\n<tr>\n  <th>x12</th>   <td>-4.155e+04</td> <td> 2950.519</td> <td>  -14.083</td> <td> 0.000</td> <td>-4.73e+04</td> <td>-3.58e+04</td>\n</tr>\n<tr>\n  <th>x13</th>   <td> 7.519e+04</td> <td> 2039.255</td> <td>   36.871</td> <td> 0.000</td> <td> 7.12e+04</td> <td> 7.92e+04</td>\n</tr>\n<tr>\n  <th>x14</th>   <td> 1.199e+05</td> <td> 1656.416</td> <td>   72.398</td> <td> 0.000</td> <td> 1.17e+05</td> <td> 1.23e+05</td>\n</tr>\n<tr>\n  <th>x15</th>   <td> 6247.8544</td> <td> 1458.937</td> <td>    4.282</td> <td> 0.000</td> <td> 3383.911</td> <td> 9111.798</td>\n</tr>\n<tr>\n  <th>x16</th>   <td> 9.255e+04</td> <td> 3410.505</td> <td>   27.137</td> <td> 0.000</td> <td> 8.59e+04</td> <td> 9.92e+04</td>\n</tr>\n<tr>\n  <th>x17</th>   <td>  2.94e+05</td> <td> 3420.315</td> <td>   85.957</td> <td> 0.000</td> <td> 2.87e+05</td> <td> 3.01e+05</td>\n</tr>\n<tr>\n  <th>x18</th>   <td> 2.658e+04</td> <td> 5829.818</td> <td>    4.559</td> <td> 0.000</td> <td> 1.51e+04</td> <td>  3.8e+04</td>\n</tr>\n<tr>\n  <th>x19</th>   <td> 4.415e+04</td> <td> 2442.199</td> <td>   18.080</td> <td> 0.000</td> <td> 3.94e+04</td> <td> 4.89e+04</td>\n</tr>\n<tr>\n  <th>x20</th>   <td> 3.679e+05</td> <td> 4138.193</td> <td>   88.912</td> <td> 0.000</td> <td>  3.6e+05</td> <td> 3.76e+05</td>\n</tr>\n<tr>\n  <th>x21</th>   <td>-3.834e+04</td> <td> 5784.906</td> <td>   -6.628</td> <td> 0.000</td> <td>-4.97e+04</td> <td> -2.7e+04</td>\n</tr>\n<tr>\n  <th>x22</th>   <td>  4.76e+04</td> <td> 5785.227</td> <td>    8.228</td> <td> 0.000</td> <td> 3.62e+04</td> <td>  5.9e+04</td>\n</tr>\n<tr>\n  <th>x23</th>   <td>-2.883e+04</td> <td> 1441.542</td> <td>  -20.002</td> <td> 0.000</td> <td>-3.17e+04</td> <td> -2.6e+04</td>\n</tr>\n<tr>\n  <th>x24</th>   <td>  5.51e+04</td> <td> 1864.195</td> <td>   29.555</td> <td> 0.000</td> <td> 5.14e+04</td> <td> 5.88e+04</td>\n</tr>\n<tr>\n  <th>x25</th>   <td>  3.28e+05</td> <td> 5771.366</td> <td>   56.839</td> <td> 0.000</td> <td> 3.17e+05</td> <td> 3.39e+05</td>\n</tr>\n<tr>\n  <th>x26</th>   <td>  1.71e+05</td> <td> 2657.960</td> <td>   64.336</td> <td> 0.000</td> <td> 1.66e+05</td> <td> 1.76e+05</td>\n</tr>\n<tr>\n  <th>x27</th>   <td> 5.323e+04</td> <td> 3386.210</td> <td>   15.721</td> <td> 0.000</td> <td> 4.66e+04</td> <td> 5.99e+04</td>\n</tr>\n<tr>\n  <th>x28</th>   <td>-9872.7212</td> <td> 1435.259</td> <td>   -6.879</td> <td> 0.000</td> <td>-1.27e+04</td> <td>-7055.259</td>\n</tr>\n<tr>\n  <th>x29</th>   <td> 8984.7823</td> <td> 4156.628</td> <td>    2.162</td> <td> 0.031</td> <td>  825.181</td> <td> 1.71e+04</td>\n</tr>\n<tr>\n  <th>x30</th>   <td> 1.285e+04</td> <td> 1799.733</td> <td>    7.138</td> <td> 0.000</td> <td> 9313.285</td> <td> 1.64e+04</td>\n</tr>\n<tr>\n  <th>x31</th>   <td> 8.214e+04</td> <td> 2148.619</td> <td>   38.228</td> <td> 0.000</td> <td> 7.79e+04</td> <td> 8.64e+04</td>\n</tr>\n<tr>\n  <th>x32</th>   <td> 5.469e+04</td> <td> 1299.643</td> <td>   42.078</td> <td> 0.000</td> <td> 5.21e+04</td> <td> 5.72e+04</td>\n</tr>\n<tr>\n  <th>x33</th>   <td>-5624.6359</td> <td>  754.533</td> <td>   -7.454</td> <td> 0.000</td> <td>-7105.809</td> <td>-4143.463</td>\n</tr>\n<tr>\n  <th>x34</th>   <td>-7.226e+05</td> <td> 6186.595</td> <td> -116.804</td> <td> 0.000</td> <td>-7.35e+05</td> <td> -7.1e+05</td>\n</tr>\n<tr>\n  <th>x35</th>   <td> 1.368e+05</td> <td> 5799.126</td> <td>   23.592</td> <td> 0.000</td> <td> 1.25e+05</td> <td> 1.48e+05</td>\n</tr>\n<tr>\n  <th>x36</th>   <td> 5652.3632</td> <td> 5785.796</td> <td>    0.977</td> <td> 0.329</td> <td>-5705.349</td> <td>  1.7e+04</td>\n</tr>\n<tr>\n  <th>x37</th>   <td> 1.827e+05</td> <td> 3079.755</td> <td>   59.325</td> <td> 0.000</td> <td> 1.77e+05</td> <td> 1.89e+05</td>\n</tr>\n<tr>\n  <th>x38</th>   <td> -665.0307</td> <td> 1989.536</td> <td>   -0.334</td> <td> 0.738</td> <td>-4570.557</td> <td> 3240.496</td>\n</tr>\n<tr>\n  <th>x39</th>   <td> -662.0271</td> <td>  991.082</td> <td>   -0.668</td> <td> 0.504</td> <td>-2607.554</td> <td> 1283.500</td>\n</tr>\n</table>\n<table class=\"simpletable\">\n<tr>\n  <th>Omnibus:</th>       <td>367.801</td> <th>  Durbin-Watson:     </th> <td>   2.052</td>\n</tr>\n<tr>\n  <th>Prob(Omnibus):</th> <td> 0.000</td>  <th>  Jarque-Bera (JB):  </th> <td>  43.771</td>\n</tr>\n<tr>\n  <th>Skew:</th>          <td>-0.012</td>  <th>  Prob(JB):          </th> <td>3.13e-10</td>\n</tr>\n<tr>\n  <th>Kurtosis:</th>      <td> 1.864</td>  <th>  Cond. No.          </th> <td>5.71e+04</td>\n</tr>\n</table><br/><br/>Notes:<br/>[1] Standard Errors assume that the covariance matrix of the errors is correctly specified.<br/>[2] The condition number is large, 5.71e+04. This might indicate that there are<br/>strong multicollinearity or other numerical problems."
     },
     "metadata": {},
     "execution_count": 34
    }
   ],
   "source": [
    "z=[0,1,2,3,4,5,6,8,9,10,11,12,13,14,15,16,17,18,19,20,21,22,23,24,25,26,27,28,29,30,31,32,33,34,35,36,37,38,39,40]\n",
    "x_opt = x[:,z]\n",
    "regressor = sm.OLS(endog=y,exog=x_opt).fit()\n",
    "regressor.summary()"
   ]
  },
  {
   "cell_type": "code",
   "execution_count": 35,
   "metadata": {},
   "outputs": [
    {
     "output_type": "execute_result",
     "data": {
      "text/plain": [
       "<class 'statsmodels.iolib.summary.Summary'>\n",
       "\"\"\"\n",
       "                            OLS Regression Results                            \n",
       "==============================================================================\n",
       "Dep. Variable:                  Price   R-squared:                       0.982\n",
       "Model:                            OLS   Adj. R-squared:                  0.981\n",
       "Method:                 Least Squares   F-statistic:                     1100.\n",
       "Date:                Thu, 05 Nov 2020   Prob (F-statistic):               0.00\n",
       "Time:                        15:43:51   Log-Likelihood:                -8875.5\n",
       "No. Observations:                 814   AIC:                         1.783e+04\n",
       "Df Residuals:                     775   BIC:                         1.801e+04\n",
       "Df Model:                          38                                         \n",
       "Covariance Type:            nonrobust                                         \n",
       "==============================================================================\n",
       "                 coef    std err          t      P>|t|      [0.025      0.975]\n",
       "------------------------------------------------------------------------------\n",
       "const       4.856e+04   2987.300     16.254      0.000    4.27e+04    5.44e+04\n",
       "x1         -1974.2720    899.746     -2.194      0.029   -3740.501    -208.043\n",
       "x2         -3593.8675   1123.642     -3.198      0.001   -5799.610   -1388.125\n",
       "x3           128.8676      1.281    100.569      0.000     126.352     131.383\n",
       "x4          1.083e+05   8088.989     13.390      0.000    9.24e+04    1.24e+05\n",
       "x5           1.16e+05   1.36e+04      8.534      0.000    8.93e+04    1.43e+05\n",
       "x6          7.035e+04   3421.836     20.559      0.000    6.36e+04    7.71e+04\n",
       "x7          8.703e+04   1.36e+04      6.409      0.000    6.04e+04    1.14e+05\n",
       "x8          3.074e+04   1.36e+04      2.264      0.024    4083.144    5.74e+04\n",
       "x9          5.198e+04   9687.881      5.366      0.000     3.3e+04     7.1e+04\n",
       "x10         4.312e+04   7951.446      5.423      0.000    2.75e+04    5.87e+04\n",
       "x11        -5685.2848   2078.204     -2.736      0.006   -9764.860   -1605.709\n",
       "x12        -4.863e+04   6938.966     -7.008      0.000   -6.23e+04    -3.5e+04\n",
       "x13         6.371e+04   4778.129     13.333      0.000    5.43e+04    7.31e+04\n",
       "x14         1.062e+05   3860.271     27.500      0.000    9.86e+04    1.14e+05\n",
       "x15        -3739.6676   3410.965     -1.096      0.273   -1.04e+04    2956.158\n",
       "x16         7.626e+04   8001.269      9.532      0.000    6.06e+04     9.2e+04\n",
       "x17          2.77e+05   8021.983     34.526      0.000    2.61e+05    2.93e+05\n",
       "x18         4047.8305   1.37e+04      0.296      0.768   -2.28e+04    3.09e+04\n",
       "x19         3.416e+04   5734.518      5.957      0.000    2.29e+04    4.54e+04\n",
       "x20         3.638e+05   9738.691     37.356      0.000    3.45e+05    3.83e+05\n",
       "x21        -5.382e+04   1.36e+04     -3.957      0.000   -8.05e+04   -2.71e+04\n",
       "x22         3.648e+04   1.36e+04      2.680      0.008    9762.202    6.32e+04\n",
       "x23        -3.706e+04   3377.247    -10.972      0.000   -4.37e+04   -3.04e+04\n",
       "x24         4.441e+04   4367.235     10.169      0.000    3.58e+04     5.3e+04\n",
       "x25         3.198e+05   1.36e+04     23.549      0.000    2.93e+05    3.46e+05\n",
       "x26         1.603e+05   6241.538     25.678      0.000    1.48e+05    1.73e+05\n",
       "x27         4.307e+04   7959.920      5.411      0.000    2.74e+04    5.87e+04\n",
       "x28        -2.083e+04   3350.096     -6.217      0.000   -2.74e+04   -1.43e+04\n",
       "x29        -1.101e+04   9751.250     -1.129      0.259   -3.02e+04    8131.519\n",
       "x30         4168.4330   4222.022      0.987      0.324   -4119.522    1.25e+04\n",
       "x31          6.99e+04   5033.836     13.885      0.000       6e+04    7.98e+04\n",
       "x32         4.254e+04   3020.763     14.082      0.000    3.66e+04    4.85e+04\n",
       "x33        -1.553e+04   1731.955     -8.964      0.000   -1.89e+04   -1.21e+04\n",
       "x34        -7.653e+05   1.45e+04    -52.916      0.000   -7.94e+05   -7.37e+05\n",
       "x35         1.209e+05   1.36e+04      8.867      0.000    9.41e+04    1.48e+05\n",
       "x36        -4061.0791   1.36e+04     -0.298      0.766   -3.08e+04    2.27e+04\n",
       "x37         -441.6108   4682.768     -0.094      0.925   -9634.023    8750.802\n",
       "x38        -1235.6329   2332.601     -0.530      0.596   -5814.597    3343.331\n",
       "==============================================================================\n",
       "Omnibus:                     1207.905   Durbin-Watson:                   2.031\n",
       "Prob(Omnibus):                  0.000   Jarque-Bera (JB):           347225.153\n",
       "Skew:                           8.431   Prob(JB):                         0.00\n",
       "Kurtosis:                     102.766   Cond. No.                     5.59e+04\n",
       "==============================================================================\n",
       "\n",
       "Notes:\n",
       "[1] Standard Errors assume that the covariance matrix of the errors is correctly specified.\n",
       "[2] The condition number is large, 5.59e+04. This might indicate that there are\n",
       "strong multicollinearity or other numerical problems.\n",
       "\"\"\""
      ],
      "text/html": "<table class=\"simpletable\">\n<caption>OLS Regression Results</caption>\n<tr>\n  <th>Dep. Variable:</th>          <td>Price</td>      <th>  R-squared:         </th> <td>   0.982</td> \n</tr>\n<tr>\n  <th>Model:</th>                   <td>OLS</td>       <th>  Adj. R-squared:    </th> <td>   0.981</td> \n</tr>\n<tr>\n  <th>Method:</th>             <td>Least Squares</td>  <th>  F-statistic:       </th> <td>   1100.</td> \n</tr>\n<tr>\n  <th>Date:</th>             <td>Thu, 05 Nov 2020</td> <th>  Prob (F-statistic):</th>  <td>  0.00</td>  \n</tr>\n<tr>\n  <th>Time:</th>                 <td>15:43:51</td>     <th>  Log-Likelihood:    </th> <td> -8875.5</td> \n</tr>\n<tr>\n  <th>No. Observations:</th>      <td>   814</td>      <th>  AIC:               </th> <td>1.783e+04</td>\n</tr>\n<tr>\n  <th>Df Residuals:</th>          <td>   775</td>      <th>  BIC:               </th> <td>1.801e+04</td>\n</tr>\n<tr>\n  <th>Df Model:</th>              <td>    38</td>      <th>                     </th>     <td> </td>    \n</tr>\n<tr>\n  <th>Covariance Type:</th>      <td>nonrobust</td>    <th>                     </th>     <td> </td>    \n</tr>\n</table>\n<table class=\"simpletable\">\n<tr>\n    <td></td>       <th>coef</th>     <th>std err</th>      <th>t</th>      <th>P>|t|</th>  <th>[0.025</th>    <th>0.975]</th>  \n</tr>\n<tr>\n  <th>const</th> <td> 4.856e+04</td> <td> 2987.300</td> <td>   16.254</td> <td> 0.000</td> <td> 4.27e+04</td> <td> 5.44e+04</td>\n</tr>\n<tr>\n  <th>x1</th>    <td>-1974.2720</td> <td>  899.746</td> <td>   -2.194</td> <td> 0.029</td> <td>-3740.501</td> <td> -208.043</td>\n</tr>\n<tr>\n  <th>x2</th>    <td>-3593.8675</td> <td> 1123.642</td> <td>   -3.198</td> <td> 0.001</td> <td>-5799.610</td> <td>-1388.125</td>\n</tr>\n<tr>\n  <th>x3</th>    <td>  128.8676</td> <td>    1.281</td> <td>  100.569</td> <td> 0.000</td> <td>  126.352</td> <td>  131.383</td>\n</tr>\n<tr>\n  <th>x4</th>    <td> 1.083e+05</td> <td> 8088.989</td> <td>   13.390</td> <td> 0.000</td> <td> 9.24e+04</td> <td> 1.24e+05</td>\n</tr>\n<tr>\n  <th>x5</th>    <td>  1.16e+05</td> <td> 1.36e+04</td> <td>    8.534</td> <td> 0.000</td> <td> 8.93e+04</td> <td> 1.43e+05</td>\n</tr>\n<tr>\n  <th>x6</th>    <td> 7.035e+04</td> <td> 3421.836</td> <td>   20.559</td> <td> 0.000</td> <td> 6.36e+04</td> <td> 7.71e+04</td>\n</tr>\n<tr>\n  <th>x7</th>    <td> 8.703e+04</td> <td> 1.36e+04</td> <td>    6.409</td> <td> 0.000</td> <td> 6.04e+04</td> <td> 1.14e+05</td>\n</tr>\n<tr>\n  <th>x8</th>    <td> 3.074e+04</td> <td> 1.36e+04</td> <td>    2.264</td> <td> 0.024</td> <td> 4083.144</td> <td> 5.74e+04</td>\n</tr>\n<tr>\n  <th>x9</th>    <td> 5.198e+04</td> <td> 9687.881</td> <td>    5.366</td> <td> 0.000</td> <td>  3.3e+04</td> <td>  7.1e+04</td>\n</tr>\n<tr>\n  <th>x10</th>   <td> 4.312e+04</td> <td> 7951.446</td> <td>    5.423</td> <td> 0.000</td> <td> 2.75e+04</td> <td> 5.87e+04</td>\n</tr>\n<tr>\n  <th>x11</th>   <td>-5685.2848</td> <td> 2078.204</td> <td>   -2.736</td> <td> 0.006</td> <td>-9764.860</td> <td>-1605.709</td>\n</tr>\n<tr>\n  <th>x12</th>   <td>-4.863e+04</td> <td> 6938.966</td> <td>   -7.008</td> <td> 0.000</td> <td>-6.23e+04</td> <td> -3.5e+04</td>\n</tr>\n<tr>\n  <th>x13</th>   <td> 6.371e+04</td> <td> 4778.129</td> <td>   13.333</td> <td> 0.000</td> <td> 5.43e+04</td> <td> 7.31e+04</td>\n</tr>\n<tr>\n  <th>x14</th>   <td> 1.062e+05</td> <td> 3860.271</td> <td>   27.500</td> <td> 0.000</td> <td> 9.86e+04</td> <td> 1.14e+05</td>\n</tr>\n<tr>\n  <th>x15</th>   <td>-3739.6676</td> <td> 3410.965</td> <td>   -1.096</td> <td> 0.273</td> <td>-1.04e+04</td> <td> 2956.158</td>\n</tr>\n<tr>\n  <th>x16</th>   <td> 7.626e+04</td> <td> 8001.269</td> <td>    9.532</td> <td> 0.000</td> <td> 6.06e+04</td> <td>  9.2e+04</td>\n</tr>\n<tr>\n  <th>x17</th>   <td>  2.77e+05</td> <td> 8021.983</td> <td>   34.526</td> <td> 0.000</td> <td> 2.61e+05</td> <td> 2.93e+05</td>\n</tr>\n<tr>\n  <th>x18</th>   <td> 4047.8305</td> <td> 1.37e+04</td> <td>    0.296</td> <td> 0.768</td> <td>-2.28e+04</td> <td> 3.09e+04</td>\n</tr>\n<tr>\n  <th>x19</th>   <td> 3.416e+04</td> <td> 5734.518</td> <td>    5.957</td> <td> 0.000</td> <td> 2.29e+04</td> <td> 4.54e+04</td>\n</tr>\n<tr>\n  <th>x20</th>   <td> 3.638e+05</td> <td> 9738.691</td> <td>   37.356</td> <td> 0.000</td> <td> 3.45e+05</td> <td> 3.83e+05</td>\n</tr>\n<tr>\n  <th>x21</th>   <td>-5.382e+04</td> <td> 1.36e+04</td> <td>   -3.957</td> <td> 0.000</td> <td>-8.05e+04</td> <td>-2.71e+04</td>\n</tr>\n<tr>\n  <th>x22</th>   <td> 3.648e+04</td> <td> 1.36e+04</td> <td>    2.680</td> <td> 0.008</td> <td> 9762.202</td> <td> 6.32e+04</td>\n</tr>\n<tr>\n  <th>x23</th>   <td>-3.706e+04</td> <td> 3377.247</td> <td>  -10.972</td> <td> 0.000</td> <td>-4.37e+04</td> <td>-3.04e+04</td>\n</tr>\n<tr>\n  <th>x24</th>   <td> 4.441e+04</td> <td> 4367.235</td> <td>   10.169</td> <td> 0.000</td> <td> 3.58e+04</td> <td>  5.3e+04</td>\n</tr>\n<tr>\n  <th>x25</th>   <td> 3.198e+05</td> <td> 1.36e+04</td> <td>   23.549</td> <td> 0.000</td> <td> 2.93e+05</td> <td> 3.46e+05</td>\n</tr>\n<tr>\n  <th>x26</th>   <td> 1.603e+05</td> <td> 6241.538</td> <td>   25.678</td> <td> 0.000</td> <td> 1.48e+05</td> <td> 1.73e+05</td>\n</tr>\n<tr>\n  <th>x27</th>   <td> 4.307e+04</td> <td> 7959.920</td> <td>    5.411</td> <td> 0.000</td> <td> 2.74e+04</td> <td> 5.87e+04</td>\n</tr>\n<tr>\n  <th>x28</th>   <td>-2.083e+04</td> <td> 3350.096</td> <td>   -6.217</td> <td> 0.000</td> <td>-2.74e+04</td> <td>-1.43e+04</td>\n</tr>\n<tr>\n  <th>x29</th>   <td>-1.101e+04</td> <td> 9751.250</td> <td>   -1.129</td> <td> 0.259</td> <td>-3.02e+04</td> <td> 8131.519</td>\n</tr>\n<tr>\n  <th>x30</th>   <td> 4168.4330</td> <td> 4222.022</td> <td>    0.987</td> <td> 0.324</td> <td>-4119.522</td> <td> 1.25e+04</td>\n</tr>\n<tr>\n  <th>x31</th>   <td>  6.99e+04</td> <td> 5033.836</td> <td>   13.885</td> <td> 0.000</td> <td>    6e+04</td> <td> 7.98e+04</td>\n</tr>\n<tr>\n  <th>x32</th>   <td> 4.254e+04</td> <td> 3020.763</td> <td>   14.082</td> <td> 0.000</td> <td> 3.66e+04</td> <td> 4.85e+04</td>\n</tr>\n<tr>\n  <th>x33</th>   <td>-1.553e+04</td> <td> 1731.955</td> <td>   -8.964</td> <td> 0.000</td> <td>-1.89e+04</td> <td>-1.21e+04</td>\n</tr>\n<tr>\n  <th>x34</th>   <td>-7.653e+05</td> <td> 1.45e+04</td> <td>  -52.916</td> <td> 0.000</td> <td>-7.94e+05</td> <td>-7.37e+05</td>\n</tr>\n<tr>\n  <th>x35</th>   <td> 1.209e+05</td> <td> 1.36e+04</td> <td>    8.867</td> <td> 0.000</td> <td> 9.41e+04</td> <td> 1.48e+05</td>\n</tr>\n<tr>\n  <th>x36</th>   <td>-4061.0791</td> <td> 1.36e+04</td> <td>   -0.298</td> <td> 0.766</td> <td>-3.08e+04</td> <td> 2.27e+04</td>\n</tr>\n<tr>\n  <th>x37</th>   <td> -441.6108</td> <td> 4682.768</td> <td>   -0.094</td> <td> 0.925</td> <td>-9634.023</td> <td> 8750.802</td>\n</tr>\n<tr>\n  <th>x38</th>   <td>-1235.6329</td> <td> 2332.601</td> <td>   -0.530</td> <td> 0.596</td> <td>-5814.597</td> <td> 3343.331</td>\n</tr>\n</table>\n<table class=\"simpletable\">\n<tr>\n  <th>Omnibus:</th>       <td>1207.905</td> <th>  Durbin-Watson:     </th>  <td>   2.031</td> \n</tr>\n<tr>\n  <th>Prob(Omnibus):</th>  <td> 0.000</td>  <th>  Jarque-Bera (JB):  </th> <td>347225.153</td>\n</tr>\n<tr>\n  <th>Skew:</th>           <td> 8.431</td>  <th>  Prob(JB):          </th>  <td>    0.00</td> \n</tr>\n<tr>\n  <th>Kurtosis:</th>       <td>102.766</td> <th>  Cond. No.          </th>  <td>5.59e+04</td> \n</tr>\n</table><br/><br/>Notes:<br/>[1] Standard Errors assume that the covariance matrix of the errors is correctly specified.<br/>[2] The condition number is large, 5.59e+04. This might indicate that there are<br/>strong multicollinearity or other numerical problems."
     },
     "metadata": {},
     "execution_count": 35
    }
   ],
   "source": [
    "z=[0,1,2,3,4,5,6,8,9,10,11,12,13,14,15,16,17,18,19,20,21,22,23,24,25,26,27,28,29,30,31,32,33,34,35,36,37,39,40]\n",
    "x_opt = x[:,z]\n",
    "regressor = sm.OLS(endog=y,exog=x_opt).fit()\n",
    "regressor.summary()"
   ]
  },
  {
   "cell_type": "code",
   "execution_count": 36,
   "metadata": {},
   "outputs": [
    {
     "output_type": "execute_result",
     "data": {
      "text/plain": [
       "<class 'statsmodels.iolib.summary.Summary'>\n",
       "\"\"\"\n",
       "                            OLS Regression Results                            \n",
       "==============================================================================\n",
       "Dep. Variable:                  Price   R-squared:                       0.982\n",
       "Model:                            OLS   Adj. R-squared:                  0.981\n",
       "Method:                 Least Squares   F-statistic:                     1131.\n",
       "Date:                Thu, 05 Nov 2020   Prob (F-statistic):               0.00\n",
       "Time:                        15:44:50   Log-Likelihood:                -8875.5\n",
       "No. Observations:                 814   AIC:                         1.783e+04\n",
       "Df Residuals:                     776   BIC:                         1.801e+04\n",
       "Df Model:                          37                                         \n",
       "Covariance Type:            nonrobust                                         \n",
       "==============================================================================\n",
       "                 coef    std err          t      P>|t|      [0.025      0.975]\n",
       "------------------------------------------------------------------------------\n",
       "const       4.847e+04   2972.649     16.306      0.000    4.26e+04    5.43e+04\n",
       "x1         -1964.6292    898.638     -2.186      0.029   -3728.678    -200.580\n",
       "x2         -3582.4183   1122.327     -3.192      0.001   -5785.575   -1379.262\n",
       "x3           128.8621      1.280    100.634      0.000     126.348     131.376\n",
       "x4          1.084e+05   8081.892     13.409      0.000    9.25e+04    1.24e+05\n",
       "x5          1.161e+05   1.36e+04      8.544      0.000    8.94e+04    1.43e+05\n",
       "x6          7.041e+04   3414.292     20.621      0.000    6.37e+04    7.71e+04\n",
       "x7          8.709e+04   1.36e+04      6.418      0.000    6.04e+04    1.14e+05\n",
       "x8           3.08e+04   1.36e+04      2.270      0.024    4160.093    5.74e+04\n",
       "x9          5.205e+04   9679.418      5.378      0.000    3.31e+04    7.11e+04\n",
       "x10         4.318e+04   7944.660      5.435      0.000    2.76e+04    5.88e+04\n",
       "x11        -5633.0633   2069.603     -2.722      0.007   -9695.747   -1570.380\n",
       "x12        -4.857e+04   6932.378     -7.007      0.000   -6.22e+04    -3.5e+04\n",
       "x13         6.376e+04   4771.341     13.364      0.000    5.44e+04    7.31e+04\n",
       "x14         1.062e+05   3854.092     27.557      0.000    9.86e+04    1.14e+05\n",
       "x15        -3685.2859   3404.091     -1.083      0.279   -1.04e+04    2997.032\n",
       "x16         7.633e+04   7993.755      9.548      0.000    6.06e+04     9.2e+04\n",
       "x17          2.77e+05   8016.140     34.556      0.000    2.61e+05    2.93e+05\n",
       "x18         4114.8754   1.37e+04      0.301      0.764   -2.27e+04     3.1e+04\n",
       "x19         3.422e+04   5728.008      5.974      0.000     2.3e+04    4.55e+04\n",
       "x20         3.638e+05   9732.124     37.385      0.000    3.45e+05    3.83e+05\n",
       "x21        -5.375e+04   1.36e+04     -3.955      0.000   -8.04e+04   -2.71e+04\n",
       "x22         3.655e+04   1.36e+04      2.687      0.007    9851.299    6.32e+04\n",
       "x23        -3.699e+04   3368.850    -10.981      0.000   -4.36e+04   -3.04e+04\n",
       "x24         4.447e+04   4360.508     10.198      0.000    3.59e+04     5.3e+04\n",
       "x25         3.199e+05   1.36e+04     23.570      0.000    2.93e+05    3.47e+05\n",
       "x26         1.603e+05   6235.002     25.714      0.000    1.48e+05    1.73e+05\n",
       "x27         4.313e+04   7952.205      5.424      0.000    2.75e+04    5.87e+04\n",
       "x28        -2.077e+04   3343.437     -6.214      0.000   -2.73e+04   -1.42e+04\n",
       "x29        -1.096e+04   9743.947     -1.125      0.261   -3.01e+04    8169.473\n",
       "x30         4231.0469   4214.326      1.004      0.316   -4041.784    1.25e+04\n",
       "x31         6.995e+04   5027.310     13.915      0.000    6.01e+04    7.98e+04\n",
       "x32          4.26e+04   3012.915     14.138      0.000    3.67e+04    4.85e+04\n",
       "x33        -1.547e+04   1719.533     -8.995      0.000   -1.88e+04   -1.21e+04\n",
       "x34        -7.652e+05   1.45e+04    -52.948      0.000   -7.94e+05   -7.37e+05\n",
       "x35          1.21e+05   1.36e+04      8.879      0.000    9.42e+04    1.48e+05\n",
       "x36         -479.8483   4678.265     -0.103      0.918   -9663.403    8703.706\n",
       "x37        -1255.9657   2330.236     -0.539      0.590   -5830.278    3318.347\n",
       "==============================================================================\n",
       "Omnibus:                     1208.512   Durbin-Watson:                   2.031\n",
       "Prob(Omnibus):                  0.000   Jarque-Bera (JB):           348004.055\n",
       "Skew:                           8.439   Prob(JB):                         0.00\n",
       "Kurtosis:                     102.878   Cond. No.                     5.55e+04\n",
       "==============================================================================\n",
       "\n",
       "Notes:\n",
       "[1] Standard Errors assume that the covariance matrix of the errors is correctly specified.\n",
       "[2] The condition number is large, 5.55e+04. This might indicate that there are\n",
       "strong multicollinearity or other numerical problems.\n",
       "\"\"\""
      ],
      "text/html": "<table class=\"simpletable\">\n<caption>OLS Regression Results</caption>\n<tr>\n  <th>Dep. Variable:</th>          <td>Price</td>      <th>  R-squared:         </th> <td>   0.982</td> \n</tr>\n<tr>\n  <th>Model:</th>                   <td>OLS</td>       <th>  Adj. R-squared:    </th> <td>   0.981</td> \n</tr>\n<tr>\n  <th>Method:</th>             <td>Least Squares</td>  <th>  F-statistic:       </th> <td>   1131.</td> \n</tr>\n<tr>\n  <th>Date:</th>             <td>Thu, 05 Nov 2020</td> <th>  Prob (F-statistic):</th>  <td>  0.00</td>  \n</tr>\n<tr>\n  <th>Time:</th>                 <td>15:44:50</td>     <th>  Log-Likelihood:    </th> <td> -8875.5</td> \n</tr>\n<tr>\n  <th>No. Observations:</th>      <td>   814</td>      <th>  AIC:               </th> <td>1.783e+04</td>\n</tr>\n<tr>\n  <th>Df Residuals:</th>          <td>   776</td>      <th>  BIC:               </th> <td>1.801e+04</td>\n</tr>\n<tr>\n  <th>Df Model:</th>              <td>    37</td>      <th>                     </th>     <td> </td>    \n</tr>\n<tr>\n  <th>Covariance Type:</th>      <td>nonrobust</td>    <th>                     </th>     <td> </td>    \n</tr>\n</table>\n<table class=\"simpletable\">\n<tr>\n    <td></td>       <th>coef</th>     <th>std err</th>      <th>t</th>      <th>P>|t|</th>  <th>[0.025</th>    <th>0.975]</th>  \n</tr>\n<tr>\n  <th>const</th> <td> 4.847e+04</td> <td> 2972.649</td> <td>   16.306</td> <td> 0.000</td> <td> 4.26e+04</td> <td> 5.43e+04</td>\n</tr>\n<tr>\n  <th>x1</th>    <td>-1964.6292</td> <td>  898.638</td> <td>   -2.186</td> <td> 0.029</td> <td>-3728.678</td> <td> -200.580</td>\n</tr>\n<tr>\n  <th>x2</th>    <td>-3582.4183</td> <td> 1122.327</td> <td>   -3.192</td> <td> 0.001</td> <td>-5785.575</td> <td>-1379.262</td>\n</tr>\n<tr>\n  <th>x3</th>    <td>  128.8621</td> <td>    1.280</td> <td>  100.634</td> <td> 0.000</td> <td>  126.348</td> <td>  131.376</td>\n</tr>\n<tr>\n  <th>x4</th>    <td> 1.084e+05</td> <td> 8081.892</td> <td>   13.409</td> <td> 0.000</td> <td> 9.25e+04</td> <td> 1.24e+05</td>\n</tr>\n<tr>\n  <th>x5</th>    <td> 1.161e+05</td> <td> 1.36e+04</td> <td>    8.544</td> <td> 0.000</td> <td> 8.94e+04</td> <td> 1.43e+05</td>\n</tr>\n<tr>\n  <th>x6</th>    <td> 7.041e+04</td> <td> 3414.292</td> <td>   20.621</td> <td> 0.000</td> <td> 6.37e+04</td> <td> 7.71e+04</td>\n</tr>\n<tr>\n  <th>x7</th>    <td> 8.709e+04</td> <td> 1.36e+04</td> <td>    6.418</td> <td> 0.000</td> <td> 6.04e+04</td> <td> 1.14e+05</td>\n</tr>\n<tr>\n  <th>x8</th>    <td>  3.08e+04</td> <td> 1.36e+04</td> <td>    2.270</td> <td> 0.024</td> <td> 4160.093</td> <td> 5.74e+04</td>\n</tr>\n<tr>\n  <th>x9</th>    <td> 5.205e+04</td> <td> 9679.418</td> <td>    5.378</td> <td> 0.000</td> <td> 3.31e+04</td> <td> 7.11e+04</td>\n</tr>\n<tr>\n  <th>x10</th>   <td> 4.318e+04</td> <td> 7944.660</td> <td>    5.435</td> <td> 0.000</td> <td> 2.76e+04</td> <td> 5.88e+04</td>\n</tr>\n<tr>\n  <th>x11</th>   <td>-5633.0633</td> <td> 2069.603</td> <td>   -2.722</td> <td> 0.007</td> <td>-9695.747</td> <td>-1570.380</td>\n</tr>\n<tr>\n  <th>x12</th>   <td>-4.857e+04</td> <td> 6932.378</td> <td>   -7.007</td> <td> 0.000</td> <td>-6.22e+04</td> <td> -3.5e+04</td>\n</tr>\n<tr>\n  <th>x13</th>   <td> 6.376e+04</td> <td> 4771.341</td> <td>   13.364</td> <td> 0.000</td> <td> 5.44e+04</td> <td> 7.31e+04</td>\n</tr>\n<tr>\n  <th>x14</th>   <td> 1.062e+05</td> <td> 3854.092</td> <td>   27.557</td> <td> 0.000</td> <td> 9.86e+04</td> <td> 1.14e+05</td>\n</tr>\n<tr>\n  <th>x15</th>   <td>-3685.2859</td> <td> 3404.091</td> <td>   -1.083</td> <td> 0.279</td> <td>-1.04e+04</td> <td> 2997.032</td>\n</tr>\n<tr>\n  <th>x16</th>   <td> 7.633e+04</td> <td> 7993.755</td> <td>    9.548</td> <td> 0.000</td> <td> 6.06e+04</td> <td>  9.2e+04</td>\n</tr>\n<tr>\n  <th>x17</th>   <td>  2.77e+05</td> <td> 8016.140</td> <td>   34.556</td> <td> 0.000</td> <td> 2.61e+05</td> <td> 2.93e+05</td>\n</tr>\n<tr>\n  <th>x18</th>   <td> 4114.8754</td> <td> 1.37e+04</td> <td>    0.301</td> <td> 0.764</td> <td>-2.27e+04</td> <td>  3.1e+04</td>\n</tr>\n<tr>\n  <th>x19</th>   <td> 3.422e+04</td> <td> 5728.008</td> <td>    5.974</td> <td> 0.000</td> <td>  2.3e+04</td> <td> 4.55e+04</td>\n</tr>\n<tr>\n  <th>x20</th>   <td> 3.638e+05</td> <td> 9732.124</td> <td>   37.385</td> <td> 0.000</td> <td> 3.45e+05</td> <td> 3.83e+05</td>\n</tr>\n<tr>\n  <th>x21</th>   <td>-5.375e+04</td> <td> 1.36e+04</td> <td>   -3.955</td> <td> 0.000</td> <td>-8.04e+04</td> <td>-2.71e+04</td>\n</tr>\n<tr>\n  <th>x22</th>   <td> 3.655e+04</td> <td> 1.36e+04</td> <td>    2.687</td> <td> 0.007</td> <td> 9851.299</td> <td> 6.32e+04</td>\n</tr>\n<tr>\n  <th>x23</th>   <td>-3.699e+04</td> <td> 3368.850</td> <td>  -10.981</td> <td> 0.000</td> <td>-4.36e+04</td> <td>-3.04e+04</td>\n</tr>\n<tr>\n  <th>x24</th>   <td> 4.447e+04</td> <td> 4360.508</td> <td>   10.198</td> <td> 0.000</td> <td> 3.59e+04</td> <td>  5.3e+04</td>\n</tr>\n<tr>\n  <th>x25</th>   <td> 3.199e+05</td> <td> 1.36e+04</td> <td>   23.570</td> <td> 0.000</td> <td> 2.93e+05</td> <td> 3.47e+05</td>\n</tr>\n<tr>\n  <th>x26</th>   <td> 1.603e+05</td> <td> 6235.002</td> <td>   25.714</td> <td> 0.000</td> <td> 1.48e+05</td> <td> 1.73e+05</td>\n</tr>\n<tr>\n  <th>x27</th>   <td> 4.313e+04</td> <td> 7952.205</td> <td>    5.424</td> <td> 0.000</td> <td> 2.75e+04</td> <td> 5.87e+04</td>\n</tr>\n<tr>\n  <th>x28</th>   <td>-2.077e+04</td> <td> 3343.437</td> <td>   -6.214</td> <td> 0.000</td> <td>-2.73e+04</td> <td>-1.42e+04</td>\n</tr>\n<tr>\n  <th>x29</th>   <td>-1.096e+04</td> <td> 9743.947</td> <td>   -1.125</td> <td> 0.261</td> <td>-3.01e+04</td> <td> 8169.473</td>\n</tr>\n<tr>\n  <th>x30</th>   <td> 4231.0469</td> <td> 4214.326</td> <td>    1.004</td> <td> 0.316</td> <td>-4041.784</td> <td> 1.25e+04</td>\n</tr>\n<tr>\n  <th>x31</th>   <td> 6.995e+04</td> <td> 5027.310</td> <td>   13.915</td> <td> 0.000</td> <td> 6.01e+04</td> <td> 7.98e+04</td>\n</tr>\n<tr>\n  <th>x32</th>   <td>  4.26e+04</td> <td> 3012.915</td> <td>   14.138</td> <td> 0.000</td> <td> 3.67e+04</td> <td> 4.85e+04</td>\n</tr>\n<tr>\n  <th>x33</th>   <td>-1.547e+04</td> <td> 1719.533</td> <td>   -8.995</td> <td> 0.000</td> <td>-1.88e+04</td> <td>-1.21e+04</td>\n</tr>\n<tr>\n  <th>x34</th>   <td>-7.652e+05</td> <td> 1.45e+04</td> <td>  -52.948</td> <td> 0.000</td> <td>-7.94e+05</td> <td>-7.37e+05</td>\n</tr>\n<tr>\n  <th>x35</th>   <td>  1.21e+05</td> <td> 1.36e+04</td> <td>    8.879</td> <td> 0.000</td> <td> 9.42e+04</td> <td> 1.48e+05</td>\n</tr>\n<tr>\n  <th>x36</th>   <td> -479.8483</td> <td> 4678.265</td> <td>   -0.103</td> <td> 0.918</td> <td>-9663.403</td> <td> 8703.706</td>\n</tr>\n<tr>\n  <th>x37</th>   <td>-1255.9657</td> <td> 2330.236</td> <td>   -0.539</td> <td> 0.590</td> <td>-5830.278</td> <td> 3318.347</td>\n</tr>\n</table>\n<table class=\"simpletable\">\n<tr>\n  <th>Omnibus:</th>       <td>1208.512</td> <th>  Durbin-Watson:     </th>  <td>   2.031</td> \n</tr>\n<tr>\n  <th>Prob(Omnibus):</th>  <td> 0.000</td>  <th>  Jarque-Bera (JB):  </th> <td>348004.055</td>\n</tr>\n<tr>\n  <th>Skew:</th>           <td> 8.439</td>  <th>  Prob(JB):          </th>  <td>    0.00</td> \n</tr>\n<tr>\n  <th>Kurtosis:</th>       <td>102.878</td> <th>  Cond. No.          </th>  <td>5.55e+04</td> \n</tr>\n</table><br/><br/>Notes:<br/>[1] Standard Errors assume that the covariance matrix of the errors is correctly specified.<br/>[2] The condition number is large, 5.55e+04. This might indicate that there are<br/>strong multicollinearity or other numerical problems."
     },
     "metadata": {},
     "execution_count": 36
    }
   ],
   "source": [
    "z=[0,1,2,3,4,5,6,8,9,10,11,12,13,14,15,16,17,18,19,20,21,22,23,24,25,26,27,28,29,30,31,32,33,34,35,36,39,40]\n",
    "x_opt = x[:,z]\n",
    "regressor = sm.OLS(endog=y,exog=x_opt).fit()\n",
    "regressor.summary()"
   ]
  },
  {
   "cell_type": "code",
   "execution_count": 38,
   "metadata": {},
   "outputs": [
    {
     "output_type": "execute_result",
     "data": {
      "text/plain": [
       "<class 'statsmodels.iolib.summary.Summary'>\n",
       "\"\"\"\n",
       "                            OLS Regression Results                            \n",
       "==============================================================================\n",
       "Dep. Variable:                  Price   R-squared:                       0.980\n",
       "Model:                            OLS   Adj. R-squared:                  0.979\n",
       "Method:                 Least Squares   F-statistic:                     1054.\n",
       "Date:                Thu, 05 Nov 2020   Prob (F-statistic):               0.00\n",
       "Time:                        15:45:27   Log-Likelihood:                -8914.9\n",
       "No. Observations:                 814   AIC:                         1.790e+04\n",
       "Df Residuals:                     777   BIC:                         1.808e+04\n",
       "Df Model:                          36                                         \n",
       "Covariance Type:            nonrobust                                         \n",
       "==============================================================================\n",
       "                 coef    std err          t      P>|t|      [0.025      0.975]\n",
       "------------------------------------------------------------------------------\n",
       "const       5.069e+04   3106.976     16.315      0.000    4.46e+04    5.68e+04\n",
       "x1         -2017.6192    942.554     -2.141      0.033   -3867.874    -167.365\n",
       "x2         -4448.8887   1172.743     -3.794      0.000   -6751.008   -2146.769\n",
       "x3           129.5706      1.340     96.659      0.000     126.939     132.202\n",
       "x4          1.069e+05   8475.288     12.614      0.000    9.03e+04    1.24e+05\n",
       "x5          1.141e+05   1.42e+04      8.008      0.000    8.61e+04    1.42e+05\n",
       "x6          6.865e+04   3575.237     19.203      0.000    6.16e+04    7.57e+04\n",
       "x7          8.549e+04   1.42e+04      6.007      0.000    5.76e+04    1.13e+05\n",
       "x8          2.932e+04   1.42e+04      2.060      0.040    1378.288    5.73e+04\n",
       "x9          5.009e+04   1.02e+04      4.935      0.000    3.02e+04       7e+04\n",
       "x10         4.139e+04   8330.408      4.968      0.000     2.5e+04    5.77e+04\n",
       "x11        -7288.1622   2161.970     -3.371      0.001   -1.15e+04   -3044.169\n",
       "x12            -5e+04   7269.371     -6.878      0.000   -6.43e+04   -3.57e+04\n",
       "x13         6.205e+04   5000.548     12.409      0.000    5.22e+04    7.19e+04\n",
       "x14         1.045e+05   4037.305     25.876      0.000    9.65e+04    1.12e+05\n",
       "x15        -5293.7091   3565.469     -1.485      0.138   -1.23e+04    1705.384\n",
       "x16         7.422e+04   8380.909      8.856      0.000    5.78e+04    9.07e+04\n",
       "x17         2.753e+05   8405.640     32.751      0.000    2.59e+05    2.92e+05\n",
       "x18         1537.9945   1.43e+04      0.107      0.915   -2.66e+04    2.97e+04\n",
       "x19         3.267e+04   6005.295      5.441      0.000    2.09e+04    4.45e+04\n",
       "x20         3.632e+05   1.02e+04     35.576      0.000    3.43e+05    3.83e+05\n",
       "x21         -5.58e+04   1.43e+04     -3.914      0.000   -8.38e+04   -2.78e+04\n",
       "x22         3.426e+04   1.43e+04      2.402      0.017    6262.733    6.23e+04\n",
       "x23        -3.874e+04   3527.552    -10.981      0.000   -4.57e+04   -3.18e+04\n",
       "x24         4.276e+04   4569.253      9.358      0.000    3.38e+04    5.17e+04\n",
       "x25         3.184e+05   1.42e+04     22.368      0.000     2.9e+05    3.46e+05\n",
       "x26         1.587e+05   6537.172     24.283      0.000    1.46e+05    1.72e+05\n",
       "x27         4.133e+04   8338.280      4.956      0.000     2.5e+04    5.77e+04\n",
       "x28        -2.236e+04   3501.891     -6.386      0.000   -2.92e+04   -1.55e+04\n",
       "x29        -1.313e+04   1.02e+04     -1.285      0.199   -3.32e+04    6924.754\n",
       "x30         2516.9007   4415.738      0.570      0.569   -6151.289    1.12e+04\n",
       "x31          6.82e+04   5269.034     12.943      0.000    5.79e+04    7.85e+04\n",
       "x32         4.082e+04   3153.262     12.946      0.000    3.46e+04     4.7e+04\n",
       "x33         -1.72e+04   1792.008     -9.596      0.000   -2.07e+04   -1.37e+04\n",
       "x34        -7.682e+05   1.52e+04    -50.688      0.000   -7.98e+05   -7.38e+05\n",
       "x35          319.7793   4906.091      0.065      0.948   -9310.985    9950.544\n",
       "x36        -1020.4286   2444.010     -0.418      0.676   -5818.074    3777.217\n",
       "==============================================================================\n",
       "Omnibus:                     1143.856   Durbin-Watson:                   2.026\n",
       "Prob(Omnibus):                  0.000   Jarque-Bera (JB):           242745.411\n",
       "Skew:                           7.698   Prob(JB):                         0.00\n",
       "Kurtosis:                      86.187   Cond. No.                     5.50e+04\n",
       "==============================================================================\n",
       "\n",
       "Notes:\n",
       "[1] Standard Errors assume that the covariance matrix of the errors is correctly specified.\n",
       "[2] The condition number is large, 5.5e+04. This might indicate that there are\n",
       "strong multicollinearity or other numerical problems.\n",
       "\"\"\""
      ],
      "text/html": "<table class=\"simpletable\">\n<caption>OLS Regression Results</caption>\n<tr>\n  <th>Dep. Variable:</th>          <td>Price</td>      <th>  R-squared:         </th> <td>   0.980</td> \n</tr>\n<tr>\n  <th>Model:</th>                   <td>OLS</td>       <th>  Adj. R-squared:    </th> <td>   0.979</td> \n</tr>\n<tr>\n  <th>Method:</th>             <td>Least Squares</td>  <th>  F-statistic:       </th> <td>   1054.</td> \n</tr>\n<tr>\n  <th>Date:</th>             <td>Thu, 05 Nov 2020</td> <th>  Prob (F-statistic):</th>  <td>  0.00</td>  \n</tr>\n<tr>\n  <th>Time:</th>                 <td>15:45:27</td>     <th>  Log-Likelihood:    </th> <td> -8914.9</td> \n</tr>\n<tr>\n  <th>No. Observations:</th>      <td>   814</td>      <th>  AIC:               </th> <td>1.790e+04</td>\n</tr>\n<tr>\n  <th>Df Residuals:</th>          <td>   777</td>      <th>  BIC:               </th> <td>1.808e+04</td>\n</tr>\n<tr>\n  <th>Df Model:</th>              <td>    36</td>      <th>                     </th>     <td> </td>    \n</tr>\n<tr>\n  <th>Covariance Type:</th>      <td>nonrobust</td>    <th>                     </th>     <td> </td>    \n</tr>\n</table>\n<table class=\"simpletable\">\n<tr>\n    <td></td>       <th>coef</th>     <th>std err</th>      <th>t</th>      <th>P>|t|</th>  <th>[0.025</th>    <th>0.975]</th>  \n</tr>\n<tr>\n  <th>const</th> <td> 5.069e+04</td> <td> 3106.976</td> <td>   16.315</td> <td> 0.000</td> <td> 4.46e+04</td> <td> 5.68e+04</td>\n</tr>\n<tr>\n  <th>x1</th>    <td>-2017.6192</td> <td>  942.554</td> <td>   -2.141</td> <td> 0.033</td> <td>-3867.874</td> <td> -167.365</td>\n</tr>\n<tr>\n  <th>x2</th>    <td>-4448.8887</td> <td> 1172.743</td> <td>   -3.794</td> <td> 0.000</td> <td>-6751.008</td> <td>-2146.769</td>\n</tr>\n<tr>\n  <th>x3</th>    <td>  129.5706</td> <td>    1.340</td> <td>   96.659</td> <td> 0.000</td> <td>  126.939</td> <td>  132.202</td>\n</tr>\n<tr>\n  <th>x4</th>    <td> 1.069e+05</td> <td> 8475.288</td> <td>   12.614</td> <td> 0.000</td> <td> 9.03e+04</td> <td> 1.24e+05</td>\n</tr>\n<tr>\n  <th>x5</th>    <td> 1.141e+05</td> <td> 1.42e+04</td> <td>    8.008</td> <td> 0.000</td> <td> 8.61e+04</td> <td> 1.42e+05</td>\n</tr>\n<tr>\n  <th>x6</th>    <td> 6.865e+04</td> <td> 3575.237</td> <td>   19.203</td> <td> 0.000</td> <td> 6.16e+04</td> <td> 7.57e+04</td>\n</tr>\n<tr>\n  <th>x7</th>    <td> 8.549e+04</td> <td> 1.42e+04</td> <td>    6.007</td> <td> 0.000</td> <td> 5.76e+04</td> <td> 1.13e+05</td>\n</tr>\n<tr>\n  <th>x8</th>    <td> 2.932e+04</td> <td> 1.42e+04</td> <td>    2.060</td> <td> 0.040</td> <td> 1378.288</td> <td> 5.73e+04</td>\n</tr>\n<tr>\n  <th>x9</th>    <td> 5.009e+04</td> <td> 1.02e+04</td> <td>    4.935</td> <td> 0.000</td> <td> 3.02e+04</td> <td>    7e+04</td>\n</tr>\n<tr>\n  <th>x10</th>   <td> 4.139e+04</td> <td> 8330.408</td> <td>    4.968</td> <td> 0.000</td> <td>  2.5e+04</td> <td> 5.77e+04</td>\n</tr>\n<tr>\n  <th>x11</th>   <td>-7288.1622</td> <td> 2161.970</td> <td>   -3.371</td> <td> 0.001</td> <td>-1.15e+04</td> <td>-3044.169</td>\n</tr>\n<tr>\n  <th>x12</th>   <td>    -5e+04</td> <td> 7269.371</td> <td>   -6.878</td> <td> 0.000</td> <td>-6.43e+04</td> <td>-3.57e+04</td>\n</tr>\n<tr>\n  <th>x13</th>   <td> 6.205e+04</td> <td> 5000.548</td> <td>   12.409</td> <td> 0.000</td> <td> 5.22e+04</td> <td> 7.19e+04</td>\n</tr>\n<tr>\n  <th>x14</th>   <td> 1.045e+05</td> <td> 4037.305</td> <td>   25.876</td> <td> 0.000</td> <td> 9.65e+04</td> <td> 1.12e+05</td>\n</tr>\n<tr>\n  <th>x15</th>   <td>-5293.7091</td> <td> 3565.469</td> <td>   -1.485</td> <td> 0.138</td> <td>-1.23e+04</td> <td> 1705.384</td>\n</tr>\n<tr>\n  <th>x16</th>   <td> 7.422e+04</td> <td> 8380.909</td> <td>    8.856</td> <td> 0.000</td> <td> 5.78e+04</td> <td> 9.07e+04</td>\n</tr>\n<tr>\n  <th>x17</th>   <td> 2.753e+05</td> <td> 8405.640</td> <td>   32.751</td> <td> 0.000</td> <td> 2.59e+05</td> <td> 2.92e+05</td>\n</tr>\n<tr>\n  <th>x18</th>   <td> 1537.9945</td> <td> 1.43e+04</td> <td>    0.107</td> <td> 0.915</td> <td>-2.66e+04</td> <td> 2.97e+04</td>\n</tr>\n<tr>\n  <th>x19</th>   <td> 3.267e+04</td> <td> 6005.295</td> <td>    5.441</td> <td> 0.000</td> <td> 2.09e+04</td> <td> 4.45e+04</td>\n</tr>\n<tr>\n  <th>x20</th>   <td> 3.632e+05</td> <td> 1.02e+04</td> <td>   35.576</td> <td> 0.000</td> <td> 3.43e+05</td> <td> 3.83e+05</td>\n</tr>\n<tr>\n  <th>x21</th>   <td> -5.58e+04</td> <td> 1.43e+04</td> <td>   -3.914</td> <td> 0.000</td> <td>-8.38e+04</td> <td>-2.78e+04</td>\n</tr>\n<tr>\n  <th>x22</th>   <td> 3.426e+04</td> <td> 1.43e+04</td> <td>    2.402</td> <td> 0.017</td> <td> 6262.733</td> <td> 6.23e+04</td>\n</tr>\n<tr>\n  <th>x23</th>   <td>-3.874e+04</td> <td> 3527.552</td> <td>  -10.981</td> <td> 0.000</td> <td>-4.57e+04</td> <td>-3.18e+04</td>\n</tr>\n<tr>\n  <th>x24</th>   <td> 4.276e+04</td> <td> 4569.253</td> <td>    9.358</td> <td> 0.000</td> <td> 3.38e+04</td> <td> 5.17e+04</td>\n</tr>\n<tr>\n  <th>x25</th>   <td> 3.184e+05</td> <td> 1.42e+04</td> <td>   22.368</td> <td> 0.000</td> <td>  2.9e+05</td> <td> 3.46e+05</td>\n</tr>\n<tr>\n  <th>x26</th>   <td> 1.587e+05</td> <td> 6537.172</td> <td>   24.283</td> <td> 0.000</td> <td> 1.46e+05</td> <td> 1.72e+05</td>\n</tr>\n<tr>\n  <th>x27</th>   <td> 4.133e+04</td> <td> 8338.280</td> <td>    4.956</td> <td> 0.000</td> <td>  2.5e+04</td> <td> 5.77e+04</td>\n</tr>\n<tr>\n  <th>x28</th>   <td>-2.236e+04</td> <td> 3501.891</td> <td>   -6.386</td> <td> 0.000</td> <td>-2.92e+04</td> <td>-1.55e+04</td>\n</tr>\n<tr>\n  <th>x29</th>   <td>-1.313e+04</td> <td> 1.02e+04</td> <td>   -1.285</td> <td> 0.199</td> <td>-3.32e+04</td> <td> 6924.754</td>\n</tr>\n<tr>\n  <th>x30</th>   <td> 2516.9007</td> <td> 4415.738</td> <td>    0.570</td> <td> 0.569</td> <td>-6151.289</td> <td> 1.12e+04</td>\n</tr>\n<tr>\n  <th>x31</th>   <td>  6.82e+04</td> <td> 5269.034</td> <td>   12.943</td> <td> 0.000</td> <td> 5.79e+04</td> <td> 7.85e+04</td>\n</tr>\n<tr>\n  <th>x32</th>   <td> 4.082e+04</td> <td> 3153.262</td> <td>   12.946</td> <td> 0.000</td> <td> 3.46e+04</td> <td>  4.7e+04</td>\n</tr>\n<tr>\n  <th>x33</th>   <td> -1.72e+04</td> <td> 1792.008</td> <td>   -9.596</td> <td> 0.000</td> <td>-2.07e+04</td> <td>-1.37e+04</td>\n</tr>\n<tr>\n  <th>x34</th>   <td>-7.682e+05</td> <td> 1.52e+04</td> <td>  -50.688</td> <td> 0.000</td> <td>-7.98e+05</td> <td>-7.38e+05</td>\n</tr>\n<tr>\n  <th>x35</th>   <td>  319.7793</td> <td> 4906.091</td> <td>    0.065</td> <td> 0.948</td> <td>-9310.985</td> <td> 9950.544</td>\n</tr>\n<tr>\n  <th>x36</th>   <td>-1020.4286</td> <td> 2444.010</td> <td>   -0.418</td> <td> 0.676</td> <td>-5818.074</td> <td> 3777.217</td>\n</tr>\n</table>\n<table class=\"simpletable\">\n<tr>\n  <th>Omnibus:</th>       <td>1143.856</td> <th>  Durbin-Watson:     </th>  <td>   2.026</td> \n</tr>\n<tr>\n  <th>Prob(Omnibus):</th>  <td> 0.000</td>  <th>  Jarque-Bera (JB):  </th> <td>242745.411</td>\n</tr>\n<tr>\n  <th>Skew:</th>           <td> 7.698</td>  <th>  Prob(JB):          </th>  <td>    0.00</td> \n</tr>\n<tr>\n  <th>Kurtosis:</th>       <td>86.187</td>  <th>  Cond. No.          </th>  <td>5.50e+04</td> \n</tr>\n</table><br/><br/>Notes:<br/>[1] Standard Errors assume that the covariance matrix of the errors is correctly specified.<br/>[2] The condition number is large, 5.5e+04. This might indicate that there are<br/>strong multicollinearity or other numerical problems."
     },
     "metadata": {},
     "execution_count": 38
    }
   ],
   "source": [
    "z=[0,1,2,3,4,5,6,8,9,10,11,12,13,14,15,16,17,18,19,20,21,22,23,24,25,26,27,28,29,30,31,32,33,34,35,39,40]\n",
    "x_opt = x[:,z]\n",
    "regressor = sm.OLS(endog=y,exog=x_opt).fit()\n",
    "regressor.summary()"
   ]
  },
  {
   "cell_type": "code",
   "execution_count": 39,
   "metadata": {},
   "outputs": [
    {
     "output_type": "execute_result",
     "data": {
      "text/plain": [
       "<class 'statsmodels.iolib.summary.Summary'>\n",
       "\"\"\"\n",
       "                            OLS Regression Results                            \n",
       "==============================================================================\n",
       "Dep. Variable:                  Price   R-squared:                       0.914\n",
       "Model:                            OLS   Adj. R-squared:                  0.910\n",
       "Method:                 Least Squares   F-statistic:                     235.0\n",
       "Date:                Thu, 05 Nov 2020   Prob (F-statistic):               0.00\n",
       "Time:                        15:45:55   Log-Likelihood:                -9509.2\n",
       "No. Observations:                 814   AIC:                         1.909e+04\n",
       "Df Residuals:                     778   BIC:                         1.926e+04\n",
       "Df Model:                          35                                         \n",
       "Covariance Type:            nonrobust                                         \n",
       "==============================================================================\n",
       "                 coef    std err          t      P>|t|      [0.025      0.975]\n",
       "------------------------------------------------------------------------------\n",
       "const       3.965e+04   6427.791      6.169      0.000     2.7e+04    5.23e+04\n",
       "x1          9229.2447   1899.849      4.858      0.000    5499.807     1.3e+04\n",
       "x2         -3454.9236   2431.837     -1.421      0.156   -8228.664    1318.817\n",
       "x3           108.3789      2.641     41.031      0.000     103.194     113.564\n",
       "x4          1.208e+05   1.76e+04      6.874      0.000    8.63e+04    1.55e+05\n",
       "x5          1.355e+05   2.95e+04      4.589      0.000    7.76e+04    1.94e+05\n",
       "x6          7.936e+04   7401.822     10.721      0.000    6.48e+04    9.39e+04\n",
       "x7          9.508e+04   2.95e+04      3.222      0.001    3.71e+04    1.53e+05\n",
       "x8          3.558e+04   2.95e+04      1.205      0.228   -2.24e+04    9.35e+04\n",
       "x9          6.315e+04    2.1e+04      3.001      0.003    2.18e+04    1.04e+05\n",
       "x10         5.053e+04   1.73e+04      2.925      0.004    1.66e+04    8.44e+04\n",
       "x11         6193.4012   4449.698      1.392      0.164   -2541.435    1.49e+04\n",
       "x12        -4.779e+04   1.51e+04     -3.170      0.002   -7.74e+04   -1.82e+04\n",
       "x13         7.556e+04   1.04e+04      7.297      0.000    5.52e+04    9.59e+04\n",
       "x14         1.213e+05   8344.577     14.540      0.000    1.05e+05    1.38e+05\n",
       "x15         2428.7806   7387.751      0.329      0.742   -1.21e+04    1.69e+04\n",
       "x16         9.912e+04   1.74e+04      5.713      0.000    6.51e+04    1.33e+05\n",
       "x17         2.973e+05   1.74e+04     17.077      0.000    2.63e+05    3.31e+05\n",
       "x18         4.056e+04   2.97e+04      1.365      0.173   -1.78e+04    9.89e+04\n",
       "x19         4.339e+04   1.24e+04      3.486      0.001     1.9e+04    6.78e+04\n",
       "x20         3.609e+05   2.12e+04     17.048      0.000    3.19e+05    4.02e+05\n",
       "x21        -3.273e+04   2.95e+04     -1.108      0.268   -9.07e+04    2.53e+04\n",
       "x22         3.974e+04   2.96e+04      1.343      0.180   -1.83e+04    9.78e+04\n",
       "x23        -3.576e+04   7314.850     -4.888      0.000   -5.01e+04   -2.14e+04\n",
       "x24         5.229e+04   9468.242      5.523      0.000    3.37e+04    7.09e+04\n",
       "x25         3.251e+05   2.95e+04     11.012      0.000    2.67e+05    3.83e+05\n",
       "x26         1.711e+05   1.35e+04     12.632      0.000    1.45e+05    1.98e+05\n",
       "x27         5.226e+04   1.73e+04      3.023      0.003    1.83e+04    8.62e+04\n",
       "x28        -1.134e+04   7248.631     -1.564      0.118   -2.56e+04    2890.039\n",
       "x29         1.663e+04   2.12e+04      0.786      0.432   -2.49e+04    5.82e+04\n",
       "x30         8238.7853   9154.905      0.900      0.368   -9732.456    2.62e+04\n",
       "x31         8.214e+04   1.09e+04      7.527      0.000    6.07e+04    1.04e+05\n",
       "x32         5.453e+04   6515.512      8.370      0.000    4.17e+04    6.73e+04\n",
       "x33        -9346.7079   3702.586     -2.524      0.012   -1.66e+04   -2078.465\n",
       "x34        -6455.7271   1.02e+04     -0.635      0.526   -2.64e+04    1.35e+04\n",
       "x35        -4428.6271   5066.769     -0.874      0.382   -1.44e+04    5517.530\n",
       "==============================================================================\n",
       "Omnibus:                     1595.841   Durbin-Watson:                   2.380\n",
       "Prob(Omnibus):                  0.000   Jarque-Bera (JB):          4698533.318\n",
       "Skew:                         -13.892   Prob(JB):                         0.00\n",
       "Kurtosis:                     374.160   Cond. No.                     5.28e+04\n",
       "==============================================================================\n",
       "\n",
       "Notes:\n",
       "[1] Standard Errors assume that the covariance matrix of the errors is correctly specified.\n",
       "[2] The condition number is large, 5.28e+04. This might indicate that there are\n",
       "strong multicollinearity or other numerical problems.\n",
       "\"\"\""
      ],
      "text/html": "<table class=\"simpletable\">\n<caption>OLS Regression Results</caption>\n<tr>\n  <th>Dep. Variable:</th>          <td>Price</td>      <th>  R-squared:         </th> <td>   0.914</td> \n</tr>\n<tr>\n  <th>Model:</th>                   <td>OLS</td>       <th>  Adj. R-squared:    </th> <td>   0.910</td> \n</tr>\n<tr>\n  <th>Method:</th>             <td>Least Squares</td>  <th>  F-statistic:       </th> <td>   235.0</td> \n</tr>\n<tr>\n  <th>Date:</th>             <td>Thu, 05 Nov 2020</td> <th>  Prob (F-statistic):</th>  <td>  0.00</td>  \n</tr>\n<tr>\n  <th>Time:</th>                 <td>15:45:55</td>     <th>  Log-Likelihood:    </th> <td> -9509.2</td> \n</tr>\n<tr>\n  <th>No. Observations:</th>      <td>   814</td>      <th>  AIC:               </th> <td>1.909e+04</td>\n</tr>\n<tr>\n  <th>Df Residuals:</th>          <td>   778</td>      <th>  BIC:               </th> <td>1.926e+04</td>\n</tr>\n<tr>\n  <th>Df Model:</th>              <td>    35</td>      <th>                     </th>     <td> </td>    \n</tr>\n<tr>\n  <th>Covariance Type:</th>      <td>nonrobust</td>    <th>                     </th>     <td> </td>    \n</tr>\n</table>\n<table class=\"simpletable\">\n<tr>\n    <td></td>       <th>coef</th>     <th>std err</th>      <th>t</th>      <th>P>|t|</th>  <th>[0.025</th>    <th>0.975]</th>  \n</tr>\n<tr>\n  <th>const</th> <td> 3.965e+04</td> <td> 6427.791</td> <td>    6.169</td> <td> 0.000</td> <td>  2.7e+04</td> <td> 5.23e+04</td>\n</tr>\n<tr>\n  <th>x1</th>    <td> 9229.2447</td> <td> 1899.849</td> <td>    4.858</td> <td> 0.000</td> <td> 5499.807</td> <td>  1.3e+04</td>\n</tr>\n<tr>\n  <th>x2</th>    <td>-3454.9236</td> <td> 2431.837</td> <td>   -1.421</td> <td> 0.156</td> <td>-8228.664</td> <td> 1318.817</td>\n</tr>\n<tr>\n  <th>x3</th>    <td>  108.3789</td> <td>    2.641</td> <td>   41.031</td> <td> 0.000</td> <td>  103.194</td> <td>  113.564</td>\n</tr>\n<tr>\n  <th>x4</th>    <td> 1.208e+05</td> <td> 1.76e+04</td> <td>    6.874</td> <td> 0.000</td> <td> 8.63e+04</td> <td> 1.55e+05</td>\n</tr>\n<tr>\n  <th>x5</th>    <td> 1.355e+05</td> <td> 2.95e+04</td> <td>    4.589</td> <td> 0.000</td> <td> 7.76e+04</td> <td> 1.94e+05</td>\n</tr>\n<tr>\n  <th>x6</th>    <td> 7.936e+04</td> <td> 7401.822</td> <td>   10.721</td> <td> 0.000</td> <td> 6.48e+04</td> <td> 9.39e+04</td>\n</tr>\n<tr>\n  <th>x7</th>    <td> 9.508e+04</td> <td> 2.95e+04</td> <td>    3.222</td> <td> 0.001</td> <td> 3.71e+04</td> <td> 1.53e+05</td>\n</tr>\n<tr>\n  <th>x8</th>    <td> 3.558e+04</td> <td> 2.95e+04</td> <td>    1.205</td> <td> 0.228</td> <td>-2.24e+04</td> <td> 9.35e+04</td>\n</tr>\n<tr>\n  <th>x9</th>    <td> 6.315e+04</td> <td>  2.1e+04</td> <td>    3.001</td> <td> 0.003</td> <td> 2.18e+04</td> <td> 1.04e+05</td>\n</tr>\n<tr>\n  <th>x10</th>   <td> 5.053e+04</td> <td> 1.73e+04</td> <td>    2.925</td> <td> 0.004</td> <td> 1.66e+04</td> <td> 8.44e+04</td>\n</tr>\n<tr>\n  <th>x11</th>   <td> 6193.4012</td> <td> 4449.698</td> <td>    1.392</td> <td> 0.164</td> <td>-2541.435</td> <td> 1.49e+04</td>\n</tr>\n<tr>\n  <th>x12</th>   <td>-4.779e+04</td> <td> 1.51e+04</td> <td>   -3.170</td> <td> 0.002</td> <td>-7.74e+04</td> <td>-1.82e+04</td>\n</tr>\n<tr>\n  <th>x13</th>   <td> 7.556e+04</td> <td> 1.04e+04</td> <td>    7.297</td> <td> 0.000</td> <td> 5.52e+04</td> <td> 9.59e+04</td>\n</tr>\n<tr>\n  <th>x14</th>   <td> 1.213e+05</td> <td> 8344.577</td> <td>   14.540</td> <td> 0.000</td> <td> 1.05e+05</td> <td> 1.38e+05</td>\n</tr>\n<tr>\n  <th>x15</th>   <td> 2428.7806</td> <td> 7387.751</td> <td>    0.329</td> <td> 0.742</td> <td>-1.21e+04</td> <td> 1.69e+04</td>\n</tr>\n<tr>\n  <th>x16</th>   <td> 9.912e+04</td> <td> 1.74e+04</td> <td>    5.713</td> <td> 0.000</td> <td> 6.51e+04</td> <td> 1.33e+05</td>\n</tr>\n<tr>\n  <th>x17</th>   <td> 2.973e+05</td> <td> 1.74e+04</td> <td>   17.077</td> <td> 0.000</td> <td> 2.63e+05</td> <td> 3.31e+05</td>\n</tr>\n<tr>\n  <th>x18</th>   <td> 4.056e+04</td> <td> 2.97e+04</td> <td>    1.365</td> <td> 0.173</td> <td>-1.78e+04</td> <td> 9.89e+04</td>\n</tr>\n<tr>\n  <th>x19</th>   <td> 4.339e+04</td> <td> 1.24e+04</td> <td>    3.486</td> <td> 0.001</td> <td>  1.9e+04</td> <td> 6.78e+04</td>\n</tr>\n<tr>\n  <th>x20</th>   <td> 3.609e+05</td> <td> 2.12e+04</td> <td>   17.048</td> <td> 0.000</td> <td> 3.19e+05</td> <td> 4.02e+05</td>\n</tr>\n<tr>\n  <th>x21</th>   <td>-3.273e+04</td> <td> 2.95e+04</td> <td>   -1.108</td> <td> 0.268</td> <td>-9.07e+04</td> <td> 2.53e+04</td>\n</tr>\n<tr>\n  <th>x22</th>   <td> 3.974e+04</td> <td> 2.96e+04</td> <td>    1.343</td> <td> 0.180</td> <td>-1.83e+04</td> <td> 9.78e+04</td>\n</tr>\n<tr>\n  <th>x23</th>   <td>-3.576e+04</td> <td> 7314.850</td> <td>   -4.888</td> <td> 0.000</td> <td>-5.01e+04</td> <td>-2.14e+04</td>\n</tr>\n<tr>\n  <th>x24</th>   <td> 5.229e+04</td> <td> 9468.242</td> <td>    5.523</td> <td> 0.000</td> <td> 3.37e+04</td> <td> 7.09e+04</td>\n</tr>\n<tr>\n  <th>x25</th>   <td> 3.251e+05</td> <td> 2.95e+04</td> <td>   11.012</td> <td> 0.000</td> <td> 2.67e+05</td> <td> 3.83e+05</td>\n</tr>\n<tr>\n  <th>x26</th>   <td> 1.711e+05</td> <td> 1.35e+04</td> <td>   12.632</td> <td> 0.000</td> <td> 1.45e+05</td> <td> 1.98e+05</td>\n</tr>\n<tr>\n  <th>x27</th>   <td> 5.226e+04</td> <td> 1.73e+04</td> <td>    3.023</td> <td> 0.003</td> <td> 1.83e+04</td> <td> 8.62e+04</td>\n</tr>\n<tr>\n  <th>x28</th>   <td>-1.134e+04</td> <td> 7248.631</td> <td>   -1.564</td> <td> 0.118</td> <td>-2.56e+04</td> <td> 2890.039</td>\n</tr>\n<tr>\n  <th>x29</th>   <td> 1.663e+04</td> <td> 2.12e+04</td> <td>    0.786</td> <td> 0.432</td> <td>-2.49e+04</td> <td> 5.82e+04</td>\n</tr>\n<tr>\n  <th>x30</th>   <td> 8238.7853</td> <td> 9154.905</td> <td>    0.900</td> <td> 0.368</td> <td>-9732.456</td> <td> 2.62e+04</td>\n</tr>\n<tr>\n  <th>x31</th>   <td> 8.214e+04</td> <td> 1.09e+04</td> <td>    7.527</td> <td> 0.000</td> <td> 6.07e+04</td> <td> 1.04e+05</td>\n</tr>\n<tr>\n  <th>x32</th>   <td> 5.453e+04</td> <td> 6515.512</td> <td>    8.370</td> <td> 0.000</td> <td> 4.17e+04</td> <td> 6.73e+04</td>\n</tr>\n<tr>\n  <th>x33</th>   <td>-9346.7079</td> <td> 3702.586</td> <td>   -2.524</td> <td> 0.012</td> <td>-1.66e+04</td> <td>-2078.465</td>\n</tr>\n<tr>\n  <th>x34</th>   <td>-6455.7271</td> <td> 1.02e+04</td> <td>   -0.635</td> <td> 0.526</td> <td>-2.64e+04</td> <td> 1.35e+04</td>\n</tr>\n<tr>\n  <th>x35</th>   <td>-4428.6271</td> <td> 5066.769</td> <td>   -0.874</td> <td> 0.382</td> <td>-1.44e+04</td> <td> 5517.530</td>\n</tr>\n</table>\n<table class=\"simpletable\">\n<tr>\n  <th>Omnibus:</th>       <td>1595.841</td> <th>  Durbin-Watson:     </th>  <td>   2.380</td>  \n</tr>\n<tr>\n  <th>Prob(Omnibus):</th>  <td> 0.000</td>  <th>  Jarque-Bera (JB):  </th> <td>4698533.318</td>\n</tr>\n<tr>\n  <th>Skew:</th>           <td>-13.892</td> <th>  Prob(JB):          </th>  <td>    0.00</td>  \n</tr>\n<tr>\n  <th>Kurtosis:</th>       <td>374.160</td> <th>  Cond. No.          </th>  <td>5.28e+04</td>  \n</tr>\n</table><br/><br/>Notes:<br/>[1] Standard Errors assume that the covariance matrix of the errors is correctly specified.<br/>[2] The condition number is large, 5.28e+04. This might indicate that there are<br/>strong multicollinearity or other numerical problems."
     },
     "metadata": {},
     "execution_count": 39
    }
   ],
   "source": [
    "z=[0,1,2,3,4,5,6,8,9,10,11,12,13,14,15,16,17,18,19,20,21,22,23,24,25,26,27,28,29,30,31,32,33,34,39,40]\n",
    "x_opt = x[:,z]\n",
    "regressor = sm.OLS(endog=y,exog=x_opt).fit()\n",
    "regressor.summary()"
   ]
  },
  {
   "cell_type": "code",
   "execution_count": 42,
   "metadata": {},
   "outputs": [
    {
     "output_type": "execute_result",
     "data": {
      "text/plain": [
       "<class 'statsmodels.iolib.summary.Summary'>\n",
       "\"\"\"\n",
       "                            OLS Regression Results                            \n",
       "==============================================================================\n",
       "Dep. Variable:                  Price   R-squared:                       0.890\n",
       "Model:                            OLS   Adj. R-squared:                  0.885\n",
       "Method:                 Least Squares   F-statistic:                     185.6\n",
       "Date:                Thu, 05 Nov 2020   Prob (F-statistic):               0.00\n",
       "Time:                        15:50:20   Log-Likelihood:                -9607.0\n",
       "No. Observations:                 814   AIC:                         1.928e+04\n",
       "Df Residuals:                     779   BIC:                         1.945e+04\n",
       "Df Model:                          34                                         \n",
       "Covariance Type:            nonrobust                                         \n",
       "==============================================================================\n",
       "                 coef    std err          t      P>|t|      [0.025      0.975]\n",
       "------------------------------------------------------------------------------\n",
       "const       5.584e+04   7134.656      7.826      0.000    4.18e+04    6.98e+04\n",
       "x1          8950.4761   2141.010      4.180      0.000    4747.643    1.32e+04\n",
       "x2         -3855.9959   2740.491     -1.407      0.160   -9235.618    1523.626\n",
       "x3           111.6377      2.966     37.638      0.000     105.815     117.460\n",
       "x4          1.022e+05   1.97e+04      5.174      0.000    6.34e+04    1.41e+05\n",
       "x5          1.143e+05   3.32e+04      3.437      0.001     4.9e+04     1.8e+05\n",
       "x6          5.958e+04   8199.711      7.266      0.000    4.35e+04    7.57e+04\n",
       "x7          7.564e+04   3.32e+04      2.276      0.023    1.04e+04    1.41e+05\n",
       "x8          1.665e+04   3.32e+04      0.501      0.617   -4.86e+04    8.19e+04\n",
       "x9          4.377e+04   2.37e+04      1.850      0.065   -2686.595    9.02e+04\n",
       "x10         3.019e+04   1.94e+04      1.556      0.120   -7900.419    6.83e+04\n",
       "x11        -1.463e+04   4747.893     -3.082      0.002    -2.4e+04   -5312.374\n",
       "x12        -6.646e+04   1.69e+04     -3.926      0.000   -9.97e+04   -3.32e+04\n",
       "x13         5.548e+04   1.16e+04      4.796      0.000    3.28e+04    7.82e+04\n",
       "x14        -1.743e+04   8182.466     -2.130      0.033   -3.35e+04   -1365.984\n",
       "x15         7.732e+04   1.95e+04      3.969      0.000    3.91e+04    1.16e+05\n",
       "x16         2.738e+05   1.95e+04     14.014      0.000    2.35e+05    3.12e+05\n",
       "x17         1.659e+04   3.34e+04      0.496      0.620    -4.9e+04    8.22e+04\n",
       "x18         2.357e+04   1.39e+04      1.691      0.091   -3797.415    5.09e+04\n",
       "x19         3.421e+05   2.38e+04     14.365      0.000    2.95e+05    3.89e+05\n",
       "x20        -5.425e+04   3.33e+04     -1.631      0.103    -1.2e+05     1.1e+04\n",
       "x21         2.068e+04   3.33e+04      0.621      0.535   -4.47e+04     8.6e+04\n",
       "x22        -5.436e+04   8116.719     -6.697      0.000   -7.03e+04   -3.84e+04\n",
       "x23         3.233e+04   1.06e+04      3.062      0.002    1.16e+04    5.31e+04\n",
       "x24         3.061e+05   3.32e+04      9.209      0.000    2.41e+05    3.71e+05\n",
       "x25          1.51e+05   1.52e+04      9.943      0.000    1.21e+05    1.81e+05\n",
       "x26         3.301e+04   1.94e+04      1.700      0.090   -5118.051    7.11e+04\n",
       "x27        -3.156e+04   8017.424     -3.936      0.000   -4.73e+04   -1.58e+04\n",
       "x28        -7242.4660   2.38e+04     -0.305      0.761   -5.39e+04    3.94e+04\n",
       "x29        -1.057e+04   1.02e+04     -1.035      0.301   -3.06e+04    9478.270\n",
       "x30         6.151e+04   1.22e+04      5.044      0.000    3.76e+04    8.54e+04\n",
       "x31         3.416e+04   7171.088      4.763      0.000    2.01e+04    4.82e+04\n",
       "x32        -2.871e+04   3893.586     -7.373      0.000   -3.64e+04   -2.11e+04\n",
       "x33        -8951.6854   1.15e+04     -0.781      0.435   -3.15e+04    1.35e+04\n",
       "x34        -4278.1983   5710.209     -0.749      0.454   -1.55e+04    6931.021\n",
       "==============================================================================\n",
       "Omnibus:                     1444.699   Durbin-Watson:                   2.209\n",
       "Prob(Omnibus):                  0.000   Jarque-Bera (JB):          2575044.637\n",
       "Skew:                         -11.265   Prob(JB):                         0.00\n",
       "Kurtosis:                     277.618   Cond. No.                     5.20e+04\n",
       "==============================================================================\n",
       "\n",
       "Notes:\n",
       "[1] Standard Errors assume that the covariance matrix of the errors is correctly specified.\n",
       "[2] The condition number is large, 5.2e+04. This might indicate that there are\n",
       "strong multicollinearity or other numerical problems.\n",
       "\"\"\""
      ],
      "text/html": "<table class=\"simpletable\">\n<caption>OLS Regression Results</caption>\n<tr>\n  <th>Dep. Variable:</th>          <td>Price</td>      <th>  R-squared:         </th> <td>   0.890</td> \n</tr>\n<tr>\n  <th>Model:</th>                   <td>OLS</td>       <th>  Adj. R-squared:    </th> <td>   0.885</td> \n</tr>\n<tr>\n  <th>Method:</th>             <td>Least Squares</td>  <th>  F-statistic:       </th> <td>   185.6</td> \n</tr>\n<tr>\n  <th>Date:</th>             <td>Thu, 05 Nov 2020</td> <th>  Prob (F-statistic):</th>  <td>  0.00</td>  \n</tr>\n<tr>\n  <th>Time:</th>                 <td>15:50:20</td>     <th>  Log-Likelihood:    </th> <td> -9607.0</td> \n</tr>\n<tr>\n  <th>No. Observations:</th>      <td>   814</td>      <th>  AIC:               </th> <td>1.928e+04</td>\n</tr>\n<tr>\n  <th>Df Residuals:</th>          <td>   779</td>      <th>  BIC:               </th> <td>1.945e+04</td>\n</tr>\n<tr>\n  <th>Df Model:</th>              <td>    34</td>      <th>                     </th>     <td> </td>    \n</tr>\n<tr>\n  <th>Covariance Type:</th>      <td>nonrobust</td>    <th>                     </th>     <td> </td>    \n</tr>\n</table>\n<table class=\"simpletable\">\n<tr>\n    <td></td>       <th>coef</th>     <th>std err</th>      <th>t</th>      <th>P>|t|</th>  <th>[0.025</th>    <th>0.975]</th>  \n</tr>\n<tr>\n  <th>const</th> <td> 5.584e+04</td> <td> 7134.656</td> <td>    7.826</td> <td> 0.000</td> <td> 4.18e+04</td> <td> 6.98e+04</td>\n</tr>\n<tr>\n  <th>x1</th>    <td> 8950.4761</td> <td> 2141.010</td> <td>    4.180</td> <td> 0.000</td> <td> 4747.643</td> <td> 1.32e+04</td>\n</tr>\n<tr>\n  <th>x2</th>    <td>-3855.9959</td> <td> 2740.491</td> <td>   -1.407</td> <td> 0.160</td> <td>-9235.618</td> <td> 1523.626</td>\n</tr>\n<tr>\n  <th>x3</th>    <td>  111.6377</td> <td>    2.966</td> <td>   37.638</td> <td> 0.000</td> <td>  105.815</td> <td>  117.460</td>\n</tr>\n<tr>\n  <th>x4</th>    <td> 1.022e+05</td> <td> 1.97e+04</td> <td>    5.174</td> <td> 0.000</td> <td> 6.34e+04</td> <td> 1.41e+05</td>\n</tr>\n<tr>\n  <th>x5</th>    <td> 1.143e+05</td> <td> 3.32e+04</td> <td>    3.437</td> <td> 0.001</td> <td>  4.9e+04</td> <td>  1.8e+05</td>\n</tr>\n<tr>\n  <th>x6</th>    <td> 5.958e+04</td> <td> 8199.711</td> <td>    7.266</td> <td> 0.000</td> <td> 4.35e+04</td> <td> 7.57e+04</td>\n</tr>\n<tr>\n  <th>x7</th>    <td> 7.564e+04</td> <td> 3.32e+04</td> <td>    2.276</td> <td> 0.023</td> <td> 1.04e+04</td> <td> 1.41e+05</td>\n</tr>\n<tr>\n  <th>x8</th>    <td> 1.665e+04</td> <td> 3.32e+04</td> <td>    0.501</td> <td> 0.617</td> <td>-4.86e+04</td> <td> 8.19e+04</td>\n</tr>\n<tr>\n  <th>x9</th>    <td> 4.377e+04</td> <td> 2.37e+04</td> <td>    1.850</td> <td> 0.065</td> <td>-2686.595</td> <td> 9.02e+04</td>\n</tr>\n<tr>\n  <th>x10</th>   <td> 3.019e+04</td> <td> 1.94e+04</td> <td>    1.556</td> <td> 0.120</td> <td>-7900.419</td> <td> 6.83e+04</td>\n</tr>\n<tr>\n  <th>x11</th>   <td>-1.463e+04</td> <td> 4747.893</td> <td>   -3.082</td> <td> 0.002</td> <td> -2.4e+04</td> <td>-5312.374</td>\n</tr>\n<tr>\n  <th>x12</th>   <td>-6.646e+04</td> <td> 1.69e+04</td> <td>   -3.926</td> <td> 0.000</td> <td>-9.97e+04</td> <td>-3.32e+04</td>\n</tr>\n<tr>\n  <th>x13</th>   <td> 5.548e+04</td> <td> 1.16e+04</td> <td>    4.796</td> <td> 0.000</td> <td> 3.28e+04</td> <td> 7.82e+04</td>\n</tr>\n<tr>\n  <th>x14</th>   <td>-1.743e+04</td> <td> 8182.466</td> <td>   -2.130</td> <td> 0.033</td> <td>-3.35e+04</td> <td>-1365.984</td>\n</tr>\n<tr>\n  <th>x15</th>   <td> 7.732e+04</td> <td> 1.95e+04</td> <td>    3.969</td> <td> 0.000</td> <td> 3.91e+04</td> <td> 1.16e+05</td>\n</tr>\n<tr>\n  <th>x16</th>   <td> 2.738e+05</td> <td> 1.95e+04</td> <td>   14.014</td> <td> 0.000</td> <td> 2.35e+05</td> <td> 3.12e+05</td>\n</tr>\n<tr>\n  <th>x17</th>   <td> 1.659e+04</td> <td> 3.34e+04</td> <td>    0.496</td> <td> 0.620</td> <td> -4.9e+04</td> <td> 8.22e+04</td>\n</tr>\n<tr>\n  <th>x18</th>   <td> 2.357e+04</td> <td> 1.39e+04</td> <td>    1.691</td> <td> 0.091</td> <td>-3797.415</td> <td> 5.09e+04</td>\n</tr>\n<tr>\n  <th>x19</th>   <td> 3.421e+05</td> <td> 2.38e+04</td> <td>   14.365</td> <td> 0.000</td> <td> 2.95e+05</td> <td> 3.89e+05</td>\n</tr>\n<tr>\n  <th>x20</th>   <td>-5.425e+04</td> <td> 3.33e+04</td> <td>   -1.631</td> <td> 0.103</td> <td> -1.2e+05</td> <td>  1.1e+04</td>\n</tr>\n<tr>\n  <th>x21</th>   <td> 2.068e+04</td> <td> 3.33e+04</td> <td>    0.621</td> <td> 0.535</td> <td>-4.47e+04</td> <td>  8.6e+04</td>\n</tr>\n<tr>\n  <th>x22</th>   <td>-5.436e+04</td> <td> 8116.719</td> <td>   -6.697</td> <td> 0.000</td> <td>-7.03e+04</td> <td>-3.84e+04</td>\n</tr>\n<tr>\n  <th>x23</th>   <td> 3.233e+04</td> <td> 1.06e+04</td> <td>    3.062</td> <td> 0.002</td> <td> 1.16e+04</td> <td> 5.31e+04</td>\n</tr>\n<tr>\n  <th>x24</th>   <td> 3.061e+05</td> <td> 3.32e+04</td> <td>    9.209</td> <td> 0.000</td> <td> 2.41e+05</td> <td> 3.71e+05</td>\n</tr>\n<tr>\n  <th>x25</th>   <td>  1.51e+05</td> <td> 1.52e+04</td> <td>    9.943</td> <td> 0.000</td> <td> 1.21e+05</td> <td> 1.81e+05</td>\n</tr>\n<tr>\n  <th>x26</th>   <td> 3.301e+04</td> <td> 1.94e+04</td> <td>    1.700</td> <td> 0.090</td> <td>-5118.051</td> <td> 7.11e+04</td>\n</tr>\n<tr>\n  <th>x27</th>   <td>-3.156e+04</td> <td> 8017.424</td> <td>   -3.936</td> <td> 0.000</td> <td>-4.73e+04</td> <td>-1.58e+04</td>\n</tr>\n<tr>\n  <th>x28</th>   <td>-7242.4660</td> <td> 2.38e+04</td> <td>   -0.305</td> <td> 0.761</td> <td>-5.39e+04</td> <td> 3.94e+04</td>\n</tr>\n<tr>\n  <th>x29</th>   <td>-1.057e+04</td> <td> 1.02e+04</td> <td>   -1.035</td> <td> 0.301</td> <td>-3.06e+04</td> <td> 9478.270</td>\n</tr>\n<tr>\n  <th>x30</th>   <td> 6.151e+04</td> <td> 1.22e+04</td> <td>    5.044</td> <td> 0.000</td> <td> 3.76e+04</td> <td> 8.54e+04</td>\n</tr>\n<tr>\n  <th>x31</th>   <td> 3.416e+04</td> <td> 7171.088</td> <td>    4.763</td> <td> 0.000</td> <td> 2.01e+04</td> <td> 4.82e+04</td>\n</tr>\n<tr>\n  <th>x32</th>   <td>-2.871e+04</td> <td> 3893.586</td> <td>   -7.373</td> <td> 0.000</td> <td>-3.64e+04</td> <td>-2.11e+04</td>\n</tr>\n<tr>\n  <th>x33</th>   <td>-8951.6854</td> <td> 1.15e+04</td> <td>   -0.781</td> <td> 0.435</td> <td>-3.15e+04</td> <td> 1.35e+04</td>\n</tr>\n<tr>\n  <th>x34</th>   <td>-4278.1983</td> <td> 5710.209</td> <td>   -0.749</td> <td> 0.454</td> <td>-1.55e+04</td> <td> 6931.021</td>\n</tr>\n</table>\n<table class=\"simpletable\">\n<tr>\n  <th>Omnibus:</th>       <td>1444.699</td> <th>  Durbin-Watson:     </th>  <td>   2.209</td>  \n</tr>\n<tr>\n  <th>Prob(Omnibus):</th>  <td> 0.000</td>  <th>  Jarque-Bera (JB):  </th> <td>2575044.637</td>\n</tr>\n<tr>\n  <th>Skew:</th>           <td>-11.265</td> <th>  Prob(JB):          </th>  <td>    0.00</td>  \n</tr>\n<tr>\n  <th>Kurtosis:</th>       <td>277.618</td> <th>  Cond. No.          </th>  <td>5.20e+04</td>  \n</tr>\n</table><br/><br/>Notes:<br/>[1] Standard Errors assume that the covariance matrix of the errors is correctly specified.<br/>[2] The condition number is large, 5.2e+04. This might indicate that there are<br/>strong multicollinearity or other numerical problems."
     },
     "metadata": {},
     "execution_count": 42
    }
   ],
   "source": [
    "z=[0,1,2,3,4,5,6,8,9,10,11,12,13,14,16,17,18,19,20,21,22,23,24,25,26,27,28,29,30,31,32,33,34,39,40]\n",
    "x_opt = x[:,z]\n",
    "regressor = sm.OLS(endog=y,exog=x_opt).fit()\n",
    "regressor.summary()"
   ]
  },
  {
   "cell_type": "code",
   "execution_count": 43,
   "metadata": {},
   "outputs": [
    {
     "output_type": "execute_result",
     "data": {
      "text/plain": [
       "<class 'statsmodels.iolib.summary.Summary'>\n",
       "\"\"\"\n",
       "                            OLS Regression Results                            \n",
       "==============================================================================\n",
       "Dep. Variable:                  Price   R-squared:                       0.890\n",
       "Model:                            OLS   Adj. R-squared:                  0.885\n",
       "Method:                 Least Squares   F-statistic:                     190.7\n",
       "Date:                Thu, 05 Nov 2020   Prob (F-statistic):               0.00\n",
       "Time:                        15:51:17   Log-Likelihood:                -9608.5\n",
       "No. Observations:                 814   AIC:                         1.929e+04\n",
       "Df Residuals:                     780   BIC:                         1.944e+04\n",
       "Df Model:                          33                                         \n",
       "Covariance Type:            nonrobust                                         \n",
       "==============================================================================\n",
       "                 coef    std err          t      P>|t|      [0.025      0.975]\n",
       "------------------------------------------------------------------------------\n",
       "const       5.718e+04   7099.651      8.053      0.000    4.32e+04    7.11e+04\n",
       "x1          8818.3810   2142.188      4.117      0.000    4613.245     1.3e+04\n",
       "x2         -3912.0166   2743.608     -1.426      0.154   -9297.747    1473.714\n",
       "x3           111.6404      2.970     37.593      0.000     105.811     117.470\n",
       "x4          1.011e+05   1.98e+04      5.115      0.000    6.23e+04     1.4e+05\n",
       "x5          1.131e+05   3.33e+04      3.400      0.001    4.78e+04    1.78e+05\n",
       "x6          5.849e+04   8184.704      7.146      0.000    4.24e+04    7.46e+04\n",
       "x7          7.451e+04   3.33e+04      2.240      0.025    9222.838     1.4e+05\n",
       "x8          1.552e+04   3.33e+04      0.467      0.641   -4.98e+04    8.08e+04\n",
       "x9          4.255e+04   2.37e+04      1.797      0.073   -3942.093    8.91e+04\n",
       "x10         2.915e+04   1.94e+04      1.501      0.134   -8967.370    6.73e+04\n",
       "x11        -1.565e+04   4715.396     -3.320      0.001   -2.49e+04   -6397.649\n",
       "x12        -6.755e+04   1.69e+04     -3.989      0.000   -1.01e+05   -3.43e+04\n",
       "x13         5.438e+04   1.16e+04      4.703      0.000    3.17e+04    7.71e+04\n",
       "x14        -1.848e+04   8168.715     -2.263      0.024   -3.45e+04   -2448.936\n",
       "x15          7.62e+04   1.95e+04      3.909      0.000    3.79e+04    1.14e+05\n",
       "x16         2.729e+05   1.96e+04     13.958      0.000    2.35e+05    3.11e+05\n",
       "x17         1.546e+04   3.35e+04      0.462      0.644   -5.02e+04    8.12e+04\n",
       "x18         2.248e+04   1.39e+04      1.612      0.107   -4897.276    4.99e+04\n",
       "x19         3.411e+05   2.38e+04     14.312      0.000    2.94e+05    3.88e+05\n",
       "x20        -5.538e+04   3.33e+04     -1.663      0.097   -1.21e+05    9979.599\n",
       "x21         1.949e+04   3.33e+04      0.585      0.559   -4.59e+04    8.49e+04\n",
       "x22         -5.55e+04   8098.546     -6.853      0.000   -7.14e+04   -3.96e+04\n",
       "x23         3.125e+04   1.06e+04      2.962      0.003    1.05e+04     5.2e+04\n",
       "x24         3.049e+05   3.33e+04      9.166      0.000     2.4e+05     3.7e+05\n",
       "x25         1.499e+05   1.52e+04      9.869      0.000     1.2e+05     1.8e+05\n",
       "x26        -3.259e+04   8003.910     -4.072      0.000   -4.83e+04   -1.69e+04\n",
       "x27        -8213.4909   2.38e+04     -0.345      0.730   -5.49e+04    3.85e+04\n",
       "x28        -1.173e+04   1.02e+04     -1.149      0.251   -3.18e+04    8301.798\n",
       "x29         6.044e+04   1.22e+04      4.957      0.000    3.65e+04    8.44e+04\n",
       "x30         3.308e+04   7151.889      4.626      0.000     1.9e+04    4.71e+04\n",
       "x31        -2.981e+04   3843.542     -7.757      0.000   -3.74e+04   -2.23e+04\n",
       "x32        -8519.1796   1.15e+04     -0.743      0.458    -3.1e+04     1.4e+04\n",
       "x33        -3984.9267   5714.506     -0.697      0.486   -1.52e+04    7232.706\n",
       "==============================================================================\n",
       "Omnibus:                     1445.813   Durbin-Watson:                   2.205\n",
       "Prob(Omnibus):                  0.000   Jarque-Bera (JB):          2563816.904\n",
       "Skew:                         -11.287   Prob(JB):                         0.00\n",
       "Kurtosis:                     277.011   Cond. No.                     5.18e+04\n",
       "==============================================================================\n",
       "\n",
       "Notes:\n",
       "[1] Standard Errors assume that the covariance matrix of the errors is correctly specified.\n",
       "[2] The condition number is large, 5.18e+04. This might indicate that there are\n",
       "strong multicollinearity or other numerical problems.\n",
       "\"\"\""
      ],
      "text/html": "<table class=\"simpletable\">\n<caption>OLS Regression Results</caption>\n<tr>\n  <th>Dep. Variable:</th>          <td>Price</td>      <th>  R-squared:         </th> <td>   0.890</td> \n</tr>\n<tr>\n  <th>Model:</th>                   <td>OLS</td>       <th>  Adj. R-squared:    </th> <td>   0.885</td> \n</tr>\n<tr>\n  <th>Method:</th>             <td>Least Squares</td>  <th>  F-statistic:       </th> <td>   190.7</td> \n</tr>\n<tr>\n  <th>Date:</th>             <td>Thu, 05 Nov 2020</td> <th>  Prob (F-statistic):</th>  <td>  0.00</td>  \n</tr>\n<tr>\n  <th>Time:</th>                 <td>15:51:17</td>     <th>  Log-Likelihood:    </th> <td> -9608.5</td> \n</tr>\n<tr>\n  <th>No. Observations:</th>      <td>   814</td>      <th>  AIC:               </th> <td>1.929e+04</td>\n</tr>\n<tr>\n  <th>Df Residuals:</th>          <td>   780</td>      <th>  BIC:               </th> <td>1.944e+04</td>\n</tr>\n<tr>\n  <th>Df Model:</th>              <td>    33</td>      <th>                     </th>     <td> </td>    \n</tr>\n<tr>\n  <th>Covariance Type:</th>      <td>nonrobust</td>    <th>                     </th>     <td> </td>    \n</tr>\n</table>\n<table class=\"simpletable\">\n<tr>\n    <td></td>       <th>coef</th>     <th>std err</th>      <th>t</th>      <th>P>|t|</th>  <th>[0.025</th>    <th>0.975]</th>  \n</tr>\n<tr>\n  <th>const</th> <td> 5.718e+04</td> <td> 7099.651</td> <td>    8.053</td> <td> 0.000</td> <td> 4.32e+04</td> <td> 7.11e+04</td>\n</tr>\n<tr>\n  <th>x1</th>    <td> 8818.3810</td> <td> 2142.188</td> <td>    4.117</td> <td> 0.000</td> <td> 4613.245</td> <td>  1.3e+04</td>\n</tr>\n<tr>\n  <th>x2</th>    <td>-3912.0166</td> <td> 2743.608</td> <td>   -1.426</td> <td> 0.154</td> <td>-9297.747</td> <td> 1473.714</td>\n</tr>\n<tr>\n  <th>x3</th>    <td>  111.6404</td> <td>    2.970</td> <td>   37.593</td> <td> 0.000</td> <td>  105.811</td> <td>  117.470</td>\n</tr>\n<tr>\n  <th>x4</th>    <td> 1.011e+05</td> <td> 1.98e+04</td> <td>    5.115</td> <td> 0.000</td> <td> 6.23e+04</td> <td>  1.4e+05</td>\n</tr>\n<tr>\n  <th>x5</th>    <td> 1.131e+05</td> <td> 3.33e+04</td> <td>    3.400</td> <td> 0.001</td> <td> 4.78e+04</td> <td> 1.78e+05</td>\n</tr>\n<tr>\n  <th>x6</th>    <td> 5.849e+04</td> <td> 8184.704</td> <td>    7.146</td> <td> 0.000</td> <td> 4.24e+04</td> <td> 7.46e+04</td>\n</tr>\n<tr>\n  <th>x7</th>    <td> 7.451e+04</td> <td> 3.33e+04</td> <td>    2.240</td> <td> 0.025</td> <td> 9222.838</td> <td>  1.4e+05</td>\n</tr>\n<tr>\n  <th>x8</th>    <td> 1.552e+04</td> <td> 3.33e+04</td> <td>    0.467</td> <td> 0.641</td> <td>-4.98e+04</td> <td> 8.08e+04</td>\n</tr>\n<tr>\n  <th>x9</th>    <td> 4.255e+04</td> <td> 2.37e+04</td> <td>    1.797</td> <td> 0.073</td> <td>-3942.093</td> <td> 8.91e+04</td>\n</tr>\n<tr>\n  <th>x10</th>   <td> 2.915e+04</td> <td> 1.94e+04</td> <td>    1.501</td> <td> 0.134</td> <td>-8967.370</td> <td> 6.73e+04</td>\n</tr>\n<tr>\n  <th>x11</th>   <td>-1.565e+04</td> <td> 4715.396</td> <td>   -3.320</td> <td> 0.001</td> <td>-2.49e+04</td> <td>-6397.649</td>\n</tr>\n<tr>\n  <th>x12</th>   <td>-6.755e+04</td> <td> 1.69e+04</td> <td>   -3.989</td> <td> 0.000</td> <td>-1.01e+05</td> <td>-3.43e+04</td>\n</tr>\n<tr>\n  <th>x13</th>   <td> 5.438e+04</td> <td> 1.16e+04</td> <td>    4.703</td> <td> 0.000</td> <td> 3.17e+04</td> <td> 7.71e+04</td>\n</tr>\n<tr>\n  <th>x14</th>   <td>-1.848e+04</td> <td> 8168.715</td> <td>   -2.263</td> <td> 0.024</td> <td>-3.45e+04</td> <td>-2448.936</td>\n</tr>\n<tr>\n  <th>x15</th>   <td>  7.62e+04</td> <td> 1.95e+04</td> <td>    3.909</td> <td> 0.000</td> <td> 3.79e+04</td> <td> 1.14e+05</td>\n</tr>\n<tr>\n  <th>x16</th>   <td> 2.729e+05</td> <td> 1.96e+04</td> <td>   13.958</td> <td> 0.000</td> <td> 2.35e+05</td> <td> 3.11e+05</td>\n</tr>\n<tr>\n  <th>x17</th>   <td> 1.546e+04</td> <td> 3.35e+04</td> <td>    0.462</td> <td> 0.644</td> <td>-5.02e+04</td> <td> 8.12e+04</td>\n</tr>\n<tr>\n  <th>x18</th>   <td> 2.248e+04</td> <td> 1.39e+04</td> <td>    1.612</td> <td> 0.107</td> <td>-4897.276</td> <td> 4.99e+04</td>\n</tr>\n<tr>\n  <th>x19</th>   <td> 3.411e+05</td> <td> 2.38e+04</td> <td>   14.312</td> <td> 0.000</td> <td> 2.94e+05</td> <td> 3.88e+05</td>\n</tr>\n<tr>\n  <th>x20</th>   <td>-5.538e+04</td> <td> 3.33e+04</td> <td>   -1.663</td> <td> 0.097</td> <td>-1.21e+05</td> <td> 9979.599</td>\n</tr>\n<tr>\n  <th>x21</th>   <td> 1.949e+04</td> <td> 3.33e+04</td> <td>    0.585</td> <td> 0.559</td> <td>-4.59e+04</td> <td> 8.49e+04</td>\n</tr>\n<tr>\n  <th>x22</th>   <td> -5.55e+04</td> <td> 8098.546</td> <td>   -6.853</td> <td> 0.000</td> <td>-7.14e+04</td> <td>-3.96e+04</td>\n</tr>\n<tr>\n  <th>x23</th>   <td> 3.125e+04</td> <td> 1.06e+04</td> <td>    2.962</td> <td> 0.003</td> <td> 1.05e+04</td> <td>  5.2e+04</td>\n</tr>\n<tr>\n  <th>x24</th>   <td> 3.049e+05</td> <td> 3.33e+04</td> <td>    9.166</td> <td> 0.000</td> <td>  2.4e+05</td> <td>  3.7e+05</td>\n</tr>\n<tr>\n  <th>x25</th>   <td> 1.499e+05</td> <td> 1.52e+04</td> <td>    9.869</td> <td> 0.000</td> <td>  1.2e+05</td> <td>  1.8e+05</td>\n</tr>\n<tr>\n  <th>x26</th>   <td>-3.259e+04</td> <td> 8003.910</td> <td>   -4.072</td> <td> 0.000</td> <td>-4.83e+04</td> <td>-1.69e+04</td>\n</tr>\n<tr>\n  <th>x27</th>   <td>-8213.4909</td> <td> 2.38e+04</td> <td>   -0.345</td> <td> 0.730</td> <td>-5.49e+04</td> <td> 3.85e+04</td>\n</tr>\n<tr>\n  <th>x28</th>   <td>-1.173e+04</td> <td> 1.02e+04</td> <td>   -1.149</td> <td> 0.251</td> <td>-3.18e+04</td> <td> 8301.798</td>\n</tr>\n<tr>\n  <th>x29</th>   <td> 6.044e+04</td> <td> 1.22e+04</td> <td>    4.957</td> <td> 0.000</td> <td> 3.65e+04</td> <td> 8.44e+04</td>\n</tr>\n<tr>\n  <th>x30</th>   <td> 3.308e+04</td> <td> 7151.889</td> <td>    4.626</td> <td> 0.000</td> <td>  1.9e+04</td> <td> 4.71e+04</td>\n</tr>\n<tr>\n  <th>x31</th>   <td>-2.981e+04</td> <td> 3843.542</td> <td>   -7.757</td> <td> 0.000</td> <td>-3.74e+04</td> <td>-2.23e+04</td>\n</tr>\n<tr>\n  <th>x32</th>   <td>-8519.1796</td> <td> 1.15e+04</td> <td>   -0.743</td> <td> 0.458</td> <td> -3.1e+04</td> <td>  1.4e+04</td>\n</tr>\n<tr>\n  <th>x33</th>   <td>-3984.9267</td> <td> 5714.506</td> <td>   -0.697</td> <td> 0.486</td> <td>-1.52e+04</td> <td> 7232.706</td>\n</tr>\n</table>\n<table class=\"simpletable\">\n<tr>\n  <th>Omnibus:</th>       <td>1445.813</td> <th>  Durbin-Watson:     </th>  <td>   2.205</td>  \n</tr>\n<tr>\n  <th>Prob(Omnibus):</th>  <td> 0.000</td>  <th>  Jarque-Bera (JB):  </th> <td>2563816.904</td>\n</tr>\n<tr>\n  <th>Skew:</th>           <td>-11.287</td> <th>  Prob(JB):          </th>  <td>    0.00</td>  \n</tr>\n<tr>\n  <th>Kurtosis:</th>       <td>277.011</td> <th>  Cond. No.          </th>  <td>5.18e+04</td>  \n</tr>\n</table><br/><br/>Notes:<br/>[1] Standard Errors assume that the covariance matrix of the errors is correctly specified.<br/>[2] The condition number is large, 5.18e+04. This might indicate that there are<br/>strong multicollinearity or other numerical problems."
     },
     "metadata": {},
     "execution_count": 43
    }
   ],
   "source": [
    "z=[0,1,2,3,4,5,6,8,9,10,11,12,13,14,16,17,18,19,20,21,22,23,24,25,26,27,29,30,31,32,33,34,39,40]\n",
    "x_opt = x[:,z]\n",
    "regressor = sm.OLS(endog=y,exog=x_opt).fit()\n",
    "regressor.summary()"
   ]
  },
  {
   "cell_type": "code",
   "execution_count": 44,
   "metadata": {},
   "outputs": [
    {
     "output_type": "execute_result",
     "data": {
      "text/plain": [
       "<class 'statsmodels.iolib.summary.Summary'>\n",
       "\"\"\"\n",
       "                            OLS Regression Results                            \n",
       "==============================================================================\n",
       "Dep. Variable:                  Price   R-squared:                       0.876\n",
       "Model:                            OLS   Adj. R-squared:                  0.871\n",
       "Method:                 Least Squares   F-statistic:                     172.3\n",
       "Date:                Thu, 05 Nov 2020   Prob (F-statistic):               0.00\n",
       "Time:                        15:51:57   Log-Likelihood:                -9656.4\n",
       "No. Observations:                 814   AIC:                         1.938e+04\n",
       "Df Residuals:                     781   BIC:                         1.953e+04\n",
       "Df Model:                          32                                         \n",
       "Covariance Type:            nonrobust                                         \n",
       "==============================================================================\n",
       "                 coef    std err          t      P>|t|      [0.025      0.975]\n",
       "------------------------------------------------------------------------------\n",
       "const       6.445e+04   7484.387      8.611      0.000    4.98e+04    7.91e+04\n",
       "x1          8250.6115   2269.713      3.635      0.000    3795.150    1.27e+04\n",
       "x2         -3208.6705   2907.004     -1.104      0.270   -8915.138    2497.797\n",
       "x3           111.4980      3.148     35.423      0.000     105.319     117.677\n",
       "x4          9.339e+04   2.09e+04      4.462      0.000    5.23e+04    1.34e+05\n",
       "x5          1.054e+05   3.53e+04      2.988      0.003    3.62e+04    1.75e+05\n",
       "x6          5.095e+04   8637.218      5.899      0.000     3.4e+04    6.79e+04\n",
       "x7          6.667e+04   3.52e+04      1.892      0.059   -2515.991    1.36e+05\n",
       "x8          7654.3846   3.53e+04      0.217      0.828   -6.15e+04    7.69e+04\n",
       "x9          3.476e+04   2.51e+04      1.385      0.166   -1.45e+04     8.4e+04\n",
       "x10         2.173e+04   2.06e+04      1.056      0.291   -1.86e+04    6.21e+04\n",
       "x11        -2.326e+04   4930.714     -4.717      0.000   -3.29e+04   -1.36e+04\n",
       "x12        -7.529e+04   1.79e+04     -4.199      0.000    -1.1e+05   -4.01e+04\n",
       "x13         4.668e+04   1.22e+04      3.818      0.000    2.27e+04    7.07e+04\n",
       "x14        -2.609e+04   8619.485     -3.027      0.003    -4.3e+04   -9171.718\n",
       "x15         6.845e+04   2.06e+04      3.316      0.001    2.79e+04    1.09e+05\n",
       "x16         2.655e+05   2.07e+04     12.822      0.000    2.25e+05    3.06e+05\n",
       "x17         7813.5037   3.55e+04      0.220      0.826   -6.18e+04    7.74e+04\n",
       "x18         1.463e+04   1.48e+04      0.991      0.322   -1.43e+04    4.36e+04\n",
       "x19         3.332e+05   2.52e+04     13.195      0.000    2.84e+05    3.83e+05\n",
       "x20        -6.313e+04   3.53e+04     -1.790      0.074   -1.32e+05    6119.230\n",
       "x21         1.232e+04   3.53e+04      0.349      0.727    -5.7e+04    8.17e+04\n",
       "x22        -6.306e+04   8545.241     -7.380      0.000   -7.98e+04   -4.63e+04\n",
       "x23         2.364e+04   1.12e+04      2.119      0.034    1744.042    4.55e+04\n",
       "x24         2.971e+05   3.52e+04      8.427      0.000    2.28e+05    3.66e+05\n",
       "x25        -4.021e+04   8443.931     -4.762      0.000   -5.68e+04   -2.36e+04\n",
       "x26        -1.563e+04   2.52e+04     -0.620      0.535   -6.51e+04    3.38e+04\n",
       "x27        -1.942e+04   1.08e+04     -1.801      0.072   -4.06e+04    1745.287\n",
       "x28         5.278e+04   1.29e+04      4.092      0.000    2.75e+04    7.81e+04\n",
       "x29          2.55e+04   7536.463      3.383      0.001    1.07e+04    4.03e+04\n",
       "x30        -3.738e+04   3991.903     -9.365      0.000   -4.52e+04   -2.95e+04\n",
       "x31        -8131.4412   1.22e+04     -0.669      0.504    -3.2e+04    1.57e+04\n",
       "x32        -2904.2122   6055.766     -0.480      0.632   -1.48e+04    8983.294\n",
       "==============================================================================\n",
       "Omnibus:                     1338.611   Durbin-Watson:                   2.122\n",
       "Prob(Omnibus):                  0.000   Jarque-Bera (JB):          1771017.562\n",
       "Skew:                          -9.631   Prob(JB):                         0.00\n",
       "Kurtosis:                     230.696   Cond. No.                     5.16e+04\n",
       "==============================================================================\n",
       "\n",
       "Notes:\n",
       "[1] Standard Errors assume that the covariance matrix of the errors is correctly specified.\n",
       "[2] The condition number is large, 5.16e+04. This might indicate that there are\n",
       "strong multicollinearity or other numerical problems.\n",
       "\"\"\""
      ],
      "text/html": "<table class=\"simpletable\">\n<caption>OLS Regression Results</caption>\n<tr>\n  <th>Dep. Variable:</th>          <td>Price</td>      <th>  R-squared:         </th> <td>   0.876</td> \n</tr>\n<tr>\n  <th>Model:</th>                   <td>OLS</td>       <th>  Adj. R-squared:    </th> <td>   0.871</td> \n</tr>\n<tr>\n  <th>Method:</th>             <td>Least Squares</td>  <th>  F-statistic:       </th> <td>   172.3</td> \n</tr>\n<tr>\n  <th>Date:</th>             <td>Thu, 05 Nov 2020</td> <th>  Prob (F-statistic):</th>  <td>  0.00</td>  \n</tr>\n<tr>\n  <th>Time:</th>                 <td>15:51:57</td>     <th>  Log-Likelihood:    </th> <td> -9656.4</td> \n</tr>\n<tr>\n  <th>No. Observations:</th>      <td>   814</td>      <th>  AIC:               </th> <td>1.938e+04</td>\n</tr>\n<tr>\n  <th>Df Residuals:</th>          <td>   781</td>      <th>  BIC:               </th> <td>1.953e+04</td>\n</tr>\n<tr>\n  <th>Df Model:</th>              <td>    32</td>      <th>                     </th>     <td> </td>    \n</tr>\n<tr>\n  <th>Covariance Type:</th>      <td>nonrobust</td>    <th>                     </th>     <td> </td>    \n</tr>\n</table>\n<table class=\"simpletable\">\n<tr>\n    <td></td>       <th>coef</th>     <th>std err</th>      <th>t</th>      <th>P>|t|</th>  <th>[0.025</th>    <th>0.975]</th>  \n</tr>\n<tr>\n  <th>const</th> <td> 6.445e+04</td> <td> 7484.387</td> <td>    8.611</td> <td> 0.000</td> <td> 4.98e+04</td> <td> 7.91e+04</td>\n</tr>\n<tr>\n  <th>x1</th>    <td> 8250.6115</td> <td> 2269.713</td> <td>    3.635</td> <td> 0.000</td> <td> 3795.150</td> <td> 1.27e+04</td>\n</tr>\n<tr>\n  <th>x2</th>    <td>-3208.6705</td> <td> 2907.004</td> <td>   -1.104</td> <td> 0.270</td> <td>-8915.138</td> <td> 2497.797</td>\n</tr>\n<tr>\n  <th>x3</th>    <td>  111.4980</td> <td>    3.148</td> <td>   35.423</td> <td> 0.000</td> <td>  105.319</td> <td>  117.677</td>\n</tr>\n<tr>\n  <th>x4</th>    <td> 9.339e+04</td> <td> 2.09e+04</td> <td>    4.462</td> <td> 0.000</td> <td> 5.23e+04</td> <td> 1.34e+05</td>\n</tr>\n<tr>\n  <th>x5</th>    <td> 1.054e+05</td> <td> 3.53e+04</td> <td>    2.988</td> <td> 0.003</td> <td> 3.62e+04</td> <td> 1.75e+05</td>\n</tr>\n<tr>\n  <th>x6</th>    <td> 5.095e+04</td> <td> 8637.218</td> <td>    5.899</td> <td> 0.000</td> <td>  3.4e+04</td> <td> 6.79e+04</td>\n</tr>\n<tr>\n  <th>x7</th>    <td> 6.667e+04</td> <td> 3.52e+04</td> <td>    1.892</td> <td> 0.059</td> <td>-2515.991</td> <td> 1.36e+05</td>\n</tr>\n<tr>\n  <th>x8</th>    <td> 7654.3846</td> <td> 3.53e+04</td> <td>    0.217</td> <td> 0.828</td> <td>-6.15e+04</td> <td> 7.69e+04</td>\n</tr>\n<tr>\n  <th>x9</th>    <td> 3.476e+04</td> <td> 2.51e+04</td> <td>    1.385</td> <td> 0.166</td> <td>-1.45e+04</td> <td>  8.4e+04</td>\n</tr>\n<tr>\n  <th>x10</th>   <td> 2.173e+04</td> <td> 2.06e+04</td> <td>    1.056</td> <td> 0.291</td> <td>-1.86e+04</td> <td> 6.21e+04</td>\n</tr>\n<tr>\n  <th>x11</th>   <td>-2.326e+04</td> <td> 4930.714</td> <td>   -4.717</td> <td> 0.000</td> <td>-3.29e+04</td> <td>-1.36e+04</td>\n</tr>\n<tr>\n  <th>x12</th>   <td>-7.529e+04</td> <td> 1.79e+04</td> <td>   -4.199</td> <td> 0.000</td> <td> -1.1e+05</td> <td>-4.01e+04</td>\n</tr>\n<tr>\n  <th>x13</th>   <td> 4.668e+04</td> <td> 1.22e+04</td> <td>    3.818</td> <td> 0.000</td> <td> 2.27e+04</td> <td> 7.07e+04</td>\n</tr>\n<tr>\n  <th>x14</th>   <td>-2.609e+04</td> <td> 8619.485</td> <td>   -3.027</td> <td> 0.003</td> <td> -4.3e+04</td> <td>-9171.718</td>\n</tr>\n<tr>\n  <th>x15</th>   <td> 6.845e+04</td> <td> 2.06e+04</td> <td>    3.316</td> <td> 0.001</td> <td> 2.79e+04</td> <td> 1.09e+05</td>\n</tr>\n<tr>\n  <th>x16</th>   <td> 2.655e+05</td> <td> 2.07e+04</td> <td>   12.822</td> <td> 0.000</td> <td> 2.25e+05</td> <td> 3.06e+05</td>\n</tr>\n<tr>\n  <th>x17</th>   <td> 7813.5037</td> <td> 3.55e+04</td> <td>    0.220</td> <td> 0.826</td> <td>-6.18e+04</td> <td> 7.74e+04</td>\n</tr>\n<tr>\n  <th>x18</th>   <td> 1.463e+04</td> <td> 1.48e+04</td> <td>    0.991</td> <td> 0.322</td> <td>-1.43e+04</td> <td> 4.36e+04</td>\n</tr>\n<tr>\n  <th>x19</th>   <td> 3.332e+05</td> <td> 2.52e+04</td> <td>   13.195</td> <td> 0.000</td> <td> 2.84e+05</td> <td> 3.83e+05</td>\n</tr>\n<tr>\n  <th>x20</th>   <td>-6.313e+04</td> <td> 3.53e+04</td> <td>   -1.790</td> <td> 0.074</td> <td>-1.32e+05</td> <td> 6119.230</td>\n</tr>\n<tr>\n  <th>x21</th>   <td> 1.232e+04</td> <td> 3.53e+04</td> <td>    0.349</td> <td> 0.727</td> <td> -5.7e+04</td> <td> 8.17e+04</td>\n</tr>\n<tr>\n  <th>x22</th>   <td>-6.306e+04</td> <td> 8545.241</td> <td>   -7.380</td> <td> 0.000</td> <td>-7.98e+04</td> <td>-4.63e+04</td>\n</tr>\n<tr>\n  <th>x23</th>   <td> 2.364e+04</td> <td> 1.12e+04</td> <td>    2.119</td> <td> 0.034</td> <td> 1744.042</td> <td> 4.55e+04</td>\n</tr>\n<tr>\n  <th>x24</th>   <td> 2.971e+05</td> <td> 3.52e+04</td> <td>    8.427</td> <td> 0.000</td> <td> 2.28e+05</td> <td> 3.66e+05</td>\n</tr>\n<tr>\n  <th>x25</th>   <td>-4.021e+04</td> <td> 8443.931</td> <td>   -4.762</td> <td> 0.000</td> <td>-5.68e+04</td> <td>-2.36e+04</td>\n</tr>\n<tr>\n  <th>x26</th>   <td>-1.563e+04</td> <td> 2.52e+04</td> <td>   -0.620</td> <td> 0.535</td> <td>-6.51e+04</td> <td> 3.38e+04</td>\n</tr>\n<tr>\n  <th>x27</th>   <td>-1.942e+04</td> <td> 1.08e+04</td> <td>   -1.801</td> <td> 0.072</td> <td>-4.06e+04</td> <td> 1745.287</td>\n</tr>\n<tr>\n  <th>x28</th>   <td> 5.278e+04</td> <td> 1.29e+04</td> <td>    4.092</td> <td> 0.000</td> <td> 2.75e+04</td> <td> 7.81e+04</td>\n</tr>\n<tr>\n  <th>x29</th>   <td>  2.55e+04</td> <td> 7536.463</td> <td>    3.383</td> <td> 0.001</td> <td> 1.07e+04</td> <td> 4.03e+04</td>\n</tr>\n<tr>\n  <th>x30</th>   <td>-3.738e+04</td> <td> 3991.903</td> <td>   -9.365</td> <td> 0.000</td> <td>-4.52e+04</td> <td>-2.95e+04</td>\n</tr>\n<tr>\n  <th>x31</th>   <td>-8131.4412</td> <td> 1.22e+04</td> <td>   -0.669</td> <td> 0.504</td> <td> -3.2e+04</td> <td> 1.57e+04</td>\n</tr>\n<tr>\n  <th>x32</th>   <td>-2904.2122</td> <td> 6055.766</td> <td>   -0.480</td> <td> 0.632</td> <td>-1.48e+04</td> <td> 8983.294</td>\n</tr>\n</table>\n<table class=\"simpletable\">\n<tr>\n  <th>Omnibus:</th>       <td>1338.611</td> <th>  Durbin-Watson:     </th>  <td>   2.122</td>  \n</tr>\n<tr>\n  <th>Prob(Omnibus):</th>  <td> 0.000</td>  <th>  Jarque-Bera (JB):  </th> <td>1771017.562</td>\n</tr>\n<tr>\n  <th>Skew:</th>           <td>-9.631</td>  <th>  Prob(JB):          </th>  <td>    0.00</td>  \n</tr>\n<tr>\n  <th>Kurtosis:</th>       <td>230.696</td> <th>  Cond. No.          </th>  <td>5.16e+04</td>  \n</tr>\n</table><br/><br/>Notes:<br/>[1] Standard Errors assume that the covariance matrix of the errors is correctly specified.<br/>[2] The condition number is large, 5.16e+04. This might indicate that there are<br/>strong multicollinearity or other numerical problems."
     },
     "metadata": {},
     "execution_count": 44
    }
   ],
   "source": [
    "z=[0,1,2,3,4,5,6,8,9,10,11,12,13,14,16,17,18,19,20,21,22,23,24,25,26,29,30,31,32,33,34,39,40]\n",
    "x_opt = x[:,z]\n",
    "regressor = sm.OLS(endog=y,exog=x_opt).fit()\n",
    "regressor.summary()"
   ]
  },
  {
   "cell_type": "code",
   "execution_count": 45,
   "metadata": {},
   "outputs": [
    {
     "output_type": "execute_result",
     "data": {
      "text/plain": [
       "<class 'statsmodels.iolib.summary.Summary'>\n",
       "\"\"\"\n",
       "                            OLS Regression Results                            \n",
       "==============================================================================\n",
       "Dep. Variable:                  Price   R-squared:                       0.874\n",
       "Model:                            OLS   Adj. R-squared:                  0.869\n",
       "Method:                 Least Squares   F-statistic:                     175.3\n",
       "Date:                Thu, 05 Nov 2020   Prob (F-statistic):               0.00\n",
       "Time:                        15:52:52   Log-Likelihood:                -9662.1\n",
       "No. Observations:                 814   AIC:                         1.939e+04\n",
       "Df Residuals:                     782   BIC:                         1.954e+04\n",
       "Df Model:                          31                                         \n",
       "Covariance Type:            nonrobust                                         \n",
       "==============================================================================\n",
       "                 coef    std err          t      P>|t|      [0.025      0.975]\n",
       "------------------------------------------------------------------------------\n",
       "const       6.681e+04   7497.737      8.911      0.000    5.21e+04    8.15e+04\n",
       "x1          7755.5084   2279.220      3.403      0.001    3281.394    1.22e+04\n",
       "x2         -3577.0909   2923.381     -1.224      0.221   -9315.695    2161.513\n",
       "x3           112.4568      3.154     35.653      0.000     106.265     118.649\n",
       "x4          9.135e+04   2.11e+04      4.339      0.000       5e+04    1.33e+05\n",
       "x5          1.029e+05   3.55e+04      2.899      0.004    3.32e+04    1.73e+05\n",
       "x6          4.892e+04   8670.338      5.643      0.000    3.19e+04    6.59e+04\n",
       "x7          6.469e+04   3.55e+04      1.824      0.068   -4919.924    1.34e+05\n",
       "x8          5831.5347   3.55e+04      0.164      0.869   -6.38e+04    7.55e+04\n",
       "x9          3.247e+04   2.52e+04      1.286      0.199   -1.71e+04     8.2e+04\n",
       "x10         1.976e+04   2.07e+04      0.955      0.340   -2.08e+04    6.04e+04\n",
       "x11        -2.531e+04   4923.040     -5.140      0.000    -3.5e+04   -1.56e+04\n",
       "x12        -7.693e+04    1.8e+04     -4.265      0.000   -1.12e+05   -4.15e+04\n",
       "x13         4.456e+04   1.23e+04      3.626      0.000    2.04e+04    6.87e+04\n",
       "x14        -2.796e+04   8655.925     -3.230      0.001   -4.49e+04    -1.1e+04\n",
       "x15         2.633e+05   2.08e+04     12.640      0.000    2.22e+05    3.04e+05\n",
       "x16         4508.3556   3.57e+04      0.126      0.899   -6.55e+04    7.45e+04\n",
       "x17         1.266e+04   1.48e+04      0.853      0.394   -1.65e+04    4.18e+04\n",
       "x18          3.32e+05   2.54e+04     13.068      0.000    2.82e+05    3.82e+05\n",
       "x19        -6.571e+04   3.55e+04     -1.851      0.064   -1.35e+05    3959.982\n",
       "x20         1.021e+04   3.55e+04      0.287      0.774   -5.96e+04       8e+04\n",
       "x21        -6.488e+04   8582.028     -7.560      0.000   -8.17e+04    -4.8e+04\n",
       "x22         2.166e+04   1.12e+04      1.933      0.054    -339.754    4.37e+04\n",
       "x23         2.952e+05   3.55e+04      8.323      0.000    2.26e+05    3.65e+05\n",
       "x24        -4.216e+04   8477.058     -4.973      0.000   -5.88e+04   -2.55e+04\n",
       "x25        -1.837e+04   2.54e+04     -0.725      0.469   -6.81e+04    3.14e+04\n",
       "x26        -2.133e+04   1.08e+04     -1.968      0.049   -4.26e+04     -55.216\n",
       "x27         5.064e+04    1.3e+04      3.907      0.000    2.52e+04    7.61e+04\n",
       "x28         2.336e+04   7556.794      3.092      0.002    8529.870    3.82e+04\n",
       "x29        -3.932e+04   3973.818     -9.896      0.000   -4.71e+04   -3.15e+04\n",
       "x30        -7316.4728   1.22e+04     -0.598      0.550   -3.13e+04    1.67e+04\n",
       "x31        -2471.7904   6092.922     -0.406      0.685   -1.44e+04    9488.630\n",
       "==============================================================================\n",
       "Omnibus:                     1345.155   Durbin-Watson:                   2.101\n",
       "Prob(Omnibus):                  0.000   Jarque-Bera (JB):          1772834.589\n",
       "Skew:                          -9.737   Prob(JB):                         0.00\n",
       "Kurtosis:                     230.796   Cond. No.                     5.15e+04\n",
       "==============================================================================\n",
       "\n",
       "Notes:\n",
       "[1] Standard Errors assume that the covariance matrix of the errors is correctly specified.\n",
       "[2] The condition number is large, 5.15e+04. This might indicate that there are\n",
       "strong multicollinearity or other numerical problems.\n",
       "\"\"\""
      ],
      "text/html": "<table class=\"simpletable\">\n<caption>OLS Regression Results</caption>\n<tr>\n  <th>Dep. Variable:</th>          <td>Price</td>      <th>  R-squared:         </th> <td>   0.874</td> \n</tr>\n<tr>\n  <th>Model:</th>                   <td>OLS</td>       <th>  Adj. R-squared:    </th> <td>   0.869</td> \n</tr>\n<tr>\n  <th>Method:</th>             <td>Least Squares</td>  <th>  F-statistic:       </th> <td>   175.3</td> \n</tr>\n<tr>\n  <th>Date:</th>             <td>Thu, 05 Nov 2020</td> <th>  Prob (F-statistic):</th>  <td>  0.00</td>  \n</tr>\n<tr>\n  <th>Time:</th>                 <td>15:52:52</td>     <th>  Log-Likelihood:    </th> <td> -9662.1</td> \n</tr>\n<tr>\n  <th>No. Observations:</th>      <td>   814</td>      <th>  AIC:               </th> <td>1.939e+04</td>\n</tr>\n<tr>\n  <th>Df Residuals:</th>          <td>   782</td>      <th>  BIC:               </th> <td>1.954e+04</td>\n</tr>\n<tr>\n  <th>Df Model:</th>              <td>    31</td>      <th>                     </th>     <td> </td>    \n</tr>\n<tr>\n  <th>Covariance Type:</th>      <td>nonrobust</td>    <th>                     </th>     <td> </td>    \n</tr>\n</table>\n<table class=\"simpletable\">\n<tr>\n    <td></td>       <th>coef</th>     <th>std err</th>      <th>t</th>      <th>P>|t|</th>  <th>[0.025</th>    <th>0.975]</th>  \n</tr>\n<tr>\n  <th>const</th> <td> 6.681e+04</td> <td> 7497.737</td> <td>    8.911</td> <td> 0.000</td> <td> 5.21e+04</td> <td> 8.15e+04</td>\n</tr>\n<tr>\n  <th>x1</th>    <td> 7755.5084</td> <td> 2279.220</td> <td>    3.403</td> <td> 0.001</td> <td> 3281.394</td> <td> 1.22e+04</td>\n</tr>\n<tr>\n  <th>x2</th>    <td>-3577.0909</td> <td> 2923.381</td> <td>   -1.224</td> <td> 0.221</td> <td>-9315.695</td> <td> 2161.513</td>\n</tr>\n<tr>\n  <th>x3</th>    <td>  112.4568</td> <td>    3.154</td> <td>   35.653</td> <td> 0.000</td> <td>  106.265</td> <td>  118.649</td>\n</tr>\n<tr>\n  <th>x4</th>    <td> 9.135e+04</td> <td> 2.11e+04</td> <td>    4.339</td> <td> 0.000</td> <td>    5e+04</td> <td> 1.33e+05</td>\n</tr>\n<tr>\n  <th>x5</th>    <td> 1.029e+05</td> <td> 3.55e+04</td> <td>    2.899</td> <td> 0.004</td> <td> 3.32e+04</td> <td> 1.73e+05</td>\n</tr>\n<tr>\n  <th>x6</th>    <td> 4.892e+04</td> <td> 8670.338</td> <td>    5.643</td> <td> 0.000</td> <td> 3.19e+04</td> <td> 6.59e+04</td>\n</tr>\n<tr>\n  <th>x7</th>    <td> 6.469e+04</td> <td> 3.55e+04</td> <td>    1.824</td> <td> 0.068</td> <td>-4919.924</td> <td> 1.34e+05</td>\n</tr>\n<tr>\n  <th>x8</th>    <td> 5831.5347</td> <td> 3.55e+04</td> <td>    0.164</td> <td> 0.869</td> <td>-6.38e+04</td> <td> 7.55e+04</td>\n</tr>\n<tr>\n  <th>x9</th>    <td> 3.247e+04</td> <td> 2.52e+04</td> <td>    1.286</td> <td> 0.199</td> <td>-1.71e+04</td> <td>  8.2e+04</td>\n</tr>\n<tr>\n  <th>x10</th>   <td> 1.976e+04</td> <td> 2.07e+04</td> <td>    0.955</td> <td> 0.340</td> <td>-2.08e+04</td> <td> 6.04e+04</td>\n</tr>\n<tr>\n  <th>x11</th>   <td>-2.531e+04</td> <td> 4923.040</td> <td>   -5.140</td> <td> 0.000</td> <td> -3.5e+04</td> <td>-1.56e+04</td>\n</tr>\n<tr>\n  <th>x12</th>   <td>-7.693e+04</td> <td>  1.8e+04</td> <td>   -4.265</td> <td> 0.000</td> <td>-1.12e+05</td> <td>-4.15e+04</td>\n</tr>\n<tr>\n  <th>x13</th>   <td> 4.456e+04</td> <td> 1.23e+04</td> <td>    3.626</td> <td> 0.000</td> <td> 2.04e+04</td> <td> 6.87e+04</td>\n</tr>\n<tr>\n  <th>x14</th>   <td>-2.796e+04</td> <td> 8655.925</td> <td>   -3.230</td> <td> 0.001</td> <td>-4.49e+04</td> <td> -1.1e+04</td>\n</tr>\n<tr>\n  <th>x15</th>   <td> 2.633e+05</td> <td> 2.08e+04</td> <td>   12.640</td> <td> 0.000</td> <td> 2.22e+05</td> <td> 3.04e+05</td>\n</tr>\n<tr>\n  <th>x16</th>   <td> 4508.3556</td> <td> 3.57e+04</td> <td>    0.126</td> <td> 0.899</td> <td>-6.55e+04</td> <td> 7.45e+04</td>\n</tr>\n<tr>\n  <th>x17</th>   <td> 1.266e+04</td> <td> 1.48e+04</td> <td>    0.853</td> <td> 0.394</td> <td>-1.65e+04</td> <td> 4.18e+04</td>\n</tr>\n<tr>\n  <th>x18</th>   <td>  3.32e+05</td> <td> 2.54e+04</td> <td>   13.068</td> <td> 0.000</td> <td> 2.82e+05</td> <td> 3.82e+05</td>\n</tr>\n<tr>\n  <th>x19</th>   <td>-6.571e+04</td> <td> 3.55e+04</td> <td>   -1.851</td> <td> 0.064</td> <td>-1.35e+05</td> <td> 3959.982</td>\n</tr>\n<tr>\n  <th>x20</th>   <td> 1.021e+04</td> <td> 3.55e+04</td> <td>    0.287</td> <td> 0.774</td> <td>-5.96e+04</td> <td>    8e+04</td>\n</tr>\n<tr>\n  <th>x21</th>   <td>-6.488e+04</td> <td> 8582.028</td> <td>   -7.560</td> <td> 0.000</td> <td>-8.17e+04</td> <td> -4.8e+04</td>\n</tr>\n<tr>\n  <th>x22</th>   <td> 2.166e+04</td> <td> 1.12e+04</td> <td>    1.933</td> <td> 0.054</td> <td> -339.754</td> <td> 4.37e+04</td>\n</tr>\n<tr>\n  <th>x23</th>   <td> 2.952e+05</td> <td> 3.55e+04</td> <td>    8.323</td> <td> 0.000</td> <td> 2.26e+05</td> <td> 3.65e+05</td>\n</tr>\n<tr>\n  <th>x24</th>   <td>-4.216e+04</td> <td> 8477.058</td> <td>   -4.973</td> <td> 0.000</td> <td>-5.88e+04</td> <td>-2.55e+04</td>\n</tr>\n<tr>\n  <th>x25</th>   <td>-1.837e+04</td> <td> 2.54e+04</td> <td>   -0.725</td> <td> 0.469</td> <td>-6.81e+04</td> <td> 3.14e+04</td>\n</tr>\n<tr>\n  <th>x26</th>   <td>-2.133e+04</td> <td> 1.08e+04</td> <td>   -1.968</td> <td> 0.049</td> <td>-4.26e+04</td> <td>  -55.216</td>\n</tr>\n<tr>\n  <th>x27</th>   <td> 5.064e+04</td> <td>  1.3e+04</td> <td>    3.907</td> <td> 0.000</td> <td> 2.52e+04</td> <td> 7.61e+04</td>\n</tr>\n<tr>\n  <th>x28</th>   <td> 2.336e+04</td> <td> 7556.794</td> <td>    3.092</td> <td> 0.002</td> <td> 8529.870</td> <td> 3.82e+04</td>\n</tr>\n<tr>\n  <th>x29</th>   <td>-3.932e+04</td> <td> 3973.818</td> <td>   -9.896</td> <td> 0.000</td> <td>-4.71e+04</td> <td>-3.15e+04</td>\n</tr>\n<tr>\n  <th>x30</th>   <td>-7316.4728</td> <td> 1.22e+04</td> <td>   -0.598</td> <td> 0.550</td> <td>-3.13e+04</td> <td> 1.67e+04</td>\n</tr>\n<tr>\n  <th>x31</th>   <td>-2471.7904</td> <td> 6092.922</td> <td>   -0.406</td> <td> 0.685</td> <td>-1.44e+04</td> <td> 9488.630</td>\n</tr>\n</table>\n<table class=\"simpletable\">\n<tr>\n  <th>Omnibus:</th>       <td>1345.155</td> <th>  Durbin-Watson:     </th>  <td>   2.101</td>  \n</tr>\n<tr>\n  <th>Prob(Omnibus):</th>  <td> 0.000</td>  <th>  Jarque-Bera (JB):  </th> <td>1772834.589</td>\n</tr>\n<tr>\n  <th>Skew:</th>           <td>-9.737</td>  <th>  Prob(JB):          </th>  <td>    0.00</td>  \n</tr>\n<tr>\n  <th>Kurtosis:</th>       <td>230.796</td> <th>  Cond. No.          </th>  <td>5.15e+04</td>  \n</tr>\n</table><br/><br/>Notes:<br/>[1] Standard Errors assume that the covariance matrix of the errors is correctly specified.<br/>[2] The condition number is large, 5.15e+04. This might indicate that there are<br/>strong multicollinearity or other numerical problems."
     },
     "metadata": {},
     "execution_count": 45
    }
   ],
   "source": [
    "z=[0,1,2,3,4,5,6,8,9,10,11,12,13,14,16,18,19,20,21,22,23,24,25,26,29,30,31,32,33,34,39,40]\n",
    "x_opt = x[:,z]\n",
    "regressor = sm.OLS(endog=y,exog=x_opt).fit()\n",
    "regressor.summary()"
   ]
  },
  {
   "cell_type": "code",
   "execution_count": 46,
   "metadata": {},
   "outputs": [
    {
     "output_type": "execute_result",
     "data": {
      "text/plain": [
       "<class 'statsmodels.iolib.summary.Summary'>\n",
       "\"\"\"\n",
       "                            OLS Regression Results                            \n",
       "==============================================================================\n",
       "Dep. Variable:                  Price   R-squared:                       0.873\n",
       "Model:                            OLS   Adj. R-squared:                  0.868\n",
       "Method:                 Least Squares   F-statistic:                     178.6\n",
       "Date:                Thu, 05 Nov 2020   Prob (F-statistic):               0.00\n",
       "Time:                        15:53:23   Log-Likelihood:                -9667.5\n",
       "No. Observations:                 814   AIC:                         1.940e+04\n",
       "Df Residuals:                     783   BIC:                         1.954e+04\n",
       "Df Model:                          30                                         \n",
       "Covariance Type:            nonrobust                                         \n",
       "==============================================================================\n",
       "                 coef    std err          t      P>|t|      [0.025      0.975]\n",
       "------------------------------------------------------------------------------\n",
       "const       6.281e+04   7439.028      8.443      0.000    4.82e+04    7.74e+04\n",
       "x1          7348.5441   2289.398      3.210      0.001    2854.460    1.18e+04\n",
       "x2         -3632.0229   2940.883     -1.235      0.217   -9404.972    2140.926\n",
       "x3           113.0380      3.168     35.681      0.000     106.819     119.257\n",
       "x4          9.557e+04   2.11e+04      4.521      0.000    5.41e+04    1.37e+05\n",
       "x5          1.072e+05   3.57e+04      3.005      0.003    3.72e+04    1.77e+05\n",
       "x6          5.349e+04   8605.567      6.216      0.000    3.66e+04    7.04e+04\n",
       "x7          6.933e+04   3.56e+04      1.945      0.052    -646.848    1.39e+05\n",
       "x8          1.056e+04   3.57e+04      0.296      0.767   -5.94e+04    8.05e+04\n",
       "x9          3.695e+04   2.54e+04      1.457      0.145   -1.28e+04    8.67e+04\n",
       "x10         2.447e+04   2.08e+04      1.179      0.239   -1.63e+04    6.52e+04\n",
       "x11        -2.073e+04   4742.582     -4.370      0.000      -3e+04   -1.14e+04\n",
       "x12        -7.207e+04   1.81e+04     -3.985      0.000   -1.08e+05   -3.66e+04\n",
       "x13         4.906e+04   1.23e+04      3.994      0.000     2.5e+04    7.32e+04\n",
       "x14         2.678e+05   2.09e+04     12.807      0.000    2.27e+05    3.09e+05\n",
       "x15         8334.6282   3.59e+04      0.232      0.816   -6.21e+04    7.88e+04\n",
       "x16         1.728e+04   1.49e+04      1.163      0.245   -1.19e+04    4.64e+04\n",
       "x17         3.371e+05   2.55e+04     13.214      0.000    2.87e+05    3.87e+05\n",
       "x18        -6.145e+04   3.57e+04     -1.722      0.085   -1.31e+05    8593.564\n",
       "x19         1.492e+04   3.57e+04      0.418      0.676   -5.52e+04    8.51e+04\n",
       "x20        -6.007e+04   8502.683     -7.065      0.000   -7.68e+04   -4.34e+04\n",
       "x21         2.633e+04   1.12e+04      2.355      0.019    4384.114    4.83e+04\n",
       "x22         2.999e+05   3.57e+04      8.413      0.000     2.3e+05     3.7e+05\n",
       "x23        -3.755e+04   8405.953     -4.467      0.000    -5.4e+04    -2.1e+04\n",
       "x24        -1.418e+04   2.55e+04     -0.557      0.578   -6.42e+04    3.58e+04\n",
       "x25        -1.661e+04   1.08e+04     -1.537      0.125   -3.78e+04    4598.973\n",
       "x26          5.52e+04    1.3e+04      4.258      0.000    2.98e+04    8.06e+04\n",
       "x27         2.788e+04   7471.099      3.731      0.000    1.32e+04    4.25e+04\n",
       "x28        -3.466e+04   3724.638     -9.307      0.000    -4.2e+04   -2.74e+04\n",
       "x29        -6784.6253   1.23e+04     -0.551      0.582   -3.09e+04    1.74e+04\n",
       "x30        -2619.4100   6129.331     -0.427      0.669   -1.47e+04    9412.457\n",
       "==============================================================================\n",
       "Omnibus:                     1315.320   Durbin-Watson:                   2.112\n",
       "Prob(Omnibus):                  0.000   Jarque-Bera (JB):          1648393.089\n",
       "Skew:                          -9.292   Prob(JB):                         0.00\n",
       "Kurtosis:                     222.672   Cond. No.                     5.11e+04\n",
       "==============================================================================\n",
       "\n",
       "Notes:\n",
       "[1] Standard Errors assume that the covariance matrix of the errors is correctly specified.\n",
       "[2] The condition number is large, 5.11e+04. This might indicate that there are\n",
       "strong multicollinearity or other numerical problems.\n",
       "\"\"\""
      ],
      "text/html": "<table class=\"simpletable\">\n<caption>OLS Regression Results</caption>\n<tr>\n  <th>Dep. Variable:</th>          <td>Price</td>      <th>  R-squared:         </th> <td>   0.873</td> \n</tr>\n<tr>\n  <th>Model:</th>                   <td>OLS</td>       <th>  Adj. R-squared:    </th> <td>   0.868</td> \n</tr>\n<tr>\n  <th>Method:</th>             <td>Least Squares</td>  <th>  F-statistic:       </th> <td>   178.6</td> \n</tr>\n<tr>\n  <th>Date:</th>             <td>Thu, 05 Nov 2020</td> <th>  Prob (F-statistic):</th>  <td>  0.00</td>  \n</tr>\n<tr>\n  <th>Time:</th>                 <td>15:53:23</td>     <th>  Log-Likelihood:    </th> <td> -9667.5</td> \n</tr>\n<tr>\n  <th>No. Observations:</th>      <td>   814</td>      <th>  AIC:               </th> <td>1.940e+04</td>\n</tr>\n<tr>\n  <th>Df Residuals:</th>          <td>   783</td>      <th>  BIC:               </th> <td>1.954e+04</td>\n</tr>\n<tr>\n  <th>Df Model:</th>              <td>    30</td>      <th>                     </th>     <td> </td>    \n</tr>\n<tr>\n  <th>Covariance Type:</th>      <td>nonrobust</td>    <th>                     </th>     <td> </td>    \n</tr>\n</table>\n<table class=\"simpletable\">\n<tr>\n    <td></td>       <th>coef</th>     <th>std err</th>      <th>t</th>      <th>P>|t|</th>  <th>[0.025</th>    <th>0.975]</th>  \n</tr>\n<tr>\n  <th>const</th> <td> 6.281e+04</td> <td> 7439.028</td> <td>    8.443</td> <td> 0.000</td> <td> 4.82e+04</td> <td> 7.74e+04</td>\n</tr>\n<tr>\n  <th>x1</th>    <td> 7348.5441</td> <td> 2289.398</td> <td>    3.210</td> <td> 0.001</td> <td> 2854.460</td> <td> 1.18e+04</td>\n</tr>\n<tr>\n  <th>x2</th>    <td>-3632.0229</td> <td> 2940.883</td> <td>   -1.235</td> <td> 0.217</td> <td>-9404.972</td> <td> 2140.926</td>\n</tr>\n<tr>\n  <th>x3</th>    <td>  113.0380</td> <td>    3.168</td> <td>   35.681</td> <td> 0.000</td> <td>  106.819</td> <td>  119.257</td>\n</tr>\n<tr>\n  <th>x4</th>    <td> 9.557e+04</td> <td> 2.11e+04</td> <td>    4.521</td> <td> 0.000</td> <td> 5.41e+04</td> <td> 1.37e+05</td>\n</tr>\n<tr>\n  <th>x5</th>    <td> 1.072e+05</td> <td> 3.57e+04</td> <td>    3.005</td> <td> 0.003</td> <td> 3.72e+04</td> <td> 1.77e+05</td>\n</tr>\n<tr>\n  <th>x6</th>    <td> 5.349e+04</td> <td> 8605.567</td> <td>    6.216</td> <td> 0.000</td> <td> 3.66e+04</td> <td> 7.04e+04</td>\n</tr>\n<tr>\n  <th>x7</th>    <td> 6.933e+04</td> <td> 3.56e+04</td> <td>    1.945</td> <td> 0.052</td> <td> -646.848</td> <td> 1.39e+05</td>\n</tr>\n<tr>\n  <th>x8</th>    <td> 1.056e+04</td> <td> 3.57e+04</td> <td>    0.296</td> <td> 0.767</td> <td>-5.94e+04</td> <td> 8.05e+04</td>\n</tr>\n<tr>\n  <th>x9</th>    <td> 3.695e+04</td> <td> 2.54e+04</td> <td>    1.457</td> <td> 0.145</td> <td>-1.28e+04</td> <td> 8.67e+04</td>\n</tr>\n<tr>\n  <th>x10</th>   <td> 2.447e+04</td> <td> 2.08e+04</td> <td>    1.179</td> <td> 0.239</td> <td>-1.63e+04</td> <td> 6.52e+04</td>\n</tr>\n<tr>\n  <th>x11</th>   <td>-2.073e+04</td> <td> 4742.582</td> <td>   -4.370</td> <td> 0.000</td> <td>   -3e+04</td> <td>-1.14e+04</td>\n</tr>\n<tr>\n  <th>x12</th>   <td>-7.207e+04</td> <td> 1.81e+04</td> <td>   -3.985</td> <td> 0.000</td> <td>-1.08e+05</td> <td>-3.66e+04</td>\n</tr>\n<tr>\n  <th>x13</th>   <td> 4.906e+04</td> <td> 1.23e+04</td> <td>    3.994</td> <td> 0.000</td> <td>  2.5e+04</td> <td> 7.32e+04</td>\n</tr>\n<tr>\n  <th>x14</th>   <td> 2.678e+05</td> <td> 2.09e+04</td> <td>   12.807</td> <td> 0.000</td> <td> 2.27e+05</td> <td> 3.09e+05</td>\n</tr>\n<tr>\n  <th>x15</th>   <td> 8334.6282</td> <td> 3.59e+04</td> <td>    0.232</td> <td> 0.816</td> <td>-6.21e+04</td> <td> 7.88e+04</td>\n</tr>\n<tr>\n  <th>x16</th>   <td> 1.728e+04</td> <td> 1.49e+04</td> <td>    1.163</td> <td> 0.245</td> <td>-1.19e+04</td> <td> 4.64e+04</td>\n</tr>\n<tr>\n  <th>x17</th>   <td> 3.371e+05</td> <td> 2.55e+04</td> <td>   13.214</td> <td> 0.000</td> <td> 2.87e+05</td> <td> 3.87e+05</td>\n</tr>\n<tr>\n  <th>x18</th>   <td>-6.145e+04</td> <td> 3.57e+04</td> <td>   -1.722</td> <td> 0.085</td> <td>-1.31e+05</td> <td> 8593.564</td>\n</tr>\n<tr>\n  <th>x19</th>   <td> 1.492e+04</td> <td> 3.57e+04</td> <td>    0.418</td> <td> 0.676</td> <td>-5.52e+04</td> <td> 8.51e+04</td>\n</tr>\n<tr>\n  <th>x20</th>   <td>-6.007e+04</td> <td> 8502.683</td> <td>   -7.065</td> <td> 0.000</td> <td>-7.68e+04</td> <td>-4.34e+04</td>\n</tr>\n<tr>\n  <th>x21</th>   <td> 2.633e+04</td> <td> 1.12e+04</td> <td>    2.355</td> <td> 0.019</td> <td> 4384.114</td> <td> 4.83e+04</td>\n</tr>\n<tr>\n  <th>x22</th>   <td> 2.999e+05</td> <td> 3.57e+04</td> <td>    8.413</td> <td> 0.000</td> <td>  2.3e+05</td> <td>  3.7e+05</td>\n</tr>\n<tr>\n  <th>x23</th>   <td>-3.755e+04</td> <td> 8405.953</td> <td>   -4.467</td> <td> 0.000</td> <td> -5.4e+04</td> <td> -2.1e+04</td>\n</tr>\n<tr>\n  <th>x24</th>   <td>-1.418e+04</td> <td> 2.55e+04</td> <td>   -0.557</td> <td> 0.578</td> <td>-6.42e+04</td> <td> 3.58e+04</td>\n</tr>\n<tr>\n  <th>x25</th>   <td>-1.661e+04</td> <td> 1.08e+04</td> <td>   -1.537</td> <td> 0.125</td> <td>-3.78e+04</td> <td> 4598.973</td>\n</tr>\n<tr>\n  <th>x26</th>   <td>  5.52e+04</td> <td>  1.3e+04</td> <td>    4.258</td> <td> 0.000</td> <td> 2.98e+04</td> <td> 8.06e+04</td>\n</tr>\n<tr>\n  <th>x27</th>   <td> 2.788e+04</td> <td> 7471.099</td> <td>    3.731</td> <td> 0.000</td> <td> 1.32e+04</td> <td> 4.25e+04</td>\n</tr>\n<tr>\n  <th>x28</th>   <td>-3.466e+04</td> <td> 3724.638</td> <td>   -9.307</td> <td> 0.000</td> <td> -4.2e+04</td> <td>-2.74e+04</td>\n</tr>\n<tr>\n  <th>x29</th>   <td>-6784.6253</td> <td> 1.23e+04</td> <td>   -0.551</td> <td> 0.582</td> <td>-3.09e+04</td> <td> 1.74e+04</td>\n</tr>\n<tr>\n  <th>x30</th>   <td>-2619.4100</td> <td> 6129.331</td> <td>   -0.427</td> <td> 0.669</td> <td>-1.47e+04</td> <td> 9412.457</td>\n</tr>\n</table>\n<table class=\"simpletable\">\n<tr>\n  <th>Omnibus:</th>       <td>1315.320</td> <th>  Durbin-Watson:     </th>  <td>   2.112</td>  \n</tr>\n<tr>\n  <th>Prob(Omnibus):</th>  <td> 0.000</td>  <th>  Jarque-Bera (JB):  </th> <td>1648393.089</td>\n</tr>\n<tr>\n  <th>Skew:</th>           <td>-9.292</td>  <th>  Prob(JB):          </th>  <td>    0.00</td>  \n</tr>\n<tr>\n  <th>Kurtosis:</th>       <td>222.672</td> <th>  Cond. No.          </th>  <td>5.11e+04</td>  \n</tr>\n</table><br/><br/>Notes:<br/>[1] Standard Errors assume that the covariance matrix of the errors is correctly specified.<br/>[2] The condition number is large, 5.11e+04. This might indicate that there are<br/>strong multicollinearity or other numerical problems."
     },
     "metadata": {},
     "execution_count": 46
    }
   ],
   "source": [
    "z=[0,1,2,3,4,5,6,8,9,10,11,12,13,14,18,19,20,21,22,23,24,25,26,29,30,31,32,33,34,39,40]\n",
    "x_opt = x[:,z]\n",
    "regressor = sm.OLS(endog=y,exog=x_opt).fit()\n",
    "regressor.summary()"
   ]
  },
  {
   "cell_type": "code",
   "execution_count": 47,
   "metadata": {},
   "outputs": [
    {
     "output_type": "execute_result",
     "data": {
      "text/plain": [
       "<class 'statsmodels.iolib.summary.Summary'>\n",
       "\"\"\"\n",
       "                            OLS Regression Results                            \n",
       "==============================================================================\n",
       "Dep. Variable:                  Price   R-squared:                       0.872\n",
       "Model:                            OLS   Adj. R-squared:                  0.867\n",
       "Method:                 Least Squares   F-statistic:                     184.0\n",
       "Date:                Thu, 05 Nov 2020   Prob (F-statistic):               0.00\n",
       "Time:                        15:53:50   Log-Likelihood:                -9669.5\n",
       "No. Observations:                 814   AIC:                         1.940e+04\n",
       "Df Residuals:                     784   BIC:                         1.954e+04\n",
       "Df Model:                          29                                         \n",
       "Covariance Type:            nonrobust                                         \n",
       "==============================================================================\n",
       "                 coef    std err          t      P>|t|      [0.025      0.975]\n",
       "------------------------------------------------------------------------------\n",
       "const       6.343e+04   7445.449      8.519      0.000    4.88e+04     7.8e+04\n",
       "x1          7296.1868   2293.298      3.182      0.002    2794.455    1.18e+04\n",
       "x2         -3578.8052   2945.970     -1.215      0.225   -9361.727    2204.117\n",
       "x3           112.9763      3.173     35.600      0.000     106.747     119.206\n",
       "x4          9.498e+04   2.12e+04      4.486      0.000    5.34e+04    1.37e+05\n",
       "x5          1.066e+05   3.57e+04      2.984      0.003    3.65e+04    1.77e+05\n",
       "x6          5.292e+04   8615.889      6.143      0.000     3.6e+04    6.98e+04\n",
       "x7          9945.0120   3.57e+04      0.278      0.781   -6.02e+04    8.01e+04\n",
       "x8          3.634e+04   2.54e+04      1.431      0.153   -1.35e+04    8.62e+04\n",
       "x9          2.393e+04   2.08e+04      1.151      0.250   -1.69e+04    6.47e+04\n",
       "x10        -2.128e+04   4742.546     -4.486      0.000   -3.06e+04    -1.2e+04\n",
       "x11        -7.267e+04   1.81e+04     -4.012      0.000   -1.08e+05   -3.71e+04\n",
       "x12         4.849e+04   1.23e+04      3.942      0.000    2.43e+04    7.26e+04\n",
       "x13         2.673e+05   2.09e+04     12.763      0.000    2.26e+05    3.08e+05\n",
       "x14         7818.7099   3.59e+04      0.218      0.828   -6.27e+04    7.84e+04\n",
       "x15         1.669e+04   1.49e+04      1.121      0.262   -1.25e+04    4.59e+04\n",
       "x16         3.365e+05   2.56e+04     13.168      0.000    2.86e+05    3.87e+05\n",
       "x17        -6.201e+04   3.57e+04     -1.735      0.083   -1.32e+05    8152.925\n",
       "x18         1.436e+04   3.58e+04      0.401      0.688   -5.59e+04    8.46e+04\n",
       "x19        -6.067e+04   8512.238     -7.127      0.000   -7.74e+04    -4.4e+04\n",
       "x20         2.576e+04   1.12e+04      2.301      0.022    3781.979    4.77e+04\n",
       "x21         2.993e+05   3.57e+04      8.381      0.000    2.29e+05    3.69e+05\n",
       "x22        -3.811e+04   8415.903     -4.528      0.000   -5.46e+04   -2.16e+04\n",
       "x23        -1.466e+04   2.55e+04     -0.575      0.566   -6.47e+04    3.54e+04\n",
       "x24        -1.721e+04   1.08e+04     -1.591      0.112   -3.84e+04    4024.561\n",
       "x25         5.463e+04    1.3e+04      4.208      0.000    2.91e+04    8.01e+04\n",
       "x26         2.732e+04   7478.786      3.652      0.000    1.26e+04     4.2e+04\n",
       "x27        -3.524e+04   3719.333     -9.475      0.000   -4.25e+04   -2.79e+04\n",
       "x28        -6671.7108   1.23e+04     -0.541      0.589   -3.09e+04    1.75e+04\n",
       "x29        -2493.6843   6139.857     -0.406      0.685   -1.45e+04    9558.821\n",
       "==============================================================================\n",
       "Omnibus:                     1312.563   Durbin-Watson:                   2.113\n",
       "Prob(Omnibus):                  0.000   Jarque-Bera (JB):          1623608.979\n",
       "Skew:                          -9.255   Prob(JB):                         0.00\n",
       "Kurtosis:                     221.009   Cond. No.                     5.08e+04\n",
       "==============================================================================\n",
       "\n",
       "Notes:\n",
       "[1] Standard Errors assume that the covariance matrix of the errors is correctly specified.\n",
       "[2] The condition number is large, 5.08e+04. This might indicate that there are\n",
       "strong multicollinearity or other numerical problems.\n",
       "\"\"\""
      ],
      "text/html": "<table class=\"simpletable\">\n<caption>OLS Regression Results</caption>\n<tr>\n  <th>Dep. Variable:</th>          <td>Price</td>      <th>  R-squared:         </th> <td>   0.872</td> \n</tr>\n<tr>\n  <th>Model:</th>                   <td>OLS</td>       <th>  Adj. R-squared:    </th> <td>   0.867</td> \n</tr>\n<tr>\n  <th>Method:</th>             <td>Least Squares</td>  <th>  F-statistic:       </th> <td>   184.0</td> \n</tr>\n<tr>\n  <th>Date:</th>             <td>Thu, 05 Nov 2020</td> <th>  Prob (F-statistic):</th>  <td>  0.00</td>  \n</tr>\n<tr>\n  <th>Time:</th>                 <td>15:53:50</td>     <th>  Log-Likelihood:    </th> <td> -9669.5</td> \n</tr>\n<tr>\n  <th>No. Observations:</th>      <td>   814</td>      <th>  AIC:               </th> <td>1.940e+04</td>\n</tr>\n<tr>\n  <th>Df Residuals:</th>          <td>   784</td>      <th>  BIC:               </th> <td>1.954e+04</td>\n</tr>\n<tr>\n  <th>Df Model:</th>              <td>    29</td>      <th>                     </th>     <td> </td>    \n</tr>\n<tr>\n  <th>Covariance Type:</th>      <td>nonrobust</td>    <th>                     </th>     <td> </td>    \n</tr>\n</table>\n<table class=\"simpletable\">\n<tr>\n    <td></td>       <th>coef</th>     <th>std err</th>      <th>t</th>      <th>P>|t|</th>  <th>[0.025</th>    <th>0.975]</th>  \n</tr>\n<tr>\n  <th>const</th> <td> 6.343e+04</td> <td> 7445.449</td> <td>    8.519</td> <td> 0.000</td> <td> 4.88e+04</td> <td>  7.8e+04</td>\n</tr>\n<tr>\n  <th>x1</th>    <td> 7296.1868</td> <td> 2293.298</td> <td>    3.182</td> <td> 0.002</td> <td> 2794.455</td> <td> 1.18e+04</td>\n</tr>\n<tr>\n  <th>x2</th>    <td>-3578.8052</td> <td> 2945.970</td> <td>   -1.215</td> <td> 0.225</td> <td>-9361.727</td> <td> 2204.117</td>\n</tr>\n<tr>\n  <th>x3</th>    <td>  112.9763</td> <td>    3.173</td> <td>   35.600</td> <td> 0.000</td> <td>  106.747</td> <td>  119.206</td>\n</tr>\n<tr>\n  <th>x4</th>    <td> 9.498e+04</td> <td> 2.12e+04</td> <td>    4.486</td> <td> 0.000</td> <td> 5.34e+04</td> <td> 1.37e+05</td>\n</tr>\n<tr>\n  <th>x5</th>    <td> 1.066e+05</td> <td> 3.57e+04</td> <td>    2.984</td> <td> 0.003</td> <td> 3.65e+04</td> <td> 1.77e+05</td>\n</tr>\n<tr>\n  <th>x6</th>    <td> 5.292e+04</td> <td> 8615.889</td> <td>    6.143</td> <td> 0.000</td> <td>  3.6e+04</td> <td> 6.98e+04</td>\n</tr>\n<tr>\n  <th>x7</th>    <td> 9945.0120</td> <td> 3.57e+04</td> <td>    0.278</td> <td> 0.781</td> <td>-6.02e+04</td> <td> 8.01e+04</td>\n</tr>\n<tr>\n  <th>x8</th>    <td> 3.634e+04</td> <td> 2.54e+04</td> <td>    1.431</td> <td> 0.153</td> <td>-1.35e+04</td> <td> 8.62e+04</td>\n</tr>\n<tr>\n  <th>x9</th>    <td> 2.393e+04</td> <td> 2.08e+04</td> <td>    1.151</td> <td> 0.250</td> <td>-1.69e+04</td> <td> 6.47e+04</td>\n</tr>\n<tr>\n  <th>x10</th>   <td>-2.128e+04</td> <td> 4742.546</td> <td>   -4.486</td> <td> 0.000</td> <td>-3.06e+04</td> <td> -1.2e+04</td>\n</tr>\n<tr>\n  <th>x11</th>   <td>-7.267e+04</td> <td> 1.81e+04</td> <td>   -4.012</td> <td> 0.000</td> <td>-1.08e+05</td> <td>-3.71e+04</td>\n</tr>\n<tr>\n  <th>x12</th>   <td> 4.849e+04</td> <td> 1.23e+04</td> <td>    3.942</td> <td> 0.000</td> <td> 2.43e+04</td> <td> 7.26e+04</td>\n</tr>\n<tr>\n  <th>x13</th>   <td> 2.673e+05</td> <td> 2.09e+04</td> <td>   12.763</td> <td> 0.000</td> <td> 2.26e+05</td> <td> 3.08e+05</td>\n</tr>\n<tr>\n  <th>x14</th>   <td> 7818.7099</td> <td> 3.59e+04</td> <td>    0.218</td> <td> 0.828</td> <td>-6.27e+04</td> <td> 7.84e+04</td>\n</tr>\n<tr>\n  <th>x15</th>   <td> 1.669e+04</td> <td> 1.49e+04</td> <td>    1.121</td> <td> 0.262</td> <td>-1.25e+04</td> <td> 4.59e+04</td>\n</tr>\n<tr>\n  <th>x16</th>   <td> 3.365e+05</td> <td> 2.56e+04</td> <td>   13.168</td> <td> 0.000</td> <td> 2.86e+05</td> <td> 3.87e+05</td>\n</tr>\n<tr>\n  <th>x17</th>   <td>-6.201e+04</td> <td> 3.57e+04</td> <td>   -1.735</td> <td> 0.083</td> <td>-1.32e+05</td> <td> 8152.925</td>\n</tr>\n<tr>\n  <th>x18</th>   <td> 1.436e+04</td> <td> 3.58e+04</td> <td>    0.401</td> <td> 0.688</td> <td>-5.59e+04</td> <td> 8.46e+04</td>\n</tr>\n<tr>\n  <th>x19</th>   <td>-6.067e+04</td> <td> 8512.238</td> <td>   -7.127</td> <td> 0.000</td> <td>-7.74e+04</td> <td> -4.4e+04</td>\n</tr>\n<tr>\n  <th>x20</th>   <td> 2.576e+04</td> <td> 1.12e+04</td> <td>    2.301</td> <td> 0.022</td> <td> 3781.979</td> <td> 4.77e+04</td>\n</tr>\n<tr>\n  <th>x21</th>   <td> 2.993e+05</td> <td> 3.57e+04</td> <td>    8.381</td> <td> 0.000</td> <td> 2.29e+05</td> <td> 3.69e+05</td>\n</tr>\n<tr>\n  <th>x22</th>   <td>-3.811e+04</td> <td> 8415.903</td> <td>   -4.528</td> <td> 0.000</td> <td>-5.46e+04</td> <td>-2.16e+04</td>\n</tr>\n<tr>\n  <th>x23</th>   <td>-1.466e+04</td> <td> 2.55e+04</td> <td>   -0.575</td> <td> 0.566</td> <td>-6.47e+04</td> <td> 3.54e+04</td>\n</tr>\n<tr>\n  <th>x24</th>   <td>-1.721e+04</td> <td> 1.08e+04</td> <td>   -1.591</td> <td> 0.112</td> <td>-3.84e+04</td> <td> 4024.561</td>\n</tr>\n<tr>\n  <th>x25</th>   <td> 5.463e+04</td> <td>  1.3e+04</td> <td>    4.208</td> <td> 0.000</td> <td> 2.91e+04</td> <td> 8.01e+04</td>\n</tr>\n<tr>\n  <th>x26</th>   <td> 2.732e+04</td> <td> 7478.786</td> <td>    3.652</td> <td> 0.000</td> <td> 1.26e+04</td> <td>  4.2e+04</td>\n</tr>\n<tr>\n  <th>x27</th>   <td>-3.524e+04</td> <td> 3719.333</td> <td>   -9.475</td> <td> 0.000</td> <td>-4.25e+04</td> <td>-2.79e+04</td>\n</tr>\n<tr>\n  <th>x28</th>   <td>-6671.7108</td> <td> 1.23e+04</td> <td>   -0.541</td> <td> 0.589</td> <td>-3.09e+04</td> <td> 1.75e+04</td>\n</tr>\n<tr>\n  <th>x29</th>   <td>-2493.6843</td> <td> 6139.857</td> <td>   -0.406</td> <td> 0.685</td> <td>-1.45e+04</td> <td> 9558.821</td>\n</tr>\n</table>\n<table class=\"simpletable\">\n<tr>\n  <th>Omnibus:</th>       <td>1312.563</td> <th>  Durbin-Watson:     </th>  <td>   2.113</td>  \n</tr>\n<tr>\n  <th>Prob(Omnibus):</th>  <td> 0.000</td>  <th>  Jarque-Bera (JB):  </th> <td>1623608.979</td>\n</tr>\n<tr>\n  <th>Skew:</th>           <td>-9.255</td>  <th>  Prob(JB):          </th>  <td>    0.00</td>  \n</tr>\n<tr>\n  <th>Kurtosis:</th>       <td>221.009</td> <th>  Cond. No.          </th>  <td>5.08e+04</td>  \n</tr>\n</table><br/><br/>Notes:<br/>[1] Standard Errors assume that the covariance matrix of the errors is correctly specified.<br/>[2] The condition number is large, 5.08e+04. This might indicate that there are<br/>strong multicollinearity or other numerical problems."
     },
     "metadata": {},
     "execution_count": 47
    }
   ],
   "source": [
    "z=[0,1,2,3,4,5,6,9,10,11,12,13,14,18,19,20,21,22,23,24,25,26,29,30,31,32,33,34,39,40]\n",
    "x_opt = x[:,z]\n",
    "regressor = sm.OLS(endog=y,exog=x_opt).fit()\n",
    "regressor.summary()"
   ]
  },
  {
   "cell_type": "code",
   "execution_count": null,
   "metadata": {},
   "outputs": [],
   "source": [
    "z=[0,1,2,3,4,5,6,9,10,11,12,13,14,18,19,20,21,22,23,24,25,26,29,30,31,32,33,34,39,40]\n",
    "x_opt = x[:,z]\n",
    "regressor = sm.OLS(endog=y,exog=x_opt).fit()\n",
    "regressor.summary()"
   ]
  }
 ]
}